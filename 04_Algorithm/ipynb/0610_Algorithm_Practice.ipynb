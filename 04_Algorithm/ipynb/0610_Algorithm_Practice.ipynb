{
 "cells": [
  {
   "cell_type": "markdown",
   "id": "434b58fd",
   "metadata": {},
   "source": [
    "N개의 회의에 대해 각 회의의 시작시간과 종료시간이 주어진다.\n",
    "\n",
    "한 회의실에서 사용할 수 있는 최대 회의 개수를 구하시오.\n",
    "\n",
    "(회의가 겹치면 안 됨)\n",
    "\n",
    "meetings = [(1, 4), (3, 5), (0, 6), (5, 7), (8, 9), (5, 9)]\n",
    "\n",
    "1,4\n",
    "\n",
    "5,7\n",
    "\n",
    "8,9"
   ]
  },
  {
   "cell_type": "code",
   "execution_count": 9,
   "id": "a79e6063",
   "metadata": {},
   "outputs": [
    {
     "name": "stdout",
     "output_type": "stream",
     "text": [
      "최대 회의 개수: 3\n",
      "선택된 회의: [(1, 4), (5, 7), (8, 9)]\n"
     ]
    }
   ],
   "source": [
    "def max_meetings(meetings):\n",
    "    \"\"\"\n",
    "    회의가 겹치지 않게 최대한 많이 선택하는 그리디 알고리즘\n",
    "    :param meetings: (시작, 종료) 튜플의 리스트\n",
    "    \"\"\"\n",
    "    # 종료 시간을 기준으로 정렬\n",
    "    meetings = sorted(meetings, key=lambda x: x[1])\n",
    "    end_time = 0\n",
    "    selected = []\n",
    "    for start, end in meetings:\n",
    "        if start >= end_time:\n",
    "            selected.append((start, end))\n",
    "            end_time = end\n",
    "    print(\"최대 회의 개수:\", len(selected))\n",
    "    print(\"선택된 회의:\", selected)\n",
    "\n",
    "meetings = [(1, 4), (3, 5), (0, 6), (5, 7), (8, 9), (5, 9)]\n",
    "max_meetings(meetings)"
   ]
  },
  {
   "cell_type": "markdown",
   "id": "e41ed364",
   "metadata": {},
   "source": [
    "각 아이템은 무게 w, 가치 v를 가진다. 배낭에 담을 수 있는 최대 무게는 W\n",
    "\n",
    "아이템은 쪼개서 담을 수 있다. 최대 가치를 구하시오. (그리디)\n",
    "\n",
    "w = 50 : 이 배낭은 50kg까지 담을 수 있다\n",
    "\n",
    "items = [(60, 10), (100, 20), (120, 30)]  # (value, weight)\n",
    "\n",
    "당신은 무게 제한이 W인 배낭을 하나 가지고 있고,\n",
    "\n",
    "N개의 아이템이 있다. 각 아이템은 다음과 같은 속성을 가진다:\n",
    "\n",
    "value (가치): 아이템을 배낭에 넣었을 때 얻게 되는 이익\n",
    "\n",
    "weight (무게): 아이템의 무게\n",
    "\n",
    "이때, 각 아이템은 분할해서 넣을 수 있다.\n",
    "\n",
    "가치를 최대로 담았을때 어느 정도 까지 담을 수 있는지?\n",
    "\n",
    "목적: 배낭에 담을 수 있는 아이템들의 조합 중 총 가치(value)의 합을 최대화하는 것\n",
    "\n",
    "가치/무게 비율로 아이템 정렬 (내림차순)\n",
    "\n",
    "하나씩 넣되, 전체를 다 넣을 수 없으면 남은 용량만큼 비례해서 담는다.\n",
    "\n",
    "누적 가치 합산 → 최종 정답"
   ]
  },
  {
   "cell_type": "code",
   "execution_count": 1,
   "id": "5d674f7f",
   "metadata": {},
   "outputs": [
    {
     "name": "stdout",
     "output_type": "stream",
     "text": [
      "최대 담을 수 있는 가치: 240.0\n"
     ]
    }
   ],
   "source": [
    "def fractional_knapsack(items, W):\n",
    "    # 가치/무게 비율로 내림차순 정렬\n",
    "    items = sorted(items, key=lambda x: x[0]/x[1], reverse=True)\n",
    "    total_value = 0\n",
    "    for value, weight in items:\n",
    "        if W == 0:\n",
    "            break\n",
    "        if weight <= W:\n",
    "            total_value += value\n",
    "            W -= weight\n",
    "        else:\n",
    "            total_value += value * (W / weight)\n",
    "            W = 0\n",
    "    print(\"최대 담을 수 있는 가치:\", total_value)\n",
    "\n",
    "items = [(60, 10), (100, 20), (120, 30)]\n",
    "W = 50\n",
    "fractional_knapsack(items, W)"
   ]
  }
 ],
 "metadata": {
  "kernelspec": {
   "display_name": "base",
   "language": "python",
   "name": "python3"
  },
  "language_info": {
   "codemirror_mode": {
    "name": "ipython",
    "version": 3
   },
   "file_extension": ".py",
   "mimetype": "text/x-python",
   "name": "python",
   "nbconvert_exporter": "python",
   "pygments_lexer": "ipython3",
   "version": "3.12.7"
  }
 },
 "nbformat": 4,
 "nbformat_minor": 5
}
