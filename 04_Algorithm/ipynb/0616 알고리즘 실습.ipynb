{
 "cells": [
  {
   "cell_type": "markdown",
   "id": "c95b7f79",
   "metadata": {},
   "source": [
    "# BFS(너비 우선 탐색) 예제 - 미로 탐색\n",
    "\n",
    "이 예제는 0과 1로 구성된 미로를 탐색하면서, `BFS`를 이용해 방문 가능한 영역을 표시하는 코드입니다.\n",
    "- 0: 이동 가능\n",
    "- 1: 벽\n",
    "\n",
    "탐색은 큐(Queue)를 사용하며, 시작점에서 너비 방향으로 탐색을 진행합니다."
   ]
  },
  {
   "cell_type": "code",
   "execution_count": 18,
   "id": "e5dcdcb8",
   "metadata": {},
   "outputs": [],
   "source": [
    "# 입력 배열 초기화\n",
    "N, M = (6, 6)\n",
    "arr = [\n",
    "    [0, 1, 1, 1, 1, 1],\n",
    "    [0, 1, 0, 0, 0, 1],\n",
    "    [0, 1, 0, 1, 0, 1],\n",
    "    [0, 1, 0, 1, 0, 0], \n",
    "    [0, 0, 0, 1, 1, 0],\n",
    "    [1, 1, 1, 1, 1, 0]\n",
    "]"
   ]
  },
  {
   "cell_type": "code",
   "execution_count": 19,
   "id": "e4237b78",
   "metadata": {},
   "outputs": [
    {
     "name": "stdout",
     "output_type": "stream",
     "text": [
      "[0, 1, 1, 1, 1, 1]\n",
      "[0, 1, 0, 0, 0, 1]\n",
      "[0, 1, 0, 1, 0, 1]\n",
      "[0, 1, 0, 1, 0, 0]\n",
      "[0, 0, 0, 1, 1, 0]\n",
      "[1, 1, 1, 1, 1, 0]\n"
     ]
    }
   ],
   "source": [
    "# 배열 출력 함수\n",
    "def printArray(arr, N):\n",
    "    for i in range(N):\n",
    "        print(arr[i])\n",
    "\n",
    "printArray(arr, N)"
   ]
  },
  {
   "cell_type": "code",
   "execution_count": 20,
   "id": "7d68ad4e",
   "metadata": {},
   "outputs": [
    {
     "name": "stdout",
     "output_type": "stream",
     "text": [
      "\n",
      "[초기 방문 테이블]\n",
      "[False, False, False, False, False, False]\n",
      "[False, False, False, False, False, False]\n",
      "[False, False, False, False, False, False]\n",
      "[False, False, False, False, False, False]\n",
      "[False, False, False, False, False, False]\n",
      "[False, False, False, False, False, False]\n"
     ]
    }
   ],
   "source": [
    "# 방문 테이블 초기화\n",
    "visited = [[False] * M for _ in range(N)]\n",
    "print(\"\\n[초기 방문 테이블]\")\n",
    "printArray(visited, N)"
   ]
  },
  {
   "cell_type": "code",
   "execution_count": 21,
   "id": "5d82d1ea",
   "metadata": {},
   "outputs": [],
   "source": [
    "# BFS 함수 정의\n",
    "from collections import deque\n",
    "\n",
    "def bfs(y, x):\n",
    "    dx = [-1, 1, 0, 0]  # 좌우\n",
    "    dy = [0, 0, -1, 1]  # 상하\n",
    "    visited[y][x] = True\n",
    "    q = deque()\n",
    "    q.append((y, x))\n",
    "\n",
    "    while q:\n",
    "        y, x = q.popleft()\n",
    "        for i in range(len(dx)):\n",
    "            ny = y + dy[i]\n",
    "            nx = x + dx[i]\n",
    "\n",
    "            if not (0 <= nx < M and 0 <= ny < N):\n",
    "                continue\n",
    "            if arr[ny][nx] == 1:\n",
    "                continue\n",
    "            if not visited[ny][nx]:\n",
    "                visited[ny][nx] = True\n",
    "                q.append((ny, nx))"
   ]
  },
  {
   "cell_type": "code",
   "execution_count": 22,
   "id": "d2ff1c98",
   "metadata": {},
   "outputs": [
    {
     "name": "stdout",
     "output_type": "stream",
     "text": [
      "\n",
      "[방문 결과]\n",
      "[True, False, False, False, False, False]\n",
      "[True, False, True, True, True, False]\n",
      "[True, False, True, False, True, False]\n",
      "[True, False, True, False, True, True]\n",
      "[True, True, True, False, False, True]\n",
      "[False, False, False, False, False, True]\n"
     ]
    }
   ],
   "source": [
    "# (0, 0)에서 BFS 탐색 시작\n",
    "bfs(0, 0)\n",
    "print(\"\\n[방문 결과]\")\n",
    "printArray(visited, N)"
   ]
  },
  {
   "cell_type": "markdown",
   "id": "3339c640",
   "metadata": {},
   "source": [
    "# 겹치는 선분 길이 구하기\n",
    "\n",
    "세 개의 선분이 주어졌을 때, **두 개 이상의 선분이 겹치는 총 길이**를 구하는 문제입니다.\n",
    "\n",
    "- 입력: `[시작, 끝]` 형식의 선분 3개\n",
    "- 출력: 두 개 이상의 선분이 겹치는 총 구간의 길이\n",
    "- 좌표 범위: `-100 <= x <= 100`\n",
    "- 겹치는 구간은 중복 없이 1번만 카운트\n"
   ]
  },
  {
   "cell_type": "code",
   "execution_count": 23,
   "id": "3fc4e9b4",
   "metadata": {},
   "outputs": [],
   "source": [
    "def solution(lines):\n",
    "    line_map = [0] * 201  # 좌표 -100 ~ 100 → 0 ~ 200으로 변환\n",
    "\n",
    "    for start, end in lines:\n",
    "        for i in range(start + 100, end + 100):  # 끝은 포함하지 않음\n",
    "            line_map[i] += 1\n",
    "\n",
    "    return sum(1 for count in line_map if count >= 2)"
   ]
  },
  {
   "cell_type": "code",
   "execution_count": 24,
   "id": "cc4bd361",
   "metadata": {},
   "outputs": [
    {
     "name": "stdout",
     "output_type": "stream",
     "text": [
      "2\n",
      "0\n",
      "8\n"
     ]
    }
   ],
   "source": [
    "# 테스트 케이스\n",
    "print(solution([[0, 1], [2, 5], [3, 9]]))   # 출력: 2 (3~5)\n",
    "print(solution([[-1, 1], [1, 3], [3, 9]]))  # 출력: 0 (겹치는 구간 없음)\n",
    "print(solution([[0, 5], [3, 9], [1, 10]]))  # 출력: 9 (1~10 구간 중 최소 2개 이상 겹침)"
   ]
  },
  {
   "cell_type": "markdown",
   "id": "f53e8cc5",
   "metadata": {},
   "source": [
    "# 섬의 개수 세기 (DFS & BFS)\n",
    "\n",
    "이 예제는 `2차원 배열`에서 1로 이루어진 **연결된 영역(섬)**의 개수를 세는 문제입니다.\n",
    "- DFS(깊이 우선 탐색)와 BFS(너비 우선 탐색)를 사용하여 풀이할 수 있습니다.\n",
    "- 상하좌우 + 대각선 총 8방향으로 이동 가능\n",
    "- 방문 배열을 사용하여 중복 탐색을 방지합니다.\n"
   ]
  },
  {
   "cell_type": "code",
   "execution_count": 25,
   "id": "bdc7927d",
   "metadata": {},
   "outputs": [],
   "source": [
    "# 배열 정의\n",
    "M = 5  # 열\n",
    "N = 4  # 행\n",
    "arr = [\n",
    "    [1, 0, 1, 0, 0],  \n",
    "    [1, 0, 0, 0, 0],\n",
    "    [1, 0, 1, 0, 1],\n",
    "    [1, 0, 0, 1, 0]\n",
    "]\n",
    "\n",
    "# 방문 여부 배열\n",
    "visited = [[0]*M for _ in range(N)]\n",
    "\n",
    "def printArray(arr):\n",
    "    print()\n",
    "    for row in arr:\n",
    "        print(row)"
   ]
  },
  {
   "cell_type": "code",
   "execution_count": 26,
   "id": "a7d58c9d",
   "metadata": {},
   "outputs": [],
   "source": [
    "# DFS 탐색 함수 (재귀 사용)\n",
    "def dfs(y, x):\n",
    "    visited[y][x] = 1\n",
    "    dx = [0, 0, -1, 1, -1, -1, 1, 1]\n",
    "    dy = [-1, 1, 0, 0, 1, -1, 1, -1]\n",
    "    for i in range(8):\n",
    "        ny, nx = y + dy[i], x + dx[i]\n",
    "        if ny < 0 or ny >= N or nx < 0 or nx >= M:\n",
    "            continue\n",
    "        if visited[ny][nx] == 0 and arr[ny][nx] == 1:\n",
    "            dfs(ny, nx)"
   ]
  },
  {
   "cell_type": "code",
   "execution_count": 27,
   "id": "3285a6bd",
   "metadata": {},
   "outputs": [
    {
     "name": "stdout",
     "output_type": "stream",
     "text": [
      "DFS 결과: 3\n",
      "\n",
      "[1, 0, 1, 0, 0]\n",
      "[1, 0, 0, 0, 0]\n",
      "[1, 0, 1, 0, 1]\n",
      "[1, 0, 0, 1, 0]\n"
     ]
    }
   ],
   "source": [
    "# DFS로 섬 개수 세기\n",
    "def solution(arr, M, N):\n",
    "    island_cnt = 0\n",
    "    for i in range(N):\n",
    "        for j in range(M):\n",
    "            if visited[i][j] == 0 and arr[i][j] == 1:\n",
    "                dfs(i, j)\n",
    "                island_cnt += 1\n",
    "    return island_cnt\n",
    "\n",
    "print(\"DFS 결과:\", solution(arr, M, N))\n",
    "printArray(visited)"
   ]
  },
  {
   "cell_type": "code",
   "execution_count": 28,
   "id": "a9ee6355",
   "metadata": {},
   "outputs": [],
   "source": [
    "# BFS 탐색 함수\n",
    "from collections import deque\n",
    "\n",
    "visited = [[False]*M for _ in range(N)]\n",
    "\n",
    "def bfs(y, x):\n",
    "    dx = [-1, 1, 0, 0, -1, -1, 1, 1]\n",
    "    dy = [0, 0, -1, 1, -1, 1, -1, 1]\n",
    "    q = deque()\n",
    "    q.append((y, x))\n",
    "    visited[y][x] = True\n",
    "    while q:\n",
    "        y, x = q.popleft()\n",
    "        for i in range(8):\n",
    "            ny, nx = y + dy[i], x + dx[i]\n",
    "            if 0 <= ny < N and 0 <= nx < M:\n",
    "                if arr[ny][nx] == 1 and not visited[ny][nx]:\n",
    "                    visited[ny][nx] = True\n",
    "                    q.append((ny, nx))"
   ]
  },
  {
   "cell_type": "code",
   "execution_count": 29,
   "id": "740d9a83",
   "metadata": {},
   "outputs": [
    {
     "name": "stdout",
     "output_type": "stream",
     "text": [
      "\n",
      "BFS 결과: 3\n",
      "\n",
      "[True, False, True, False, False]\n",
      "[True, False, False, False, False]\n",
      "[True, False, True, False, True]\n",
      "[True, False, False, True, False]\n"
     ]
    }
   ],
   "source": [
    "# BFS로 섬 개수 세기\n",
    "def island_count():\n",
    "    cnt = 0\n",
    "    for i in range(N):\n",
    "        for j in range(M):\n",
    "            if arr[i][j] == 1 and not visited[i][j]:\n",
    "                bfs(i, j)\n",
    "                cnt += 1\n",
    "    return cnt\n",
    "\n",
    "print(\"\\nBFS 결과:\", island_count())\n",
    "printArray(visited)"
   ]
  },
  {
   "cell_type": "markdown",
   "id": "c650049a",
   "metadata": {},
   "source": [
    "# 완전 범죄(절도 전략) 문제 (DFS + Greedy)\n",
    "\n",
    "- 각 물건마다 A와 B가 가져가는 이익이 다르다.\n",
    "- B는 반드시 이익 합이 `m` 이상이 되어야 한다.\n",
    "- A는 이익 합이 `n`을 초과하지 않도록, 그리고 **최소한의 이익만 가져가도록** 한다.\n",
    "- 가능한 조합 중 조건을 만족하는 A의 이익 최솟값을 구하는 문제다.\n"
   ]
  },
  {
   "cell_type": "code",
   "execution_count": 30,
   "id": "efbc8141",
   "metadata": {},
   "outputs": [
    {
     "name": "stdout",
     "output_type": "stream",
     "text": [
      "['A', 'A', 'A']\n",
      "['A', 'A', 'B']\n",
      "['A', 'B', 'A']\n",
      "['A', 'B', 'B']\n",
      "['B', 'A', 'A']\n",
      "['B', 'A', 'B']\n",
      "['B', 'B', 'A']\n",
      "['B', 'B', 'B']\n"
     ]
    }
   ],
   "source": [
    "# DFS로 조합 생성 예시 (A/B 선택 시나리오)\n",
    "def dfs(arr, depth, length):\n",
    "    if depth == length:\n",
    "        print(arr)\n",
    "        return\n",
    "\n",
    "    arr[depth] = 'A'\n",
    "    dfs(arr, depth + 1, length)\n",
    "\n",
    "    arr[depth] = 'B'\n",
    "    dfs(arr, depth + 1, length)\n",
    "\n",
    "def print_combinations(length):\n",
    "    arr = [''] * length\n",
    "    dfs(arr, 0, length)\n",
    "\n",
    "# 예: 길이 3 조합 출력\n",
    "print_combinations(3)"
   ]
  },
  {
   "cell_type": "code",
   "execution_count": 31,
   "id": "11881fbb",
   "metadata": {},
   "outputs": [],
   "source": [
    "# A의 최소 이익을 구하는 솔루션\n",
    "def solution(info, n, m):\n",
    "    # a/b 비율로 정렬 (Greedy 전략)\n",
    "    rate = sorted(\n",
    "        [[a, b, a / b] for a, b in info],\n",
    "        key=lambda x: (-x[2], -x[1])\n",
    "    )\n",
    "    visited = [False] * len(rate)\n",
    "    a = 0\n",
    "    b = 0\n",
    "\n",
    "    # B의 이익 충족을 먼저 고려\n",
    "    for i in range(len(rate)):\n",
    "        item = rate[i]\n",
    "        if m > b + item[1]:\n",
    "            b += item[1]\n",
    "            visited[i] = True\n",
    "\n",
    "    # A가 그다음으로 가져갈 수 있는 최소만\n",
    "    for i in range(len(rate)):\n",
    "        if visited[i]:\n",
    "            continue\n",
    "        item = rate[i]\n",
    "        if n > a + item[0]:\n",
    "            a += item[0]\n",
    "            visited[i] = True\n",
    "\n",
    "    # 모든 아이템을 나누지 못하면 실패\n",
    "    if not all(visited):\n",
    "        return -1\n",
    "    return a"
   ]
  },
  {
   "cell_type": "code",
   "execution_count": 32,
   "id": "59ef83a2",
   "metadata": {},
   "outputs": [
    {
     "name": "stdout",
     "output_type": "stream",
     "text": [
      "2\n",
      "0\n",
      "6\n",
      "-1\n"
     ]
    }
   ],
   "source": [
    "# 테스트 케이스\n",
    "print(solution([[1, 2], [2, 3], [2, 1]], 4, 4))   # ➜ 2\n",
    "print(solution([[1, 2], [2, 3], [2, 1]], 1, 7))   # ➜ 0\n",
    "print(solution([[3, 3], [3, 3]], 7, 1))           # ➜ 6\n",
    "print(solution([[3, 3], [3, 3]], 6, 1))           # ➜ -1"
   ]
  }
 ],
 "metadata": {
  "kernelspec": {
   "display_name": "base",
   "language": "python",
   "name": "python3"
  },
  "language_info": {
   "codemirror_mode": {
    "name": "ipython",
    "version": 3
   },
   "file_extension": ".py",
   "mimetype": "text/x-python",
   "name": "python",
   "nbconvert_exporter": "python",
   "pygments_lexer": "ipython3",
   "version": "3.12.7"
  }
 },
 "nbformat": 4,
 "nbformat_minor": 5
}
