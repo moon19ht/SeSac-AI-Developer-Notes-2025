{
 "cells": [
  {
   "cell_type": "markdown",
   "id": "1143edde",
   "metadata": {},
   "source": [
    "# DFS(깊이 우선 탐색) 예제 - 미로 탐색\n",
    "\n",
    "이 예제는 0과 1로 구성된 미로를 탐색하면서, `DFS`를 이용해 방문 가능한 영역을 표시하는 코드\n"
   ]
  },
  {
   "cell_type": "code",
   "execution_count": 3,
   "id": "ac815b41",
   "metadata": {},
   "outputs": [],
   "source": [
    "# 미로 배열 (0: 이동 가능, 1: 벽)\n",
    "N, M = (6, 6)\n",
    "arr = [\n",
    "    [0, 1, 1, 1, 1, 1],\n",
    "    [0, 1, 0, 0, 0, 1],\n",
    "    [0, 1, 0, 1, 0, 1],\n",
    "    [0, 1, 0, 1, 0, 0], \n",
    "    [0, 0, 0, 1, 1, 0],\n",
    "    [1, 1, 1, 1, 1, 0]\n",
    "]"
   ]
  },
  {
   "cell_type": "code",
   "execution_count": 4,
   "id": "2895b116",
   "metadata": {},
   "outputs": [
    {
     "name": "stdout",
     "output_type": "stream",
     "text": [
      "[0, 1, 1, 1, 1, 1]\n",
      "[0, 1, 0, 0, 0, 1]\n",
      "[0, 1, 0, 1, 0, 1]\n",
      "[0, 1, 0, 1, 0, 0]\n",
      "[0, 0, 0, 1, 1, 0]\n",
      "[1, 1, 1, 1, 1, 0]\n"
     ]
    }
   ],
   "source": [
    "# 배열 출력 함수\n",
    "def printArray(arr, N):\n",
    "    for i in range(N):\n",
    "        print(arr[i])\n",
    "\n",
    "printArray(arr, N)"
   ]
  },
  {
   "cell_type": "code",
   "execution_count": 5,
   "id": "cd30a540",
   "metadata": {},
   "outputs": [
    {
     "name": "stdout",
     "output_type": "stream",
     "text": [
      "[False, False, False, False, False, False]\n",
      "[False, False, False, False, False, False]\n",
      "[False, False, False, False, False, False]\n",
      "[False, False, False, False, False, False]\n",
      "[False, False, False, False, False, False]\n",
      "[False, False, False, False, False, False]\n"
     ]
    }
   ],
   "source": [
    "# 방문 테이블 초기화\n",
    "visited = [[False] * M for _ in range(N)]\n",
    "printArray(visited, N)"
   ]
  },
  {
   "cell_type": "code",
   "execution_count": 6,
   "id": "2ea13958",
   "metadata": {},
   "outputs": [],
   "source": [
    "# DFS 함수 정의\n",
    "def dfs(y, x):\n",
    "    visited[y][x] = True\n",
    "\n",
    "    dx = [-1, 1, 0, 0]  # 좌우\n",
    "    dy = [0, 0, -1, 1]  # 상하\n",
    "    for i in range(len(dx)):\n",
    "        ny = dy[i] + y\n",
    "        nx = dx[i] + x\n",
    "        \n",
    "        if not (0 <= nx < M and 0 <= ny < N) or arr[ny][nx] == 1:\n",
    "            continue\n",
    "        if not visited[ny][nx]:\n",
    "            dfs(ny, nx)"
   ]
  },
  {
   "cell_type": "code",
   "execution_count": 7,
   "id": "00bdc097",
   "metadata": {},
   "outputs": [
    {
     "name": "stdout",
     "output_type": "stream",
     "text": [
      "\n",
      "[ 방문 결과 ]\n",
      "[True, False, False, False, False, False]\n",
      "[True, False, True, True, True, False]\n",
      "[True, False, True, False, True, False]\n",
      "[True, False, True, False, True, True]\n",
      "[True, True, True, False, False, True]\n",
      "[False, False, False, False, False, True]\n"
     ]
    }
   ],
   "source": [
    "# (0, 0)부터 탐색 시작\n",
    "dfs(0, 0)\n",
    "print(\"\\n[ 방문 결과 ]\")\n",
    "printArray(visited, N)"
   ]
  }
 ],
 "metadata": {
  "kernelspec": {
   "display_name": "base",
   "language": "python",
   "name": "python3"
  },
  "language_info": {
   "codemirror_mode": {
    "name": "ipython",
    "version": 3
   },
   "file_extension": ".py",
   "mimetype": "text/x-python",
   "name": "python",
   "nbconvert_exporter": "python",
   "pygments_lexer": "ipython3",
   "version": "3.12.7"
  }
 },
 "nbformat": 4,
 "nbformat_minor": 5
}
