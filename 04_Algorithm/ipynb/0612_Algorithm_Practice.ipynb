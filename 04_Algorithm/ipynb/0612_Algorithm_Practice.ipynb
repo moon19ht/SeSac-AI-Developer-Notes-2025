{
 "cells": [
  {
   "cell_type": "markdown",
   "id": "92054133",
   "metadata": {},
   "source": [
    "# 해시테이블\n",
    "\n",
    "문자열 데이터를 저장 및 검색하며, Chaining 방식으로 충돌 해결\n"
   ]
  },
  {
   "cell_type": "code",
   "execution_count": 1,
   "id": "b79996d6",
   "metadata": {},
   "outputs": [
    {
     "name": "stdout",
     "output_type": "stream",
     "text": [
      "97\n",
      "530\n",
      "648\n"
     ]
    }
   ],
   "source": [
    "# 유니코드 합산 해시 함수\n",
    "def getHash(key):\n",
    "    total=0\n",
    "    for k in key:\n",
    "        total += ord(k)\n",
    "    return total\n",
    "\n",
    "print(getHash(\"a\"))\n",
    "print(getHash(\"korea\"))\n",
    "print(getHash(\"school\"))"
   ]
  },
  {
   "cell_type": "code",
   "execution_count": 2,
   "id": "36d0b53c",
   "metadata": {},
   "outputs": [],
   "source": [
    "# Node 클래스 정의\n",
    "class Node:\n",
    "    def __init__(self, data=None):\n",
    "        self.data = data\n",
    "        self.next = None\n",
    "\n",
    "    def __str__(self):\n",
    "        return f\"{self.data} {self.next}\""
   ]
  },
  {
   "cell_type": "code",
   "execution_count": 3,
   "id": "4ccd92b4",
   "metadata": {},
   "outputs": [],
   "source": [
    "# HashTable 클래스 정의\n",
    "class HashTable:\n",
    "    def __init__(self, cnt=10):\n",
    "        self.cnt = max(cnt, 10)\n",
    "        self.bucketList = [Node() for _ in range(self.cnt)]\n",
    "\n",
    "    def getHash(self, key):\n",
    "        total = sum(ord(k) for k in key)\n",
    "        return total % self.cnt\n",
    "\n",
    "    def createTable(self, dataList=None):\n",
    "        for item in dataList:\n",
    "            key = self.getHash(item)\n",
    "            bucket = Node(item)\n",
    "            bucket.next = self.bucketList[key].next\n",
    "            self.bucketList[key].next = bucket\n",
    "\n",
    "    def printList(self):\n",
    "        for item in self.bucketList:\n",
    "            trace = item.next\n",
    "            while trace:\n",
    "                print(trace.data, end=\"=>\")\n",
    "                trace = trace.next\n",
    "            print()\n",
    "\n",
    "    def search(self, word):\n",
    "        key = self.getHash(word)\n",
    "        trace = self.bucketList[key].next\n",
    "        while trace:\n",
    "            if trace.data == word:\n",
    "                print(\"found\")\n",
    "                return\n",
    "            trace = trace.next\n",
    "        print(\"Not found\")"
   ]
  },
  {
   "cell_type": "code",
   "execution_count": 4,
   "id": "043a87c6",
   "metadata": {},
   "outputs": [
    {
     "name": "stdout",
     "output_type": "stream",
     "text": [
      "\n",
      "\n",
      "\n",
      "desk=>\n",
      "python=>\n",
      "home=>\n",
      "survey=>rain=>\n",
      "html=>doll=>\n",
      "java=>house=>school=>\n",
      "javascript=>chair=>\n",
      "\n",
      "found\n"
     ]
    }
   ],
   "source": [
    "# 해시테이블 테스트\n",
    "hash = HashTable()\n",
    "hash.createTable([\n",
    "    \"school\", \"desk\", \"chair\", \"rain\", \"survey\",\n",
    "    \"house\", \"home\", \"doll\", \"python\",\n",
    "    \"java\", \"html\", \"javascript\"\n",
    "])\n",
    "hash.printList()\n",
    "print()\n",
    "hash.search(\"house\")"
   ]
  }
 ],
 "metadata": {
  "kernelspec": {
   "display_name": "base",
   "language": "python",
   "name": "python3"
  },
  "language_info": {
   "codemirror_mode": {
    "name": "ipython",
    "version": 3
   },
   "file_extension": ".py",
   "mimetype": "text/x-python",
   "name": "python",
   "nbconvert_exporter": "python",
   "pygments_lexer": "ipython3",
   "version": "3.12.7"
  }
 },
 "nbformat": 4,
 "nbformat_minor": 5
}
