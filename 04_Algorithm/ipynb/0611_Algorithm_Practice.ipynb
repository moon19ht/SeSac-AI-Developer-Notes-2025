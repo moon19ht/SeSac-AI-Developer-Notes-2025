{
 "cells": [
  {
   "cell_type": "code",
   "execution_count": 1,
   "id": "60b0485c",
   "metadata": {},
   "outputs": [
    {
     "name": "stdout",
     "output_type": "stream",
     "text": [
      "i= 0  a=  1\n",
      "i= 1  a=  2\n",
      "i= 2  a=  3\n",
      "i= 3  a=  4\n",
      "i= 0  a=  3\n",
      "i= 1  a=  4\n",
      "i= 0  a=  3\n",
      "i= 1  a=  4\n",
      "i= 0  a=  4\n",
      "4\n"
     ]
    }
   ],
   "source": [
    "def solution(a):\n",
    "    mydic = dict()\n",
    "    for i in range(0, len(a)):\n",
    "        if a[i] in mydic.keys():\n",
    "            mydic[a[i]]+=1 \n",
    "        else:\n",
    "            mydic[a[i]]=1\n",
    "\n",
    "    max = -1  \n",
    "    for key in mydic.keys():\n",
    "        if max < mydic[key]:\n",
    "            max = mydic[key]\n",
    "\n",
    "    cnt=0\n",
    "    maxkey=0 \n",
    "    for key in mydic.keys():\n",
    "        if max == mydic[key]:\n",
    "            maxkey = key \n",
    "            cnt+=1 \n",
    "\n",
    "    if cnt !=1:\n",
    "        return -1 \n",
    "    else: \n",
    "        return maxkey\n",
    "    \n",
    "def solution2(array):\n",
    "    while len(array) != 0:\n",
    "        for i, a in enumerate(set(array)):\n",
    "            print(\"i=\", i, \" a= \", a )\n",
    "            array.remove(a)\n",
    "        if i == 0: return a\n",
    "    return -1\n",
    "\n",
    "print( solution2( [1,2,3,3,3,4,4,4,4,4,4,4]) ) "
   ]
  },
  {
   "cell_type": "code",
   "execution_count": 2,
   "id": "951bfead",
   "metadata": {},
   "outputs": [
    {
     "name": "stdout",
     "output_type": "stream",
     "text": [
      "4  ===> 5\n",
      "5  ===> 25\n",
      "2  ===> 25\n",
      "25  ===> -1\n",
      "13 ---> -1\n",
      "7 ---> 12\n",
      "6 ---> 12\n",
      "12 ---> -1\n",
      "5\n"
     ]
    }
   ],
   "source": [
    "def searchGreater(arr):\n",
    "    for i in range(0, len(arr)):\n",
    "        greater = -1 #-1이라고 두고 자기보다 큰 수를 찾자 \n",
    "        for j in range(i+1, len(arr)):\n",
    "            if arr[j] > arr[i]:\n",
    "                greater = arr[j]\n",
    "                break \n",
    "        print( arr[i], \"--->\", greater )\n",
    "        \n",
    "\n",
    "from collections import deque\n",
    "def searchGreater2(arr):\n",
    "    stack = deque()\n",
    "    result =[-1] * len(arr) \n",
    "    for i in range(len(arr)-1, -1, -1):\n",
    "        while len(stack)!=0:\n",
    "            if stack[-1]>arr[i]:\n",
    "                result[i] = stack[-1] \n",
    "                break  \n",
    "            else:\n",
    "                stack.pop()\n",
    "        \n",
    "        stack.append(arr[i]) \n",
    "    \n",
    "    for i in range(0, len(arr)):\n",
    "        print(arr[i], \" ===>\", result[i] )\n",
    "\n",
    "searchGreater2([4,5,2,25])\n",
    "searchGreater([13,7,6,12])\n",
    "\n",
    "s = deque()\n",
    "s.append(2)\n",
    "s.append(3)\n",
    "s.append(4)\n",
    "s.append(5)\n",
    "print( s[-1])"
   ]
  }
 ],
 "metadata": {
  "kernelspec": {
   "display_name": "base",
   "language": "python",
   "name": "python3"
  },
  "language_info": {
   "codemirror_mode": {
    "name": "ipython",
    "version": 3
   },
   "file_extension": ".py",
   "mimetype": "text/x-python",
   "name": "python",
   "nbconvert_exporter": "python",
   "pygments_lexer": "ipython3",
   "version": "3.12.7"
  }
 },
 "nbformat": 4,
 "nbformat_minor": 5
}
