{
 "cells": [
  {
   "cell_type": "markdown",
   "id": "710930a1",
   "metadata": {},
   "source": [
    "# 선택(select) 정렬\n",
    "```markdown\n",
    "9 7 25 6 8 4 3       \n",
    "3 9 25 7 8 6 4     i = 0  j = 1, 2,, ... n\n",
    "3 4 25 9 8 7 6     i = 1  j = 2,, ... n\n",
    "    6 25 9 8 7     i = 2  j = 3,, ... n\n",
    "       7 25 9 8    i = 3  j = 4,, ... n\n",
    "         8 25 9    i = 4  j = 5..\n",
    "           9  25   i = 5  j = 6\n",
    "```  "
   ]
  },
  {
   "cell_type": "code",
   "execution_count": 1,
   "id": "5c2f0a18",
   "metadata": {},
   "outputs": [
    {
     "name": "stdout",
     "output_type": "stream",
     "text": [
      "[3, 9, 25, 7, 8, 6, 4]\n",
      "[3, 4, 25, 9, 8, 7, 6]\n",
      "[3, 4, 6, 25, 9, 8, 7]\n",
      "[3, 4, 6, 7, 25, 9, 8]\n",
      "[3, 4, 6, 7, 8, 25, 9]\n",
      "[3, 4, 6, 7, 8, 9, 25]\n"
     ]
    }
   ],
   "source": [
    "def selectSort1(arr):\n",
    "    for i in range(0, len(arr)-1):\n",
    "        for j in range(i+1, len(arr)):\n",
    "            if arr[i] >arr[j]:\n",
    "                arr[i], arr[j] = arr[j], arr[i]\n",
    "        print(arr)\n",
    "\n",
    "arr = [9, 7, 25, 6, 8, 4, 3]\n",
    "selectSort1(arr)"
   ]
  },
  {
   "cell_type": "markdown",
   "id": "c2ab7f3f",
   "metadata": {},
   "source": [
    "```markdown\n",
    "arr = [9, 7, 25, 6, 8, 4, 3]\n",
    "min = 3\n",
    "pos = 9\n",
    "9번방과 0번방을 바꿔치기 [3, 7, 25, 6, 8, 4, 9]\n",
    "min = 4     \n",
    "pos = 5\n",
    "5번방과 2번방을 바꾼다  [3, 4, 25, 6, 8, 7, 9]\n",
    "min = 6                 \n",
    "pos = 3               [3, 4, 6, 25, 8, 7, 9]\n",
    "```"
   ]
  },
  {
   "cell_type": "code",
   "execution_count": 2,
   "id": "c7e846cf",
   "metadata": {},
   "outputs": [
    {
     "name": "stdout",
     "output_type": "stream",
     "text": [
      "-------- selectsort2 ----------\n",
      "[3, 7, 25, 6, 8, 4, 9]\n",
      "[3, 4, 25, 6, 8, 7, 9]\n",
      "[3, 4, 6, 25, 8, 7, 9]\n",
      "[3, 4, 6, 7, 8, 25, 9]\n",
      "[3, 4, 6, 7, 8, 25, 9]\n",
      "[3, 4, 6, 7, 8, 9, 25]\n"
     ]
    }
   ],
   "source": [
    "def selectSort2(arr):\n",
    "    for i in range(0, len(arr)-1):\n",
    "        min = arr[i] \n",
    "        pos = i \n",
    "        for j in range(i+1, len(arr)):\n",
    "            if min > arr[j]:\n",
    "                min = arr[j]\n",
    "                pos = j \n",
    "        arr[pos], arr[i] = arr[i], arr[pos]  \n",
    "        print(arr)\n",
    "\n",
    "print(\"-------- selectsort2 ----------\")\n",
    "arr = [9, 7, 25, 6, 8, 4, 3]\n",
    "selectSort2(arr)"
   ]
  },
  {
   "cell_type": "markdown",
   "id": "bf96ceef",
   "metadata": {},
   "source": [
    "```markdown\n",
    "오름차순의 경우 \n",
    "선택정렬 - 젤 작은 사람 첫번째 반에 \n",
    "           두번째 작은 사람 두번째 방에 \n",
    "           세번째 작은 사람 세번째 방에\n",
    "           a[i] a[j]\n",
    "버블정렬 - 거품  \n",
    "           바로옆에사람  비교함 계속 바꿔치기 \n",
    "           젤 큰사람이 뒤로 밀려\n",
    "           거품이 보글거리는 느낌을 받았음 \n",
    "            a[j] a[j+1]\n",
    "\n",
    "         9, 7, 25, 6, 8, 4, 3\n",
    "0 ->     9, 7 \n",
    "         7, 9 \n",
    "              ,25, 6\n",
    "                6, 25  \n",
    "                   25, 8\n",
    "                    8, 25 \n",
    "                       25, 4 \n",
    "                       4, 25\n",
    "                          25, 3\n",
    "                          3   25 \n",
    "i = 0     7 9 6 8 4 3 25   n-1      j = 0 ~n-i           \n",
    "i = 1     7 6 8 4 3 9 25   n-2      j = 0 ~ n-i\n",
    "i = 2     6 7 4 3 8 9 25   n-3      j = 0 ~ n-i\n",
    "i = 3     6 4 3 7 8 9 25   n-4      j = 0 ~ n-i\n",
    "i = 4     4 3 6            n-5      j = 0 ~ n-i\n",
    "i = 5     3 4              n-6      j = 0 ~ n-i\n",
    "\n",
    "if arr[j] > arr[j+1]: 이때 arr[j] arr[j+1]이 자리바꿈 \n",
    "```"
   ]
  },
  {
   "cell_type": "code",
   "execution_count": 3,
   "id": "eb6f7c0f",
   "metadata": {},
   "outputs": [
    {
     "name": "stdout",
     "output_type": "stream",
     "text": [
      "----------bubble sort---------\n",
      "[7, 9, 6, 8, 4, 3, 25]\n",
      "[7, 6, 8, 4, 3, 9, 25]\n",
      "[6, 7, 4, 3, 8, 9, 25]\n",
      "[6, 4, 3, 7, 8, 9, 25]\n",
      "[4, 3, 6, 7, 8, 9, 25]\n",
      "[3, 4, 6, 7, 8, 9, 25]\n",
      "[3, 4, 6, 7, 8, 9, 25]\n",
      "[3, 4, 6, 7, 8, 9, 25]\n"
     ]
    }
   ],
   "source": [
    "def bubbleSort1(arr):\n",
    "    ln = len(arr)\n",
    "    for i in range(0, ln):\n",
    "        for j in range(0, ln-i-1):\n",
    "            if arr[j] > arr[j+1]:\n",
    "                arr[j], arr[j+1] = arr[j+1], arr[j]\n",
    "        print( arr )\n",
    "\n",
    "    print(arr)\n",
    "\n",
    "print(\"----------bubble sort---------\")\n",
    "arr = [9, 7, 25, 6, 8, 4, 3]\n",
    "bubbleSort1(arr)\n"
   ]
  },
  {
   "cell_type": "markdown",
   "id": "66595247",
   "metadata": {},
   "source": [
    "3 4 6 8 7 9 25\n",
    "\n",
    "데이터가 대충 정렬되어 있을때 개선도"
   ]
  },
  {
   "cell_type": "code",
   "execution_count": null,
   "id": "487bf75e",
   "metadata": {},
   "outputs": [
    {
     "name": "stdout",
     "output_type": "stream",
     "text": [
      "bubble2\n",
      "[3, 5, 6, 7, 8, 9, 25]\n",
      "[3, 5, 6, 7, 8, 9, 25]\n"
     ]
    }
   ],
   "source": [
    "def bubbleSort2(arr):\n",
    "    ln = len(arr)\n",
    "    for i in range(0, ln):\n",
    "        flag = False # if문안에 들어갔었는지 확인하기 \n",
    "        for j in range(0, ln-i-1):\n",
    "            if arr[j] > arr[j+1]:\n",
    "                flag = True # if문 안에 들어갔었다는 얘기는 데이터 변동이 있었음\n",
    "                arr[j], arr[j+1] = arr[j+1], arr[j]\n",
    "        if not flag:\n",
    "            break #for문 종료  \n",
    "        print( arr )\n",
    "\n",
    "    print(arr)\n",
    "\n",
    "print(\"bubble2\")\n",
    "arr = [3, 5, 7, 6, 8, 9, 25]\n",
    "bubbleSort2(arr)"
   ]
  },
  {
   "cell_type": "code",
   "execution_count": 5,
   "id": "e879afb1",
   "metadata": {},
   "outputs": [
    {
     "name": "stdout",
     "output_type": "stream",
     "text": [
      "[2, 3, 4, 6, 7, 8, 9, 11, 12, 13, 21, 24]\n"
     ]
    }
   ],
   "source": [
    "# 퀵정렬(Quick Sort) 구현\n",
    "def quickSort(arr, start, end):\n",
    "    if start >= end:\n",
    "        return\n",
    "    pivot = start\n",
    "    left = start + 1\n",
    "    right = end\n",
    "\n",
    "    while left <= right:\n",
    "        while left <= end and arr[left] <= arr[pivot]:\n",
    "            left += 1\n",
    "        while right > start and arr[right] >= arr[pivot]:\n",
    "            right -= 1\n",
    "        if left > right:\n",
    "            arr[pivot], arr[right] = arr[right], arr[pivot]\n",
    "        else:\n",
    "            arr[left], arr[right] = arr[right], arr[left]\n",
    "    quickSort(arr, start, right - 1)\n",
    "    quickSort(arr, right + 1, end)\n",
    "\n",
    "arr = [8, 9, 2, 4, 24, 21, 3, 6, 7, 11, 12, 13]\n",
    "quickSort(arr, 0, len(arr)-1)\n",
    "print(arr)"
   ]
  }
 ],
 "metadata": {
  "kernelspec": {
   "display_name": "base",
   "language": "python",
   "name": "python3"
  },
  "language_info": {
   "codemirror_mode": {
    "name": "ipython",
    "version": 3
   },
   "file_extension": ".py",
   "mimetype": "text/x-python",
   "name": "python",
   "nbconvert_exporter": "python",
   "pygments_lexer": "ipython3",
   "version": "3.12.7"
  }
 },
 "nbformat": 4,
 "nbformat_minor": 5
}
