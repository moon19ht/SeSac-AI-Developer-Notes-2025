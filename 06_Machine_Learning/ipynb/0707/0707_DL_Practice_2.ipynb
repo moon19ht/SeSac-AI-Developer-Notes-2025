{
  "cells": [
    {
      "cell_type": "markdown",
      "metadata": {
        "vscode": {
          "languageId": "raw"
        }
      },
      "source": [
        "# 다중 레이블 분류 (Multi-Label Classification)\n",
        "\n",
        "다중 레이블 분류는 하나의 샘플이 여러 개의 클래스(레이블)에 동시에 속할 수 있는 분류 문제입니다.\n",
        "\n",
        "## 예시\n",
        "- 이메일 분류: 하나의 이메일이 \"업무\", \"중요\", \"개인\" 등 여러 카테고리에 동시에 속할 수 있음\n",
        "- 영화 장르 분류: 하나의 영화가 \"액션\", \"코미디\", \"로맨스\" 등 여러 장르에 속할 수 있음\n",
        "- 의료 진단: 환자가 여러 질병을 동시에 가질 수 있음\n"
      ]
    },
    {
      "cell_type": "code",
      "execution_count": 1,
      "metadata": {},
      "outputs": [
        {
          "name": "stdout",
          "output_type": "stream",
          "text": [
            "X shape: (100, 20)\n",
            "y shape: (100, 5)\n",
            "y type: <class 'numpy.ndarray'>\n",
            "\n",
            "첫 5개 샘플의 레이블 (이진 행렬):\n",
            "[[0 0 0 1 0]\n",
            " [1 1 1 0 0]\n",
            " [0 0 1 1 0]\n",
            " [1 0 0 0 0]\n",
            " [1 0 1 0 0]]\n"
          ]
        }
      ],
      "source": [
        "# 1. 다중 레이블 데이터 생성\n",
        "import numpy as np\n",
        "from sklearn.datasets import make_multilabel_classification\n",
        "\n",
        "# 다중 레이블 데이터 생성\n",
        "result = make_multilabel_classification(\n",
        "    n_samples=100,      # 샘플 수\n",
        "    n_features=20,      # 특성 수  \n",
        "    n_classes=5,        # 가능한 총 클래스(레이블) 수\n",
        "    n_labels=2,         # 각 샘플이 가질 수 있는 평균 레이블 수\n",
        "    random_state=42\n",
        ")\n",
        "\n",
        "# 결과에서 X, y 추출 (첫 두 요소만 사용)\n",
        "X, y = result[0], result[1]\n",
        "\n",
        "print(\"X shape:\", X.shape)\n",
        "print(\"y shape:\", y.shape)\n",
        "print(\"y type:\", type(y))\n",
        "print(\"\\n첫 5개 샘플의 레이블 (이진 행렬):\")\n",
        "print(y[:5])\n"
      ]
    },
    {
      "cell_type": "code",
      "execution_count": 2,
      "metadata": {},
      "outputs": [
        {
          "name": "stdout",
          "output_type": "stream",
          "text": [
            "훈련 세트 크기:\n",
            "X_train shape: (70, 20)\n",
            "y_train shape: (70, 5)\n",
            "\n",
            "테스트 세트 크기:\n",
            "X_test shape: (30, 20)\n",
            "y_test shape: (30, 5)\n"
          ]
        }
      ],
      "source": [
        "# 2. 훈련 및 테스트 세트 분리\n",
        "from sklearn.model_selection import train_test_split\n",
        "\n",
        "X_train, X_test, y_train, y_test = train_test_split(X, y, test_size=0.3, random_state=42)\n",
        "\n",
        "print(\"훈련 세트 크기:\")\n",
        "print(\"X_train shape:\", X_train.shape)\n",
        "print(\"y_train shape:\", y_train.shape)\n",
        "print(\"\\n테스트 세트 크기:\")\n",
        "print(\"X_test shape:\", X_test.shape)  \n",
        "print(\"y_test shape:\", y_test.shape)\n"
      ]
    },
    {
      "cell_type": "markdown",
      "metadata": {
        "vscode": {
          "languageId": "raw"
        }
      },
      "source": [
        "## MultiOutputClassifier와 SVM\n",
        "\n",
        "**MultiOutputClassifier**는 각 출력(레이블)에 대해 독립적인 분류기를 훈련합니다.  \n",
        "내부적으로 One-vs-Rest 전략과 유사하게 작동합니다.\n",
        "\n",
        "- 각 레이블마다 별도의 이진 분류기를 생성\n",
        "- 병렬 처리 가능 (n_jobs=-1)\n",
        "- 확률 예측 지원 (probability=True)\n"
      ]
    },
    {
      "cell_type": "code",
      "execution_count": 3,
      "metadata": {},
      "outputs": [
        {
          "name": "stdout",
          "output_type": "stream",
          "text": [
            "모델 설정 완료\n",
            "기본 분류기: SVC\n",
            "다중 출력 분류기: MultiOutputClassifier\n"
          ]
        }
      ],
      "source": [
        "# 3. MultiOutputClassifier와 SVM 모델 설정\n",
        "from sklearn.svm import SVC\n",
        "from sklearn.multioutput import MultiOutputClassifier\n",
        "\n",
        "# 기본 SVM 분류기 설정\n",
        "base_svm = SVC(\n",
        "    kernel='linear',     # 선형 커널 사용\n",
        "    probability=True,    # 확률 예측을 위해 설정\n",
        "    random_state=42\n",
        ")\n",
        "\n",
        "# 다중 출력 분류기 설정\n",
        "multi_label_svm = MultiOutputClassifier(\n",
        "    base_svm,\n",
        "    n_jobs=-1  # 병렬 처리 (가능한 경우)\n",
        ")\n",
        "\n",
        "print(\"모델 설정 완료\")\n",
        "print(\"기본 분류기:\", type(base_svm).__name__)\n",
        "print(\"다중 출력 분류기:\", type(multi_label_svm).__name__)\n"
      ]
    },
    {
      "cell_type": "code",
      "execution_count": 4,
      "metadata": {},
      "outputs": [
        {
          "name": "stdout",
          "output_type": "stream",
          "text": [
            "모델 훈련 시작...\n",
            "모델 훈련 완료!\n"
          ]
        }
      ],
      "source": [
        "# 4. 모델 훈련\n",
        "print(\"모델 훈련 시작...\")\n",
        "multi_label_svm.fit(X_train, y_train)\n",
        "print(\"모델 훈련 완료!\")\n"
      ]
    },
    {
      "cell_type": "code",
      "execution_count": 5,
      "metadata": {},
      "outputs": [
        {
          "name": "stdout",
          "output_type": "stream",
          "text": [
            "실제 레이블 (첫 5개):\n",
            "[[0 0 0 0 1]\n",
            " [0 1 1 1 0]\n",
            " [1 1 0 0 1]\n",
            " [1 1 1 1 0]\n",
            " [0 1 0 0 0]]\n",
            "\n",
            "예측된 레이블 (첫 5개):\n",
            "[[0 0 0 1 0]\n",
            " [1 0 1 1 0]\n",
            " [1 1 0 0 1]\n",
            " [1 0 1 0 0]\n",
            " [0 1 0 1 0]]\n",
            "\n",
            "확률 예측 결과:\n",
            "확률 배열 개수: 5 (각 레이블별)\n",
            "첫 번째 레이블의 확률 shape: (30, 2)\n"
          ]
        }
      ],
      "source": [
        "# 5. 예측\n",
        "y_pred = multi_label_svm.predict(X_test)\n",
        "y_pred_proba = multi_label_svm.predict_proba(X_test)  # 확률 예측\n",
        "\n",
        "print(\"실제 레이블 (첫 5개):\")\n",
        "print(y_test[:5])\n",
        "print(\"\\n예측된 레이블 (첫 5개):\")\n",
        "print(y_pred[:5])\n",
        "\n",
        "# 예측 확률 정보\n",
        "print(f\"\\n확률 예측 결과:\")\n",
        "print(f\"확률 배열 개수: {len(y_pred_proba)} (각 레이블별)\")\n",
        "print(f\"첫 번째 레이블의 확률 shape: {y_pred_proba[0].shape}\")\n"
      ]
    },
    {
      "cell_type": "markdown",
      "metadata": {
        "vscode": {
          "languageId": "raw"
        }
      },
      "source": [
        "## 다중 레이블 분류 평가 지표\n",
        "\n",
        "다중 레이블 분류에서는 일반적인 정확도와 다른 여러 평가 지표를 사용합니다:\n",
        "\n",
        "1. **Hamming Loss**: 잘못 예측된 레이블의 비율 (0에 가까울수록 좋음)\n",
        "2. **Jaccard Similarity Score**: 모든 레이블을 정확히 예측한 샘플의 비율 (엄격한 지표)\n",
        "3. **F1-Score**: \n",
        "   - **Micro F1**: 전체 TP, FP, FN을 합산하여 계산 (레이블 불균형에 덜 민감)\n",
        "   - **Macro F1**: 각 레이블에 대한 F1-score를 계산한 후 평균 (레이블 불균형에 민감)\n"
      ]
    },
    {
      "cell_type": "code",
      "execution_count": 6,
      "metadata": {},
      "outputs": [
        {
          "name": "stdout",
          "output_type": "stream",
          "text": [
            "Hamming Loss: 0.2933\n",
            "Jaccard Similarity Score (Exact Match Ratio): 0.4750\n",
            "Micro F1-score: 0.6452\n",
            "Macro F1-score: 0.6007\n"
          ]
        }
      ],
      "source": [
        "# 6. 모델 평가\n",
        "from sklearn.metrics import hamming_loss, jaccard_score, f1_score\n",
        "\n",
        "# 1) 햄밍 손실 (Hamming Loss)\n",
        "# 잘못 예측된 레이블의 비율. 0에 가까울수록 좋습니다.\n",
        "h_loss = hamming_loss(y_test, y_pred)\n",
        "print(f\"Hamming Loss: {h_loss:.4f}\")\n",
        "\n",
        "# 2) Jaccard 유사도 점수 (정확 일치 비율)\n",
        "# 모든 레이블을 정확히 예측한 샘플의 비율 (엄격한 지표)\n",
        "# average='samples'는 각 샘플에 대해 정확히 일치하는 레이블의 비율을 계산한 후 평균\n",
        "jaccard_similarity = jaccard_score(y_test, y_pred, average='samples')\n",
        "print(f\"Jaccard Similarity Score (Exact Match Ratio): {jaccard_similarity:.4f}\")\n",
        "\n",
        "# 3) F1-스코어\n",
        "# micro: 전체 TP, FP, FN을 합산하여 계산 (레이블 불균형에 덜 민감)\n",
        "f1_micro = f1_score(y_test, y_pred, average='micro')\n",
        "print(f\"Micro F1-score: {f1_micro:.4f}\")\n",
        "\n",
        "# macro: 각 레이블에 대한 F1-score를 계산한 후 평균 (레이블 불균형에 민감)\n",
        "f1_macro = f1_score(y_test, y_pred, average='macro')\n",
        "print(f\"Macro F1-score: {f1_macro:.4f}\")\n"
      ]
    },
    {
      "cell_type": "code",
      "execution_count": 7,
      "metadata": {},
      "outputs": [
        {
          "name": "stdout",
          "output_type": "stream",
          "text": [
            "첫 번째 테스트 샘플에 대한 각 레이블의 예측 확률:\n",
            "실제 레이블: [0 0 0 0 1]\n",
            "예측 레이블: [0 0 0 1 0]\n",
            "\n",
            "Label 0: 0.8405 (없음), 0.1595 (있음)\n",
            "Label 1: 0.8837 (없음), 0.1163 (있음)\n",
            "Label 2: 0.7038 (없음), 0.2962 (있음)\n",
            "Label 3: 0.5942 (없음), 0.4058 (있음)\n",
            "Label 4: 0.7238 (없음), 0.2762 (있음)\n",
            "\n",
            "총 5개의 레이블에 대해 독립적으로 예측이 수행되었습니다.\n"
          ]
        }
      ],
      "source": [
        "# 7. 각 레이블에 대한 예측 확률 확인 (예시)\n",
        "print(\"첫 번째 테스트 샘플에 대한 각 레이블의 예측 확률:\")\n",
        "print(\"실제 레이블:\", y_test[0])\n",
        "print(\"예측 레이블:\", y_pred[0])\n",
        "print()\n",
        "\n",
        "for i, prob in enumerate(y_pred_proba):\n",
        "    # prob[0]은 첫 번째 테스트 샘플에 대한 확률\n",
        "    prob_no = prob[0][0]   # 클래스 0 (레이블 없음)의 확률\n",
        "    prob_yes = prob[0][1]  # 클래스 1 (레이블 있음)의 확률\n",
        "    print(f\"Label {i}: {prob_no:.4f} (없음), {prob_yes:.4f} (있음)\")\n",
        "    \n",
        "print(f\"\\n총 {len(y_pred_proba)}개의 레이블에 대해 독립적으로 예측이 수행되었습니다.\")"
      ]
    }
  ],
  "metadata": {
    "kernelspec": {
      "display_name": "sesac_ai",
      "language": "python",
      "name": "python3"
    },
    "language_info": {
      "codemirror_mode": {
        "name": "ipython",
        "version": 3
      },
      "file_extension": ".py",
      "mimetype": "text/x-python",
      "name": "python",
      "nbconvert_exporter": "python",
      "pygments_lexer": "ipython3",
      "version": "3.11.13"
    }
  },
  "nbformat": 4,
  "nbformat_minor": 2
}
