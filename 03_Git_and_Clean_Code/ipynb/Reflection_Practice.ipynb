{
 "cells": [
  {
   "cell_type": "markdown",
   "id": "fb2e9cbe",
   "metadata": {},
   "source": [
    "# 리플렉션(Reflection)이란?\n",
    "\n",
    "리플렉션(Reflection)은 프로그램이 실행 중에 자신의 구조(클래스, 메서드, 속성 등)를 조사하고, 동적으로 객체를 생성하거나 메서드를 호출할 수 있게 해주는 기능입니다.  \n",
    "주로 다음과 같은 상황에서 사용됩니다.\n",
    "\n",
    "- 런타임에 타입 정보를 확인해야 할 때\n",
    "- 동적으로 객체를 생성하거나 메서드를 호출해야 할 때\n",
    "- 프레임워크나 라이브러리에서 유연한 코드 작성을 위해\n",
    "\n",
    "파이썬에서는 `getattr()`, `setattr()`, `hasattr()`, `type()`, `dir()` 등의 내장 함수를 통해 리플렉션 기능을 사용할 수 있습니다.\n"
   ]
  },
  {
   "cell_type": "code",
   "execution_count": 2,
   "id": "1133d525",
   "metadata": {},
   "outputs": [
    {
     "name": "stdout",
     "output_type": "stream",
     "text": [
      "Tom\n",
      "12\n",
      "['__class__', '__delattr__', '__dict__', '__dir__', '__doc__', '__eq__', '__format__', '__ge__', '__getattribute__', '__getstate__', '__gt__', '__hash__', '__init__', '__init_subclass__', '__le__', '__lt__', '__module__', '__ne__', '__new__', '__reduce__', '__reduce_ex__', '__repr__', '__setattr__', '__sizeof__', '__str__', '__subclasshook__', '__weakref__', 'age', 'greet', 'name']\n",
      "['age', 'greet', 'name']\n",
      "12\n",
      "<bound method Person.greet of <__main__.Person object at 0x000001833C1BD880>>\n",
      "Tom\n",
      "[('__class__', <class '__main__.Person'>), ('__delattr__', <method-wrapper '__delattr__' of Person object at 0x000001833C1BD880>), ('__dict__', {'name': 'Tom', 'age': 12}), ('__dir__', <built-in method __dir__ of Person object at 0x000001833C1BD880>), ('__doc__', None), ('__eq__', <method-wrapper '__eq__' of Person object at 0x000001833C1BD880>), ('__format__', <built-in method __format__ of Person object at 0x000001833C1BD880>), ('__ge__', <method-wrapper '__ge__' of Person object at 0x000001833C1BD880>), ('__getattribute__', <method-wrapper '__getattribute__' of Person object at 0x000001833C1BD880>), ('__getstate__', <built-in method __getstate__ of Person object at 0x000001833C1BD880>), ('__gt__', <method-wrapper '__gt__' of Person object at 0x000001833C1BD880>), ('__hash__', <method-wrapper '__hash__' of Person object at 0x000001833C1BD880>), ('__init__', <bound method Person.__init__ of <__main__.Person object at 0x000001833C1BD880>>), ('__init_subclass__', <built-in method __init_subclass__ of type object at 0x000001833B126B10>), ('__le__', <method-wrapper '__le__' of Person object at 0x000001833C1BD880>), ('__lt__', <method-wrapper '__lt__' of Person object at 0x000001833C1BD880>), ('__module__', '__main__'), ('__ne__', <method-wrapper '__ne__' of Person object at 0x000001833C1BD880>), ('__new__', <built-in method __new__ of type object at 0x00007FFF4A067310>), ('__reduce__', <built-in method __reduce__ of Person object at 0x000001833C1BD880>), ('__reduce_ex__', <built-in method __reduce_ex__ of Person object at 0x000001833C1BD880>), ('__repr__', <method-wrapper '__repr__' of Person object at 0x000001833C1BD880>), ('__setattr__', <method-wrapper '__setattr__' of Person object at 0x000001833C1BD880>), ('__sizeof__', <built-in method __sizeof__ of Person object at 0x000001833C1BD880>), ('__str__', <method-wrapper '__str__' of Person object at 0x000001833C1BD880>), ('__subclasshook__', <built-in method __subclasshook__ of type object at 0x000001833B126B10>), ('__weakref__', None), ('age', 12), ('greet', <bound method Person.greet of <__main__.Person object at 0x000001833C1BD880>>), ('name', 'Tom')]\n",
      "변수 __class__\n",
      "변수 __delattr__\n",
      "변수 __dict__\n",
      "변수 __dir__\n",
      "변수 __doc__\n",
      "변수 __eq__\n",
      "변수 __format__\n",
      "변수 __ge__\n",
      "변수 __getattribute__\n",
      "변수 __getstate__\n",
      "변수 __gt__\n",
      "변수 __hash__\n",
      "함수 __init__\n",
      "변수 __init_subclass__\n",
      "변수 __le__\n",
      "변수 __lt__\n",
      "변수 __module__\n",
      "변수 __ne__\n",
      "변수 __new__\n",
      "변수 __reduce__\n",
      "변수 __reduce_ex__\n",
      "변수 __repr__\n",
      "변수 __setattr__\n",
      "변수 __sizeof__\n",
      "변수 __str__\n",
      "변수 __subclasshook__\n",
      "변수 __weakref__\n",
      "변수 age\n",
      "함수 greet\n",
      "변수 name\n",
      "['age', 'name']\n",
      "['greet']\n",
      "12\n",
      "Tom\n",
      "홍길동 43\n",
      "11\n",
      "Hello 홍길동\n",
      "(x, y)\n",
      "OrderedDict({'x': <Parameter \"x\">, 'y': <Parameter \"y\">})\n"
     ]
    }
   ],
   "source": [
    "class Person:\n",
    "    def __init__(self, name=\"\", age=20):\n",
    "        self.name= name  # 두 개의 필드가 있다 \n",
    "        self.age = age \n",
    "\n",
    "    def greet(self):\n",
    "        print(f\"Hello {self.name}\")\n",
    "\n",
    "p = Person(\"Tom\", 12)\n",
    "\n",
    "# 클래스내의 속성을 가져온다 \n",
    "a = getattr(p, 'name') # 특정 객체로부터 속성을 가져올 수 있다 \n",
    "print(a)\n",
    "\n",
    "a = getattr(p, 'age')\n",
    "print( a)\n",
    "\n",
    "print( dir(p)) # p 클래스 내부에 있는 구조 \n",
    "\n",
    "# 필터링을 해서 사용자가 만든거만 \n",
    "fields = [x for x in dir(p) if not x.startswith(\"__\")]\n",
    "print(fields)\n",
    "\n",
    "import inspect  # 이 라이브러리가 각 요소가 함수인지 아닌지 확인가능 \n",
    "for field in fields:\n",
    "    print( getattr(p, field))\n",
    "\n",
    "# 특정 객체안에 있는 모든 메서드와 변수들을 다 가져온다 \n",
    "print( inspect.getmembers(p) )\n",
    "for item, value in inspect.getmembers(p):\n",
    "    if inspect.ismethod(value) or inspect.isfunction(value):\n",
    "        print(\"함수\", item)\n",
    "    else:\n",
    "        print(\"변수\", item) \n",
    "# [ 출력변수 for  출력변수 in iterabletype if 조건식]\n",
    "# not( a or b) not a and not b   \n",
    "\n",
    "# 클래스로부터 변수이름만 추출하기 \n",
    "var_fields = [ name for name, value in inspect.getmembers(p) \n",
    "    if  not( inspect.ismethod(value) or inspect.isfunction(value) )\n",
    "     and not name.startswith(\"__\") ]\n",
    "print( var_fields )\n",
    "\n",
    "# 메서드 이름만 추출하기\n",
    "fun_fields = [ name for name, value in inspect.getmembers(p) \n",
    "    if  ( inspect.ismethod(value) or inspect.isfunction(value) )\n",
    "     and not name.startswith(\"__\") ]\n",
    "print( fun_fields )\n",
    "\n",
    "a = getattr(p, var_fields[0])\n",
    "print( a )\n",
    "\n",
    "a = getattr(p, var_fields[1])\n",
    "print( a )\n",
    "\n",
    "# 객체안의 변수의 값을 바꿀 수 도 있다 \n",
    "setattr(p, 'name', '홍길동')\n",
    "setattr(p, 'age', 43)\n",
    "\n",
    "print (p.name, p.age)\n",
    "\n",
    "def add(x, y): # 함수도 주소임, 파이썬은 변수들한테 주소 저장가능 \n",
    "    return x+y \n",
    "a = add \n",
    "print( a(5,6) )\n",
    "\n",
    "method = getattr(p, \"greet\")\n",
    "method() \n",
    "\n",
    "# 함수의 매개변수 \n",
    "params =  inspect.signature(add)\n",
    "print(params)\n",
    "print(params.parameters)"
   ]
  },
  {
   "cell_type": "code",
   "execution_count": 3,
   "id": "89d76de7",
   "metadata": {},
   "outputs": [
    {
     "name": "stdout",
     "output_type": "stream",
     "text": [
      "['x', 'y']\n",
      "['add', 'mul', 'sub']\n",
      "10 5\n",
      "15\n",
      "50\n",
      "5\n"
     ]
    }
   ],
   "source": [
    "class MyType:\n",
    "    def __init__(self, x=0, y=0):\n",
    "        self.x = x \n",
    "        self.y = y \n",
    "    def add(self):\n",
    "        return self.x+self.y \n",
    "    \n",
    "    def sub(self):\n",
    "        return self.x-self.y \n",
    "    \n",
    "    def mul(self):\n",
    "        return self.x*self.y \n",
    "\n",
    "m1 = MyType() \n",
    "import inspect \n",
    "var_fields = [name for name, value in inspect.getmembers(m1) \n",
    "              if not (inspect.ismethod(value) \n",
    "                      or inspect.isfunction(value))\n",
    "                and not name.startswith(\"__\")]\n",
    "print(var_fields)\n",
    "fun_fields = [name for name, value in inspect.getmembers(m1) \n",
    "              if  (inspect.ismethod(value) \n",
    "                      or inspect.isfunction(value))\n",
    "                and not name.startswith(\"__\")]\n",
    "print(fun_fields)\n",
    "setattr(m1, var_fields[0], 10)\n",
    "setattr(m1, var_fields[1], 5)\n",
    "print(m1.x, m1.y)\n",
    "print( getattr(m1, fun_fields[0])())\n",
    "print( getattr(m1, fun_fields[1])())\n",
    "print( getattr(m1, fun_fields[2])())"
   ]
  },
  {
   "cell_type": "code",
   "execution_count": 4,
   "id": "7fdfcaa5",
   "metadata": {},
   "outputs": [
    {
     "name": "stdout",
     "output_type": "stream",
     "text": [
      "p 객체의 변수 리스트: ['age', 'name']\n",
      "m1 객체의 변수 리스트: ['x', 'y']\n"
     ]
    }
   ],
   "source": [
    "# 문제 1. inspect 써서 변수 리스트\n",
    "import inspect\n",
    "\n",
    "# p 객체의 변수 리스트를 리플렉션으로 추출\n",
    "var_list = [name for name, value in inspect.getmembers(p)\n",
    "            if not (inspect.ismethod(value) or inspect.isfunction(value))\n",
    "            and not name.startswith(\"__\")]\n",
    "print(\"p 객체의 변수 리스트:\", var_list)\n",
    "\n",
    "# m1 객체의 변수 리스트를 리플렉션으로 추출\n",
    "var_list_m1 = [name for name, value in inspect.getmembers(m1)\n",
    "               if not (inspect.ismethod(value) or inspect.isfunction(value))\n",
    "               and not name.startswith(\"__\")]\n",
    "print(\"m1 객체의 변수 리스트:\", var_list_m1)"
   ]
  },
  {
   "cell_type": "code",
   "execution_count": null,
   "id": "cda5890a",
   "metadata": {},
   "outputs": [
    {
     "name": "stdout",
     "output_type": "stream",
     "text": [
      "p 객체의 함수 리스트: ['greet']\n",
      "m1 객체의 함수 리스트: ['add', 'mul', 'sub']\n"
     ]
    }
   ],
   "source": [
    "# 문제 2. inspect 써서 함수 리스트 \n",
    "# p 객체의 함수 리스트를 리플렉션으로 추출\n",
    "fun_list = [name for name, value in inspect.getmembers(p)\n",
    "            if (inspect.ismethod(value) or inspect.isfunction(value))\n",
    "            and not name.startswith(\"__\")]\n",
    "print(\"p 객체의 함수 리스트:\", fun_list)\n",
    "\n",
    "# m1 객체의 함수 리스트를 리플렉션으로 추출\n",
    "fun_list_m1 = [name for name, value in inspect.getmembers(m1)\n",
    "               if (inspect.ismethod(value) or inspect.isfunction(value))\n",
    "               and not name.startswith(\"__\")]\n",
    "print(\"m1 객체의 함수 리스트:\", fun_list_m1)"
   ]
  },
  {
   "cell_type": "code",
   "execution_count": null,
   "id": "3816d25f",
   "metadata": {},
   "outputs": [
    {
     "name": "stdout",
     "output_type": "stream",
     "text": [
      "10 5\n"
     ]
    }
   ],
   "source": [
    "# 문제 3. setattr 써서 x에는 10 y에는 5 \n",
    "# 리플렉션을 사용하여 m1 객체의 x에는 10, y에는 5를 할당\n",
    "setattr(m1, var_list_m1[0], 10)\n",
    "setattr(m1, var_list_m1[1], 5)\n",
    "print(m1.x, m1.y)"
   ]
  },
  {
   "cell_type": "code",
   "execution_count": 7,
   "id": "2b5dba6e",
   "metadata": {},
   "outputs": [
    {
     "name": "stdout",
     "output_type": "stream",
     "text": [
      "add(): 15\n",
      "mul(): 50\n",
      "sub(): 5\n"
     ]
    }
   ],
   "source": [
    "# 문제 4. getattr로 함수 주소 갖고 와서 호출하기 (리플렉션 사용)\n",
    "# m1 객체의 fun_list_m1에 있는 함수들을 getattr로 호출\n",
    "\n",
    "for func_name in fun_list_m1:\n",
    "    func = getattr(m1, func_name)\n",
    "    print(f\"{func_name}():\", func())"
   ]
  }
 ],
 "metadata": {
  "kernelspec": {
   "display_name": "base",
   "language": "python",
   "name": "python3"
  },
  "language_info": {
   "codemirror_mode": {
    "name": "ipython",
    "version": 3
   },
   "file_extension": ".py",
   "mimetype": "text/x-python",
   "name": "python",
   "nbconvert_exporter": "python",
   "pygments_lexer": "ipython3",
   "version": "3.12.7"
  }
 },
 "nbformat": 4,
 "nbformat_minor": 5
}
