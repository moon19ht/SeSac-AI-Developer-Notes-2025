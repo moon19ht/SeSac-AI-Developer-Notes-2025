{
  "cells": [
    {
      "cell_type": "markdown",
      "metadata": {
        "vscode": {
          "languageId": "raw"
        }
      },
      "source": [
        "# MySQL 연동 기본 통합 실습\n",
        "\n",
        "이 노트북은 PyMySQL을 사용한 MySQL 데이터베이스 연동에 대한 종합적인 학습 자료입니다.\n",
        "\n",
        "## 목차\n",
        "1. [PyMySQL 환경 설정](#1.-PyMySQL-환경-설정)\n",
        "2. [기본 데이터베이스 연결](#2.-기본-데이터베이스-연결)\n",
        "3. [데이터 조회 방법들](#3.-데이터-조회-방법들)\n",
        "4. [튜플 vs 딕셔너리 커서](#4.-튜플-vs-딕셔너리-커서)\n",
        "5. [데이터 삽입과 트랜잭션](#5.-데이터-삽입과-트랜잭션)\n",
        "6. [기본 CRUD 예제](#6.-기본-CRUD-예제)\n",
        "7. [완전한 방명록 시스템](#7.-완전한-방명록-시스템)\n",
        "8. [실무 활용 팁과 주의사항](#8.-실무-활용-팁과-주의사항)\n",
        "\n",
        "---\n"
      ]
    },
    {
      "cell_type": "markdown",
      "metadata": {
        "vscode": {
          "languageId": "raw"
        }
      },
      "source": [
        "## 1. PyMySQL 환경 설정\n",
        "\n",
        "### PyMySQL이란?\n",
        "PyMySQL은 Python에서 MySQL 데이터베이스에 접속하기 위한 라이브러리입니다.\n",
        "- 순수 Python으로 작성되어 설치가 간편\n",
        "- MySQL 5.1 이상 버전 지원\n",
        "- DB-API 2.0 표준을 준수\n",
        "\n",
        "### 설치 방법\n"
      ]
    },
    {
      "cell_type": "code",
      "execution_count": null,
      "metadata": {},
      "outputs": [],
      "source": [
        "# PyMySQL 설치 (터미널에서 실행)\n",
        "# pip install pymysql\n",
        "\n",
        "# 라이브러리 import\n",
        "import pymysql\n",
        "from typing import Dict, List, Tuple, Any\n",
        "\n",
        "print(\"PyMySQL 버전:\", pymysql.__version__)\n",
        "print(\"설치 완료!\")\n"
      ]
    },
    {
      "cell_type": "markdown",
      "metadata": {
        "vscode": {
          "languageId": "raw"
        }
      },
      "source": [
        "## 2. 기본 데이터베이스 연결\n",
        "\n",
        "### 연결 방법\n",
        "MySQL 데이터베이스에 연결하기 위해서는 다음 정보가 필요합니다:\n",
        "- **host**: 서버 IP 주소 (localhost 또는 127.0.0.1)\n",
        "- **user**: 데이터베이스 사용자 계정\n",
        "- **password**: 사용자 패스워드\n",
        "- **db**: 연결할 데이터베이스명\n",
        "- **port**: MySQL 포트번호 (기본값: 3306)\n"
      ]
    },
    {
      "cell_type": "code",
      "execution_count": null,
      "metadata": {},
      "outputs": [],
      "source": [
        "# 데이터베이스 연결 설정\n",
        "conn = pymysql.connect(\n",
        "    host='localhost',      # 서버 IP\n",
        "    user='user01',         # 계정 아이디  \n",
        "    password='1234',       # 패스워드\n",
        "    db='mydb',            # 데이터베이스명\n",
        "    port=3306             # 포트번호\n",
        ")\n",
        "\n",
        "# 커서 생성 (데이터베이스 작업을 위한 객체)\n",
        "curs = conn.cursor()\n",
        "\n",
        "print(\"데이터베이스 연결 성공!\")\n",
        "print(\"연결 정보:\", conn.get_server_info())\n"
      ]
    },
    {
      "cell_type": "markdown",
      "metadata": {
        "vscode": {
          "languageId": "raw"
        }
      },
      "source": [
        "## 3. 데이터 조회 방법들\n",
        "\n",
        "PyMySQL에서는 세 가지 주요 데이터 조회 방법을 제공합니다:\n",
        "- **fetchall()**: 모든 레코드를 한번에 가져오기\n",
        "- **fetchone()**: 첫 번째 레코드 하나만 가져오기  \n",
        "- **fetchmany(size)**: 지정한 개수만큼 가져오기\n"
      ]
    },
    {
      "cell_type": "code",
      "execution_count": null,
      "metadata": {},
      "outputs": [],
      "source": [
        "# 1. fetchall() - 모든 데이터 가져오기\n",
        "sql = \"SELECT * FROM guestbook\"\n",
        "curs.execute(sql)\n",
        "rows = curs.fetchall()  # 튜플 타입으로 반환\n",
        "\n",
        "print(\"=== fetchall() 결과 ===\")\n",
        "for row in rows:\n",
        "    print(type(row), row)\n"
      ]
    },
    {
      "cell_type": "code",
      "execution_count": null,
      "metadata": {},
      "outputs": [],
      "source": [
        "# 2. fetchone() - 한 개만 가져오기\n",
        "print(\"\\n=== fetchone() 결과 ===\")\n",
        "curs.execute(sql)\n",
        "row = curs.fetchone()  # 첫 번째 레코드 하나만\n",
        "print(\"첫 번째 레코드:\", row)\n"
      ]
    },
    {
      "cell_type": "code",
      "execution_count": null,
      "metadata": {},
      "outputs": [],
      "source": [
        "# 3. fetchmany() - 지정한 개수만 가져오기\n",
        "print(\"\\n=== fetchmany(3) 결과 ===\")\n",
        "curs.execute(sql)\n",
        "rows = curs.fetchmany(3)  # 3개의 레코드만 가져오기\n",
        "for row in rows:\n",
        "    print(type(row), row)\n"
      ]
    },
    {
      "cell_type": "markdown",
      "metadata": {
        "vscode": {
          "languageId": "raw"
        }
      },
      "source": [
        "## 4. 튜플 vs 딕셔너리 커서\n",
        "\n",
        "### 기본 커서 (튜플 타입)\n",
        "- 데이터를 튜플 형태로 반환\n",
        "- 인덱스 번호로 접근 (row[0], row[1], ...)\n",
        "- 메모리 효율적\n",
        "\n",
        "### 딕셔너리 커서 (Dict 타입)  \n",
        "- 데이터를 딕셔너리 형태로 반환\n",
        "- 컬럼명으로 접근 (row['title'], row['contents'], ...)\n",
        "- 가독성이 좋음\n"
      ]
    },
    {
      "cell_type": "code",
      "execution_count": null,
      "metadata": {},
      "outputs": [],
      "source": [
        "# 딕셔너리 커서로 변경\n",
        "curs = conn.cursor(pymysql.cursors.DictCursor)\n",
        "\n",
        "sql = \"SELECT * FROM guestbook\"\n",
        "curs.execute(sql)\n",
        "rows = curs.fetchall()\n",
        "\n",
        "print(\"=== 딕셔너리 커서 결과 ===\")\n",
        "for row in rows:\n",
        "    # 컬럼명으로 직접 접근 가능\n",
        "    print(f\"제목: {row['title']}, 내용: {row['contents']}, 작성일: {row['wdate']}\")\n",
        "    print(f\"타입: {type(row)}\")\n",
        "    break  # 첫 번째 행만 출력\n"
      ]
    },
    {
      "cell_type": "markdown",
      "metadata": {
        "vscode": {
          "languageId": "ini"
        }
      },
      "source": [
        "## 5. 데이터 삽입과 트랜잭션\n",
        "\n",
        "### 트랜잭션이란?\n",
        "- 하나 이상의 쿼리가 하나의 목적을 위해 움직일 때\n",
        "- 하나가 오류가 생기면 다른 하나도 취소시켜야 함\n",
        "- **commit**: 확정 (변경사항을 데이터베이스에 반영)\n",
        "- **rollback**: 되돌리기 (변경사항을 취소)\n",
        "\n",
        "### DML과 커밋\n",
        "- DML (Data Manipulation Language): INSERT, UPDATE, DELETE\n",
        "- DML 작업 후에는 반드시 `commit()`을 호출해야 함\n"
      ]
    },
    {
      "cell_type": "code",
      "execution_count": null,
      "metadata": {},
      "outputs": [],
      "source": [
        "# 데이터 삽입 예제\n",
        "sql = \"\"\"\n",
        "    INSERT INTO guestbook(title, contents, writer, wdate)\n",
        "    VALUES(%s, %s, %s, now())\n",
        "\"\"\"\n",
        "\n",
        "# 파라미터를 사용한 안전한 데이터 삽입\n",
        "curs.execute(sql, ('제목6', '내용6', '작성자6'))\n",
        "\n",
        "# 반드시 커밋해야 데이터베이스에 반영됨\n",
        "conn.commit()\n",
        "\n",
        "print(\"데이터 삽입 완료!\")\n",
        "\n",
        "# 삽입된 데이터 확인\n",
        "sql = \"SELECT * FROM guestbook ORDER BY id DESC LIMIT 1\"\n",
        "curs.execute(sql)\n",
        "result = curs.fetchone()\n",
        "print(\"방금 삽입된 데이터:\", result)\n"
      ]
    },
    {
      "cell_type": "markdown",
      "metadata": {
        "vscode": {
          "languageId": "raw"
        }
      },
      "source": [
        "## 6. 기본 CRUD 예제\n",
        "\n",
        "CRUD는 데이터베이스의 기본 작업을 의미합니다:\n",
        "- **C**reate: 생성 (INSERT)\n",
        "- **R**ead: 조회 (SELECT)  \n",
        "- **U**pdate: 수정 (UPDATE)\n",
        "- **D**elete: 삭제 (DELETE)\n"
      ]
    },
    {
      "cell_type": "code",
      "execution_count": null,
      "metadata": {},
      "outputs": [],
      "source": [
        "# 1. CREATE (생성) - INSERT\n",
        "def insert_data():\n",
        "    sql = \"\"\"\n",
        "        INSERT INTO guestbook(title, contents, writer, wdate)\n",
        "        VALUES(%s, %s, %s, now())\n",
        "    \"\"\"\n",
        "    curs.execute(sql, ('테스트 제목', '테스트 내용', '테스트 작성자'))\n",
        "    conn.commit()\n",
        "    print(\"✅ 데이터 생성 완료\")\n",
        "\n",
        "# 2. READ (조회) - SELECT  \n",
        "def read_data():\n",
        "    sql = \"SELECT * FROM guestbook\"\n",
        "    curs.execute(sql)\n",
        "    rows = curs.fetchall()\n",
        "    print(\"📖 전체 데이터 조회:\")\n",
        "    for row in rows:\n",
        "        print(f\"  ID: {row[0]}, 제목: {row[1]}\")\n",
        "\n",
        "# 3. UPDATE (수정)\n",
        "def update_data(guestbook_id: int):\n",
        "    sql = \"\"\"\n",
        "        UPDATE guestbook \n",
        "        SET title = %s, contents = %s, writer = %s \n",
        "        WHERE id = %s\n",
        "    \"\"\"\n",
        "    curs.execute(sql, ('수정된 제목', '수정된 내용', '수정된 작성자', guestbook_id))\n",
        "    conn.commit()\n",
        "    print(f\"✏️ ID {guestbook_id} 데이터 수정 완료\")\n",
        "\n",
        "# 4. DELETE (삭제)\n",
        "def delete_data(guestbook_id: int):\n",
        "    sql = \"DELETE FROM guestbook WHERE id = %s\"\n",
        "    curs.execute(sql, (guestbook_id,))\n",
        "    conn.commit()\n",
        "    print(f\"🗑️ ID {guestbook_id} 데이터 삭제 완료\")\n",
        "\n",
        "# CRUD 작업 실행 예제\n",
        "print(\"=== CRUD 작업 예제 ===\")\n",
        "insert_data()\n",
        "read_data()\n"
      ]
    },
    {
      "cell_type": "markdown",
      "metadata": {
        "vscode": {
          "languageId": "raw"
        }
      },
      "source": [
        "## 7. 완전한 방명록 시스템\n",
        "\n",
        "이제 실제로 동작하는 완전한 방명록 시스템을 만들어보겠습니다.\n",
        "사용자 입력을 받아 CRUD 작업을 수행하는 콘솔 애플리케이션입니다.\n"
      ]
    },
    {
      "cell_type": "code",
      "execution_count": null,
      "metadata": {},
      "outputs": [],
      "source": [
        "# 완전한 방명록 시스템\n",
        "class GuestbookSystem:\n",
        "    def __init__(self, connection):\n",
        "        self.conn = connection\n",
        "        self.curs = connection.cursor(pymysql.cursors.DictCursor)\n",
        "    \n",
        "    def insert(self):\n",
        "        \"\"\"새 방명록 작성\"\"\"\n",
        "        title = input(\"제목: \")\n",
        "        writer = input(\"작성자: \")\n",
        "        contents = input(\"내용: \")\n",
        "        \n",
        "        sql = \"\"\"\n",
        "            INSERT INTO guestbook(title, contents, writer, wdate)\n",
        "            VALUES (%s, %s, %s, now())\n",
        "        \"\"\"\n",
        "        self.curs.execute(sql, (title, contents, writer))\n",
        "        self.conn.commit()\n",
        "        print(\"✅ 방명록이 등록되었습니다!\")\n",
        "    \n",
        "    def update(self):\n",
        "        \"\"\"방명록 수정\"\"\"\n",
        "        guestbook_id = input(\"수정할 아이디: \")\n",
        "        title = input(\"수정할 제목: \")\n",
        "        writer = input(\"수정할 작성자: \")\n",
        "        contents = input(\"수정할 내용: \")\n",
        "        \n",
        "        sql = \"\"\"\n",
        "            UPDATE guestbook\n",
        "            SET title = %s, contents = %s, writer = %s\n",
        "            WHERE id = %s\n",
        "        \"\"\"\n",
        "        self.curs.execute(sql, (title, contents, writer, guestbook_id))\n",
        "        self.conn.commit()\n",
        "        print(\"✏️ 방명록이 수정되었습니다!\")\n",
        "    \n",
        "    def delete(self):\n",
        "        \"\"\"방명록 삭제\"\"\"\n",
        "        guestbook_id = input(\"삭제할 아이디: \")\n",
        "        \n",
        "        sql = \"DELETE FROM guestbook WHERE id = %s\"\n",
        "        self.curs.execute(sql, (guestbook_id,))\n",
        "        self.conn.commit()\n",
        "        print(\"🗑️ 방명록이 삭제되었습니다!\")\n",
        "    \n",
        "    def output(self):\n",
        "        \"\"\"방명록 목록 조회\"\"\"\n",
        "        sql = \"SELECT * FROM guestbook ORDER BY id DESC\"\n",
        "        self.curs.execute(sql)\n",
        "        rows = self.curs.fetchall()\n",
        "        \n",
        "        print(\"\\\\n\" + \"=\"*50)\n",
        "        print(\"📋 방명록 목록\")\n",
        "        print(\"=\"*50)\n",
        "        \n",
        "        for row in rows:\n",
        "            print(f\"ID: {row['id']}\")\n",
        "            print(f\"제목: {row['title']}\")\n",
        "            print(f\"작성자: {row['writer']}\")\n",
        "            print(f\"내용: {row['contents']}\")\n",
        "            print(f\"작성일: {row['wdate']}\")\n",
        "            print(\"-\" * 30)\n",
        "    \n",
        "    def run(self):\n",
        "        \"\"\"메인 실행 루프\"\"\"\n",
        "        print(\"🎉 방명록 시스템에 오신 것을 환영합니다!\")\n",
        "        \n",
        "        while True:\n",
        "            print(\"\\\\n\" + \"=\"*30)\n",
        "            sel = input(\"1.목록 2.추가 3.수정 4.삭제 0.종료: \")\n",
        "            \n",
        "            if sel == \"1\":\n",
        "                self.output()\n",
        "            elif sel == \"2\":\n",
        "                self.insert()\n",
        "            elif sel == \"3\":\n",
        "                self.update()\n",
        "            elif sel == \"4\":\n",
        "                self.delete()\n",
        "            elif sel == \"0\":\n",
        "                print(\"👋 방명록 시스템을 종료합니다.\")\n",
        "                break\n",
        "            else:\n",
        "                print(\"❌ 올바른 번호를 입력해주세요.\")\n",
        "\n",
        "# 방명록 시스템 생성\n",
        "guestbook = GuestbookSystem(conn)\n",
        "\n",
        "# 데모용으로 목록만 보여주기 (실제 실행은 주석 해제)\n",
        "print(\"=== 방명록 시스템 데모 ===\")\n",
        "guestbook.output()\n",
        "\n",
        "# 실제 방명록 시스템 실행하려면 아래 주석을 해제하세요\n",
        "# guestbook.run()\n"
      ]
    },
    {
      "cell_type": "markdown",
      "metadata": {
        "vscode": {
          "languageId": "raw"
        }
      },
      "source": [
        "## 8. 실무 활용 팁과 주의사항\n",
        "\n",
        "### 🔒 보안 관련\n",
        "1. **SQL 인젝션 방지**: 항상 파라미터를 사용하세요\n",
        "2. **연결 정보 보호**: 패스워드를 코드에 하드코딩하지 마세요\n",
        "3. **권한 최소화**: 필요한 권한만 부여하세요\n",
        "\n",
        "### ⚡ 성능 최적화\n",
        "1. **연결 재사용**: 매번 새 연결을 만들지 마세요\n",
        "2. **커넥션 풀 활용**: 다중 사용자 환경에서는 커넥션 풀 사용\n",
        "3. **적절한 인덱스 활용**: 자주 조회하는 컬럼에 인덱스 생성\n",
        "\n",
        "### 🛠️ 에러 처리\n",
        "1. **try-except 사용**: 데이터베이스 에러 처리\n",
        "2. **롤백 처리**: 에러 발생 시 롤백 수행\n",
        "3. **연결 해제**: finally 블록에서 연결 해제\n",
        "\n",
        "### 📝 코딩 스타일\n",
        "1. **함수 분리**: 각 기능을 별도 함수로 분리\n",
        "2. **클래스 활용**: 관련 기능을 클래스로 묶기\n",
        "3. **타입 힌트**: 함수 매개변수에 타입 명시\n"
      ]
    },
    {
      "cell_type": "code",
      "execution_count": null,
      "metadata": {},
      "outputs": [],
      "source": [
        "# 실무 스타일의 데이터베이스 클래스\n",
        "class DatabaseManager:\n",
        "    def __init__(self, host: str, user: str, password: str, database: str, port: int = 3306):\n",
        "        self.connection_config = {\n",
        "            'host': host,\n",
        "            'user': user, \n",
        "            'password': password,\n",
        "            'db': database,\n",
        "            'port': port\n",
        "        }\n",
        "        self.conn = None\n",
        "        self.connect()\n",
        "    \n",
        "    def connect(self):\n",
        "        \"\"\"데이터베이스 연결\"\"\"\n",
        "        try:\n",
        "            self.conn = pymysql.connect(**self.connection_config)\n",
        "            print(\"✅ 데이터베이스 연결 성공\")\n",
        "        except Exception as e:\n",
        "            print(f\"❌ 데이터베이스 연결 실패: {e}\")\n",
        "    \n",
        "    def execute_query(self, sql: str, params: tuple = None, fetch: str = 'all'):\n",
        "        \"\"\"쿼리 실행 (조회용)\"\"\"\n",
        "        try:\n",
        "            with self.conn.cursor(pymysql.cursors.DictCursor) as curs:\n",
        "                curs.execute(sql, params)\n",
        "                \n",
        "                if fetch == 'all':\n",
        "                    return curs.fetchall()\n",
        "                elif fetch == 'one':\n",
        "                    return curs.fetchone()\n",
        "                elif fetch == 'many':\n",
        "                    return curs.fetchmany(5)\n",
        "                    \n",
        "        except Exception as e:\n",
        "            print(f\"❌ 쿼리 실행 오류: {e}\")\n",
        "            return None\n",
        "    \n",
        "    def execute_dml(self, sql: str, params: tuple = None):\n",
        "        \"\"\"DML 실행 (INSERT, UPDATE, DELETE)\"\"\"\n",
        "        try:\n",
        "            with self.conn.cursor() as curs:\n",
        "                curs.execute(sql, params)\n",
        "                self.conn.commit()\n",
        "                return True\n",
        "        except Exception as e:\n",
        "            print(f\"❌ DML 실행 오류: {e}\")\n",
        "            self.conn.rollback()\n",
        "            return False\n",
        "    \n",
        "    def close(self):\n",
        "        \"\"\"연결 해제\"\"\"\n",
        "        if self.conn:\n",
        "            self.conn.close()\n",
        "            print(\"🔌 데이터베이스 연결 해제\")\n",
        "\n",
        "# 실무 스타일 사용 예제\n",
        "print(\"=== 실무 스타일 데이터베이스 클래스 ===\")\n",
        "\n",
        "# 데이터베이스 매니저 생성\n",
        "db = DatabaseManager(\n",
        "    host='localhost',\n",
        "    user='user01',\n",
        "    password='1234',\n",
        "    database='mydb'\n",
        ")\n",
        "\n",
        "# 안전한 데이터 조회\n",
        "result = db.execute_query(\"SELECT * FROM guestbook LIMIT 3\")\n",
        "if result:\n",
        "    print(\"📊 조회 결과:\")\n",
        "    for row in result:\n",
        "        print(f\"  - {row}\")\n",
        "\n",
        "# 안전한 데이터 삽입\n",
        "success = db.execute_dml(\n",
        "    \"INSERT INTO guestbook(title, contents, writer, wdate) VALUES(%s, %s, %s, now())\",\n",
        "    ('실무 예제', '실무 스타일 코드', '개발자')\n",
        ")\n",
        "\n",
        "if success:\n",
        "    print(\"✅ 데이터 삽입 성공\")\n",
        "else:\n",
        "    print(\"❌ 데이터 삽입 실패\")\n",
        "\n",
        "# 연결 해제는 프로그램 종료 시에만\n",
        "# db.close()\n"
      ]
    },
    {
      "cell_type": "markdown",
      "metadata": {
        "vscode": {
          "languageId": "raw"
        }
      },
      "source": [
        "---\n",
        "\n",
        "## 실습 총정리\n",
        "\n",
        "이 노트북에서 학습한 내용:\n",
        "\n",
        "### 🎯 핵심 개념\n",
        "1. **PyMySQL 기본 사용법**: 연결, 커서, 쿼리 실행\n",
        "2. **데이터 조회 방법**: fetchall(), fetchone(), fetchmany()\n",
        "3. **커서 타입**: 튜플 vs 딕셔너리\n",
        "4. **트랜잭션 관리**: commit(), rollback()\n",
        "5. **CRUD 작업**: Create, Read, Update, Delete\n",
        "\n",
        "### 💡 주요 학습 포인트\n",
        "- **파라미터 사용**: SQL 인젝션 방지를 위한 안전한 쿼리\n",
        "- **딕셔너리 커서**: 가독성 높은 데이터 접근\n",
        "- **예외 처리**: try-except를 통한 안전한 프로그래밍\n",
        "- **클래스 활용**: 코드 재사용성과 유지보수성 향상\n",
        "\n",
        "### 🚀 다음 단계 학습 제안\n",
        "- **ORM 학습**: SQLAlchemy, Django ORM\n",
        "- **비동기 프로그래밍**: aiomysql, asyncio\n",
        "- **웹 프레임워크 연동**: Flask, Django, FastAPI\n",
        "- **데이터베이스 설계**: 정규화, 인덱스 최적화\n",
        "\n",
        "### 📚 추가 자료\n",
        "- [PyMySQL 공식 문서](https://pymysql.readthedocs.io/)\n",
        "- [MySQL 공식 문서](https://dev.mysql.com/doc/)\n",
        "- [SQL 튜토리얼](https://www.w3schools.com/sql/)\n",
        "\n",
        "---\n",
        "\n",
        "### 연결 해제\n",
        "```python\n",
        "# 작업 완료 후 연결 해제\n",
        "conn.close()\n",
        "print(\"🎉 MySQL 연동 기본 실습 완료!\")\n",
        "```\n",
        "\n",
        "*MySQL 연동 기본 통합 실습 완료*\n"
      ]
    },
    {
      "cell_type": "code",
      "execution_count": null,
      "metadata": {},
      "outputs": [],
      "source": [
        "# 작업 완료 후 연결 해제\n",
        "conn.close()\n",
        "print(\"🎉 MySQL 연동 기본 실습 완료!\")\n"
      ]
    }
  ],
  "metadata": {
    "kernelspec": {
      "display_name": "sesac_ai",
      "language": "python",
      "name": "python3"
    },
    "language_info": {
      "name": "python",
      "version": "3.11.13"
    }
  },
  "nbformat": 4,
  "nbformat_minor": 2
}
