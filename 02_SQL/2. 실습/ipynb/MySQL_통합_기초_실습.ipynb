{
  "cells": [
    {
      "cell_type": "markdown",
      "metadata": {
        "vscode": {
          "languageId": "raw"
        }
      },
      "source": [
        "# MySQL 기초 문법과 Sakila 데이터베이스를 활용한 SQL 통합 실습\n",
        "\n",
        "이 노트북은 MySQL 기초 문법과 Sakila 데이터베이스를 활용한 SQL 연습 문제들을 통합한 자료입니다.\n",
        "\n",
        "## 목차\n",
        "1. [테이블 생성 및 샘플 데이터 삽입](#1.-테이블-생성-및-샘플-데이터-삽입)\n",
        "2. [MySQL 기초 문법](#2.-MySQL-기초-문법)\n",
        "3. [Sakila 데이터베이스 기초](#3.-Sakila-데이터베이스-기초)\n",
        "4. [Sakila 기초 조회 연습](#4.-Sakila-기초-조회-연습)\n",
        "5. [Sakila 추가 연습 문제](#5.-Sakila-추가-연습-문제)\n"
      ]
    },
    {
      "cell_type": "markdown",
      "metadata": {
        "vscode": {
          "languageId": "raw"
        }
      },
      "source": [
        "## 1. 테이블 생성 및 샘플 데이터 삽입\n",
        "\n",
        "### EMP 테이블과 DEPT 테이블을 생성하고 샘플 데이터를 삽입합니다.\n"
      ]
    },
    {
      "cell_type": "code",
      "execution_count": null,
      "metadata": {
        "vscode": {
          "languageId": "sql"
        }
      },
      "outputs": [],
      "source": [
        "%%sql\n",
        "use mydb;\n",
        "\n",
        "-- EMP 테이블 생성\n",
        "CREATE TABLE EMP (\n",
        "    EMPNO INT PRIMARY KEY,\n",
        "    ENAME VARCHAR(10),\n",
        "    JOB VARCHAR(9),\n",
        "    MGR INT,\n",
        "    HIREDATE DATE,\n",
        "    SAL DECIMAL(7, 2),\n",
        "    COMM DECIMAL(7, 2),\n",
        "    DEPTNO INT\n",
        ");\n"
      ]
    },
    {
      "cell_type": "code",
      "execution_count": null,
      "metadata": {},
      "outputs": [],
      "source": [
        "%%sql\n",
        "-- EMP 테이블 데이터 삽입\n",
        "INSERT INTO EMP VALUES (7369, 'SMITH',  'CLERK',     7902, '1980-12-17', 800.00,  NULL, 20);\n",
        "INSERT INTO EMP VALUES (7499, 'ALLEN',  'SALESMAN',  7698, '1981-02-20',1600.00, 300.00, 30);\n",
        "INSERT INTO EMP VALUES (7521, 'WARD',   'SALESMAN',  7698, '1981-02-22',1250.00, 500.00, 30);\n",
        "INSERT INTO EMP VALUES (7566, 'JONES',  'MANAGER',   7839, '1981-04-02',2975.00,  NULL, 20);\n",
        "INSERT INTO EMP VALUES (7698, 'BLAKE',  'MANAGER',   7839, '1981-05-01',2850.00,  NULL, 30);\n",
        "INSERT INTO EMP VALUES (7782, 'CLARK',  'MANAGER',   7839, '1981-06-09',2450.00,  NULL, 10);\n",
        "INSERT INTO EMP VALUES (7788, 'SCOTT',  'ANALYST',   7566, '1982-12-09',3000.00,  NULL, 20);\n",
        "INSERT INTO EMP VALUES (7839, 'KING',   'PRESIDENT', NULL, '1981-11-17',5000.00,  NULL, 10);\n",
        "INSERT INTO EMP VALUES (7844, 'TURNER', 'SALESMAN',  7698, '1981-09-08',1500.00,   0.00, 30);\n",
        "INSERT INTO EMP VALUES (7876, 'ADAMS',  'CLERK',     7788, '1983-01-12',1100.00,  NULL, 20);\n",
        "INSERT INTO EMP VALUES (7900, 'JAMES',  'CLERK',     7698, '1981-12-03', 950.00,  NULL, 30);\n",
        "INSERT INTO EMP VALUES (7902, 'FORD',   'ANALYST',   7566, '1981-12-03',3000.00,  NULL, 20);\n",
        "INSERT INTO EMP VALUES (7934, 'MILLER', 'CLERK',     7782, '1982-01-23',1300.00,  NULL, 10);\n"
      ]
    },
    {
      "cell_type": "code",
      "execution_count": null,
      "metadata": {},
      "outputs": [],
      "source": [
        "%%sql\n",
        "-- DEPT 테이블 생성\n",
        "CREATE TABLE DEPT (\n",
        "    DEPTNO INT PRIMARY KEY,\n",
        "    DNAME VARCHAR(14),\n",
        "    LOC VARCHAR(13)\n",
        ");\n",
        "\n",
        "-- DEPT 테이블 데이터 삽입\n",
        "INSERT INTO DEPT VALUES (10, 'ACCOUNTING', 'NEW YORK');\n",
        "INSERT INTO DEPT VALUES (20, 'RESEARCH',   'DALLAS');\n",
        "INSERT INTO DEPT VALUES (30, 'SALES',      'CHICAGO');\n",
        "INSERT INTO DEPT VALUES (40, 'OPERATIONS', 'BOSTON');\n"
      ]
    },
    {
      "cell_type": "markdown",
      "metadata": {
        "vscode": {
          "languageId": "raw"
        }
      },
      "source": [
        "## 2. MySQL 기초 문법\n",
        "\n",
        "### 2.1 기본 SELECT 문\n"
      ]
    },
    {
      "cell_type": "code",
      "execution_count": null,
      "metadata": {},
      "outputs": [],
      "source": [
        "%%sql\n",
        "-- emp테이블의 내용을 다 보여줌 - 14건 \n",
        "SELECT * FROM emp;\n"
      ]
    },
    {
      "cell_type": "code",
      "execution_count": null,
      "metadata": {},
      "outputs": [],
      "source": [
        "%%sql\n",
        "-- 데이터 전체 몇건인가?\n",
        "SELECT count(*) FROM emp;\n"
      ]
    },
    {
      "cell_type": "markdown",
      "metadata": {
        "vscode": {
          "languageId": "raw"
        }
      },
      "source": [
        "### 2.2 테이블 별명(Aliasing)\n",
        "\n",
        "테이블명을 수정해서 부를 수 있다. information_schema DB에 사용자가 만드는 테이블 정보가 저장된다. \n",
        "aliasing을 안쓰면 저 DB 다 검색해서 정보를 읽어오고 aliasing을 하면 캐시를 해서 DB정보를 메모리에 불러놓고 작업 속도가 유리하다.\n"
      ]
    },
    {
      "cell_type": "code",
      "execution_count": null,
      "metadata": {},
      "outputs": [],
      "source": [
        "%%sql\n",
        "-- 테이블 별명 사용\n",
        "SELECT empno, ename, job \n",
        "FROM emp AS e;\n"
      ]
    },
    {
      "cell_type": "markdown",
      "metadata": {
        "vscode": {
          "languageId": "raw"
        }
      },
      "source": [
        "### 2.3 NULL 값 처리\n",
        "\n",
        "null 값은 \"알수없는\" 값으로, 파이썬의 None과 비슷하며 수학적으로 무한대의 의미를 갖는다.\n",
        "- null + 1 => null (무한대)\n",
        "- null - 1 => null (무한대)\n",
        "- null값에 연산을 하면 결과는 null\n",
        "\n",
        "**IFNULL(필드명, 기본값)**: 필드명에서 값이 NULL이 아닌값이 오면 그 값을 주고 NULL이면 기본값을 부여한다.\n"
      ]
    },
    {
      "cell_type": "code",
      "execution_count": null,
      "metadata": {},
      "outputs": [],
      "source": [
        "%%sql\n",
        "-- 연산을 통해서 새로운 컬럼을 만들고 필드명 별명 부여\n",
        "SELECT EMPNO, SAL, COMM, SAL+IFNULL(COMM, 0) as total_sal \n",
        "FROM EMP;\n"
      ]
    },
    {
      "cell_type": "markdown",
      "metadata": {
        "vscode": {
          "languageId": "raw"
        }
      },
      "source": [
        "### 2.4 WHERE 조건절\n",
        "\n",
        "조건절 문법:\n",
        "```sql\n",
        "SELECT 필드들\n",
        "FROM 테이블명 \n",
        "WHERE 조건절   -- 해당조건에 만족하는 데이터\n",
        "               -- =  !=  >  <  >=  <=\n",
        "               -- 논리연산자 and, or, not\n",
        "```\n"
      ]
    },
    {
      "cell_type": "code",
      "execution_count": null,
      "metadata": {},
      "outputs": [],
      "source": [
        "%%sql\n",
        "-- 이름이 SMITH인 사람만 조회\n",
        "SELECT * FROM emp WHERE ename='SMITH';\n"
      ]
    },
    {
      "cell_type": "code",
      "execution_count": null,
      "metadata": {},
      "outputs": [],
      "source": [
        "%%sql\n",
        "-- 급여가 2000 이상 5000 이하인 사원을 조회하시오.\n",
        "SELECT * FROM emp WHERE sal>=2000 AND sal<=5000;\n"
      ]
    },
    {
      "cell_type": "markdown",
      "metadata": {
        "vscode": {
          "languageId": "raw"
        }
      },
      "source": [
        "### 2.5 LIKE 연산자와 와일드카드\n",
        "\n",
        "와일드카드:\n",
        "- `_` : 한 글자\n",
        "- `%` : 여러 글자 (0개 이상)\n"
      ]
    },
    {
      "cell_type": "code",
      "execution_count": null,
      "metadata": {},
      "outputs": [],
      "source": [
        "%%sql\n",
        "-- 'A'로 시작하는 이름을 가진 사원을 조회하시오.\n",
        "SELECT * FROM emp WHERE ename LIKE 'A%';\n"
      ]
    },
    {
      "cell_type": "markdown",
      "metadata": {
        "vscode": {
          "languageId": "raw"
        }
      },
      "source": [
        "## 3. Sakila 데이터베이스 기초\n",
        "\n",
        "### 3.1 Sakila 데이터베이스 설정\n",
        "\n",
        "Sakila 데이터베이스 백업 및 복원 방법:\n",
        "```bash\n",
        "# 백업\n",
        "mysql -u root -p DB이름 > ... sql 백업\n",
        "\n",
        "# 복원\n",
        "mysql -u root -p < /경로/사킬라/sakila-schema.sql\n",
        "mysql -u root -p < /경로/사킬라/sakila-data.sql\n",
        "```\n"
      ]
    },
    {
      "cell_type": "code",
      "execution_count": null,
      "metadata": {},
      "outputs": [],
      "source": [
        "%%sql\n",
        "USE sakila;\n",
        "\n",
        "-- actor 테이블 구조 확인\n",
        "DESC actor;\n"
      ]
    },
    {
      "cell_type": "code",
      "execution_count": null,
      "metadata": {},
      "outputs": [],
      "source": [
        "%%sql\n",
        "-- LIMIT 사용법 (offset, 개수)\n",
        "SELECT * FROM actor LIMIT 0, 10;\n"
      ]
    },
    {
      "cell_type": "markdown",
      "metadata": {
        "vscode": {
          "languageId": "raw"
        }
      },
      "source": [
        "## 4. Sakila 기초 조회 연습\n",
        "\n",
        "### 4.1 기초 조회 문제들\n"
      ]
    },
    {
      "cell_type": "code",
      "execution_count": null,
      "metadata": {},
      "outputs": [],
      "source": [
        "%%sql\n",
        "-- 1. 모든 배우(Actor)의 이름과 성을 조회하시오.\n",
        "SELECT first_name, last_name FROM actor;\n"
      ]
    },
    {
      "cell_type": "code",
      "execution_count": null,
      "metadata": {},
      "outputs": [],
      "source": [
        "%%sql\n",
        "-- 2. 배우 테이블에서 성(last_name)이 'DAVIS'인 사람을 모두 찾으시오.\n",
        "SELECT * FROM actor WHERE last_name = 'DAVIS';\n"
      ]
    },
    {
      "cell_type": "code",
      "execution_count": null,
      "metadata": {},
      "outputs": [],
      "source": [
        "%%sql\n",
        "-- 8. 'Comedy' 카테고리에 속한 영화 제목을 모두 조회하시오.\n",
        "SELECT f.title \n",
        "FROM film f\n",
        "JOIN film_category fc ON f.film_id = fc.film_id\n",
        "JOIN category c ON fc.category_id = c.category_id\n",
        "WHERE c.name = 'Comedy';\n"
      ]
    },
    {
      "cell_type": "markdown",
      "metadata": {
        "vscode": {
          "languageId": "raw"
        }
      },
      "source": [
        "## 5. Sakila 추가 연습 문제\n",
        "\n",
        "### 5.1 기본 조회 연습\n"
      ]
    },
    {
      "cell_type": "code",
      "execution_count": null,
      "metadata": {},
      "outputs": [],
      "source": [
        "%%sql\n",
        "-- 1. film 테이블에서 영화 제목과 대여 요금을 조회하시오.\n",
        "SELECT title, rental_rate\n",
        "FROM film\n",
        "LIMIT 10;\n"
      ]
    },
    {
      "cell_type": "code",
      "execution_count": null,
      "metadata": {},
      "outputs": [],
      "source": [
        "%%sql\n",
        "-- 12. customer 테이블에서 store_id = 1이고, customer_id가 562, 580, 470, 363, 364인 고객을 찾으시오.\n",
        "SELECT *\n",
        "FROM customer\n",
        "WHERE store_id = 1 AND customer_id IN (562, 580, 470, 363, 364);\n"
      ]
    },
    {
      "cell_type": "markdown",
      "metadata": {
        "vscode": {
          "languageId": "raw"
        }
      },
      "source": [
        "## 정리\n",
        "\n",
        "이 노트북에서는 다음 내용들을 다루었습니다:\n",
        "\n",
        "1. **테이블 생성 및 데이터 삽입**: EMP, DEPT 테이블 생성과 샘플 데이터 삽입\n",
        "2. **MySQL 기초 문법**: SELECT, WHERE, ORDER BY, NULL 처리, 별명(Aliasing)\n",
        "3. **조건절 사용법**: 비교 연산자, 논리 연산자, LIKE, IN, BETWEEN\n",
        "4. **Sakila 데이터베이스**: 영화 대여 시스템 데이터베이스를 활용한 실습\n",
        "5. **다양한 연습 문제**: 기초부터 응용까지 단계별 문제 해결\n",
        "\n",
        "### 주요 개념 정리:\n",
        "\n",
        "- **Primary Key**: 중복성 배제와 NULL 값 방지를 위한 제약 조건\n",
        "- **NULL 처리**: IFNULL() 함수와 IS NULL/IS NOT NULL 연산자\n",
        "- **와일드카드**: % (여러 문자), _ (한 문자)\n",
        "- **문자열 함수**: CONCAT(), SUBSTRING(), LENGTH()\n",
        "- **날짜 함수**: YEAR(), 날짜 비교 연산\n",
        "\n",
        "이러한 기초 지식을 바탕으로 더 복잡한 JOIN 연산과 고급 SQL 문법을 학습할 수 있습니다.\n"
      ]
    }
  ],
  "metadata": {
    "kernelspec": {
      "display_name": "sesac_ai",
      "language": "python",
      "name": "python3"
    },
    "language_info": {
      "codemirror_mode": {
        "name": "ipython",
        "version": 3
      },
      "file_extension": ".py",
      "mimetype": "text/x-python",
      "name": "python",
      "nbconvert_exporter": "python",
      "pygments_lexer": "ipython3",
      "version": "3.11.13"
    }
  },
  "nbformat": 4,
  "nbformat_minor": 2
}
