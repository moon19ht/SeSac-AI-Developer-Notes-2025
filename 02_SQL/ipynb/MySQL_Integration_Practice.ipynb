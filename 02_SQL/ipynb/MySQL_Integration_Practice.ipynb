{
  "cells": [
    {
      "cell_type": "markdown",
      "metadata": {
        "vscode": {
          "languageId": "raw"
        }
      },
      "source": [
        "# MySQL 연동 통합 실습\n",
        "\n",
        "이 노트북은 Python과 MySQL을 연동하여 데이터베이스 작업을 수행하는 방법을 단계별로 학습하는 자료입니다.\n",
        "\n",
        "## 목차\n",
        "1. [환경 설정 및 패키지 설치](#1.-환경-설정-및-패키지-설치)\n",
        "2. [MySQL 계정 생성 및 권한 부여](#2.-MySQL-계정-생성-및-권한-부여)\n",
        "3. [기본 연결 및 데이터 조회](#3.-기본-연결-및-데이터-조회)\n",
        "4. [다양한 데이터 가져오기 방법](#4.-다양한-데이터-가져오기-방법)\n",
        "5. [Dictionary 커서 사용](#5.-Dictionary-커서-사용)\n",
        "6. [데이터 삽입(INSERT) 실습](#6.-데이터-삽입(INSERT)-실습)\n",
        "7. [완전한 CRUD 시스템](#7.-완전한-CRUD-시스템)\n",
        "8. [성적 관리 시스템 예제](#8.-성적-관리-시스템-예제)\n"
      ]
    },
    {
      "cell_type": "markdown",
      "metadata": {
        "vscode": {
          "languageId": "raw"
        }
      },
      "source": [
        "## 1. 환경 설정 및 패키지 설치\n",
        "\n",
        "Python에서 MySQL을 사용하기 위해 필요한 패키지를 설치합니다.\n"
      ]
    },
    {
      "cell_type": "code",
      "execution_count": null,
      "metadata": {},
      "outputs": [],
      "source": [
        "# 필요한 패키지 설치 (터미널에서 실행)\n",
        "# conda activate myenv1 \n",
        "# pip install pymysql \n",
        "# MySQL 8부터 문제 있을 경우: pip install cryptography \n",
        "\n",
        "# 패키지 import\n",
        "import pymysql\n",
        "print(\"PyMySQL 패키지가 성공적으로 import되었습니다!\")\n"
      ]
    },
    {
      "cell_type": "markdown",
      "metadata": {
        "vscode": {
          "languageId": "raw"
        }
      },
      "source": [
        "## 2. MySQL 계정 생성 및 권한 부여\n",
        "\n",
        "Python에서 MySQL에 접속하기 위해 전용 계정을 생성하고 권한을 부여합니다.\n",
        "\n",
        "### MySQL 관리자(root) 계정으로 접속하여 다음 명령어를 실행하세요:\n"
      ]
    },
    {
      "cell_type": "code",
      "execution_count": null,
      "metadata": {},
      "outputs": [],
      "source": [
        "# MySQL에서 실행할 계정 생성 및 권한 부여 명령어\n",
        "sql_commands = \"\"\"\n",
        "-- 계정 생성 (localhost에서만 접근 가능)\n",
        "-- localhost = 루프백주소(127.0.0.1)\n",
        "-- 'user02'@'localhost'로 로컬서버만 접근가능한 계정입니다\n",
        "\n",
        "CREATE USER 'user02'@'localhost' IDENTIFIED BY 'qwer1234';\n",
        "\n",
        "-- 권한 부여 (mydb 데이터베이스의 모든 테이블에 대한 모든 권한)\n",
        "GRANT ALL PRIVILEGES ON mydb.* TO 'user02'@'localhost';\n",
        "\n",
        "-- 권한 새로고침\n",
        "FLUSH PRIVILEGES;\n",
        "\"\"\"\n",
        "\n",
        "print(\"MySQL에서 다음 명령어를 실행하세요:\")\n",
        "print(sql_commands)\n"
      ]
    },
    {
      "cell_type": "markdown",
      "metadata": {
        "vscode": {
          "languageId": "raw"
        }
      },
      "source": [
        "## 3. 기본 연결 및 데이터 조회\n",
        "\n",
        "Python에서 MySQL에 연결하고 기본적인 데이터 조회를 수행합니다.\n",
        "\n",
        "### 기본 연결 과정:\n",
        "1. 데이터베이스 연결\n",
        "2. 커서 생성\n",
        "3. 쿼리 실행\n",
        "4. 결과 조회\n",
        "5. 연결 종료\n"
      ]
    },
    {
      "cell_type": "code",
      "execution_count": null,
      "metadata": {},
      "outputs": [],
      "source": [
        "# MySQL 연결 설정\n",
        "conn = pymysql.connect(\n",
        "    host='localhost',      # IP 주소 (localhost = 127.0.0.1)\n",
        "    user='user02',         # 사용자 ID\n",
        "    password='qwer1234',   # 비밀번호\n",
        "    db='mydb',            # 데이터베이스명\n",
        "    port=3306             # 포트번호 (기본값: 3306)\n",
        ")\n",
        "\n",
        "# 커서 생성 (기본 tuple 타입)\n",
        "cursor = conn.cursor()\n",
        "print(\"MySQL 접속 성공!\")\n",
        "\n",
        "# 연결 정보 확인\n",
        "print(f\"연결된 데이터베이스: {conn.db}\")\n",
        "print(\"PyMySQL을 통한 MySQL 연결이 완료되었습니다.\")\n"
      ]
    },
    {
      "cell_type": "markdown",
      "metadata": {
        "vscode": {
          "languageId": "raw"
        }
      },
      "source": [
        "## 4. 다양한 데이터 가져오기 방법\n",
        "\n",
        "PyMySQL에서 제공하는 다양한 데이터 가져오기 방법을 학습합니다.\n",
        "\n",
        "- `fetchall()`: 모든 데이터 가져오기\n",
        "- `fetchone()`: 한 건의 데이터 가져오기  \n",
        "- `fetchmany(n)`: 지정한 개수만큼 가져오기\n"
      ]
    },
    {
      "cell_type": "code",
      "execution_count": null,
      "metadata": {},
      "outputs": [],
      "source": [
        "# 1. fetchall() - 모든 데이터 가져오기\n",
        "print(\"=== 1. fetchall() - 모든 데이터 가져오기 ===\")\n",
        "sql = \"SELECT * FROM emp\"\n",
        "cursor.execute(sql)\n",
        "rows = cursor.fetchall()  # 데이터를 tuple 타입으로 가져온다\n",
        "\n",
        "print(f\"총 {len(rows)}건의 데이터가 조회되었습니다.\")\n",
        "for row in rows:\n",
        "    print(f\"데이터 타입: {type(row)}, 내용: {row}\")\n",
        "    if len(rows) > 5:  # 데이터가 많을 경우 5개만 출력\n",
        "        break\n"
      ]
    },
    {
      "cell_type": "code",
      "execution_count": null,
      "metadata": {},
      "outputs": [],
      "source": [
        "# 2. fetchone() - 한 건의 데이터 가져오기\n",
        "print(\"\\n=== 2. fetchone() - 한 건의 데이터 가져오기 ===\")\n",
        "sql = \"SELECT * FROM emp WHERE empno = 7369\"\n",
        "cursor.execute(sql)\n",
        "row = cursor.fetchone()\n",
        "\n",
        "if row:\n",
        "    print(f\"조회된 데이터: {row}\")\n",
        "else:\n",
        "    print(\"데이터가 없습니다.\")\n"
      ]
    },
    {
      "cell_type": "code",
      "execution_count": null,
      "metadata": {},
      "outputs": [],
      "source": [
        "# 3. fetchmany(n) - 지정한 개수만큼 가져오기\n",
        "print(\"\\n=== 3. fetchmany(3) - 3개만 가져오기 ===\")\n",
        "sql = \"SELECT * FROM emp WHERE empno < 8000\"\n",
        "cursor.execute(sql)\n",
        "rows = cursor.fetchmany(3)  # 앞에서 3개만\n",
        "\n",
        "print(f\"조회된 데이터 {len(rows)}건:\")\n",
        "for i, row in enumerate(rows, 1):\n",
        "    print(f\"{i}. {row}\")\n"
      ]
    },
    {
      "cell_type": "markdown",
      "metadata": {
        "vscode": {
          "languageId": "raw"
        }
      },
      "source": [
        "## 5. Dictionary 커서 사용\n",
        "\n",
        "기본 커서는 데이터를 tuple 타입으로 반환하여 인덱싱과 슬라이싱만 지원합니다.  \n",
        "Dictionary 커서를 사용하면 컬럼명으로 데이터에 접근할 수 있어 더 편리합니다.\n",
        "\n",
        "**장점:**\n",
        "- `row[\"컬럼명\"]` 형태로 직관적인 접근 가능\n",
        "- 코드 가독성 향상\n",
        "- 컬럼 순서 변경에 영향받지 않음\n"
      ]
    },
    {
      "cell_type": "code",
      "execution_count": null,
      "metadata": {},
      "outputs": [],
      "source": [
        "# Dictionary 커서 생성 및 사용\n",
        "print(\"=== Dictionary 커서 사용 예제 ===\")\n",
        "\n",
        "# Dictionary 커서를 위한 import\n",
        "from pymysql.cursors import DictCursor\n",
        "\n",
        "# Dictionary 커서로 변경\n",
        "cursor = conn.cursor(DictCursor)\n",
        "\n",
        "# 특정 사원 정보 조회\n",
        "ename = \"SCOTT\"\n",
        "sql = \"SELECT empno, ename, sal FROM emp WHERE ename = %s\"\n",
        "print(f\"실행할 SQL: {sql}\")\n",
        "print(f\"검색할 이름: {ename}\")\n",
        "\n",
        "cursor.execute(sql, (ename,))  # 매개변수화 쿼리 사용 (SQL 인젝션 방지)\n",
        "rows = cursor.fetchall()\n",
        "\n",
        "print(f\"\\n조회된 데이터 개수: {len(rows)}\")\n",
        "for row in rows:\n",
        "    # Dictionary 형태로 접근 가능\n",
        "    print(f\"사원번호: {row.get('empno')}, 이름: {row.get('ename')}, 급여: {row.get('sal')}\")\n"
      ]
    },
    {
      "cell_type": "markdown",
      "metadata": {
        "vscode": {
          "languageId": "raw"
        }
      },
      "source": [
        "## 6. 데이터 삽입(INSERT) 실습\n",
        "\n",
        "데이터베이스에 새로운 데이터를 삽입하는 방법을 학습합니다.\n",
        "\n",
        "### 중요사항:\n",
        "- INSERT, UPDATE, DELETE 작업 후에는 반드시 `commit()`을 호출해야 합니다.\n",
        "- 매개변수화 쿼리를 사용하여 SQL 인젝션을 방지합니다.\n",
        "- `%s` 플레이스홀더를 사용합니다. (MySQL에서는 `?` 대신 `%s` 사용)\n"
      ]
    },
    {
      "cell_type": "code",
      "execution_count": null,
      "metadata": {},
      "outputs": [],
      "source": [
        "# 1. 다음 사원번호 조회 (max 함수 활용)\n",
        "print(\"=== 데이터 삽입 실습 ===\")\n",
        "\n",
        "# max 함수가 데이터가 한 건도 없을 때 null을 반환하므로 ifnull 사용\n",
        "sql = \"SELECT IFNULL(MAX(empno), 0) + 1 AS next_id FROM emp\"\n",
        "cursor.execute(sql)\n",
        "row = cursor.fetchone()\n",
        "\n",
        "if row:\n",
        "    next_empno = row.get('next_id', 1)  # 기본값으로 1 설정\n",
        "    print(f\"다음 사원번호: {next_empno}\")\n",
        "    \n",
        "    # 2. 새로운 사원 데이터 삽입\n",
        "    sql = \"\"\"\n",
        "        INSERT INTO emp(empno, ename, sal)\n",
        "        VALUES(%s, %s, %s) \n",
        "    \"\"\"\n",
        "    \n",
        "    # 매개변수화 쿼리로 안전하게 데이터 삽입\n",
        "    cursor.execute(sql, (next_empno, '김철수', 5000))\n",
        "    \n",
        "    # 반드시 commit을 해야 실제 데이터베이스에 반영됩니다!\n",
        "    conn.commit()\n",
        "    \n",
        "    print(f\"새로운 사원이 추가되었습니다: 사원번호 {next_empno}, 이름: 김철수, 급여: 5000\")\n",
        "else:\n",
        "    print(\"사원번호 조회에 실패했습니다.\")\n"
      ]
    },
    {
      "cell_type": "markdown",
      "metadata": {
        "vscode": {
          "languageId": "raw"
        }
      },
      "source": [
        "## 7. 완전한 CRUD 시스템\n",
        "\n",
        "CRUD(Create, Read, Update, Delete) 기능을 모두 포함한 완전한 데이터 관리 시스템을 구현합니다.\n",
        "\n",
        "### CRUD 기능:\n",
        "- **C**reate: 데이터 생성 (INSERT)\n",
        "- **R**ead: 데이터 조회 (SELECT)  \n",
        "- **U**pdate: 데이터 수정 (UPDATE)\n",
        "- **D**elete: 데이터 삭제 (DELETE)\n"
      ]
    },
    {
      "cell_type": "code",
      "execution_count": null,
      "metadata": {},
      "outputs": [],
      "source": [
        "# CRUD 함수들 정의\n",
        "\n",
        "def insert_employee():\n",
        "    \"\"\"새로운 사원 추가\"\"\"\n",
        "    print(\"\\n=== 새 사원 추가 ===\")\n",
        "    name = input(\"이름: \")\n",
        "    job = input(\"직무: \")\n",
        "    sal = input(\"급여: \")\n",
        "    \n",
        "    # 다음 사원번호 생성\n",
        "    sql = \"SELECT IFNULL(MAX(empno), 0) + 1 AS next_id FROM emp\"\n",
        "    cursor.execute(sql)\n",
        "    row = cursor.fetchone()\n",
        "    next_empno = row.get('next_id', 1) if row else 1\n",
        "    \n",
        "    # 데이터 삽입\n",
        "    sql = \"\"\"\n",
        "        INSERT INTO emp(empno, ename, job, sal, hiredate)\n",
        "        VALUES (%s, %s, %s, %s, NOW())\n",
        "    \"\"\"\n",
        "    cursor.execute(sql, (next_empno, name, job, sal))\n",
        "    conn.commit()\n",
        "    \n",
        "    print(f\"사원이 추가되었습니다. (사원번호: {next_empno})\")\n",
        "\n",
        "def read_employees():\n",
        "    \"\"\"사원 목록 조회\"\"\"\n",
        "    print(\"\\n=== 사원 목록 ===\")\n",
        "    sql = \"\"\"\n",
        "        SELECT empno, ename, job, sal, hiredate\n",
        "        FROM emp\n",
        "        ORDER BY empno\n",
        "    \"\"\"\n",
        "    cursor.execute(sql)\n",
        "    rows = cursor.fetchall()\n",
        "    \n",
        "    if rows:\n",
        "        print(f\"{'사원번호':<8} {'이름':<10} {'직무':<10} {'급여':<8} {'입사일'}\")\n",
        "        print(\"-\" * 50)\n",
        "        for row in rows:\n",
        "            print(f\"{row.get('empno', ''):<8} {row.get('ename', ''):<10} {row.get('job', ''):<10} {row.get('sal', ''):<8} {row.get('hiredate', '')}\")\n",
        "    else:\n",
        "        print(\"등록된 사원이 없습니다.\")\n",
        "\n",
        "def update_employee():\n",
        "    \"\"\"사원 정보 수정\"\"\"\n",
        "    print(\"\\n=== 사원 정보 수정 ===\")\n",
        "    empno = input(\"수정할 사원번호: \")\n",
        "    name = input(\"새 이름: \")\n",
        "    job = input(\"새 직무: \")\n",
        "    sal = input(\"새 급여: \")\n",
        "    \n",
        "    sql = \"\"\"\n",
        "        UPDATE emp\n",
        "        SET ename = %s, job = %s, sal = %s\n",
        "        WHERE empno = %s\n",
        "    \"\"\"\n",
        "    result = cursor.execute(sql, (name, job, sal, empno))\n",
        "    conn.commit()\n",
        "    \n",
        "    if cursor.rowcount > 0:\n",
        "        print(f\"사원번호 {empno}의 정보가 수정되었습니다.\")\n",
        "    else:\n",
        "        print(\"해당 사원을 찾을 수 없습니다.\")\n",
        "\n",
        "def delete_employee():\n",
        "    \"\"\"사원 삭제\"\"\"\n",
        "    print(\"\\n=== 사원 삭제 ===\")\n",
        "    empno = input(\"삭제할 사원번호: \")\n",
        "    \n",
        "    # 삭제 전 확인\n",
        "    sql = \"SELECT ename FROM emp WHERE empno = %s\"\n",
        "    cursor.execute(sql, (empno,))\n",
        "    row = cursor.fetchone()\n",
        "    \n",
        "    if row:\n",
        "        confirm = input(f\"'{row.get('ename')}'님을 정말 삭제하시겠습니까? (y/N): \")\n",
        "        if confirm.lower() == 'y':\n",
        "            sql = \"DELETE FROM emp WHERE empno = %s\"\n",
        "            cursor.execute(sql, (empno,))\n",
        "            conn.commit()\n",
        "            print(\"사원이 삭제되었습니다.\")\n",
        "        else:\n",
        "            print(\"삭제가 취소되었습니다.\")\n",
        "    else:\n",
        "        print(\"해당 사원을 찾을 수 없습니다.\")\n",
        "\n",
        "print(\"CRUD 함수들이 정의되었습니다.\")\n"
      ]
    },
    {
      "cell_type": "markdown",
      "metadata": {
        "vscode": {
          "languageId": "raw"
        }
      },
      "source": [
        "## 8. 성적 관리 시스템 예제\n",
        "\n",
        "학생의 성적을 관리하는 완전한 시스템 예제입니다. (원본 mysql연동3.py 기반)\n",
        "\n",
        "### 기능:\n",
        "1. 성적 목록 조회\n",
        "2. 새 성적 추가\n",
        "3. 성적 수정\n",
        "4. 성적 삭제\n",
        "\n",
        "### 주의사항:\n",
        "- `tb_score` 테이블이 미리 생성되어 있어야 합니다.\n",
        "- 실제 실행하려면 테이블 구조에 맞게 코드를 수정해야 할 수 있습니다.\n"
      ]
    },
    {
      "cell_type": "code",
      "execution_count": null,
      "metadata": {},
      "outputs": [],
      "source": [
        "# 성적 관리 시스템 함수들\n",
        "\n",
        "def insert_score():\n",
        "    \"\"\"새 성적 추가\"\"\"\n",
        "    print(\"\\n=== 성적 추가 ===\")\n",
        "    name = input(\"이름: \")\n",
        "    kor = input(\"국어: \")\n",
        "    eng = input(\"영어: \")\n",
        "    mat = input(\"수학: \")\n",
        "    \n",
        "    sql = \"\"\"\n",
        "        INSERT INTO tb_score(name, kor, eng, mat, regdate)\n",
        "        VALUES (%s, %s, %s, %s, NOW())\n",
        "    \"\"\"\n",
        "    try:\n",
        "        cursor.execute(sql, (name, kor, eng, mat))\n",
        "        conn.commit()  # 반드시 해야 한다\n",
        "        print(\"성적이 추가되었습니다.\")\n",
        "    except Exception as e:\n",
        "        print(f\"성적 추가 중 오류 발생: {e}\")\n",
        "\n",
        "def update_score():\n",
        "    \"\"\"성적 수정\"\"\"\n",
        "    print(\"\\n=== 성적 수정 ===\")\n",
        "    score_id = input(\"수정할 아이디: \")\n",
        "    name = input(\"이름: \")\n",
        "    kor = input(\"국어: \")\n",
        "    eng = input(\"영어: \")\n",
        "    mat = input(\"수학: \")\n",
        "    \n",
        "    sql = \"\"\"\n",
        "        UPDATE tb_score\n",
        "        SET name = %s, kor = %s, eng = %s, mat = %s\n",
        "        WHERE id = %s\n",
        "    \"\"\"\n",
        "    try:\n",
        "        cursor.execute(sql, (name, kor, eng, mat, score_id))\n",
        "        conn.commit()\n",
        "        if cursor.rowcount > 0:\n",
        "            print(\"성적이 수정되었습니다.\")\n",
        "        else:\n",
        "            print(\"해당 ID를 찾을 수 없습니다.\")\n",
        "    except Exception as e:\n",
        "        print(f\"성적 수정 중 오류 발생: {e}\")\n",
        "\n",
        "def delete_score():\n",
        "    \"\"\"성적 삭제\"\"\"\n",
        "    print(\"\\n=== 성적 삭제 ===\")\n",
        "    score_id = input(\"삭제할 아이디: \")\n",
        "    \n",
        "    sql = \"DELETE FROM tb_score WHERE id = %s\"\n",
        "    try:\n",
        "        cursor.execute(sql, (score_id,))\n",
        "        conn.commit()\n",
        "        if cursor.rowcount > 0:\n",
        "            print(\"성적이 삭제되었습니다.\")\n",
        "        else:\n",
        "            print(\"해당 ID를 찾을 수 없습니다.\")\n",
        "    except Exception as e:\n",
        "        print(f\"성적 삭제 중 오류 발생: {e}\")\n",
        "\n",
        "def show_scores():\n",
        "    \"\"\"성적 목록 조회\"\"\"\n",
        "    print(\"\\n=== 성적 목록 ===\")\n",
        "    sql = \"\"\"\n",
        "        SELECT id, name, kor, eng, mat,\n",
        "               (kor + eng + mat) AS total,\n",
        "               (kor + eng + mat) / 3 AS avg,\n",
        "               regdate\n",
        "        FROM tb_score\n",
        "        ORDER BY id\n",
        "    \"\"\"\n",
        "    try:\n",
        "        cursor.execute(sql)\n",
        "        rows = cursor.fetchall()\n",
        "        \n",
        "        if rows:\n",
        "            print(f\"{'ID':<4} {'이름':<8} {'국어':<4} {'영어':<4} {'수학':<4} {'총점':<4} {'평균':<6} {'등록일'}\")\n",
        "            print(\"-\" * 60)\n",
        "            for row in rows:\n",
        "                avg_score = f\"{row.get('avg', 0):.1f}\" if row.get('avg') else \"0.0\"\n",
        "                print(f\"{row.get('id', ''):<4} {row.get('name', ''):<8} {row.get('kor', ''):<4} {row.get('eng', ''):<4} {row.get('mat', ''):<4} {row.get('total', ''):<4} {avg_score:<6} {row.get('regdate', '')}\")\n",
        "        else:\n",
        "            print(\"등록된 성적이 없습니다.\")\n",
        "    except Exception as e:\n",
        "        print(f\"성적 조회 중 오류 발생: {e}\")\n",
        "\n",
        "def score_management_menu():\n",
        "    \"\"\"성적 관리 메뉴 시스템\"\"\"\n",
        "    print(\"\\\\n=== 성적 관리 시스템 ===\")\n",
        "    print(\"주의: 실제 실행하려면 tb_score 테이블이 필요합니다.\")\n",
        "    print(\"테이블 구조: id(AUTO_INCREMENT), name(VARCHAR), kor(INT), eng(INT), mat(INT), regdate(DATETIME)\")\n",
        "    \n",
        "    # 실제 메뉴는 주석으로 제공 (테이블이 없을 수 있으므로)\n",
        "    menu_code = '''\n",
        "    while True:\n",
        "        sel = input(\"1.목록 2.추가 3.수정 4.삭제 0.종료: \")\n",
        "        if sel == \"1\":\n",
        "            show_scores()\n",
        "        elif sel == \"2\":\n",
        "            insert_score()\n",
        "        elif sel == \"3\":\n",
        "            update_score()\n",
        "        elif sel == \"4\":\n",
        "            delete_score()\n",
        "        elif sel == \"0\":\n",
        "            break\n",
        "        else:\n",
        "            print(\"잘못된 선택입니다.\")\n",
        "    '''\n",
        "    print(\"메뉴 실행 코드:\")\n",
        "    print(menu_code)\n",
        "\n",
        "print(\"성적 관리 시스템 함수들이 정의되었습니다.\")\n"
      ]
    },
    {
      "cell_type": "markdown",
      "metadata": {
        "vscode": {
          "languageId": "raw"
        }
      },
      "source": [
        "## 9. 연결 종료 및 정리\n",
        "\n",
        "데이터베이스 작업이 완료되면 반드시 연결을 종료해야 합니다.\n"
      ]
    },
    {
      "cell_type": "code",
      "execution_count": null,
      "metadata": {},
      "outputs": [],
      "source": [
        "# 데이터베이스 연결 종료\n",
        "def close_connection():\n",
        "    \"\"\"데이터베이스 연결 종료\"\"\"\n",
        "    if conn:\n",
        "        conn.close()\n",
        "        print(\"MySQL 연결이 종료되었습니다.\")\n",
        "\n",
        "# 실제 연결 종료 (필요시 실행)\n",
        "# close_connection()\n",
        "\n",
        "print(\"연결 종료 함수가 정의되었습니다.\")\n",
        "print(\"실제 종료하려면 close_connection()을 호출하세요.\")\n"
      ]
    },
    {
      "cell_type": "markdown",
      "metadata": {
        "vscode": {
          "languageId": "raw"
        }
      },
      "source": [
        "## 10. 요약 및 주요 포인트\n",
        "\n",
        "이 노트북에서 학습한 내용을 정리합니다.\n",
        "\n",
        "### 주요 학습 내용:\n",
        "\n",
        "1. **환경 설정**: PyMySQL 패키지 설치 및 import\n",
        "2. **계정 관리**: MySQL 사용자 계정 생성 및 권한 부여\n",
        "3. **연결 관리**: 데이터베이스 연결, 커서 생성, 연결 종료\n",
        "4. **데이터 조회**: fetchall(), fetchone(), fetchmany() 활용\n",
        "5. **Dictionary 커서**: 컬럼명으로 데이터 접근\n",
        "6. **CRUD 작업**: Create, Read, Update, Delete 구현\n",
        "7. **트랜잭션**: commit() 사용법\n",
        "8. **보안**: 매개변수화 쿼리로 SQL 인젝션 방지\n",
        "\n",
        "### 핵심 원칙:\n",
        "\n",
        "#### 1. 연결 관리\n",
        "```python\n",
        "# 연결\n",
        "conn = pymysql.connect(host, user, password, db, port)\n",
        "cursor = conn.cursor(DictCursor)\n",
        "\n",
        "# 작업 수행\n",
        "cursor.execute(sql, params)\n",
        "\n",
        "# 연결 종료\n",
        "conn.close()\n",
        "```\n",
        "\n",
        "#### 2. 트랜잭션 관리\n",
        "- **SELECT**: commit 불필요\n",
        "- **INSERT/UPDATE/DELETE**: 반드시 `conn.commit()` 호출\n",
        "\n",
        "#### 3. 보안 (SQL 인젝션 방지)\n",
        "```python\n",
        "# 나쁜 예 (SQL 인젝션 위험)\n",
        "sql = f\"SELECT * FROM emp WHERE name = '{name}'\"\n",
        "\n",
        "# 좋은 예 (매개변수화 쿼리)\n",
        "sql = \"SELECT * FROM emp WHERE name = %s\"\n",
        "cursor.execute(sql, (name,))\n",
        "```\n",
        "\n",
        "#### 4. 에러 처리\n",
        "```python\n",
        "try:\n",
        "    cursor.execute(sql, params)\n",
        "    conn.commit()\n",
        "except Exception as e:\n",
        "    print(f\"오류 발생: {e}\")\n",
        "    conn.rollback()  # 필요시 롤백\n",
        "```\n",
        "\n",
        "### 추가 학습 권장사항:\n",
        "\n",
        "1. **커넥션 풀링**: 대량 접속 시 성능 향상\n",
        "2. **ORM 도구**: SQLAlchemy, Django ORM 등\n",
        "3. **비동기 처리**: aiomysql 등 비동기 라이브러리\n",
        "4. **데이터베이스 설계**: 정규화, 인덱스 설계\n",
        "5. **성능 최적화**: 쿼리 최적화, 인덱스 활용\n",
        "\n",
        "이제 Python과 MySQL을 활용한 데이터베이스 프로그래밍의 기초를 마스터했습니다!\n"
      ]
    }
  ],
  "metadata": {
    "kernelspec": {
      "display_name": "sesac_ai",
      "language": "python",
      "name": "python3"
    },
    "language_info": {
      "codemirror_mode": {
        "name": "ipython",
        "version": 3
      },
      "file_extension": ".py",
      "mimetype": "text/x-python",
      "name": "python",
      "nbconvert_exporter": "python",
      "pygments_lexer": "ipython3",
      "version": "3.11.13"
    }
  },
  "nbformat": 4,
  "nbformat_minor": 2
}
