{
 "cells": [
  {
   "cell_type": "markdown",
   "metadata": {},
   "source": [
    "# 지금까지 과정의 복습"
   ]
  },
  {
   "cell_type": "code",
   "execution_count": 1,
   "metadata": {
    "colab": {
     "base_uri": "https://localhost:8080/"
    },
    "executionInfo": {
     "elapsed": 16,
     "status": "ok",
     "timestamp": 1746152434491,
     "user": {
      "displayName": "hs back",
      "userId": "12198503322139656136"
     },
     "user_tz": -540
    },
    "id": "PLG6scxHycsO",
    "outputId": "eb406e01-b204-4a93-ef08-fb407d093e72"
   },
   "outputs": [
    {
     "name": "stdout",
     "output_type": "stream",
     "text": [
      "30\n"
     ]
    }
   ],
   "source": [
    "a=10\n",
    "b=20\n",
    "print(a+b)"
   ]
  },
  {
   "cell_type": "code",
   "execution_count": 2,
   "metadata": {
    "colab": {
     "base_uri": "https://localhost:8080/"
    },
    "executionInfo": {
     "elapsed": 8,
     "status": "ok",
     "timestamp": 1746152496009,
     "user": {
      "displayName": "hs back",
      "userId": "12198503322139656136"
     },
     "user_tz": -540
    },
    "id": "09E6giK0zGhC",
    "outputId": "6d9ada36-b524-4c64-9bf5-053d386704d8"
   },
   "outputs": [
    {
     "name": "stdout",
     "output_type": "stream",
     "text": [
      "Hello\n"
     ]
    }
   ],
   "source": [
    "print(\"Hello\")"
   ]
  },
  {
   "cell_type": "code",
   "execution_count": 4,
   "metadata": {
    "colab": {
     "base_uri": "https://localhost:8080/"
    },
    "executionInfo": {
     "elapsed": 218,
     "status": "ok",
     "timestamp": 1746152651583,
     "user": {
      "displayName": "hs back",
      "userId": "12198503322139656136"
     },
     "user_tz": -540
    },
    "id": "JEs8V2hQze3o",
    "outputId": "80668496-80a6-4464-8757-ed24d13f83d7"
   },
   "outputs": [
    {
     "name": "stdout",
     "output_type": "stream",
     "text": [
      "sample_data\n",
      "total 16\n",
      "drwxr-xr-x 1 root root 4096 Apr 30 13:37 .\n",
      "drwxr-xr-x 1 root root 4096 May  2 02:19 ..\n",
      "drwxr-xr-x 4 root root 4096 Apr 30 13:37 .config\n",
      "drwxr-xr-x 1 root root 4096 Apr 30 13:37 sample_data\n"
     ]
    }
   ],
   "source": [
    "!ls #! 리눅스 명령어 - 서버 명령어 실행\n",
    "!ls -al"
   ]
  },
  {
   "cell_type": "code",
   "execution_count": 19,
   "metadata": {
    "colab": {
     "base_uri": "https://localhost:8080/"
    },
    "executionInfo": {
     "elapsed": 43,
     "status": "ok",
     "timestamp": 1746153617826,
     "user": {
      "displayName": "hs back",
      "userId": "12198503322139656136"
     },
     "user_tz": -540
    },
    "id": "jW7-7KT41IAW",
    "outputId": "5f3e2722-1562-432a-828a-2b83b46c04d7"
   },
   "outputs": [
    {
     "name": "stdout",
     "output_type": "stream",
     "text": [
      "10 + 3 = 13\n",
      "10 - 3 = 7\n",
      "10 * 3 = 30\n",
      "10 / 3 = 3.3333333333333335\n",
      "10 // 3 = 3\n",
      "10 % 3 = 1\n",
      "10 ** 3 = 1000\n"
     ]
    }
   ],
   "source": [
    "a = 10\n",
    "b = 3\n",
    "print( f\"{a} + {b} = {a+b}\")\n",
    "print( f\"{a} - {b} = {a-b}\")\n",
    "print( f\"{a} * {b} = {a*b}\")\n",
    "print( f\"{a} / {b} = {a/b}\")\n",
    "print( f\"{a} // {b} = {a//b}\")\n",
    "print( f\"{a} % {b} = {a%b}\")\n",
    "print( f\"{a} ** {b} = {a**b}\")\n"
   ]
  },
  {
   "cell_type": "code",
   "execution_count": 20,
   "metadata": {
    "colab": {
     "base_uri": "https://localhost:8080/"
    },
    "executionInfo": {
     "elapsed": 34,
     "status": "ok",
     "timestamp": 1746159242288,
     "user": {
      "displayName": "hs back",
      "userId": "12198503322139656136"
     },
     "user_tz": -540
    },
    "id": "TitKCv_f3fsu",
    "outputId": "7fd1643e-4cba-4ea5-fdd5-6daab297fbcb"
   },
   "outputs": [
    {
     "name": "stdout",
     "output_type": "stream",
     "text": [
      "Life is too short, You need Python\n",
      "Life\n",
      "too\n",
      "L\n",
      "i\n",
      "Life is too long, You need Python\n"
     ]
    }
   ],
   "source": [
    "s =\"Life is too short, You need Python\"\n",
    "#파이썬의 문자열은 read only이다.\n",
    "print(s) #인덱싱과 슬라이싱 - 0부터 시작을 한다\n",
    "print(s[:4]) #0번부터 1,2,3 까지만 출력, 슬라이싱을 지원 다른언어 substring\n",
    "print(s[8:11])\n",
    "print(s[0]) #문자열은 인덱싱은 데이터 수정이 불가능하다.\n",
    "print(s[1])\n",
    "s = s.replace(\"short\", \"long\") #바꾼 데이터를 리턴한다.\n",
    "print(s)\n",
    "\n",
    "\n",
    "\n",
    "\n",
    "\n"
   ]
  },
  {
   "cell_type": "code",
   "execution_count": 21,
   "metadata": {
    "colab": {
     "base_uri": "https://localhost:8080/"
    },
    "executionInfo": {
     "elapsed": 5,
     "status": "ok",
     "timestamp": 1746160475818,
     "user": {
      "displayName": "hs back",
      "userId": "12198503322139656136"
     },
     "user_tz": -540
    },
    "id": "KItMJsFfM6g7",
    "outputId": "4ed3e9e4-4397-49a0-8b72-816ef61e8b39"
   },
   "outputs": [
    {
     "name": "stdout",
     "output_type": "stream",
     "text": [
      "['홍길동,90,90,80', '임꺽정,80,80,80', '장길산,100,100,90']\n",
      "[{'name': '홍길동', 'kor': '90', 'eng': '90', 'mat': '90'}, {'name': '임꺽정', 'kor': '80', 'eng': '80', 'mat': '80'}, {'name': '장길산', 'kor': '100', 'eng': '100', 'mat': '100'}]\n"
     ]
    }
   ],
   "source": [
    "data = \"\"\"\n",
    "홍길동,90,90,80\n",
    "임꺽정,80,80,80\n",
    "장길산,100,100,90\n",
    "\"\"\"\n",
    "lines = data.split(\"\\n\")\n",
    "lines = lines[1:len(lines)-1]\n",
    "print(lines)\n",
    "\n",
    "dataList=[]\n",
    "for line in lines:\n",
    "    words = line.split(\",\")\n",
    "    w = {\"name\":words[0], \"kor\":words[1], \"eng\":words[2], \"mat\":words[2]}\n",
    "    dataList.append(w)\n",
    "    #print(words)\n",
    "\n",
    "print(dataList)\n",
    "\n"
   ]
  },
  {
   "cell_type": "code",
   "execution_count": 22,
   "metadata": {
    "colab": {
     "base_uri": "https://localhost:8080/"
    },
    "executionInfo": {
     "elapsed": 14,
     "status": "ok",
     "timestamp": 1746161199826,
     "user": {
      "displayName": "hs back",
      "userId": "12198503322139656136"
     },
     "user_tz": -540
    },
    "id": "_S44H_OUSOwO",
    "outputId": "f387f55d-9dee-4af5-8c66-c5c55ee3b9ac"
   },
   "outputs": [
    {
     "name": "stdout",
     "output_type": "stream",
     "text": [
      "홍길동 23 010-0000-0001 90 90\n",
      "홍길동 23 010-0000-0001 90 90\n",
      "홍길동 23 010-0000-0001 90 90\n"
     ]
    }
   ],
   "source": [
    "name=\"홍길동\"\n",
    "age=23\n",
    "phone=\"010-0000-0001\"\n",
    "kor = 90\n",
    "eng = 90\n",
    "mat = 80\n",
    "total = kor+eng+mat\n",
    "avg = total/3\n",
    "print(\"%s %d %s %d %d\" % (name, age, phone, kor, eng) )\n",
    "print(\"{} {} {} {} {}\".format(name, age, phone, kor, eng))\n",
    "print(f\"{name} {age} {phone} {kor} {eng}\") #3.6 부터 사용 가능"
   ]
  },
  {
   "cell_type": "code",
   "execution_count": null,
   "metadata": {
    "colab": {
     "base_uri": "https://localhost:8080/"
    },
    "executionInfo": {
     "elapsed": 53,
     "status": "ok",
     "timestamp": 1746162908910,
     "user": {
      "displayName": "hs back",
      "userId": "12198503322139656136"
     },
     "user_tz": -540
    },
    "id": "kmBwHPqzUjj4",
    "outputId": "ddb2bbe9-d814-46f0-8d47-0300bf59816a"
   },
   "outputs": [
    {
     "name": "stdout",
     "output_type": "stream",
     "text": [
      "1\n",
      "4\n",
      "5\n",
      "[1, 2, 3, 4]\n",
      "[3]\n",
      "[1, 2, 3, 4, 5, 6, 7, 8, 9, 10]\n",
      "[1, 2, 3, 4, 5, 6, 7, 8, 9, 10, 11, 12, 10, 20, 30, 40]\n"
     ]
    }
   ],
   "source": [
    "# 배열 - 프로그램 수행전에 반드시 메모리를 확보해야함\n",
    "# index를 통해 읽고 쓴다. 수행도중에 크기 변화 불가\n",
    "# 연속된 메모리 공간 => 파이썬의 list 는 배열구조가 아님\n",
    "# 인덱싱과 슬라이싱을 써서 접근한다는 부분만 배열구조와 일치한다.\n",
    "\n",
    "list1 = [1,2,3,4,5,6,7,8,9,10]\n",
    "print(list1[0])\n",
    "print(list1[3])\n",
    "print(list1[4])\n",
    "print(list1[:4])\n",
    "print(list1[2:3])\n",
    "# list1[1:6]=8\n",
    "print( list1)\n",
    "list1.append(11)\n",
    "list1.append(12)\n",
    "list1.extend([10,20,30,40])\n",
    "print(list1)\n",
    "list1.clear() # 전체 삭제\n",
    "list1.insert(0, 10)\n",
    "list1.insert(1, 10)"
   ]
  },
  {
   "cell_type": "code",
   "execution_count": null,
   "metadata": {
    "colab": {
     "base_uri": "https://localhost:8080/"
    },
    "executionInfo": {
     "elapsed": 16,
     "status": "ok",
     "timestamp": 1746163887816,
     "user": {
      "displayName": "hs back",
      "userId": "12198503322139656136"
     },
     "user_tz": -540
    },
    "id": "J77LonKga4qF",
    "outputId": "5d3ad740-adb5-4e2d-bac4-b10995a3726e"
   },
   "outputs": [
    {
     "name": "stdout",
     "output_type": "stream",
     "text": [
      "[5, 10, 15, 20, 25, 30, 35, 40, 45, 50]\n",
      "[100, 90, 80, 70, 60, 50, 40, 30, 20, 10]\n",
      "[1, 2, 3, 4, 5]\n"
     ]
    }
   ],
   "source": [
    "# 리스트에 5의 배수를 10개 채우기\n",
    "a = list(range(5, 5*10+1, 5))\n",
    "print(a)\n",
    "\n",
    "# 리스트에 100부터 90, 80, 70 ... 역순으로 10까지 채워서 출력하기\n",
    "a = list(range(100, 0, -10))\n",
    "print(a)\n",
    "\n",
    "# 중복된 값이 포함된 리스트 a = [1, 2, 3, 2, 4, 3, 5, 1]가 있습니다.\n",
    "# 중복을 제거하고 정렬된 리스트를 출력해 보세요.\n",
    "a = [1, 2, 3, 2, 4, 3, 5, 1]\n",
    "b =[]\n",
    "for i in a:\n",
    "  if i not in b:\n",
    "    b.append(i)\n",
    "print(b)\n",
    "\n",
    "# scores = [80, 95, 70, 100, 85]\n",
    "# 평균 점수보다 높은 점수만 골라 새로운 리스트로 만들고 출력해 보세요."
   ]
  },
  {
   "cell_type": "code",
   "execution_count": 25,
   "metadata": {
    "colab": {
     "base_uri": "https://localhost:8080/"
    },
    "executionInfo": {
     "elapsed": 57,
     "status": "ok",
     "timestamp": 1746164184297,
     "user": {
      "displayName": "hs back",
      "userId": "12198503322139656136"
     },
     "user_tz": -540
    },
    "id": "OQt3DieUevnQ",
    "outputId": "6dbc9a5e-5003-4f36-80e2-4d203634f2d0"
   },
   "outputs": [
    {
     "name": "stdout",
     "output_type": "stream",
     "text": [
      "[1, 2, 3]\n",
      "[4, 5, 6]\n",
      "[7, 8, 9]\n",
      "[1, 2, 3]\n",
      "1\n"
     ]
    }
   ],
   "source": [
    "#이차원 : 본래의미의 배열이 아니다\n",
    "#list of list로 표현해야 한다.\n",
    "a = [ [1,2,3], [4,5,6], [7,8,9]]\n",
    "for i in a:\n",
    "  print(i)\n",
    "\n",
    "print(a[0])\n",
    "print( a[0][0])\n"
   ]
  },
  {
   "cell_type": "code",
   "execution_count": null,
   "metadata": {
    "colab": {
     "base_uri": "https://localhost:8080/"
    },
    "executionInfo": {
     "elapsed": 53,
     "status": "ok",
     "timestamp": 1746166897434,
     "user": {
      "displayName": "hs back",
      "userId": "12198503322139656136"
     },
     "user_tz": -540
    },
    "id": "XYUsFv0zgWNX",
    "outputId": "88f1b46e-db08-4599-a9e4-c183b4f5ab94"
   },
   "outputs": [
    {
     "name": "stdout",
     "output_type": "stream",
     "text": [
      "[1, 2, 3, 4, 5, 6, 7, 8, 9, 10]\n",
      "   1   2   3   4   5   6   7   8   9  10\n",
      "  11  12  13  14  15  16  17  18  19  20\n",
      "  21  22  23  24  25  26  27  28  29  30\n",
      "  31  32  33  34  35  36  37  38  39  40\n",
      "  41  42  43  44  45  46  47  48  49  50\n",
      "  51  52  53  54  55  56  57  58  59  60\n",
      "  61  62  63  64  65  66  67  68  69  70\n",
      "  71  72  73  74  75  76  77  78  79  80\n",
      "  81  82  83  84  85  86  87  88  89  90\n",
      "  91  92  93  94  95  96  97  98  99 100\n"
     ]
    }
   ],
   "source": [
    "# 10 by 10 100개 1~100까지 채워서 출력하기\n",
    "\n",
    "a = []\n",
    "a.append(1)\n",
    "a.append(2)\n",
    "a.append(3)\n",
    "a.append(4)\n",
    "a.append(5)\n",
    "a.append(6)\n",
    "a.append(7)\n",
    "a.append(8)\n",
    "a.append(9)\n",
    "a.append(10)  #a.append(i)\n",
    "print( a)\n",
    "\n",
    "totalList=[]\n",
    "for k in range(0,10):\n",
    "  a = []\n",
    "  for i in range(k*10+1, (k+1)*10+1):\n",
    "    a.append(i)\n",
    "  totalList.append(a)\n",
    "\n",
    "for i in range(0, 10):\n",
    "  for j in range(0, 10):\n",
    "    print(\"%4d\" % totalList[i][j], end=\"\" )\n",
    "  print()\n",
    "\n",
    "# 1 0 0  0 0 0 0 0 0 0\n",
    "# 2 3 0  0 0 0 0 0 0 0\n",
    "# 4 5 6  0 0 0 0 0 0 0\n",
    "# 7 8 9 10 0 0 0 0 0 0\n",
    "#  ..............."
   ]
  },
  {
   "cell_type": "code",
   "execution_count": 27,
   "metadata": {
    "colab": {
     "base_uri": "https://localhost:8080/"
    },
    "executionInfo": {
     "elapsed": 15,
     "status": "ok",
     "timestamp": 1746167557252,
     "user": {
      "displayName": "hs back",
      "userId": "12198503322139656136"
     },
     "user_tz": -540
    },
    "id": "dQD-bqYJr1HF",
    "outputId": "850fcbe5-1ed8-4601-df0f-542e3fc9b0aa"
   },
   "outputs": [
    {
     "name": "stdout",
     "output_type": "stream",
     "text": [
      "   1   0   0   0   0   0   0   0   0   0\n",
      "   2   3   0   0   0   0   0   0   0   0\n",
      "   4   5   6   0   0   0   0   0   0   0\n",
      "   7   8   9  10   0   0   0   0   0   0\n",
      "  11  12  13  14  15   0   0   0   0   0\n",
      "  16  17  18  19  20  21   0   0   0   0\n",
      "  22  23  24  25  26  27  28   0   0   0\n",
      "  29  30  31  32  33  34  35  36   0   0\n",
      "  37  38  39  40  41  42  43  44  45   0\n",
      "  46  47  48  49  50  51  52  53  54  55\n"
     ]
    }
   ],
   "source": [
    "totalList=[]\n",
    "kk=1\n",
    "for k in range(0,10):\n",
    "  a = []\n",
    "  for i in range(0, 10):\n",
    "    if i < (k+1):\n",
    "      a.append(kk)\n",
    "      kk+=1\n",
    "    else:\n",
    "      a.append(0)\n",
    "  totalList.append(a)\n",
    "\n",
    "for i in range(0, 10):\n",
    "  for j in range(0, 10):\n",
    "    print(\"%4d\" % totalList[i][j], end=\"\" )\n",
    "  print()\n",
    "\n"
   ]
  },
  {
   "cell_type": "code",
   "execution_count": null,
   "metadata": {
    "colab": {
     "base_uri": "https://localhost:8080/"
    },
    "executionInfo": {
     "elapsed": 52,
     "status": "ok",
     "timestamp": 1746168786225,
     "user": {
      "displayName": "hs back",
      "userId": "12198503322139656136"
     },
     "user_tz": -540
    },
    "id": "xmwFoylLuMhW",
    "outputId": "0fa2eeaa-c88e-4169-aadf-e676948f0831"
   },
   "outputs": [
    {
     "name": "stdout",
     "output_type": "stream",
     "text": [
      "8 4\n",
      "8 4\n"
     ]
    }
   ],
   "source": [
    "# 함수, 최대값과 최대값 위치를 반환하는 함수\n",
    "# a = [5,4,1,7,8,3,6]\n",
    "# 1. 첫번째 방의 데이터가 젤 크다고 가정을 한다\n",
    "#   max 라는 변수에 첫번째 방의 데이터를 저장해 놓는다\n",
    "# 2. 두번째 방의 데이터를 비교해서 두번째 방의 값이 더 크면 값을 max의 값을 변경한다\n",
    "# 3. 세번째 방의 데이터를 비교해서 두번째 방의 값이 더 크면 값을 max의 값을 변경한다\n",
    "# ....... 마지막 방까지 가고 나면 max저장된 값이 제일 크다\n",
    "a = [5,4,1,7,8,3,6]\n",
    "def getMax(a):\n",
    "  max = a[0]\n",
    "  pos = 0\n",
    "  for i in range(1, len(a)):\n",
    "    if max < a[i]:\n",
    "      max = a[i]\n",
    "      pos = i\n",
    "  return max, pos\n",
    "  # 다른언어는 에러발생, 파이썬은 시스템이 알아서 tuple로 만들어서 던진다\n",
    "\n",
    "m, p = getMax(a)\n",
    "print(m,p)\n",
    "max = a[0]\n",
    "pos = 0\n",
    "# if max < a[1]:\n",
    "#   max = a[1]\n",
    "# if max < a[2]:\n",
    "#   max = a[2]\n",
    "for i in range(1, len(a)):\n",
    "  if max < a[i]:\n",
    "    max = a[i]\n",
    "    pos = i\n",
    "print(max, pos)\n"
   ]
  },
  {
   "cell_type": "code",
   "execution_count": null,
   "metadata": {
    "colab": {
     "base_uri": "https://localhost:8080/"
    },
    "executionInfo": {
     "elapsed": 22,
     "status": "ok",
     "timestamp": 1746170017371,
     "user": {
      "displayName": "hs back",
      "userId": "12198503322139656136"
     },
     "user_tz": -540
    },
    "id": "TcG8DCk5z3Ii",
    "outputId": "9124cca0-58d9-4c40-d035-6f5aaaf996b8"
   },
   "outputs": [
    {
     "name": "stdout",
     "output_type": "stream",
     "text": [
      "Call me\n",
      "<class 'tuple'>\n",
      "6\n",
      "8\n",
      "10\n",
      "Call me\n",
      "12\n",
      "Call me\n",
      "14\n",
      "Call me\n",
      "16\n"
     ]
    }
   ],
   "source": [
    "\n",
    "def add(x,y,z): # 매개변수는 값을 읽어가기 위한 용도이다. 외부로 값전달을 하지 않는다\n",
    "  print(\"Call me\")\n",
    "  return x*2, y*2, z*2\n",
    "\n",
    "a = add(3,4,5)\n",
    "print( type(a) )\n",
    "print( a[0] )\n",
    "print( a[1] )\n",
    "print( a[2] )\n",
    "print( add(6,7,8)[0] ) # 함수를 호출해서 결과를 변수에 받아 놓고 쓰자\n",
    "print( add(6,7,8)[1] ) # 함수가 3번이나 호출되고 있다\n",
    "print( add(6,7,8)[2] )\n"
   ]
  },
  {
   "cell_type": "code",
   "execution_count": null,
   "metadata": {
    "colab": {
     "base_uri": "https://localhost:8080/"
    },
    "executionInfo": {
     "elapsed": 24,
     "status": "ok",
     "timestamp": 1746170931792,
     "user": {
      "displayName": "hs back",
      "userId": "12198503322139656136"
     },
     "user_tz": -540
    },
    "id": "Edz-NiQ73j3B",
    "outputId": "5791c2a1-5a83-4969-82fb-bb76934d8f4a"
   },
   "outputs": [
    {
     "name": "stdout",
     "output_type": "stream",
     "text": [
      "{'name': '홍길동', 'age': 23, 'phone': '010-0000-0001'}\n",
      "{'name': '장길산', 'age': 21, 'phone': '010-0000-0002'}\n",
      "name 홍길동\n",
      "age 23\n",
      "phone 010-0000-0001\n",
      "name 장길산\n",
      "age 21\n",
      "phone 010-0000-0002\n",
      "장길산\n",
      "21\n",
      "010-0000-0002\n",
      "name 장길산\n",
      "age 21\n",
      "phone 010-0000-0002\n",
      "0 name\n",
      "1 age\n",
      "2 phone\n"
     ]
    }
   ],
   "source": [
    "person = dict()\n",
    "person[\"name\"] = \"홍길동\"\n",
    "person[\"age\"] = 23\n",
    "person[\"phone\"] = \"010-0000-0001\"\n",
    "print(person)\n",
    "\n",
    "person2 = {\"name\":\"장길산\", \"age\":21, \"phone\":\"010-0000-0002\"}\n",
    "print(person2)\n",
    "\n",
    "for key in person.keys():\n",
    "  print(key, person[key])\n",
    "\n",
    "for key in person2.keys():\n",
    "  print(key, person2[key])\n",
    "\n",
    "for value in person2.values():\n",
    "  print(value)\n",
    "\n",
    "for key,value in person2.items():\n",
    "  print(key, value)\n",
    "\n",
    "#index와 key\n",
    "for i, key in enumerate(person2.keys()):\n",
    "  print(i, key)\n",
    "\n",
    "# 파이썬의 경우 연산자 중복 기능   s1 == \"hello\" : 완전히 새로운 데이터타입을 만들\n",
    "# 거나 아니면 우리가 새로운 언어 번역기를 만들때 필요하다 그밖에는 필요없다.\n",
    "# java의 경우 문자열 비교   s1.equals(\"hello\")"
   ]
  },
  {
   "cell_type": "code",
   "execution_count": null,
   "metadata": {
    "colab": {
     "base_uri": "https://localhost:8080/",
     "height": 200
    },
    "executionInfo": {
     "elapsed": 4659,
     "status": "error",
     "timestamp": 1746171766466,
     "user": {
      "displayName": "hs back",
      "userId": "12198503322139656136"
     },
     "user_tz": -540
    },
    "id": "3jor4-D776at",
    "outputId": "6ed20a64-9923-426d-e157-44b512999bcd"
   },
   "outputs": [
    {
     "name": "stdout",
     "output_type": "stream",
     "text": [
      "없는색\n"
     ]
    }
   ],
   "source": [
    "mydic = {}  # mydic = dict()\n",
    "mydic[\"color\"]=\"색\"\n",
    "mydic[\"red\"]=\"빨간색\"\n",
    "mydic[\"green\"]=\"초록색\"\n",
    "mydic[\"blue\"]=\"파란색\"\n",
    "mydic[\"cyan\"]=\"청녹색\"\n",
    "mydic[\"black\"]=\"검정색\"\n",
    "\n",
    "color = input(\"알고싶은색 ? \")\n",
    "if color in mydic.keys():\n",
    "  print(mydic[color])\n",
    "else:\n",
    "  print(\"없는색\")\n",
    "\n"
   ]
  },
  {
   "cell_type": "code",
   "execution_count": null,
   "metadata": {
    "colab": {
     "base_uri": "https://localhost:8080/"
    },
    "executionInfo": {
     "elapsed": 41,
     "status": "ok",
     "timestamp": 1746173858185,
     "user": {
      "displayName": "hs back",
      "userId": "12198503322139656136"
     },
     "user_tz": -540
    },
    "id": "2rug5IYeBE7j",
    "outputId": "37fa3fdb-3378-4dcc-e100-03db24af1007"
   },
   "outputs": [
    {
     "name": "stdout",
     "output_type": "stream",
     "text": [
      "<class 'set'> {1, 2, 3, 4, 5}\n",
      "<class 'list'> [1, 2, 3, 4, 5]\n",
      "<class 'tuple'> (1, 2, 3, 4, 5)\n",
      "{3, 4, 5}\n",
      "{1, 2, 3, 4, 5, 6, 7, 8}\n",
      "{1, 2}\n"
     ]
    }
   ],
   "source": [
    "s1 = set([1,2,3,4,5,3,4]) # 중복제거를 한다\n",
    "print(type(s1), s1 )\n",
    "\n",
    "s2 = list(s1) # 형전환\n",
    "print( type(s2), s2)\n",
    "\n",
    "s3 = tuple(s1)\n",
    "print( type(s3), s3)\n",
    "\n",
    "s2 = set( [3,4,5,6,7,8])\n",
    "\n",
    "s3 = s1.intersection(s2) # 교집합\n",
    "print( s3 )\n",
    "\n",
    "s3 = s1.union(s2)  # 합집합\n",
    "print( s3 )\n",
    "\n",
    "s3 = s1.difference(s2)  # 차집합\n",
    "print( s3 )"
   ]
  }
 ],
 "metadata": {
  "colab": {
   "authorship_tag": "ABX9TyNn86Mthv6Ixw0iujDlm6F+",
   "provenance": []
  },
  "kernelspec": {
   "display_name": "base",
   "language": "python",
   "name": "python3"
  },
  "language_info": {
   "name": "python",
   "version": "3.12.7"
  }
 },
 "nbformat": 4,
 "nbformat_minor": 0
}
