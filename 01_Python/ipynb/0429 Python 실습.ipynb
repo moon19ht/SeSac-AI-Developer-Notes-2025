{
 "cells": [
  {
   "cell_type": "markdown",
   "id": "a37c8548",
   "metadata": {},
   "source": [
    "# 성적 함수"
   ]
  },
  {
   "cell_type": "code",
   "execution_count": null,
   "id": "8a564222",
   "metadata": {},
   "outputs": [],
   "source": [
    "import random\n",
    "\n",
    "# 전역 변수: 학생 점수 리스트\n",
    "scoreList = []\n",
    "\n",
    "def init(default_count=10):\n",
    "    \"\"\"\n",
    "    scoreList에 랜덤 학생 데이터를 추가하는 함수\n",
    "    \"\"\"\n",
    "    names = [\"홍길동\", \"홍경래\", \"장길산\", \"강감찬\", \"서희\", \"윤관\",\n",
    "             \"감강찬\", \"김연아\", \"안세영\", \"조승연\"]\n",
    "    for i in range(default_count):\n",
    "        name = names[i % len(names)] + (str(i // len(names) + 1) if i >= len(names) else \"\")\n",
    "        s = {\n",
    "            \"name\": name,\n",
    "            \"kor\": random.randint(40, 100),\n",
    "            \"eng\": random.randint(40, 100),\n",
    "            \"mat\": random.randint(40, 100)\n",
    "        }\n",
    "        s[\"total\"] = get_total(s)\n",
    "        s[\"avg\"] = get_avg(s)\n",
    "        s[\"grade\"] = get_grade(s[\"avg\"])\n",
    "        scoreList.append(s)\n",
    "\n",
    "def output(score_list=None):\n",
    "    \"\"\"\n",
    "    학생 점수 목록을 표 형태로 출력하는 함수\n",
    "    \"\"\"\n",
    "    if score_list is None:\n",
    "        score_list = scoreList\n",
    "    print(\"이름\\t국어\\t영어\\t수학\\t총점\\t평균\\t등급\")\n",
    "    for s in score_list:\n",
    "        print(f\"{s['name']}\\t{s['kor']}\\t{s['eng']}\\t{s['mat']}\\t{s['total']}\\t{s['avg']:.2f}\\t{s['grade']}\")\n",
    "\n",
    "def append():\n",
    "    \"\"\"\n",
    "    학생 정보를 입력받아 scoreList에 추가하는 함수\n",
    "    \"\"\"\n",
    "    s = {}\n",
    "    s[\"name\"] = input(\"이름 : \")\n",
    "    s[\"kor\"] = get_score(\"국어\", 100)\n",
    "    s[\"eng\"] = get_score(\"영어\", 100)\n",
    "    s[\"mat\"] = get_score(\"수학\", 100)\n",
    "    s[\"total\"] = get_total(s)\n",
    "    s[\"avg\"] = get_avg(s)\n",
    "    s[\"grade\"] = get_grade(s[\"avg\"])\n",
    "    scoreList.append(s)\n",
    "    print(f\"{s['name']} 학생이 추가되었습니다.\")\n",
    "\n",
    "def get_total(s):\n",
    "    \"\"\"\n",
    "    총점 계산 함수\n",
    "    \"\"\"\n",
    "    return s[\"kor\"] + s[\"eng\"] + s[\"mat\"]\n",
    "\n",
    "def get_avg(s):\n",
    "    \"\"\"\n",
    "    평균 계산 함수\n",
    "    \"\"\"\n",
    "    return s[\"total\"] / 3\n",
    "\n",
    "def get_grade(avg):\n",
    "    \"\"\"\n",
    "    평균 점수에 따른 등급 반환 함수\n",
    "    \"\"\"\n",
    "    if avg >= 90:\n",
    "        return \"수\"\n",
    "    elif avg >= 80:\n",
    "        return \"우\"\n",
    "    elif avg >= 70:\n",
    "        return \"미\"\n",
    "    elif avg >= 60:\n",
    "        return \"양\"\n",
    "    return \"가\"\n",
    "\n",
    "def is_digit(s):\n",
    "    \"\"\"\n",
    "    문자열이 숫자로만 이루어졌는지 확인하는 함수\n",
    "    \"\"\"\n",
    "    return s.isdigit()\n",
    "\n",
    "def get_number(subject):\n",
    "    \"\"\"\n",
    "    숫자만 입력받는 함수 (입력값이 숫자가 아니면 재입력)\n",
    "    \"\"\"\n",
    "    while True:\n",
    "        s = input(f\"{subject} : \")\n",
    "        if is_digit(s):\n",
    "            return int(s)\n",
    "        print(\"숫자만 입력하세요.\")\n",
    "\n",
    "def get_score(subject=\"국어\", limit=100):\n",
    "    \"\"\"\n",
    "    0~limit 사이의 점수를 입력받는 함수\n",
    "    \"\"\"\n",
    "    while True:\n",
    "        n = get_number(subject)\n",
    "        if 0 <= n <= limit:\n",
    "            return n\n",
    "        print(f\"0~{limit} 사이의 값을 입력하세요.\")\n",
    "\n",
    "def search():\n",
    "    \"\"\"\n",
    "    이름으로 학생 정보를 검색하는 함수\n",
    "    \"\"\"\n",
    "    key = input(\"찾을 이름은 ? \")\n",
    "    result_list = [x for x in scoreList if x[\"name\"] == key]\n",
    "    if not result_list:\n",
    "        print(\"없는 이름입니다.\")\n",
    "        return\n",
    "    output(result_list)\n",
    "\n",
    "def modify():\n",
    "    \"\"\"\n",
    "    학생 정보를 수정하는 함수\n",
    "    \"\"\"\n",
    "    key = input(\"수정할 이름은 ? \")\n",
    "    result_list = [x for x in scoreList if x[\"name\"] == key]\n",
    "    if not result_list:\n",
    "        print(\"없는 이름입니다.\")\n",
    "        return\n",
    "    print(f\"{key}의 점수를 수정합니다.\")\n",
    "    for s in result_list:\n",
    "        s[\"kor\"] = get_score(\"국어\", 100)\n",
    "        s[\"eng\"] = get_score(\"영어\", 100)\n",
    "        s[\"mat\"] = get_score(\"수학\", 100)\n",
    "        s[\"total\"] = get_total(s)\n",
    "        s[\"avg\"] = get_avg(s)\n",
    "        s[\"grade\"] = get_grade(s[\"avg\"])\n",
    "    output(result_list)\n",
    "\n",
    "def delete():\n",
    "    \"\"\"\n",
    "    학생 정보를 삭제하는 함수\n",
    "    \"\"\"\n",
    "    key = input(\"삭제할 이름은 ? \")\n",
    "    idx = next((i for i, x in enumerate(scoreList) if x[\"name\"] == key), None)\n",
    "    if idx is None:\n",
    "        print(\"없는 이름입니다.\")\n",
    "        return\n",
    "    print(f\"{scoreList[idx]['name']}의 점수를 삭제합니다.\")\n",
    "    del scoreList[idx]\n",
    "\n",
    "def menu_display():\n",
    "    \"\"\"\n",
    "    메뉴를 출력하는 함수\n",
    "    \"\"\"\n",
    "    print(\"\\n[ 메뉴 ]\")\n",
    "    print(\"1.추가\")\n",
    "    print(\"2.출력\")\n",
    "    print(\"3.검색\")\n",
    "    print(\"4.수정\")\n",
    "    print(\"5.삭제\")\n",
    "    print(\"6.초기 데이터 생성\")\n",
    "    print(\"0.종료\")\n",
    "\n",
    "def start():\n",
    "    \"\"\"\n",
    "    프로그램 시작 함수\n",
    "    \"\"\"\n",
    "    while True:\n",
    "        menu_display()\n",
    "        sel = input(\"선택 : \")\n",
    "        if sel == \"1\":\n",
    "            append()\n",
    "        elif sel == \"2\":\n",
    "            output()\n",
    "        elif sel == \"3\":\n",
    "            search()\n",
    "        elif sel == \"4\":\n",
    "            modify()\n",
    "        elif sel == \"5\":\n",
    "            delete()\n",
    "        elif sel == \"6\":\n",
    "            try:\n",
    "                n = int(input(\"생성할 학생 수(기본 10) : \") or \"10\")\n",
    "            except ValueError:\n",
    "                n = 10\n",
    "            init(n)\n",
    "            print(f\"{n}명의 랜덤 학생 데이터가 추가되었습니다.\")\n",
    "        elif sel == \"0\":\n",
    "            print(\"프로그램을 종료합니다.\")\n",
    "            break\n",
    "        else:\n",
    "            print(\"잘못 선택하셨습니다.\")\n",
    "\n",
    "# 프로그램 실행\n",
    "start()"
   ]
  },
  {
   "cell_type": "markdown",
   "id": "06212f7e",
   "metadata": {},
   "source": [
    "# 주급 함수"
   ]
  },
  {
   "cell_type": "code",
   "execution_count": null,
   "id": "65c81d63",
   "metadata": {},
   "outputs": [],
   "source": [
    "# 작업자 목록 (공용 변수)\n",
    "workerList = [\n",
    "    {\"name\": \"홍길동\", \"work_time\": 30, \"per_pay\": 20000},\n",
    "    {\"name\": \"김길동\", \"work_time\": 20, \"per_pay\": 30000},\n",
    "    {\"name\": \"고길동\", \"work_time\": 50, \"per_pay\": 20000}\n",
    "]\n",
    "\n",
    "def calc_pay(worker):\n",
    "    \"\"\"\n",
    "    개별 작업자의 급여(pay)를 계산하여 worker dict에 추가\n",
    "    \"\"\"\n",
    "    worker['pay'] = worker['work_time'] * worker['per_pay']\n",
    "\n",
    "def process_all():\n",
    "    \"\"\"\n",
    "    모든 작업자의 급여(pay)를 계산\n",
    "    \"\"\"\n",
    "    for w in workerList:\n",
    "        calc_pay(w)\n",
    "\n",
    "def append_worker():\n",
    "    \"\"\"\n",
    "    사용자 입력을 받아 작업자 정보를 workerList에 추가\n",
    "    \"\"\"\n",
    "    worker = {}\n",
    "    worker[\"name\"] = input(\"이름 : \")\n",
    "    worker[\"work_time\"] = int(input(\"일한 시간 : \"))\n",
    "    worker[\"per_pay\"] = int(input(\"시간당 급여액 : \"))\n",
    "    worker[\"pay\"] = 0  # 초기 급여는 0, 계산 후 업데이트\n",
    "    workerList.append(worker)\n",
    "\n",
    "def output_workers():\n",
    "    \"\"\"\n",
    "    작업자 목록을 표 형태로 출력\n",
    "    \"\"\"\n",
    "    print(\"이름\\t일한시간\\t시급\\t급여\")\n",
    "    for w in workerList:\n",
    "        print(f\"{w['name']}\\t{w['work_time']}\\t{w['per_pay']}\\t{w.get('pay', 0)}\")\n",
    "\n",
    "def main():\n",
    "    \"\"\"\n",
    "    주급 프로그램 메인 루프\n",
    "    \"\"\"\n",
    "    while True:\n",
    "        print(\"1.추가\")\n",
    "        print(\"2.출력\")\n",
    "        print(\"3.계산\")\n",
    "        print(\"0.종료\")\n",
    "        sel = input(\"선택 : \")\n",
    "        if sel == \"1\":\n",
    "            append_worker()\n",
    "        elif sel == \"2\":\n",
    "            output_workers()\n",
    "        elif sel == \"3\":\n",
    "            process_all()\n",
    "            print(\"급여 계산이 완료되었습니다.\")\n",
    "        elif sel == \"0\":\n",
    "            print(\"프로그램을 종료합니다.\")\n",
    "            return\n",
    "        else:\n",
    "            print(\"잘못 선택하셨습니다.\")\n",
    "\n",
    "main()"
   ]
  },
  {
   "cell_type": "markdown",
   "id": "e6446fa8",
   "metadata": {},
   "source": [
    "# 람다( lambda ) 함수\n",
    "한줄짜리 함수, 함수를 쓰고 버린다."
   ]
  },
  {
   "cell_type": "code",
   "execution_count": 4,
   "id": "8a548150",
   "metadata": {},
   "outputs": [
    {
     "name": "stdout",
     "output_type": "stream",
     "text": [
      "12\n",
      "4 5 9\n",
      "4 5 -1\n"
     ]
    }
   ],
   "source": [
    "def add(x=0, y=0, z=0):\n",
    "    \"\"\"\n",
    "    세 수를 더하는 함수\n",
    "    \"\"\"\n",
    "    return x + y + z\n",
    "\n",
    "# 함수 자체를 변수에 할당 가능\n",
    "myadd = add\n",
    "print(myadd(3, 4, 5))  # 3 + 4 + 5 = 12\n",
    "\n",
    "# 함수의 매개변수로 함수를 전달할 수 있음 (콜백 함수)\n",
    "def myfunc(x, y, callback):\n",
    "    \"\"\"\n",
    "    x, y와 콜백 함수를 받아 결과를 출력하는 함수\n",
    "    \"\"\"\n",
    "    result = callback(x, y)\n",
    "    print(x, y, result)\n",
    "\n",
    "def add2(x, y):\n",
    "    \"\"\"\n",
    "    두 수를 더하는 함수\n",
    "    \"\"\"\n",
    "    return x + y\n",
    "\n",
    "myfunc(4, 5, add2)  # 함수 주소를 전달\n",
    "myfunc(4, 5, lambda x, y: x - y)  # 람다(익명) 함수 전달\n"
   ]
  },
  {
   "cell_type": "code",
   "execution_count": 5,
   "id": "0ea0f49a",
   "metadata": {},
   "outputs": [
    {
     "name": "stdout",
     "output_type": "stream",
     "text": [
      "16\n",
      "2\n",
      "63\n",
      "1.2857142857142858\n"
     ]
    }
   ],
   "source": [
    "# 사칙연산을 수행하는 람다 함수 리스트\n",
    "funcList = [\n",
    "    lambda x, y: x + y,   # 덧셈\n",
    "    lambda x, y: x - y,   # 뺄셈\n",
    "    lambda x, y: x * y,   # 곱셈\n",
    "    lambda x, y: x / y    # 나눗셈\n",
    "]\n",
    "\n",
    "# 각 함수에 대해 9와 7을 연산한 결과 출력\n",
    "for func in funcList:\n",
    "    print(func(9, 7))\n",
    "\n",
    "# filter 함수: 첫 번째 인자는 함수, 두 번째 인자는 iterable\n",
    "# 특정 조건에 맞는 데이터만 반환하는 예시"
   ]
  },
  {
   "cell_type": "code",
   "execution_count": 11,
   "id": "5fc05eaf",
   "metadata": {},
   "outputs": [
    {
     "name": "stdout",
     "output_type": "stream",
     "text": [
      "2\n",
      "4\n",
      "6\n",
      "8\n",
      "10\n"
     ]
    }
   ],
   "source": [
    "a = [1, 2, 3, 4, 5, 6, 7, 8, 9, 10]\n",
    "\n",
    "# 짝수 판별 함수: 짝수면 True, 아니면 False 반환\n",
    "def is_even(n):\n",
    "    return n % 2 == 0\n",
    "\n",
    "# filter를 사용하여 짝수만 출력 (함수 사용)\n",
    "for i in filter(is_even, a):\n",
    "    print(i)\n"
   ]
  },
  {
   "cell_type": "code",
   "execution_count": 12,
   "id": "9b3c8836",
   "metadata": {},
   "outputs": [
    {
     "name": "stdout",
     "output_type": "stream",
     "text": [
      "2\n",
      "4\n",
      "6\n",
      "8\n",
      "10\n"
     ]
    }
   ],
   "source": [
    "# filter를 사용하여 짝수만 출력 (람다 함수 사용)\n",
    "for i in filter(lambda x: x % 2 == 0, a):\n",
    "    print(i)"
   ]
  },
  {
   "cell_type": "code",
   "execution_count": 8,
   "id": "27380776",
   "metadata": {},
   "outputs": [
    {
     "name": "stdout",
     "output_type": "stream",
     "text": [
      "서희 54 010-0000-0003\n"
     ]
    }
   ],
   "source": [
    "personList = [\n",
    "    {\"name\": '홍길동', \"age\": 34, \"phone\": \"010-0000-0001\"},\n",
    "    {\"name\": '강감찬', \"age\": 70, \"phone\": \"010-0000-0004\"},\n",
    "    {\"name\": '서희',   \"age\": 54, \"phone\": \"010-0000-0003\"},\n",
    "    {\"name\": '윤관',   \"age\": 39, \"phone\": \"010-0000-0002\"},\n",
    "    {\"name\": '김종서', \"age\": 38, \"phone\": \"010-0000-0005\"},\n",
    "    {\"name\": '이순신', \"age\": 44, \"phone\": \"010-0000-0006\"},\n",
    "    {\"name\": '곽재우', \"age\": 62, \"phone\": \"010-0000-0009\"}\n",
    "]\n",
    "\n",
    "# 특정 이름을 가진 사람 찾기 (예: '서희')\n",
    "keyname = '서희'\n",
    "\n",
    "# filter를 사용하여 이름이 keyname인 사람만 추출\n",
    "for person in filter(lambda e: e[\"name\"] == keyname, personList):\n",
    "    print(f\"{person['name']} {person['age']} {person['phone']}\")"
   ]
  },
  {
   "cell_type": "code",
   "execution_count": 9,
   "id": "52aa8b79",
   "metadata": {},
   "outputs": [
    {
     "name": "stdout",
     "output_type": "stream",
     "text": [
      "[{'name': '서희', 'age': 54, 'phone': '010-0000-0003'}]\n"
     ]
    }
   ],
   "source": [
    "# filter 결과를 리스트로 변환하여 저장\n",
    "findList = list(filter(lambda e: e[\"name\"] == keyname, personList))\n",
    "print(findList)"
   ]
  },
  {
   "cell_type": "code",
   "execution_count": 10,
   "id": "a642f241",
   "metadata": {},
   "outputs": [
    {
     "name": "stdout",
     "output_type": "stream",
     "text": [
      "[{'name': '강감찬', 'age': 70, 'phone': '010-0000-0004'}, {'name': '서희', 'age': 54, 'phone': '010-0000-0003'}, {'name': '이순신', 'age': 44, 'phone': '010-0000-0006'}, {'name': '곽재우', 'age': 62, 'phone': '010-0000-0009'}]\n"
     ]
    }
   ],
   "source": [
    "# 40세 이상인 사람만 추출하여 리스트로 저장\n",
    "findList = list(filter(lambda e: e[\"age\"] >= 40, personList))\n",
    "print(findList)"
   ]
  },
  {
   "cell_type": "markdown",
   "id": "4ae66d72",
   "metadata": {},
   "source": [
    "## map, sort : 정렬, zip : 다른언어에 없음 \n",
    "map - 연산을 수행한다.  나이 - 5\n",
    "> 1번째 매개변수가 매개변수 하나 값 하나를 반환하는 함수이어야 한다 "
   ]
  },
  {
   "cell_type": "code",
   "execution_count": 14,
   "id": "27906fd9",
   "metadata": {},
   "outputs": [
    {
     "name": "stdout",
     "output_type": "stream",
     "text": [
      "90\n",
      "40\n",
      "50\n",
      "60\n",
      "70\n",
      "80\n",
      "10\n",
      "20\n",
      "100\n",
      "30\n"
     ]
    }
   ],
   "source": [
    "# 리스트 a의 각 요소에 10을 곱해서 출력\n",
    "for i in map(lambda x: x * 10, a):\n",
    "    print(i)"
   ]
  },
  {
   "cell_type": "code",
   "execution_count": 15,
   "id": "35d0c8e8",
   "metadata": {},
   "outputs": [
    {
     "name": "stdout",
     "output_type": "stream",
     "text": [
      "{'name': '홍길동', 'age': 39, 'phone': '010-0000-0001'}\n",
      "{'name': '강감찬', 'age': 75, 'phone': '010-0000-0004'}\n",
      "{'name': '서희', 'age': 59, 'phone': '010-0000-0003'}\n",
      "{'name': '윤관', 'age': 44, 'phone': '010-0000-0002'}\n",
      "{'name': '김종서', 'age': 43, 'phone': '010-0000-0005'}\n",
      "{'name': '이순신', 'age': 49, 'phone': '010-0000-0006'}\n",
      "{'name': '곽재우', 'age': 67, 'phone': '010-0000-0009'}\n"
     ]
    }
   ],
   "source": [
    "# personList의 각 사람의 나이에 5를 더하는 함수\n",
    "def add_age_5(x):\n",
    "    x[\"age\"] = x[\"age\"] + 5\n",
    "    return x\n",
    "\n",
    "# personList의 각 사람의 나이에 5를 더한 결과 출력\n",
    "for per in map(add_age_5, personList):\n",
    "    print(per)"
   ]
  },
  {
   "cell_type": "code",
   "execution_count": 16,
   "id": "620ddbd8",
   "metadata": {},
   "outputs": [
    {
     "name": "stdout",
     "output_type": "stream",
     "text": [
      "[1, 2, 3, 4, 5, 6, 7, 8, 9, 10]\n"
     ]
    }
   ],
   "source": [
    "# 리스트 정렬 예시\n",
    "a = [9, 4, 5, 6, 7, 8, 1, 2, 10, 3]\n",
    "a.sort()  # 리스트 자체를 오름차순 정렬 (원본 변경)\n",
    "print(a)"
   ]
  },
  {
   "cell_type": "code",
   "execution_count": 17,
   "id": "d2fd6a93",
   "metadata": {},
   "outputs": [
    {
     "name": "stdout",
     "output_type": "stream",
     "text": [
      "[{'name': '강감찬', 'age': 75, 'phone': '010-0000-0004'}, {'name': '곽재우', 'age': 67, 'phone': '010-0000-0009'}, {'name': '김종서', 'age': 43, 'phone': '010-0000-0005'}, {'name': '서희', 'age': 59, 'phone': '010-0000-0003'}, {'name': '윤관', 'age': 44, 'phone': '010-0000-0002'}, {'name': '이순신', 'age': 49, 'phone': '010-0000-0006'}, {'name': '홍길동', 'age': 39, 'phone': '010-0000-0001'}]\n"
     ]
    }
   ],
   "source": [
    "# 딕셔너리 리스트 정렬 (이름 기준 오름차순)\n",
    "personList.sort(key=lambda x: x[\"name\"])\n",
    "print(personList)"
   ]
  },
  {
   "cell_type": "code",
   "execution_count": 18,
   "id": "b799a194",
   "metadata": {},
   "outputs": [
    {
     "name": "stdout",
     "output_type": "stream",
     "text": [
      "[{'name': '홍길동', 'age': 39, 'phone': '010-0000-0001'}, {'name': '이순신', 'age': 49, 'phone': '010-0000-0006'}, {'name': '윤관', 'age': 44, 'phone': '010-0000-0002'}, {'name': '서희', 'age': 59, 'phone': '010-0000-0003'}, {'name': '김종서', 'age': 43, 'phone': '010-0000-0005'}, {'name': '곽재우', 'age': 67, 'phone': '010-0000-0009'}, {'name': '강감찬', 'age': 75, 'phone': '010-0000-0004'}]\n"
     ]
    }
   ],
   "source": [
    "# 딕셔너리 리스트 정렬 (이름 기준 내림차순)\n",
    "personList.sort(key=lambda x: x[\"name\"], reverse=True)\n",
    "print(personList)"
   ]
  },
  {
   "cell_type": "code",
   "execution_count": 19,
   "id": "3a8faf47",
   "metadata": {},
   "outputs": [
    {
     "name": "stdout",
     "output_type": "stream",
     "text": [
      "a = [9, 4, 5, 6, 7, 8, 1, 2, 10, 3]\n",
      "b = [1, 2, 3, 4, 5, 6, 7, 8, 9, 10]\n"
     ]
    }
   ],
   "source": [
    "# sorted 함수 사용 예시 (원본은 변경하지 않고 정렬된 새 리스트 반환)\n",
    "a = [9, 4, 5, 6, 7, 8, 1, 2, 10, 3]\n",
    "b = sorted(a)\n",
    "print(\"a =\", a)\n",
    "print(\"b =\", b)"
   ]
  },
  {
   "cell_type": "code",
   "execution_count": 20,
   "id": "355cf017",
   "metadata": {},
   "outputs": [
    {
     "name": "stdout",
     "output_type": "stream",
     "text": [
      "[{'name': '강감찬', 'age': 70, 'phone': '010-0000-0004'}, {'name': '곽재우', 'age': 62, 'phone': '010-0000-0009'}, {'name': '김종서', 'age': 38, 'phone': '010-0000-0005'}, {'name': '서희', 'age': 54, 'phone': '010-0000-0003'}, {'name': '윤관', 'age': 39, 'phone': '010-0000-0002'}, {'name': '이순신', 'age': 44, 'phone': '010-0000-0006'}, {'name': '홍길동', 'age': 34, 'phone': '010-0000-0001'}]\n"
     ]
    }
   ],
   "source": [
    "# personList를 이름 기준으로 정렬한 새 리스트 생성\n",
    "personList = [\n",
    "    {\"name\": '홍길동', \"age\": 34, \"phone\": \"010-0000-0001\"},\n",
    "    {\"name\": '강감찬', \"age\": 70, \"phone\": \"010-0000-0004\"},\n",
    "    {\"name\": '서희',   \"age\": 54, \"phone\": \"010-0000-0003\"},\n",
    "    {\"name\": '윤관',   \"age\": 39, \"phone\": \"010-0000-0002\"},\n",
    "    {\"name\": '김종서', \"age\": 38, \"phone\": \"010-0000-0005\"},\n",
    "    {\"name\": '이순신', \"age\": 44, \"phone\": \"010-0000-0006\"},\n",
    "    {\"name\": '곽재우', \"age\": 62, \"phone\": \"010-0000-0009\"}\n",
    "]\n",
    "\n",
    "sorted_persons = sorted(personList, key=lambda per: per[\"name\"])\n",
    "print(sorted_persons)\n"
   ]
  }
 ],
 "metadata": {
  "kernelspec": {
   "display_name": "base",
   "language": "python",
   "name": "python3"
  },
  "language_info": {
   "codemirror_mode": {
    "name": "ipython",
    "version": 3
   },
   "file_extension": ".py",
   "mimetype": "text/x-python",
   "name": "python",
   "nbconvert_exporter": "python",
   "pygments_lexer": "ipython3",
   "version": "3.12.7"
  }
 },
 "nbformat": 4,
 "nbformat_minor": 5
}
