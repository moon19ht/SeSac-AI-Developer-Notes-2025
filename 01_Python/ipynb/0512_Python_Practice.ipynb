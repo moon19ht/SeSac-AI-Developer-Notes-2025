{
 "cells": [
  {
   "cell_type": "markdown",
   "id": "fb336c4c",
   "metadata": {},
   "source": [
    "## 🧩 인스턴스 메서드 (Instance Method)\n",
    "\n",
    "### 🔹 정의\n",
    "\n",
    "클래스 내부에 정의되며, **객체(인스턴스)를 통해 호출되는 메서드**이다.\n",
    "첫 번째 매개변수로 \\*\\*`self`\\*\\*를 받아 객체 자신의 속성과 메서드에 접근할 수 있다.\n",
    "\n",
    "### 🔹 특징\n",
    "\n",
    "* 객체의 **속성 값을 읽거나 변경**할 때 사용\n",
    "* **객체가 있어야만 호출 가능**\n",
    "\n",
    "### 🔹 사용법\n",
    "\n",
    "```python\n",
    "class Person:\n",
    "    def __init__(self, name):\n",
    "        self.name = name\n",
    "\n",
    "    def greet(self):  # 인스턴스 메서드\n",
    "        print(f\"안녕하세요, 저는 {self.name}입니다.\")\n",
    "```\n",
    "\n",
    "### 🔹 호출 예\n",
    "\n",
    "```python\n",
    "p = Person(\"홍길동\")\n",
    "p.greet()  # 출력: 안녕하세요, 저는 홍길동입니다.\n",
    "```\n",
    "\n",
    "---\n",
    "\n",
    "## 🧱 클래스 메서드 (Class Method)\n",
    "\n",
    "### 🔹 정의\n",
    "\n",
    "클래스 자체를 대상으로 동작하는 메서드.\n",
    "함수 정의 위에 **`@classmethod`** 데코레이터를 붙이며, 첫 번째 매개변수는 \\*\\*`cls`\\*\\*로 클래스 자체를 받는다.\n",
    "\n",
    "### 🔹 특징\n",
    "\n",
    "* **클래스 변수**에 접근하거나 수정할 수 있다\n",
    "* **객체 없이도 호출 가능**\n",
    "* 주로 **클래스 수준 설정**, **팩토리 메서드 구현**에 사용\n",
    "\n",
    "### 🔹 사용법\n",
    "\n",
    "```python\n",
    "class Counter:\n",
    "    count = 0  # 클래스 변수\n",
    "\n",
    "    @classmethod\n",
    "    def increment(cls):  # 클래스 메서드\n",
    "        cls.count += 1\n",
    "        print(f\"현재 개수: {cls.count}\")\n",
    "```\n",
    "\n",
    "### 🔹 호출 예\n",
    "\n",
    "```python\n",
    "Counter.increment()  # 현재 개수: 1\n",
    "Counter.increment()  # 현재 개수: 2\n",
    "```\n",
    "\n",
    "---\n",
    "\n",
    "## ⚙️ 스태틱 메서드 (Static Method)\n",
    "\n",
    "### 🔹 정의\n",
    "\n",
    "클래스와 무관한 **독립적인 함수**를 클래스 내부에 정의할 때 사용.\n",
    "**`@staticmethod`** 데코레이터를 사용하며, 첫 번째 매개변수로 `self`나 `cls`를 받지 않는다.\n",
    "\n",
    "### 🔹 특징\n",
    "\n",
    "* **클래스 변수나 인스턴스 변수에 접근할 수 없음**\n",
    "* 객체와 무관한 **도구성 유틸리티 함수**로 활용\n",
    "* **객체 없이 호출 가능**\n",
    "\n",
    "### 🔹 사용법\n",
    "\n",
    "```python\n",
    "class MathTool:\n",
    "    @staticmethod\n",
    "    def add(x, y):  # 스태틱 메서드\n",
    "        return x + y\n",
    "```\n",
    "\n",
    "### 🔹 호출 예\n",
    "\n",
    "```python\n",
    "result = MathTool.add(10, 5)\n",
    "print(result)  # 출력: 15\n",
    "```\n"
   ]
  },
  {
   "cell_type": "markdown",
   "id": "9f795f98",
   "metadata": {},
   "source": [
    "\n",
    "---"
   ]
  },
  {
   "cell_type": "markdown",
   "id": "7e03d975",
   "metadata": {},
   "source": [
    "# 스태틱 메서드"
   ]
  },
  {
   "cell_type": "code",
   "execution_count": 2,
   "id": "f137a063",
   "metadata": {},
   "outputs": [
    {
     "name": "stdout",
     "output_type": "stream",
     "text": [
      "9\n",
      "-1\n"
     ]
    }
   ],
   "source": [
    "# 사칙연산을 수행하는 다양한 방식의 클래스 예제\n",
    "\n",
    "# 1. 인스턴스 변수(self.x, self.y)를 사용하는 방식\n",
    "class Calculator:\n",
    "    def __init__(self, x=0, y=0):\n",
    "        self.x = x  # 인스턴스 변수\n",
    "        self.y = y\n",
    "\n",
    "    def add(self):\n",
    "        return self.x + self.y  # 인스턴스 변수 사용\n",
    "\n",
    "    def sub(self):\n",
    "        return self.x - self.y\n",
    "\n",
    "c1 = Calculator(4, 5)\n",
    "print(c1.add())   # 9\n",
    "print(c1.sub())   # -1\n"
   ]
  },
  {
   "cell_type": "code",
   "execution_count": 3,
   "id": "d2dc3d71",
   "metadata": {},
   "outputs": [
    {
     "name": "stdout",
     "output_type": "stream",
     "text": [
      "9\n",
      "-1\n"
     ]
    }
   ],
   "source": [
    "# 2. 인스턴스 메서드지만 인스턴스 변수는 사용하지 않고, 매개변수로만 연산\n",
    "class Calculator2:\n",
    "    def add(self, x, y):\n",
    "        return x + y\n",
    "\n",
    "    def sub(self, x, y):\n",
    "        return x - y\n",
    "\n",
    "c2 = Calculator2()\n",
    "print(c2.add(4, 5))   # 9\n",
    "print(c2.sub(4, 5))   # -1"
   ]
  },
  {
   "cell_type": "code",
   "execution_count": 4,
   "id": "d36ae23b",
   "metadata": {},
   "outputs": [
    {
     "name": "stdout",
     "output_type": "stream",
     "text": [
      "9\n",
      "-1\n",
      "20\n"
     ]
    }
   ],
   "source": [
    "# 3. staticmethod와 classmethod를 활용한 방식\n",
    "class Calculator3:\n",
    "    @staticmethod\n",
    "    def add(x, y):\n",
    "        return x + y  # 클래스나 인스턴스와 무관하게 동작\n",
    "\n",
    "    @staticmethod\n",
    "    def sub(x, y):\n",
    "        return x - y\n",
    "\n",
    "    @classmethod\n",
    "    def mul(cls, x, y):\n",
    "        # 클래스 변수에 접근 가능(여기선 사용하지 않음)\n",
    "        return x * y\n",
    "\n",
    "print(Calculator3.add(4, 5))   # 9\n",
    "print(Calculator3.sub(4, 5))   # -1\n",
    "print(Calculator3.mul(4, 5))   # 20\n"
   ]
  },
  {
   "cell_type": "code",
   "execution_count": 5,
   "id": "05a697ea",
   "metadata": {},
   "outputs": [
    {
     "name": "stdout",
     "output_type": "stream",
     "text": [
      "192.168.0.10\n",
      "3306\n"
     ]
    }
   ],
   "source": [
    "# 실무에서 staticmethod/classmethod 사용 예시 및 장점 설명\n",
    "\n",
    "# 예시: 데이터베이스 접속 정보 등 공통 설정을 클래스 변수로 관리\n",
    "class DBConfig:\n",
    "    db_ip = \"127.0.0.1\"\n",
    "    db_user = \"admin\"\n",
    "    db_password = \"password\"\n",
    "\n",
    "    @classmethod\n",
    "    def change_ip(cls, new_ip):\n",
    "        cls.db_ip = new_ip  # 클래스 변수 수정\n",
    "\n",
    "    @staticmethod\n",
    "    def get_default_port():\n",
    "        return 3306  # 단순 유틸리티 함수\n",
    "\n",
    "# 클래스 메서드로 공통 설정을 안전하게 관리할 수 있음\n",
    "DBConfig.change_ip(\"192.168.0.10\")\n",
    "print(DBConfig.db_ip)  # 192.168.0.10\n",
    "print(DBConfig.get_default_port())  # 3306\n",
    "\n",
    "# staticmethod는 클래스/인스턴스 상태와 무관한 기능성 함수에 적합\n",
    "# classmethod는 클래스 변수 등 클래스 상태를 변경/참조할 때 적합"
   ]
  },
  {
   "cell_type": "code",
   "execution_count": null,
   "id": "b5fb1c13",
   "metadata": {},
   "outputs": [],
   "source": [
    "class User:\n",
    "    count = 0  # 클래스 변수: 전체 사용자 수\n",
    "\n",
    "    def __init__(self, username):\n",
    "        self.username = username  # 인스턴스 변수: 사용자 이름\n",
    "        User.count += 1           # 사용자 생성 시 클래스 변수 증가\n",
    "\n",
    "    @classmethod\n",
    "    def from_email(cls, email):\n",
    "        \"\"\"\n",
    "        클래스 메서드: 이메일에서 사용자 이름 추출 후 객체 생성\n",
    "        - email: 'username@domain.com' 형식의 문자열\n",
    "        \"\"\"\n",
    "        username = email.split('@')[0]\n",
    "        return cls(username)\n",
    "\n",
    "    @classmethod\n",
    "    def get_user_count(cls):\n",
    "        \"\"\"\n",
    "        클래스 메서드: 전체 사용자 수 반환\n",
    "        \"\"\"\n",
    "        return cls.count\n",
    "\n",
    "# 사용 예시\n",
    "print(\"=== classmethod 예시 ===\")\n",
    "user1 = User(\"alice\")  # 직접 사용자 이름으로 생성\n",
    "user2 = User.from_email(\"bob@example.com\")  # 이메일로부터 객체 생성\n",
    "print(\"사용자 수:\", User.get_user_count())  # 전체 사용자 수 출력\n",
    "print(\"user2 이름:\", user2.username)        # user2의 이름 출력"
   ]
  },
  {
   "cell_type": "markdown",
   "id": "262dd9e1",
   "metadata": {},
   "source": [
    "# 클래스 메소드"
   ]
  },
  {
   "cell_type": "code",
   "execution_count": 6,
   "id": "965ec475",
   "metadata": {},
   "outputs": [
    {
     "name": "stdout",
     "output_type": "stream",
     "text": [
      "할인가: 18000.0원\n",
      "총 책 수: 2권\n"
     ]
    }
   ],
   "source": [
    "class Book:\n",
    "    total_books = 0  # 클래스 변수: 전체 책 개수\n",
    "\n",
    "    def __init__(self, title, price):\n",
    "        self.title = title      # 인스턴스 변수: 책 제목\n",
    "        self.price = price      # 인스턴스 변수: 책 가격\n",
    "        Book.total_books += 1   # 클래스 변수 증가\n",
    "\n",
    "    @staticmethod\n",
    "    def calculate_discount_price(price, rate):\n",
    "        \"\"\"\n",
    "        정적 메서드: 할인 가격 계산\n",
    "        - 클래스/인스턴스 상태와 무관\n",
    "        \"\"\"\n",
    "        return price * (1 - rate)\n",
    "\n",
    "    @classmethod\n",
    "    def get_total_books(cls):\n",
    "        \"\"\"\n",
    "        클래스 메서드: 전체 책 개수 반환\n",
    "        - 클래스 변수 접근\n",
    "        \"\"\"\n",
    "        return cls.total_books\n",
    "\n",
    "# 인스턴스 생성\n",
    "book1 = Book(\"Python Basics\", 15000)\n",
    "book2 = Book(\"Advanced Python\", 20000)\n",
    "\n",
    "# 정적 메서드 사용: 할인 가격 계산\n",
    "discounted = Book.calculate_discount_price(book2.price, 0.1)\n",
    "print(f\"할인가: {discounted}원\")  # 할인가: 18000.0원\n",
    "\n",
    "# 클래스 메서드 사용: 전체 책 수 출력\n",
    "print(f\"총 책 수: {Book.get_total_books()}권\")  # 총 책 수: 2권\n"
   ]
  },
  {
   "cell_type": "code",
   "execution_count": 7,
   "id": "8e1ba623",
   "metadata": {},
   "outputs": [
    {
     "name": "stdout",
     "output_type": "stream",
     "text": [
      "=== staticmethod 예시 ===\n",
      "섭씨 25도 -> 화씨: 77.0\n",
      "화씨 77도 -> 섭씨: 25.0\n"
     ]
    }
   ],
   "source": [
    "class TemperatureConverter:\n",
    "    \"\"\"\n",
    "    섭씨 <-> 화씨 변환기\n",
    "    - 클래스/인스턴스 상태와 무관하게 동작하는 정적 메서드(staticmethod)만 포함\n",
    "    \"\"\"\n",
    "\n",
    "    @staticmethod\n",
    "    def celsius_to_fahrenheit(celsius):\n",
    "        \"\"\"섭씨를 화씨로 변환\"\"\"\n",
    "        return celsius * 9 / 5 + 32\n",
    "\n",
    "    @staticmethod\n",
    "    def fahrenheit_to_celsius(fahrenheit):\n",
    "        \"\"\"화씨를 섭씨로 변환\"\"\"\n",
    "        return (fahrenheit - 32) * 5 / 9\n",
    "\n",
    "# staticmethod 사용 예시\n",
    "print(\"=== staticmethod 예시 ===\")\n",
    "print(\"섭씨 25도 -> 화씨:\", TemperatureConverter.celsius_to_fahrenheit(25))\n",
    "print(\"화씨 77도 -> 섭씨:\", TemperatureConverter.fahrenheit_to_celsius(77))\n"
   ]
  }
 ],
 "metadata": {
  "kernelspec": {
   "display_name": "base",
   "language": "python",
   "name": "python3"
  },
  "language_info": {
   "codemirror_mode": {
    "name": "ipython",
    "version": 3
   },
   "file_extension": ".py",
   "mimetype": "text/x-python",
   "name": "python",
   "nbconvert_exporter": "python",
   "pygments_lexer": "ipython3",
   "version": "3.12.7"
  }
 },
 "nbformat": 4,
 "nbformat_minor": 5
}
