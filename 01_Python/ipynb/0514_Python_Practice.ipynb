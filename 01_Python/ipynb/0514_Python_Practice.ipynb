{
 "cells": [
  {
   "cell_type": "markdown",
   "id": "76f457bc",
   "metadata": {},
   "source": [
    "# 📌 1. 정규표현식 (Regular Expression)\n",
    "\n",
    "## ✅ 개념\n",
    "- 정규표현식(Regex)은 **문자열에서 특정한 규칙(패턴)을 검색, 추출, 대체**할 때 사용하는 문법\n",
    "- Python에서는 `re` 모듈을 사용\n",
    "\n",
    "## ✅ 주요 패턴 기호\n",
    "\n",
    "| 패턴 | 의미 |\n",
    "|------|------|\n",
    "| `.` | 줄바꿈 제외 임의의 한 문자 (`\\n` 제외) |\n",
    "| `^` | 문자열 시작 |\n",
    "| `$` | 문자열 끝 |\n",
    "| `*` | 0회 이상 반복 |\n",
    "| `+` | 1회 이상 반복 |\n",
    "| `?` | 0회 또는 1회 반복 |\n",
    "| `{n}` | n회 반복 |\n",
    "| `{n,m}` | n~m회 반복 |\n",
    "| `[]` | 문자 집합 |\n",
    "| `\\d` | 숫자 (`[0-9]`) |\n",
    "| `\\w` | 단어 문자 (`[a-zA-Z0-9_]`) |\n",
    "| `\\s` | 공백 문자 |\n",
    "| `|` | OR 연산자 (ex: `a|b`) |\n",
    "| `()` | 그룹 |\n",
    "\n",
    "---\n",
    "\n",
    "## ✅ 기본 사용법\n",
    "```python\n",
    "import re\n",
    "\n",
    "pattern = r\"\\d{3}-\\d{4}-\\d{4}\"  # 전화번호 패턴\n",
    "text = \"문의는 010-1234-5678 로 주세요.\"\n",
    "\n",
    "match = re.search(pattern, text)\n",
    "if match:\n",
    "    print(match.group())  # 출력: 010-1234-5678\n",
    "```\n",
    "\n",
    "---\n",
    "\n",
    "## ✅ 주요 함수\n",
    "\n",
    "| 함수 | 설명 |\n",
    "|------|------|\n",
    "| `re.search()` | 문자열 전체에서 첫 매칭 찾기 |\n",
    "| `re.match()` | 문자열의 **시작 위치**에서만 매칭 찾기 |\n",
    "| `re.fullmatch()` | 문자열 전체가 정규식과 일치할 때만 매칭 |\n",
    "| `re.findall()` | 모든 매칭 결과 리스트 반환 |\n",
    "| `re.sub()` | 문자열 치환 |\n",
    "| `re.compile()` | 정규표현식 객체 생성 |\n",
    "\n",
    "## ✅ 예제: 이메일 검증\n",
    "```python\n",
    "email = \"user@example.com\"\n",
    "if re.fullmatch(r\"[\\w\\.-]+@[\\w\\.-]+\\.\\w+\", email):\n",
    "    print(\"✅ 유효한 이메일\")\n",
    "else:\n",
    "    print(\"❌ 잘못된 이메일\")\n",
    "```\n"
   ]
  },
  {
   "cell_type": "code",
   "execution_count": 1,
   "id": "019489d3",
   "metadata": {},
   "outputs": [
    {
     "name": "stdout",
     "output_type": "stream",
     "text": [
      "park 800905-*******\n",
      "kim 700905-*******\n",
      "\n",
      "park 800905-*******\n",
      "kim  700905-*******\n",
      "\n"
     ]
    }
   ],
   "source": [
    "# 주민등록번호 뒷자리를 마스킹하는 코드 (리팩토링 및 주석 추가)\n",
    "\n",
    "data = \"\"\"\n",
    "park 800905-1049118\n",
    "kim  700905-1059119\n",
    "\"\"\"\n",
    "\n",
    "# 방법 1: split과 조건문을 이용한 마스킹\n",
    "result = []\n",
    "for line in data.split(\"\\n\"):  # 줄 단위로 분리\n",
    "    word_result = []\n",
    "    for word in line.split():  # 공백 기준 분리 (불필요한 공백 제거)\n",
    "        # 주민등록번호 형식(6자리-7자리)인지 확인\n",
    "        if len(word) == 14 and word[:6].isdigit() and word[7:].isdigit() and word[6] == \"-\":\n",
    "            word = word[:6] + \"-\" + \"*******\"  # 뒷자리 마스킹\n",
    "        word_result.append(word)\n",
    "    if word_result:\n",
    "        result.append(\" \".join(word_result))\n",
    "print(\"\\n\".join(result))\n",
    "\n",
    "import re\n",
    "\n",
    "# 방법 2: 정규표현식을 이용한 마스킹\n",
    "pat = re.compile(r\"(\\d{6})-(\\d{7})\")  # 주민등록번호 패턴\n",
    "# 뒷자리를 *로 대체\n",
    "masked_data = pat.sub(r\"\\1-*******\", data)\n",
    "print(masked_data)\n"
   ]
  },
  {
   "cell_type": "code",
   "execution_count": 2,
   "id": "b9c3e58d",
   "metadata": {},
   "outputs": [
    {
     "name": "stdout",
     "output_type": "stream",
     "text": [
      "<re.Match object; span=(0, 1), match='a'>\n",
      "<re.Match object; span=(1, 2), match='a'>\n",
      "<re.Match object; span=(0, 1), match='a'>\n",
      "None\n",
      "-----------------------------------\n",
      "<re.Match object; span=(0, 1), match='a'>\n",
      "None\n",
      "<re.Match object; span=(0, 1), match='2'>\n",
      "None\n",
      "<re.Match object; span=(0, 1), match='H'>\n",
      "None\n",
      "<re.Match object; span=(1, 2), match='e'>\n",
      "<re.Match object; span=(3, 4), match='A'>\n",
      "-----------------------------------\n",
      "None\n",
      "<re.Match object; span=(2, 3), match='b'>\n",
      "<re.Match object; span=(4, 5), match='a'>\n",
      "<re.Match object; span=(0, 3), match='abc'>\n",
      "None\n",
      "<re.Match object; span=(0, 2), match='Hi'>\n",
      "<re.Match object; span=(0, 2), match='3b'>\n",
      "<re.Match object; span=(1, 3), match='3b'>\n",
      "None\n",
      "===========================\n",
      "<re.Match object; span=(0, 3), match='abc'>\n",
      "<re.Match object; span=(0, 3), match='abc'>\n",
      "<re.Match object; span=(0, 3), match='abc'>\n",
      "None\n",
      "<re.Match object; span=(0, 3), match='abc'>\n",
      "<re.Match object; span=(2, 5), match='abc'>\n",
      "<re.Match object; span=(3, 6), match='abc'>\n",
      "===========================\n",
      "<re.Match object; span=(0, 6), match='python'>\n",
      "<re.Match object; span=(0, 6), match='Python'>\n",
      "None\n",
      "@@@@@@@@@@@@@@@@@@@@@@@@@@@@@@@@@@@@\n",
      "None\n",
      "None\n",
      "None\n",
      "<re.Match object; span=(2, 3), match='j'>\n",
      "<re.Match object; span=(0, 1), match='d'>\n",
      "<re.Match object; span=(0, 0), match=''>\n",
      "<re.Match object; span=(0, 1), match='5'>\n",
      "None\n",
      "<re.Match object; span=(0, 1), match='5'>\n",
      "<re.Match object; span=(0, 3), match='123'>\n",
      "None\n",
      "<re.Match object; span=(0, 0), match=''>\n",
      "<re.Match object; span=(0, 5), match='12345'>\n",
      "None\n",
      "<re.Match object; span=(0, 3), match='123'>\n",
      "None\n",
      "None\n",
      "None\n",
      "<re.Match object; span=(0, 3), match='123'>\n",
      "<re.Match object; span=(0, 4), match='1234'>\n",
      "None\n",
      "None\n",
      "apple\n"
     ]
    }
   ],
   "source": [
    "import re\n",
    "\n",
    "def regex_examples():\n",
    "    # 문자 클래스 [] 예제\n",
    "    print(re.search(r\"[a]\", \"a\"))      # a 포함 → match\n",
    "    print(re.search(r\"[a]\", \"ba\"))     # a 포함 → match\n",
    "    print(re.search(r\"[a]\", \"abb\"))    # a 포함 → match\n",
    "    print(re.search(r\"[a]\", \"cb\"))     # a 없음 → no match\n",
    "\n",
    "    print(\"-----------------------------------\")\n",
    "    print(re.search(r\"[abc]\", \"apple\"))     # a → match\n",
    "    print(re.search(r\"[abc]\", \"dog\"))       # a,b,c 없음 → no match\n",
    "    print(re.search(r\"[0-9]\", \"2024year\"))  # 2 → match\n",
    "    print(re.search(r\"[0-9]\", \"year\"))      # 숫자 없음 → no match\n",
    "    print(re.search(r\"[A-Z]\", \"Hello\"))     # H → match\n",
    "    print(re.search(r\"[A-Z]\", \"hello\"))     # 대문자 없음 → no match\n",
    "    print(re.search(r\"[a-z]\", \"Hello\"))     # e → match\n",
    "    print(re.search(r\"[A-Za-z]\", \"123Abc\")) # A → match\n",
    "\n",
    "    print(\"-----------------------------------\")\n",
    "    print(re.search(r\"[^a]\", \"aaa\"))    # 모두 a → no match\n",
    "    print(re.search(r\"[^a]\", \"aab\"))    # b → match\n",
    "    print(re.search(r\"[^0-9]\", \"1234a\"))# a → match\n",
    "\n",
    "    print(re.search(r\"[a-z]{3}\", \"abc\"))    # abc → match\n",
    "    print(re.search(r\"[a-z]{3}\", \"a1c\"))    # 1 때문에 실패\n",
    "    print(re.search(r\"[A-Za-z]{2,5}\", \"Hi\"))# Hi → match\n",
    "\n",
    "    print(re.search(r\"[0-9][a-z]\", \"3b\"))     # 3b → match\n",
    "    print(re.search(r\"[0-9][a-z]\", \"a3b\"))    # 3b에서 매치됨\n",
    "    print(re.search(r\"[0-9][a-z]\", \"ab\"))     # 숫자가 포함되어야 → no match\n",
    "\n",
    "    print(\"===========================\")\n",
    "    print(re.search(r\"^abc\", \"abcde\"))   # abc로 시작 → match\n",
    "    print(re.search(r\"^abc\", \"abc\")) \n",
    "    print(re.search(r\"^abc\", \"abc12\"))\n",
    "    print(re.search(r\"^abc\",  \"aabc12\")) # aabc로 시작 → no match\n",
    "\n",
    "    print(re.search(r\"abc$\",  \"abc\"))    # abc로 끝 → match\n",
    "    print(re.search(r\"abc$\",  \"12abc\"))  # abc로 끝 → match\n",
    "    print(re.search(r\"abc$\",  \"ea abc\")) # abc로 끝 → match\n",
    "\n",
    "    print(\"===========================\")\n",
    "    print(re.search(r\"[p|P]ython\",  \"python\"))  # p → match\n",
    "    print(re.search(r\"[p|P]ython\",  \"Python\"))  # P → match\n",
    "    print(re.search(r\"[p|P]ython\",  \"PYTHON\"))  # 대소문자 모두 대문자 → no match\n",
    "\n",
    "    print(\"@@@@@@@@@@@@@@@@@@@@@@@@@@@@@@@@@@@@\")\n",
    "    print(re.search(r\"[^abc]\",  \"a\"))      # abc 제외한 문자가 없으므로 no match\n",
    "    print(re.search(r\"[^abc]\",  \"b\"))\n",
    "    print(re.search(r\"[^abc]\",  \"c\"))\n",
    "    print(re.search(r\"[^abc]\",  \"aajdb\"))  # j → match\n",
    "    print(re.search(r\"[^abc]\",  \"dfc\"))    # d → match\n",
    "\n",
    "    # 숫자 0개 또는 1개\n",
    "    print(re.fullmatch(r\"\\d?\", \"\"))     # '' (숫자 없음) → match\n",
    "    print(re.fullmatch(r\"\\d?\", \"5\"))    # '5' (숫자 1개) → match\n",
    "    print(re.fullmatch(r\"\\d?\", \"57\"))   # '57' (2개) → no match\n",
    "\n",
    "    # 숫자 한개 이상\n",
    "    print(re.fullmatch(r\"\\d+\", \"5\"))     # '5' → match\n",
    "    print(re.fullmatch(r\"\\d+\", \"123\"))   # '123' → match\n",
    "    print(re.fullmatch(r\"\\d+\", \"\"))      # 없음 → no match\n",
    "\n",
    "    # 숫자 0개 이상\n",
    "    print(re.fullmatch(r\"\\d*\", \"\"))       # '' (0개 허용) → match\n",
    "    print(re.fullmatch(r\"\\d*\", \"12345\"))  # '12345' → match\n",
    "    print(re.fullmatch(r\"\\d*\", \"a\"))      # 'a'는 숫자가 아님 → no match\n",
    "\n",
    "    # 정확히 3자리 숫자\n",
    "    pattern = r\"\\d{3}\"\n",
    "    print(re.fullmatch(pattern, \"123\"))    # 3자리 → match\n",
    "    print(re.fullmatch(pattern, \"45\"))     # 2자리 → no match\n",
    "    print(re.fullmatch(pattern, \"7890\"))   # 4자리 → no match\n",
    "    print(re.fullmatch(pattern, \"abc\"))    # 숫자 아님 → no match\n",
    "\n",
    "    # 3~4자리 숫자\n",
    "    pattern = r\"\\d{3,4}\"\n",
    "    print(re.fullmatch(pattern, \"123\"))     # 3자리 → match\n",
    "    print(re.fullmatch(pattern, \"1234\"))    # 4자리 → match\n",
    "    print(re.fullmatch(pattern, \"12\"))      # 2자리 → no match\n",
    "    print(re.fullmatch(pattern, \"12345\"))   # 5자리 → no match\n",
    "\n",
    "    # \\b 단어 경계 예제\n",
    "    text = \"I like apple and pineapple.\"\n",
    "    match = re.search(r\"\\bapple\\b\", text)  # 'apple'만 찾기\n",
    "    print(match.group())  # apple\n",
    "\n",
    "regex_examples()\n"
   ]
  },
  {
   "cell_type": "code",
   "execution_count": 3,
   "id": "7f39848f",
   "metadata": {},
   "outputs": [
    {
     "name": "stdout",
     "output_type": "stream",
     "text": [
      "\n",
      "100-90-12345\n",
      "101-91-12121\n",
      "102-92-23451\n",
      "104-91-24689\n",
      "\n"
     ]
    }
   ],
   "source": [
    "import re\n",
    " \n",
    "contents = \"\"\"\n",
    "    우리커피숍 100-90-12345\n",
    "    영풍문고 101-91-12121\n",
    "    영미청과 102-92-23451\n",
    "    황금코인 103-89-13579\n",
    "    우리문구 104-91-24689\n",
    "    옆집회사 105-82-12345\n",
    "\"\"\"\n",
    "\n",
    "pattern = r'\\b(\\d{3})-(\\d{2})-(\\d{5})\\b'\n",
    "regex = re.compile(pattern)\n",
    "result = regex.finditer(contents)\n",
    "print()\n",
    "for item in result:\n",
    "    if int(item.group(2))>=90 and int(item.group(2))<=99:\n",
    "        print( item.group() )\n",
    " \n",
    " \n",
    "print()"
   ]
  },
  {
   "cell_type": "code",
   "execution_count": 4,
   "id": "aac0fc1c",
   "metadata": {},
   "outputs": [
    {
     "name": "stdout",
     "output_type": "stream",
     "text": [
      "['비', '비', '비']\n"
     ]
    }
   ],
   "source": [
    "import re\n",
    " \n",
    "pattern = r'비'\n",
    "text = \"하늘에 비가 오고 있습니다.  어제도 비가 왔고 오늘도 비가 오고 있습니다\"\n",
    "regex = re.compile(pattern)\n",
    "result = regex.findall(text)\n",
    "print( result )"
   ]
  },
  {
   "cell_type": "code",
   "execution_count": 6,
   "id": "b52ca5b8",
   "metadata": {},
   "outputs": [
    {
     "name": "stdout",
     "output_type": "stream",
     "text": [
      "형식이 일치합니다.\n"
     ]
    }
   ],
   "source": [
    "import re\n",
    " \n",
    "zipcode = input(\"우편번호를 입력하세요\")\n",
    "pattern = r'\\d{5}$' # $가 끝나는 정수 다섯자리로 끝나는\n",
    "regex = re.compile(pattern)   # match 시작단어에 매칭하는 값이 있어야 한다 \n",
    "result = regex.match(zipcode) # 일치안하면 None반환 일치하면 match객체 반환\n",
    "if result != None:\n",
    "    print(\"형식이 일치합니다.\")\n",
    "else:\n",
    "    print(\"잘못된 형식입니다.\")"
   ]
  },
  {
   "cell_type": "code",
   "execution_count": null,
   "id": "5234fe43",
   "metadata": {},
   "outputs": [
    {
     "name": "stdout",
     "output_type": "stream",
     "text": [
      "None\n",
      "<re.Match object; span=(0, 4), match='star'>\n",
      "star\n",
      "0\n",
      "4\n",
      "(0, 4)\n",
      "star\n"
     ]
    }
   ],
   "source": [
    "import re\n",
    "\n",
    "text1 = \"I like star\"\n",
    "text2 = \"starship is beautiful\"\n",
    "\n",
    "pattern = \"star\"  # match함수는 첫번째 단어만 가능 \n",
    "print (re.match( pattern, text1)) # None, 뒤에 있어서 안된다.\n",
    "print (re.match( pattern, text2)) # match는 문자열의 시작에서부터 찾기 때문에 text1에서는 None을 반환하고, \n",
    "                                  #text2에서는 'star'를 찾음\n",
    "\n",
    "matchObj = re.match( pattern, text2)\n",
    "print(matchObj.group() )\n",
    "print(matchObj.start() )\n",
    "print(matchObj.end() )\n",
    "print(matchObj.span() )\n",
    "print( text2[:4])"
   ]
  },
  {
   "cell_type": "code",
   "execution_count": 9,
   "id": "1a3f46b8",
   "metadata": {},
   "outputs": [
    {
     "name": "stdout",
     "output_type": "stream",
     "text": [
      "\n",
      "<re.Match object; span=(7, 11), match='star'>\n",
      "<re.Match object; span=(0, 4), match='star'>\n",
      "star\n",
      "7\n",
      "11\n",
      "(7, 11)\n",
      "star\n",
      "0\n",
      "4\n",
      "(0, 4)\n"
     ]
    }
   ],
   "source": [
    "import re\n",
    "\n",
    "text1 = \"I like stars, red star, yellow star\"\n",
    "text2 = \"star is beautiful\"\n",
    "\n",
    "print()\n",
    "pattern = \"star\"\n",
    "print (re.search( pattern, text1))\n",
    "print (re.search( pattern, text2))\n",
    "\n",
    "matchObj = re.search( pattern, text1)\n",
    "print(matchObj.group() )\n",
    "print(matchObj.start() )\n",
    "print(matchObj.end() )\n",
    "print(matchObj.span() )\n",
    "\n",
    "matchObj = re.search( pattern, text2)\n",
    "print(matchObj.group() )\n",
    "print(matchObj.start() )\n",
    "print(matchObj.end() )\n",
    "print(matchObj.span())"
   ]
  },
  {
   "cell_type": "code",
   "execution_count": 10,
   "id": "85e263a9",
   "metadata": {},
   "outputs": [
    {
     "name": "stdout",
     "output_type": "stream",
     "text": [
      "\n",
      "--- 전화번호 추출하기 ---\n",
      "010-0000-0000\n",
      "010-1111-1111\n",
      "010-2222-2222\n",
      "02-345-9090\n",
      "--- 이메일 추출하기 ---\n",
      "test1@nate.com\n",
      "test2@naver.com\n",
      "test3@gmail.com\n",
      "\n"
     ]
    }
   ],
   "source": [
    "import re\n",
    "# 전화번호만 추출하기\n",
    "text = \"\"\"\n",
    "    phone : 010-0000-0000 email:test1@nate.com\n",
    "    phone : 010-1111-1111 email:test2@naver.com\n",
    "    phone : 010-2222-2222 email:test3@gmail.com\n",
    "    phtone: 02-345-9090  email:eedseisk@dse.netwdsweds\n",
    "    \"\"\"\n",
    "print()\n",
    "print(\"--- 전화번호 추출하기 ---\")\n",
    "phonepattern = r\"\\d{2,3}-\\d{3,4}-\\d{4}\"\n",
    "\n",
    "matchObj = re.findall( phonepattern, text) # string 으로 보낸다. \n",
    "\n",
    "for item in matchObj:\n",
    "    print( item)\n",
    "\n",
    "# \\b - boundry 경계 - 단어이어야 한다. 경계 탭,공백,줄바꿈 기호등으로 \n",
    "# 경계가 구분되어야 matching여부를 판단한다 \n",
    "\n",
    "print(\"--- 이메일 추출하기 ---\") \n",
    "emailpattern = r\"\\b[a-zA-Z0-9._%+-]+@[a-zA-Z0-9.-]+\\.[a-zA-Z]{2,4}\\b\"\n",
    "\n",
    "matchObj = re.findall( emailpattern, text)\n",
    "for item in matchObj:\n",
    "    print( item)\n",
    "print()\n"
   ]
  },
  {
   "cell_type": "code",
   "execution_count": 11,
   "id": "94a9e04d",
   "metadata": {},
   "outputs": [
    {
     "name": "stdout",
     "output_type": "stream",
     "text": [
      "\n",
      "--- 전화번호 추출하기 ---\n",
      "010-0000-0000\n",
      "(13, 26)\n",
      "010-1111-1111\n",
      "(60, 73)\n",
      "010-2222-2222\n",
      "(108, 121)\n",
      "02-333-2222\n",
      "(156, 167)\n",
      "\n"
     ]
    }
   ],
   "source": [
    "import re\n",
    "# 전화번호만 추출하기\n",
    "text = \"\"\"\n",
    "    phone : 010-0000-0000 email:test1@nate.com\n",
    "    phone : 010-1111-1111 email:test2@naver.com\n",
    "    phone : 010-2222-2222 email:test3@gmail.com\n",
    "    phone : 02-333-2222 email:test+4@hanmail.net\n",
    "    \"\"\"\n",
    "print()\n",
    "print(\"--- 전화번호 추출하기 ---\")\n",
    "phonepattern = r\"\\d{2,3}-\\d{3,4}-\\d{4}\"\n",
    "\n",
    "matchObj = re.finditer( phonepattern, text) # 반복자 반환\n",
    "\n",
    "for item in matchObj:\n",
    "    print( item.group() )\n",
    "    print( item.span() )\n",
    "\n",
    "print()\n"
   ]
  },
  {
   "cell_type": "code",
   "execution_count": 12,
   "id": "2b4c1c50",
   "metadata": {},
   "outputs": [
    {
     "name": "stdout",
     "output_type": "stream",
     "text": [
      "\n",
      "I like moons, red moon, yellow moon\n",
      "I like moons, red moon, yellow star\n",
      "\n"
     ]
    }
   ],
   "source": [
    "import re\n",
    "\n",
    "text1 = \"I like stars, red star, yellow star\"\n",
    "\n",
    "print()\n",
    "pattern = \"star\"\n",
    "result = re.sub( pattern, \"moon\", text1)\n",
    "print(result)\n",
    "\n",
    "result2 = re.sub( pattern, \"moon\", text1, count=2)\n",
    "print(result2)\n",
    "print()"
   ]
  },
  {
   "cell_type": "code",
   "execution_count": 13,
   "id": "9000395e",
   "metadata": {},
   "outputs": [
    {
     "name": "stdout",
     "output_type": "stream",
     "text": [
      "abc - O\n",
      "abcd - X\n",
      "abc15 - X\n",
      "dabc - O\n",
      " - X\n",
      "s - X\n",
      "I love kabcde - X\n"
     ]
    }
   ],
   "source": [
    "import re\n",
    "\n",
    "pattern = r\"^abc\"\n",
    "pattern = r\"abc\"\n",
    "pattern = r\"abc$\"\n",
    "\n",
    "text = [\"abc\", \"abcd\", \"abc15\", \"dabc\", \"\", \"s\", \"I love kabcde\"]\n",
    "repattern = re.compile(pattern)\n",
    "\n",
    "for item in text:\n",
    "    result = repattern.search(item)\n",
    "    if result:\n",
    "        print(item, \"- O\" )\n",
    "    else:\n",
    "        print(item, \"- X\" )"
   ]
  },
  {
   "cell_type": "code",
   "execution_count": 14,
   "id": "8caab3f2",
   "metadata": {},
   "outputs": [
    {
     "name": "stdout",
     "output_type": "stream",
     "text": [
      "abc - O\n",
      "dabcd - X\n",
      "asdabc - O\n",
      "d12abc - O\n",
      " - X\n",
      "s - X\n"
     ]
    }
   ],
   "source": [
    "import re\n",
    "\n",
    "pattern = r\"abc$\"\n",
    "text = [\"abc\", \"dabcd\", \"asdabc\", \"d12abc\", \"\", \"s\"]\n",
    "repattern = re.compile(pattern)\n",
    "\n",
    "for item in text:\n",
    "    result = repattern.search(item) \n",
    "    #match함수는 첫 시작만을 보기때문에 적용안됨\n",
    "    if result:\n",
    "        print(item, \"- O\" )\n",
    "    else:\n",
    "        print(item, \"- X\" )"
   ]
  },
  {
   "cell_type": "code",
   "execution_count": 15,
   "id": "5812b0b1",
   "metadata": {},
   "outputs": [
    {
     "name": "stdout",
     "output_type": "stream",
     "text": [
      "python - O\n",
      "Python - O\n",
      "PYTHON - X\n",
      "12python - O\n",
      "python3 - O\n",
      "python - X\n",
      "Python - O\n",
      "PYTHON - O\n",
      "korea - X\n",
      "KOREA - O\n",
      "Korea - O\n"
     ]
    }
   ],
   "source": [
    "import re\n",
    "\n",
    "pattern = r\"[p|P]ython\" # 문장중에 python또는 Python \n",
    "text = [\"python\", \"Python\", \"PYTHON\", \"12python\", \"python3\"]\n",
    "repattern = re.compile(pattern)\n",
    "\n",
    "for item in text:\n",
    "    result = repattern.search(item) \n",
    "    # match함수는 첫 시작만을 보기때문에 적용안됨\n",
    "    if result:\n",
    "        print(item, \"- O\" )\n",
    "    else:\n",
    "        print(item, \"- X\" )\n",
    "\n",
    "pattern = r\"[A-Z]\" # 대문자가 하나라도 포함되면 \n",
    "text = [\"python\", \"Python\", \"PYTHON\", \"korea\", \"KOREA\", \"Korea\"]\n",
    "repattern = re.compile(pattern)\n",
    "\n",
    "for item in text:\n",
    "    result = repattern.search(item) \n",
    "    # match함수는 첫 시작만을 보기때문에 적용안됨\n",
    "    if result:\n",
    "        print(item, \"- O\" )\n",
    "    else:\n",
    "        print(item, \"- X\" )"
   ]
  },
  {
   "cell_type": "code",
   "execution_count": 17,
   "id": "52b2f675",
   "metadata": {},
   "outputs": [
    {
     "name": "stdout",
     "output_type": "stream",
     "text": [
      "['abc-O', '1abc-O', '12abc-O', '123-O', 'aa12ab-O']\n"
     ]
    }
   ],
   "source": [
    "import re\n",
    "# ? - 없거나 하나만 있거나 \n",
    "# + - 패턴이 하나이상 반복\n",
    "# * - 없거나 하나이상 반복 \n",
    "\n",
    "patterns=[r\"\\d?\", r\"\\d+\", r\"\\d*\"]\n",
    "text = [\"abc\", \"1abc\", \"12abc\", \"123\", \"aa12ab\"]\n",
    "\n",
    "for pattern in patterns:\n",
    "    resultList=[]\n",
    "    for item in text:\n",
    "        result = re.search(pattern, item)\n",
    "        if result == None:\n",
    "            resultList.append(item+\"-X\")\n",
    "        else:\n",
    "            resultList.append(item+\"-O\")\n",
    "print(resultList)"
   ]
  },
  {
   "cell_type": "code",
   "execution_count": 18,
   "id": "1d6443b6",
   "metadata": {},
   "outputs": [
    {
     "name": "stdout",
     "output_type": "stream",
     "text": [
      "\n",
      "010\n",
      "1234\n",
      "6789\n",
      "010-1234-6789 010 1234 6789\n",
      "02-333-4444 02 333 4444\n",
      "02-333-4445 02 333 4445\n"
     ]
    }
   ],
   "source": [
    "import re\n",
    "  \n",
    "contents = \"\"\"\n",
    "문의사항이 있으면 010-1234-6789 으로 연락주시기 바랍니다.\n",
    "담당자 02-333-4444\n",
    "국장 02-333-4445\n",
    "\"\"\"\n",
    "pattern = r'\\b(\\d{2,3})-(\\d{3,4})-(\\d{4})\\b'\n",
    "regex = re.compile(pattern)\n",
    "result = regex.search(contents)\n",
    "print()\n",
    "if result != None:\n",
    "    phone1 = result.group(1) # 010\n",
    "    phone2 = result.group(2) # 1234\n",
    "    phone3 = result.group(3) # 6789\n",
    "    print(phone1)\n",
    "    print(phone2)\n",
    "    print(phone3) \n",
    "else:\n",
    "    print(\"전화번호가 없습니다.\")\n",
    "\n",
    "result = re.finditer(pattern, contents) \n",
    "for item in result:\n",
    "    print(item.group(0), item.group(1),item.group(2),item.group(3) )"
   ]
  },
  {
   "cell_type": "code",
   "execution_count": 19,
   "id": "0c6ab926",
   "metadata": {},
   "outputs": [
    {
     "name": "stdout",
     "output_type": "stream",
     "text": [
      "678-0909 - O\n",
      "1234-5678 - X\n",
      "0123456789-9999 - X\n",
      "111-00000 - X\n",
      " - X\n",
      "s - X\n",
      "phone number is 123-3333, email   - O\n"
     ]
    }
   ],
   "source": [
    "import re\n",
    "\n",
    "pattern = r\"\\b\\d{3}-\\d{4}\\b\" #하이픈 앞에 숫자 3개 이상, 하이픈 뒤에 숫자 4개 이상 \n",
    "text = [\"678-0909\", \"1234-5678\", \"0123456789-9999\", \"111-00000\", \"\", \"s\", \"phone number is 123-3333, email  \"]\n",
    "repattern = re.compile(pattern)\n",
    "\n",
    "for item in text:\n",
    "    result = repattern.search(item)\n",
    "    if result:\n",
    "        print(item, \"- O\" )\n",
    "    else:\n",
    "        print(item, \"- X\" )"
   ]
  }
 ],
 "metadata": {
  "kernelspec": {
   "display_name": "base",
   "language": "python",
   "name": "python3"
  },
  "language_info": {
   "codemirror_mode": {
    "name": "ipython",
    "version": 3
   },
   "file_extension": ".py",
   "mimetype": "text/x-python",
   "name": "python",
   "nbconvert_exporter": "python",
   "pygments_lexer": "ipython3",
   "version": "3.12.7"
  }
 },
 "nbformat": 4,
 "nbformat_minor": 5
}
