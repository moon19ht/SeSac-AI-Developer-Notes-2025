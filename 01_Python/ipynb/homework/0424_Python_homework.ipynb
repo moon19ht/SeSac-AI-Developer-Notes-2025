{
 "cells": [
  {
   "cell_type": "markdown",
   "id": "91cfbe9d",
   "metadata": {},
   "source": [
    "# ❔ 거리를 입력받아서 km와 m로 전환하기 \n",
    "2300m는 2km 와 300m이다. \n",
    "\n",
    "m(미터)를 입력받아서 각각 km(킬로미터)와 m(미터)로 전환해서 출력하라.\n",
    "> 몫을 구하는 연산자 \" // \", 나머지를 구하는 연산자 \" % \""
   ]
  },
  {
   "cell_type": "code",
   "execution_count": 2,
   "id": "c1a680a7",
   "metadata": {},
   "outputs": [
    {
     "name": "stdout",
     "output_type": "stream",
     "text": [
      "3240미터는 3km와 240m입니다.\n"
     ]
    }
   ],
   "source": [
    "# 변수 받기 \n",
    "length = int(input(\"미터를 입력하세요 : \"))\n",
    "\n",
    "# km 구하기\n",
    "km = length // 1000\n",
    "\n",
    "# m 구하기\n",
    "m = length % 1000\n",
    "\n",
    "print(f\"{length}미터는 {km}km와 {m}m입니다.\")"
   ]
  },
  {
   "cell_type": "markdown",
   "id": "1c8d7e99",
   "metadata": {},
   "source": [
    "--- "
   ]
  },
  {
   "cell_type": "markdown",
   "id": "22a0ec0b",
   "metadata": {},
   "source": [
    "# ❔사다리꼴의 면적 구하기  \n",
    "> 사다리꼴의 면적은 (윗변 + 아랫변) * 높이 / 2 이다."
   ]
  },
  {
   "cell_type": "code",
   "execution_count": 1,
   "id": "05dfdc54",
   "metadata": {},
   "outputs": [
    {
     "name": "stdout",
     "output_type": "stream",
     "text": [
      "사다리꼴 면적 :  80.0\n"
     ]
    }
   ],
   "source": [
    "#변수 받기 \n",
    "a = int(input(\"윗변 입력 : \"))\n",
    "b = int(input(\"아랫변 입력 : \"))\n",
    "h = int(input(\"높이 입력 : \"))\n",
    "\n",
    "#사다리꼴 면적 구하기\n",
    "area = (a + b) * h / 2\n",
    "\n",
    "#출력\n",
    "print(\"사다리꼴 면적 : \", area)"
   ]
  },
  {
   "cell_type": "markdown",
   "id": "d1d38d51",
   "metadata": {},
   "source": [
    "---"
   ]
  },
  {
   "cell_type": "markdown",
   "id": "f83f9dc0",
   "metadata": {},
   "source": [
    "# ❔ 사과와 배를 사는 프로그램 작성\n",
    "철수가 식료품점에 가서 과일을 샀다. 사과와 배를 샀는데 사과는 한 개에 5000원이고 배는 10000원이다. \n",
    "\n",
    "각각 사과와 배의 개수를 입력받아 총액을 구하는 프로그램을 작성하라."
   ]
  },
  {
   "cell_type": "code",
   "execution_count": 2,
   "id": "27dd8a5a",
   "metadata": {},
   "outputs": [
    {
     "name": "stdout",
     "output_type": "stream",
     "text": [
      "총 금액은 105000 원입니다.\n"
     ]
    }
   ],
   "source": [
    "#변수 받기\n",
    "apple = int(input(\"사과의 개수는? \"))\n",
    "banana = int(input(\"배의 개수는? \"))\n",
    "\n",
    "#계산\n",
    "apple_price = apple * 5000\n",
    "banana_price = banana * 10000\n",
    "\n",
    "#결과\n",
    "print(\"총 금액은\", apple_price + banana_price, \"원입니다.\")"
   ]
  },
  {
   "cell_type": "markdown",
   "id": "819fbd1e",
   "metadata": {},
   "source": [
    "---"
   ]
  },
  {
   "cell_type": "markdown",
   "id": "8d9b1612",
   "metadata": {},
   "source": [
    "# ❔거스름돈을 계산하기 : 10만원을 넣고 거스름돈 받기\n",
    "> 물건 값 : 27560원, 거스름돈 : 72440원, 50000원 - 1장, 10000원 - 2장, ...\n",
    "    "
   ]
  },
  {
   "cell_type": "code",
   "execution_count": 4,
   "id": "ff6c85aa",
   "metadata": {},
   "outputs": [
    {
     "name": "stdout",
     "output_type": "stream",
     "text": [
      "물건 값 :  46500 원\n",
      "거스름돈 :  53500 원\n",
      "50000원 -  1 장\n",
      "10000원 -  0 장\n",
      "5000원 -  0 장\n",
      "1000원 -  3 장\n",
      "500원 -  1 개\n",
      "100원 -  0 개\n",
      "50원 -  0 개\n",
      "10원 -  0 개\n",
      "1원 -  0 개\n"
     ]
    }
   ],
   "source": [
    "# 물건값 입력받기\n",
    "money = int(input(\"물건 값 : \"))\n",
    "\n",
    "# 거스름돈 계산\n",
    "change = 100000 - money\n",
    "\n",
    "print(\"물건 값 : \", money, \"원\")\n",
    "\n",
    "print(\"거스름돈 : \", change, \"원\")\n",
    "\n",
    "# 지폐, 동전 개수 계산\n",
    "print(\"50000원 - \", int(change / 50000), \"장\")\n",
    "change %= 50000\n",
    "\n",
    "print(\"10000원 - \", int(change / 10000), \"장\")\n",
    "change %= 10000\n",
    "\n",
    "print(\"5000원 - \", int(change / 5000), \"장\")\n",
    "change %= 5000\n",
    "\n",
    "print(\"1000원 - \", int(change / 1000), \"장\")\n",
    "change %= 1000\n",
    "\n",
    "print(\"500원 - \", int(change / 500), \"개\")\n",
    "change %= 500\n",
    "\n",
    "print(\"100원 - \", int(change / 100), \"개\")\n",
    "change %= 100\n",
    "\n",
    "print(\"50원 - \", int(change / 50), \"개\")\n",
    "change %= 50\n",
    "\n",
    "print(\"10원 - \", int(change / 10), \"개\")\n",
    "change %= 10\n",
    "\n",
    "print(\"1원 - \", int(change / 1), \"개\")\n",
    "change %= 1"
   ]
  },
  {
   "cell_type": "markdown",
   "id": "1f980f1c",
   "metadata": {},
   "source": [
    "---"
   ]
  },
  {
   "cell_type": "code",
   "execution_count": null,
   "id": "e5c5ea98",
   "metadata": {},
   "outputs": [
    {
     "name": "stdout",
     "output_type": "stream",
     "text": [
      "거스름돈 :  53500 원\n",
      "50000원 - 1장\n",
      "10000원 - 0장\n",
      "5000원 - 0장\n",
      "1000원 - 3장\n",
      "500원 - 1개\n",
      "100원 - 0개\n",
      "50원 - 0개\n",
      "10원 - 0개\n",
      "1원 - 0개\n"
     ]
    }
   ],
   "source": [
    "# NOTE for문, if 문 응용\n",
    "\n",
    "# 물건값 입력받기\n",
    "money = int(input(\"물건 값 : \"))\n",
    "\n",
    "# 거스름돈 계산\n",
    "change = 100000 - money\n",
    "print(\"거스름돈 : \", change, \"원\")\n",
    "\n",
    "# 지폐와 동전 단위 정의\n",
    "units = [50000, 10000, 5000, 1000, 500, 100, 50, 10, 1]\n",
    "\n",
    "# 지폐와 동전 개수 계산 및 출력\n",
    "for unit in units:\n",
    "    count = change // unit  # 해당 단위의 개수 계산\n",
    "    if unit >= 1000:\n",
    "        print(f\"{unit}원 - {count}장\")\n",
    "    else:\n",
    "        print(f\"{unit}원 - {count}개\")\n",
    "    change %= unit  # 나머지 계산\n"
   ]
  }
 ],
 "metadata": {
  "kernelspec": {
   "display_name": "base",
   "language": "python",
   "name": "python3"
  },
  "language_info": {
   "codemirror_mode": {
    "name": "ipython",
    "version": 3
   },
   "file_extension": ".py",
   "mimetype": "text/x-python",
   "name": "python",
   "nbconvert_exporter": "python",
   "pygments_lexer": "ipython3",
   "version": "3.12.7"
  }
 },
 "nbformat": 4,
 "nbformat_minor": 5
}
