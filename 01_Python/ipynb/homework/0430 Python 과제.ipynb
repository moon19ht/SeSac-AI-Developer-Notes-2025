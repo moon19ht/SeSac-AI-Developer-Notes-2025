{
 "cells": [
  {
   "cell_type": "code",
   "execution_count": 1,
   "id": "8f13878d",
   "metadata": {},
   "outputs": [],
   "source": [
    "\n",
    "words = [\"assembly\", \"java\", \"rain\", \"notebook\", \"north\", \n",
    "            \"south\", \"hospital\", \"programming\", \"house\", \"hour\"]"
   ]
  },
  {
   "cell_type": "code",
   "execution_count": 2,
   "id": "08b1f4b8",
   "metadata": {},
   "outputs": [
    {
     "name": "stdout",
     "output_type": "stream",
     "text": [
      "문제1 결과: ['assembly', 'notebook', 'hospital', 'programming']\n"
     ]
    }
   ],
   "source": [
    "#TODO 문제1. filter를 사용해서 글자수가 6글자 이상인 단어만 출력하기 (컴프리핸션X)\n",
    "\n",
    "long_words = list(filter(lambda word: len(word) >= 6, words))\n",
    "print(\"문제1 결과:\", long_words)"
   ]
  },
  {
   "cell_type": "code",
   "execution_count": 3,
   "id": "3d02fbc4",
   "metadata": {},
   "outputs": [
    {
     "name": "stdout",
     "output_type": "stream",
     "text": [
      "문제2 결과: ['ASSEMBLY', 'JAVA', 'RAIN', 'NOTEBOOK', 'NORTH', 'SOUTH', 'HOSPITAL', 'PROGRAMMING', 'HOUSE', 'HOUR']\n"
     ]
    }
   ],
   "source": [
    "#TODO 문제2. map함수를 사용해서 글자를 대문자로 바꾸어서 출력하기  (컴프리핸션X)\n",
    "\n",
    "upper_words = list(map(str.upper, words))\n",
    "print(\"문제2 결과:\", upper_words)"
   ]
  },
  {
   "cell_type": "code",
   "execution_count": 4,
   "id": "b0c9fc9f",
   "metadata": {},
   "outputs": [
    {
     "name": "stdout",
     "output_type": "stream",
     "text": [
      "문제3 결과: ['java', 'rain', 'hour', 'north', 'south', 'house', 'assembly', 'notebook', 'hospital', 'programming']\n"
     ]
    }
   ],
   "source": [
    "#TODO 문제3. sorted 함수를 사용하여 단어들의 길이순으로 오름차순 정렬하여 출력하기\n",
    "\n",
    "sorted_by_length = sorted(words, key=len)\n",
    "print(\"문제3 결과:\", sorted_by_length)"
   ]
  },
  {
   "cell_type": "code",
   "execution_count": 5,
   "id": "e440fe2c",
   "metadata": {},
   "outputs": [
    {
     "name": "stdout",
     "output_type": "stream",
     "text": [
      "문제4 결과: ['south', 'rain', 'programming', 'notebook', 'north', 'java', 'house', 'hour', 'hospital', 'assembly']\n"
     ]
    }
   ],
   "source": [
    "#TODO 문제4. sorted 함수를 사용하여 알파벳 순으로 내림차순으로 정렬하여 출력하기 \n",
    "\n",
    "sorted_reverse_alpha = sorted(words, reverse=True)\n",
    "print(\"문제4 결과:\", sorted_reverse_alpha)"
   ]
  },
  {
   "cell_type": "code",
   "execution_count": 6,
   "id": "508b4cf5",
   "metadata": {},
   "outputs": [
    {
     "name": "stdout",
     "output_type": "stream",
     "text": [
      "문제5 결과: 7개\n"
     ]
    }
   ],
   "source": [
    "#TODO 문제5. 단어중에 o가 포함되는 단어가 모두 몇개인지 카운트하기 (힌트,filter를 사용)     \n",
    "\n",
    "words_with_o = list(filter(lambda word: 'o' in word, words))\n",
    "print(\"문제5 결과: {}개\".format(len(words_with_o)))"
   ]
  },
  {
   "cell_type": "markdown",
   "id": "8973b4e4",
   "metadata": {},
   "source": [
    "- zip함수 => 파이썬만 제공한다. 리스트가 2개이상 있는데 이걸 조합해서 새로운 형태로 만든다.\n",
    "- [\"a\", b, c]와 [1, 2, 3]을 zip하면 [('a', 1), ('b', 2), ('c', 3)]로 만들어준다."
   ]
  }
 ],
 "metadata": {
  "kernelspec": {
   "display_name": "base",
   "language": "python",
   "name": "python3"
  },
  "language_info": {
   "codemirror_mode": {
    "name": "ipython",
    "version": 3
   },
   "file_extension": ".py",
   "mimetype": "text/x-python",
   "name": "python",
   "nbconvert_exporter": "python",
   "pygments_lexer": "ipython3",
   "version": "3.12.7"
  }
 },
 "nbformat": 4,
 "nbformat_minor": 5
}
