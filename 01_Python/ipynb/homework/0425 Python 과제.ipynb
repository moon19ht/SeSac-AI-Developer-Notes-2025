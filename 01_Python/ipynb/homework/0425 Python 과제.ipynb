{
 "cells": [
  {
   "cell_type": "markdown",
   "id": "232565ce",
   "metadata": {},
   "source": [
    "# ❔ 문자열 연습하기  \n",
    "1. 변수에 값 \"홍길동,임꺽정,장길산,최영,윤관,강감찬,서희,이순신,남이\"\n",
    "2. =>list타입으로 전환해서 \n",
    "3. =>\"서희\" 가 몇번째에 있는지 \n",
    "4. \"이순신\", \"장영실\" 존재여부 확인 \n",
    "5. 추가할 사람 : \"정도전\", \"정약용\", \"최치원\" ....\n",
    "6. \"서희\" => \"김종서\" 로 바꾸기 \n",
    "7. 장길산 => 김길산 첫글자만 바꾸기 "
   ]
  },
  {
   "cell_type": "code",
   "execution_count": 1,
   "id": "6d02546a",
   "metadata": {},
   "outputs": [
    {
     "name": "stdout",
     "output_type": "stream",
     "text": [
      "['홍길동', '임꺽정', '장길산', '최영', '윤관', '강감찬', '서희', '이순신', '남이']\n"
     ]
    }
   ],
   "source": [
    "# 변수 리스트 생성\n",
    "data = ['홍길동', '임꺽정', '장길산', '최영', '윤관', '강감찬', '서희', '이순신', '남이']\n",
    "\n",
    "# 문자열을 list타입으로 변환\n",
    "people = list(data)\n",
    "print(people)"
   ]
  },
  {
   "cell_type": "code",
   "execution_count": 2,
   "id": "098fabb9",
   "metadata": {},
   "outputs": [
    {
     "name": "stdout",
     "output_type": "stream",
     "text": [
      "서희는 7번째에 있습니다.\n"
     ]
    }
   ],
   "source": [
    "# \"서희\"가 몇번째에 있는지 확인\n",
    "index_seohee = people.index(\"서희\")+1 # 파이썬은 0부터 시작하기 때문\n",
    "print(f\"서희는 {index_seohee}번째에 있습니다.\")"
   ]
  },
  {
   "cell_type": "code",
   "execution_count": 3,
   "id": "84fcfa19",
   "metadata": {},
   "outputs": [
    {
     "name": "stdout",
     "output_type": "stream",
     "text": [
      "\"이순신\" 존재 여부: True\n",
      "\"장영실\" 존재 여부: False\n"
     ]
    }
   ],
   "source": [
    "# \"이순신\", \"장영실\" 존재여부 확인 \n",
    "exists_lee = \"이순신\" in people\n",
    "exists_jang = \"장영실\" in people\n",
    "print(f'\"이순신\" 존재 여부: {exists_lee}')\n",
    "print(f'\"장영실\" 존재 여부: {exists_jang}')"
   ]
  },
  {
   "cell_type": "code",
   "execution_count": 4,
   "id": "57fe44e4",
   "metadata": {},
   "outputs": [
    {
     "name": "stdout",
     "output_type": "stream",
     "text": [
      "['홍길동', '임꺽정', '장길산', '최영', '윤관', '강감찬', '김종서', '이순신', '남이']\n"
     ]
    }
   ],
   "source": [
    "# 서희를 김종서로 바꾸기\n",
    "if \"서희\" in people:\n",
    "    idx = people.index(\"서희\")\n",
    "    people[idx] = \"김종서\"\n",
    "print(people)"
   ]
  },
  {
   "cell_type": "code",
   "execution_count": 5,
   "id": "04060be1",
   "metadata": {},
   "outputs": [
    {
     "name": "stdout",
     "output_type": "stream",
     "text": [
      "['홍길동', '임꺽정', '김길산', '최영', '윤관', '강감찬', '김종서', '이순신', '남이']\n"
     ]
    }
   ],
   "source": [
    "# 장길산 => 김길산 첫글자만 바꾸기\n",
    "for i, name in enumerate(people):\n",
    "    if name == \"장길산\":\n",
    "        people[i] = \"김\" + name[1:]  # 첫 글자만 \"김\"으로 변경\n",
    "print(people)"
   ]
  }
 ],
 "metadata": {
  "kernelspec": {
   "display_name": "base",
   "language": "python",
   "name": "python3"
  },
  "language_info": {
   "codemirror_mode": {
    "name": "ipython",
    "version": 3
   },
   "file_extension": ".py",
   "mimetype": "text/x-python",
   "name": "python",
   "nbconvert_exporter": "python",
   "pygments_lexer": "ipython3",
   "version": "3.12.7"
  }
 },
 "nbformat": 4,
 "nbformat_minor": 5
}
