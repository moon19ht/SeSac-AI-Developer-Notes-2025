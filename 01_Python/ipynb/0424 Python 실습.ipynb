{
 "cells": [
  {
   "cell_type": "markdown",
   "id": "648369cf",
   "metadata": {},
   "source": [
    "# 문자열\n"
   ]
  },
  {
   "cell_type": "code",
   "execution_count": null,
   "id": "d5170865",
   "metadata": {},
   "outputs": [
    {
     "name": "stdout",
     "output_type": "stream",
     "text": [
      "Python String\n",
      "hello\n",
      "\n",
      "            동해물과 백두산이\n",
      "            마르고 닳도록\n",
      "            하느님이 보우하사\n",
      "            우리나라 만세\n",
      "\n"
     ]
    }
   ],
   "source": [
    "s = \"Python String\"\n",
    "s2 = 'hello'\n",
    "# 여러줄에 걸칠때는 \"\"\" ~\"\"\"  '''~'''\n",
    "\n",
    "s3 = \"\"\"\n",
    "            동해물과 백두산이\n",
    "            마르고 닳도록\n",
    "            하느님이 보우하사\n",
    "            우리나라 만세\n",
    "\"\"\"\n",
    "print(s)\n",
    "print(s2)\n",
    "print(s3)"
   ]
  },
  {
   "cell_type": "code",
   "execution_count": null,
   "id": "a12e1f6f",
   "metadata": {},
   "outputs": [
    {
     "name": "stdout",
     "output_type": "stream",
     "text": [
      "P\n",
      "y\n",
      "t\n",
      "Pyt\n",
      "Python\n",
      "Pto\n",
      "String\n",
      "문자열의 길이  13\n",
      "gnirtS nohty\n",
      "\n",
      "gnirtS nohtyP\n",
      "gnirtS nohtyP\n"
     ]
    }
   ],
   "source": [
    "# 인덱싱 - 0 번부터 시작해서 0,1,2 ....\n",
    "print( s[0] )\n",
    "print( s[1] )\n",
    "print( s[2] )\n",
    "# print( s[20] )  #IndexError  Index out of range\n",
    "# 슬라이싱   [시작:종료:증감치] \n",
    "# 시작위치부터 증감치만큼 증가 또는 감소하면서 종료보다 하나짝게 \n",
    "print(s[0:3]) # 0,1,2 3개만 출력  Pyt\n",
    "print(s[0:6]) # 0,1,2,3,4,5, Python, 증감치를 생략하면 +1 생각한다\n",
    "print(s[0:6:2]) # 0,2,4,  Pto\n",
    "print(s[7:])  # 7번방부터 마지막까지 \n",
    "print(\"문자열의 길이 \", len(s)) # 마지막방 번호는 len(s)-1` \n",
    "print(s[len(s)-1:0:-1])\n",
    "print(s[len(s)-1:-1:-1]) # 파이썬 버전에 따라서 에러메시지가 뜨기도 하고 아무것도 출력안한다. \n",
    "print(s[len(s)-1::-1]) # 정답이다\n",
    "print(s[::-1]) # 생략하면 알아서 처리한다. - 역순으로 출력한다 "
   ]
  },
  {
   "cell_type": "code",
   "execution_count": 3,
   "id": "b8896f7c",
   "metadata": {},
   "outputs": [
    {
     "name": "stdout",
     "output_type": "stream",
     "text": [
      "I like star.\n",
      "red star\n",
      "blue star.\n",
      "apple\t pear\t cherry \t  banana\n",
      "c:\test\temp\n",
      "c:\\test\\temp\n",
      "c:\\test\\temp\n"
     ]
    }
   ],
   "source": [
    "# escape문자 \\n-줄바꿈, \\t - 탭키 작동 \n",
    "s = \"I like star.\\nred star\\nblue star.\"\n",
    "print(s)\n",
    "s = \"apple\\t pear\\t cherry \\t  banana\"\n",
    "print(s)\n",
    "s = \"c:\\test\\temp\"\n",
    "print(s)\n",
    "\n",
    "# escape기능을 무력화하고자 한다.  \n",
    "# 1) \\\\  2)r 문자열 문자열앞에 r을 붙인다. \n",
    "s = \"c:\\\\test\\\\temp\"\n",
    "print(s)\n",
    "\n",
    "s = r\"c:\\test\\temp\"\n",
    "print(s)"
   ]
  },
  {
   "cell_type": "code",
   "execution_count": 4,
   "id": "cec94e9e",
   "metadata": {},
   "outputs": [
    {
     "name": "stdout",
     "output_type": "stream",
     "text": [
      "I like 'stepany' \n",
      "I like \"stepany\" \n"
     ]
    }
   ],
   "source": [
    "# 문장안에 ' 나 \" 가 있을때 처리방식 \n",
    "s = 'I like \\'stepany\\' '\n",
    "print(s)\n",
    "\n",
    "s = \"I like \\\"stepany\\\" \"\n",
    "print(s)"
   ]
  },
  {
   "cell_type": "code",
   "execution_count": 5,
   "id": "23f2ac7e",
   "metadata": {},
   "outputs": [
    {
     "name": "stdout",
     "output_type": "stream",
     "text": [
      "역슬래시(\\)는 특별한 기능을 갖는 문자이다. \n",
      "red\tgreen\tblueyellow,cyan,magenta\n",
      "********************\n",
      "========================================\n"
     ]
    }
   ],
   "source": [
    "# 다른언어의 경우는 문자는 '' 문자열은 \"\"\n",
    "# 때로는 \\ 를 직접 출력해야 하는 경우가 있다 \n",
    "s = \"역슬래시(\\\\)는 특별한 기능을 갖는 문자이다. \"\n",
    "print(s)\n",
    "\n",
    "#print 사용방법 \n",
    "print(\"red\", \"green\", \"blue\", sep=\"\\t\", end=\"\")\n",
    "print(\"yellow\", \"cyan\", \"magenta\", sep=\",\")\n",
    "\n",
    "print(\"*\"*20)\n",
    "\n",
    "print(\"=\" * 40)"
   ]
  },
  {
   "cell_type": "code",
   "execution_count": 6,
   "id": "ea41126c",
   "metadata": {},
   "outputs": [
    {
     "name": "stdout",
     "output_type": "stream",
     "text": [
      "홍길동 의 나이는 34 입니다 그리고 키는 183.50 입니다 \n",
      "8진수 45\n",
      "16진수 25%\n",
      "        hi      hello\n",
      "hi        , hello     \n",
      "3.415920\n",
      "3.42\n",
      "   3.42\n",
      "이름 : 홍길동  나이 : 34  홍길동 홍길동 34\n",
      "이름 : 홍길동  나이 : 34\n",
      "이름 : 홍길동 홍길동 34\n"
     ]
    }
   ],
   "source": [
    "# 문자열 포매팅 - 문자, 숫자 섞어서 문장만들때 사용한다. \n",
    "name = \"홍길동\"\n",
    "age = 34\n",
    "height=183.5\n",
    "# %s - string 의 약자 \n",
    "# %d - decimal 의 약자 \n",
    "# %f - float의 약자  \n",
    "# %자릿수형식        %10d     f의 경우는 %전체자리수.소수점이하자리수f  \n",
    "s = \"%s 의 나이는 %d 입니다 그리고 키는 %.2f 입니다 \" % (name, age, height)\n",
    "print(s)\n",
    "\n",
    "a = 37 \n",
    "print( \"8진수 %o\" % a)\n",
    "print( \"16진수 %x%%\" % a)\n",
    "\n",
    "print( \"%10s %10s\" % (\"hi\",\"hello\")) \n",
    "# 10자리를 확보하고 오른쪽부터 채워온다. \n",
    "print( \"%-10s, %-10s\"  % (\"hi\",\"hello\")) \n",
    "# 10자리를 확보하고 왼쪽쪽부터 채워온다. \n",
    "\n",
    "a = 3.41592 \n",
    "print( \"%f\" % a)\n",
    "print( \"%.2f\" % a)\n",
    "print( \"%7.2f\" % a)\n",
    "\n",
    "print(\"이름 : {0}  나이 : {1}  {0} {0} {1}\".format(name, age ))\n",
    "print(\"이름 : {}  나이 : {}\".format(name, age ))\n",
    "print(\"이름 : {st_name} {st_name} {age}\".format(st_name=name, age=age ))"
   ]
  },
  {
   "cell_type": "code",
   "execution_count": 8,
   "id": "18b2238a",
   "metadata": {},
   "outputs": [
    {
     "name": "stdout",
     "output_type": "stream",
     "text": [
      "이름 : 홍길동  나이 : 34\n",
      "이름 : 홍길동 나이 : 34\n",
      "hi         hello     \n",
      "        hi      hello\n",
      "    hi       hello   \n",
      "====hi==== **hello***\n",
      "3.1416\n",
      "10 + 20 = 30\n"
     ]
    }
   ],
   "source": [
    "# 문자열앞에 f를 쓰고 {변수명} - f string \n",
    "print(f\"이름 : {name}  나이 : {age}\")\n",
    "\n",
    "print(\"이름 : \", end=\"\")\n",
    "print(name, end=\" \")\n",
    "print(\"나이 : \", end=\"\")\n",
    "print(age)\n",
    "\n",
    "print( \"{0:<10} {1:<10}\".format(\"hi\", \"hello\"))\n",
    "print( \"{0:>10} {1:>10}\".format( \"hi\", \"hello\"))\n",
    "print( \"{0:^10} {1:^10}\".format(\"hi\", \"hello\"))\n",
    "print( \"{0:=^10} {1:*^10}\".format(\"hi\", \"hello\"))\n",
    "\n",
    "print( \"{0:.4f}\".format(3.141592) )\n",
    "\n",
    "x = int(input(\"x = \"))\n",
    "y = int(input(\"y = \")) \n",
    "print(f\"{x} + {y} = {x+y}\")"
   ]
  },
  {
   "cell_type": "code",
   "execution_count": null,
   "id": "cf7d1bf7",
   "metadata": {},
   "outputs": [
    {
     "name": "stdout",
     "output_type": "stream",
     "text": [
      "2\n",
      "2\n",
      "-1\n",
      "4\n",
      "7\n",
      "7\n",
      "17\n",
      "28\n",
      "41\n"
     ]
    }
   ],
   "source": [
    "s = \"hobby\"\n",
    "print(s.count('b')) # b가 몇개 있는가\n",
    "\n",
    "# 문자의 위치값\n",
    "print(s.find('b')) # 첫번쨰 문자 위치값을 변환\n",
    "print(s.find('k')) # 없으면 -1을 반환 인덱싱할떄 \n",
    "# 0번방부터 -1이 유효하지 않다는 의미\n",
    "\n",
    "v = \"I like star. red star. blue star. I like star.\"\n",
    "print(v.count('star'))\n",
    "print(v.find('star'))\n",
    "\n",
    "pos1 = v.find('star') \n",
    "print(pos1)\n",
    "\n",
    "pos2 = v.find('star', pos1+1)\n",
    "print(pos2)\n",
    "\n",
    "pos3 = v.find('star', pos2+1)\n",
    "print(pos3)\n",
    "\n",
    "print(v.find('star', pos3+1))\n",
    "\n",
    "# pos1 = v.index('love') # 해당 단어가 없으면 오류가 일어난다."
   ]
  },
  {
   "cell_type": "markdown",
   "id": "c94433e4",
   "metadata": {},
   "source": [
    "\n",
    "---\n",
    "\n",
    "# 문자열 함수\n"
   ]
  },
  {
   "cell_type": "code",
   "execution_count": null,
   "id": "c5bcd6f3",
   "metadata": {},
   "outputs": [
    {
     "name": "stdout",
     "output_type": "stream",
     "text": [
      "2\n",
      "0\n",
      "2\n",
      "-1\n",
      "4\n",
      "7\n",
      "7\n",
      "17\n",
      "28\n",
      "41\n",
      "2\n",
      "a,b,c,d\n",
      "cherry,banana,pear,grape\n",
      "['cherry', 'banana', 'pear', 'grape']\n",
      "HI\n",
      "hi\n",
      "*      hi     *\n",
      "*hi     *\n",
      "*      hi*\n",
      "*hi*\n",
      "True\n",
      "False\n",
      "False\n",
      "True\n",
      "HELLO hello\n",
      "HELLO\n"
     ]
    }
   ],
   "source": [
    "s = \"hobby\"\n",
    "print( s.count(\"b\") ) # b가 몇개 있는가 \n",
    "print( s.count(\"t\") )\n",
    "\n",
    "#문자의 위치값 \n",
    "print(s.find(\"b\")) # 첫번째 문자 위치값을 반환\n",
    "print(s.find(\"k\")) # 없으면 -1을 반환 인덱싱할때 0번방부터 -1이 유용하지 않다는 의미임 \n",
    "s = \"I like star. red star. blue star. I like star.\"\n",
    "print( s.count(\"star\"))\n",
    "print( s.find(\"star\"))\n",
    "\n",
    "pos1 = s.find(\"star\") # 0번째 방부터 찾기 \n",
    "print(pos1)\n",
    "\n",
    "pos2 = s.find(\"star\", pos1+1) # 첫번째 star 찾은 그 다음부터 찾아라라\n",
    "print(pos2)\n",
    "\n",
    "pos3 = s.find(\"star\", pos2+1) \n",
    "print(pos3)\n",
    "\n",
    "pos4 = s.find(\"star\", pos3+1) \n",
    "print(pos4)\n",
    "\n",
    "pos1 = s.index(\"like\")\n",
    "print( pos1 )\n",
    "\n",
    "# pos1  = s.index(\"love\") # 단어가 없으면 예외가 발생한다. 오류가 남 \n",
    "# print( pos1 )\n",
    "\n",
    "s = \",\".join(\"abcd\")\n",
    "print(s)\n",
    "\n",
    "# [] 에 전달된 단어들을 처음 \",\" 이 안에 있는 기호로 묶어서 문장으로 만들어주는 역할을 한다 \n",
    "# [] - list타입으로 부른다. 여러개를 묶어준다 \n",
    "s = \",\".join([\"cherry\", \"banana\", \"pear\", \"grape\"])\n",
    "print(s)\n",
    "\n",
    "# 반대역할 문장을 -> list타입 \n",
    "words = s.split(\",\") # 하나의 문장을 쪼갠다. => list타입으로 전환한다 \n",
    "print(words)\n",
    "\n",
    "print( \"hi\".upper() )\n",
    "print( \"HI\".lower() )\n",
    "\n",
    "s = \"      hi     \"\n",
    "print( \"*\"+ s+\"*\" )\n",
    "print( \"*\"+ s.lstrip() +\"*\")\n",
    "print( \"*\"+ s.rstrip() +\"*\")\n",
    "print( \"*\"+ s.strip() +\"*\")\n",
    "\n",
    "print( \"python\".isalpha() )\n",
    "print( \"python1\".isalpha() )\n",
    "\n",
    "print( \"python\".isdigit() )\n",
    "print( \"123\".isdigit() )\n",
    "\n",
    "s = \"hello\"  # upper 바뀐값을 반환 원래 값은 안바뀜 \n",
    "print(s.upper(), s )\n",
    "s = s.upper()\n",
    "print( s )\n"
   ]
  },
  {
   "cell_type": "markdown",
   "id": "2e426f68",
   "metadata": {},
   "source": [
    "\n",
    "---\n",
    "\n",
    "# 리스트"
   ]
  },
  {
   "cell_type": "code",
   "execution_count": 11,
   "id": "6740b5ae",
   "metadata": {},
   "outputs": [
    {
     "name": "stdout",
     "output_type": "stream",
     "text": [
      "red\n",
      "green\n",
      "blue\n",
      "['red', 'green', 'blue']\n",
      "['red', 'green', 'blue', 'black', 'cyan']\n",
      "단어개수 5\n",
      "red개수 1\n",
      "red위치 0\n",
      "yello는 없다\n",
      "yello는 없다\n",
      "['cyan', 'black', 'blue', 'green', 'red']\n",
      "['white', 'green', 'blue', 'black', 'cyan']\n",
      "White\n",
      "White\n",
      "['white', 'green', 'blue', 'black', 'cyan', 'brown', 'violet', 'puple', 'magenta']\n",
      "white, green, blue, black, cyan, brown, violet, puple, magenta\n",
      "['white', 'green', 'blue', 'black', 'cyan', 'brown', 'violet', 'puple', 'magenta']\n",
      "1\n",
      "[1, 3, 5, 7, 9]\n",
      "[10, 9, 8, 7, 6, 5, 4, 3, 2, 1]\n",
      "[2, 4, 6, 8, 10]\n",
      "['홍길동', '임꺽정', '장길산', '홍경래']\n",
      "['모란', '작약', '불두화', '목련']\n"
     ]
    }
   ],
   "source": [
    "# 성적처리 3명이면 \n",
    "# name1, name2, name3\n",
    "# list타입 => 배열 \n",
    "words = [\"red\", \"green\", \"blue\"]  # list타입, 인덱싱과 슬라이싱을 지원한다 \n",
    "print( words[0] ) # indexing \n",
    "print( words[1] )\n",
    "print( words[2] )\n",
    "print( words ) # 한번에 출력가능 \n",
    "# 새로운 단어 추가하기 \n",
    "words.append(\"black\")\n",
    "words.append(\"cyan\")\n",
    "print( words )\n",
    "print(\"단어개수\", len(words))\n",
    "print(\"red개수\", words.count(\"red\"))\n",
    "print(\"red위치\", words.index(\"red\"))\n",
    "if words.count(\"yellow\") :\n",
    "    print(\"yellow 위치\", words.index(\"yellow\"))\n",
    "else:\n",
    "    print(\"yello는 없다\")\n",
    "\n",
    "# in연산자   \"내용\" in list타입  있으면 True 없으면  False 를 반환한다 \n",
    "if  \"yellow\" in words :\n",
    "    print(\"yellow 위치\", words.index(\"yellow\"))\n",
    "else:\n",
    "    print(\"yello는 없다\")\n",
    "\n",
    "print( words[::-1]) \n",
    "\n",
    "# 인덱싱- list타입의 경우에는 인덱싱을 통해 값 변경가능 , 문자열은 indexing을 통한 값 변경불가  \n",
    "words[0]=\"white\"\n",
    "print( words )\n",
    "\n",
    "s = \"white\"\n",
    "# s[0] ='W' 문자열의 경우는 인덱싱을 통한 값 변경은 불가능하다. \n",
    "s = s.replace(\"w\", \"W\")\n",
    "print( s )\n",
    "s = \"white\"\n",
    "s2 = \"W\"+s[1:]\n",
    "print( s2)\n",
    "\n",
    "# extend  함수 - 리스트와 리스트를 합친다. \n",
    "words.extend( [\"brown\", \"violet\", \"puple\", \"magenta\"])\n",
    "print( words)\n",
    "\n",
    "# list => str , join을 사용한다 \n",
    "s = \", \".join(words)\n",
    "print(s)\n",
    "\n",
    "# str => list \n",
    "words2 = s.split(\", \")\n",
    "print( words2 ) \n",
    "\n",
    "numbers = [1,2,3,4,5,6,7,8,9,10]\n",
    "print(numbers[0])\n",
    "print(numbers[0::2])\n",
    "print(numbers[::-1])\n",
    "print(numbers[1::2])\n",
    "\n",
    "# 리스트만들기 \n",
    "names = [] # names =list()  동일한 문법이다\n",
    "names.append(\"홍길동\")\n",
    "names.append(\"임꺽정\")\n",
    "names.append(\"장길산\")\n",
    "names.append(\"홍경래\")\n",
    "print(names) \n",
    "\n",
    "names =list()\n",
    "names.append(\"모란\")\n",
    "names.append(\"작약\")\n",
    "names.append(\"불두화\")\n",
    "names.append(\"목련\")\n",
    "\n",
    "print(names)\n",
    "\n",
    "\n"
   ]
  },
  {
   "cell_type": "markdown",
   "id": "321e0382",
   "metadata": {},
   "source": [
    "\n",
    "---\n",
    "# 성적처리\n",
    "\n",
    "이름, 국어, 영어, 수학 성적을 입력받아 총점과 평균을 구하여 출력\n",
    "\n",
    "입력 : 이름(문자열), 국어, 영어, 수학\n",
    "\n",
    "출력 : 총점, 평균\n"
   ]
  },
  {
   "cell_type": "code",
   "execution_count": 12,
   "id": "40f85dd5",
   "metadata": {},
   "outputs": [
    {
     "name": "stdout",
     "output_type": "stream",
     "text": [
      "홍길동 의 총점은  265 이고 평균은  88.33333333333333 입니다.\n"
     ]
    }
   ],
   "source": [
    "student_name = input('이름: ')\n",
    "student_kor = int(input('국어: '))\n",
    "student_eng = int(input('영어: '))\n",
    "student_math = int(input('수학: '))\n",
    "student_average = (student_kor+student_eng+student_math)/3\n",
    "student_total = student_kor+student_eng+student_math\n",
    "\n",
    "print(student_name, '의 총점은 ', student_total, '이고 평균은 ', student_average, '입니다.')\n"
   ]
  },
  {
   "cell_type": "markdown",
   "id": "5792c91e",
   "metadata": {},
   "source": [
    "\n",
    "---\n",
    "# 주급 계산"
   ]
  },
  {
   "cell_type": "code",
   "execution_count": 13,
   "id": "09c30c4b",
   "metadata": {},
   "outputs": [
    {
     "name": "stdout",
     "output_type": "stream",
     "text": [
      "강감찬님의 급여는 600000입니다.\n"
     ]
    }
   ],
   "source": [
    "#이름, 시간당 급여액, 근무시간\n",
    "employee_name = input(\"이름 : \")\n",
    "work_hour = int(input(\"근무시간  : \"))\n",
    "hourly_pay = int(input(\"시간당 급여액 : \"))\n",
    "\n",
    "salary = hourly_pay * work_hour\n",
    "\n",
    "# 대부분의 언어는 문자열과 정수를 더하면 \n",
    "# 정수를 문자열로 바꿔서 문자열 합산연산을 수행. \n",
    "# 파이썬은 str을을 사용해서 정수를 문자열로 바꿔줘야 한다.\n",
    "print(employee_name + \"님의 급여는 \" + str(salary) + \"입니다.\")"
   ]
  },
  {
   "cell_type": "markdown",
   "id": "3e40e9bc",
   "metadata": {},
   "source": [
    "\n",
    "---\n",
    "\n",
    "# 진법\n",
    "컴퓨터는 이진수 체계 \n",
    "\n",
    "1100001100101100011111111111100000\n",
    "\n",
    "8진수 -> 2진수를 3개씩 묶는다.   01,2,3,4,5,6,7 10 \n",
    "\n",
    "000  0\n",
    "\n",
    "001  1 \n",
    "\n",
    "010  2\n",
    "\n",
    "011  3\n",
    "\n",
    "100  4 \n",
    "\n",
    "101  5\n",
    "\n",
    "110  6\n",
    "\n",
    "111  7\n",
    "\n",
    "0000   0\n",
    "\n",
    "0001   1 \n",
    "\n",
    "0010   2\n",
    "\n",
    "0011   3\n",
    "\n",
    "0100   4\n",
    "\n",
    "0101\n",
    "\n",
    "0110\n",
    "\n",
    "0111\n",
    "\n",
    "1000\n",
    "\n",
    "1001   9\n",
    "\n",
    "1010   A\n",
    "\n",
    "1011   B\n",
    "\n",
    "1100   C\n",
    "\n",
    "1101   D\n",
    "\n",
    "1110   E\n",
    "\n",
    "1111   F\n"
   ]
  },
  {
   "cell_type": "code",
   "execution_count": 14,
   "id": "f173436b",
   "metadata": {},
   "outputs": [
    {
     "name": "stdout",
     "output_type": "stream",
     "text": [
      "37\n",
      "255\n",
      "6\n",
      "7\n",
      "6\n",
      "18\n"
     ]
    }
   ],
   "source": [
    "a = 0o45  # 8진수라서 0 1 2 3 4 5 6 7 10 11 12 13 .. 17 20 \n",
    "print(a) # 10진수로 출력한다  4*8 + 5 \n",
    "a = 0xFF \n",
    "print(a)\n",
    "\n",
    "#복합연산자 \n",
    "a = 5\n",
    "a = a + 1   \n",
    "print(a)\n",
    "a += 1 \n",
    "print(a)\n",
    "\n",
    "a -= 1 \n",
    "print(a)\n",
    "\n",
    "a *= 3 \n",
    "print(a)\n"
   ]
  }
 ],
 "metadata": {
  "kernelspec": {
   "display_name": "base",
   "language": "python",
   "name": "python3"
  },
  "language_info": {
   "codemirror_mode": {
    "name": "ipython",
    "version": 3
   },
   "file_extension": ".py",
   "mimetype": "text/x-python",
   "name": "python",
   "nbconvert_exporter": "python",
   "pygments_lexer": "ipython3",
   "version": "3.12.7"
  }
 },
 "nbformat": 4,
 "nbformat_minor": 5
}
