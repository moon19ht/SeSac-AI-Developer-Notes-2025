{
 "cells": [
  {
   "cell_type": "markdown",
   "id": "a475889d",
   "metadata": {},
   "source": [
    "# ❔정수를 받아서 짝수이면 True 홀수이면 False를 반환하는 함수"
   ]
  },
  {
   "cell_type": "code",
   "execution_count": null,
   "id": "33832966",
   "metadata": {},
   "outputs": [
    {
     "name": "stdout",
     "output_type": "stream",
     "text": [
      "False\n"
     ]
    }
   ],
   "source": [
    "def Which_One_OddEvenNum(num):\n",
    "    # 정수를 받아 짝수이면 True, 아니면 False를 반환\n",
    "    return num % 2 == 0\n",
    "\n",
    "# 정수 입력\n",
    "Number = int(input(\"정수를 입력하시오 : \"))\n",
    "\n",
    "# 홀 짝 판별 출력\n",
    "print(Which_One_OddEvenNum(Number))"
   ]
  },
  {
   "cell_type": "markdown",
   "id": "953efdd6",
   "metadata": {},
   "source": [
    "# 윤년(366일)이 오는 주기는 4년마다이다. 함수를 만들어서 윤년이면 True, 아니면 False를 출력하라"
   ]
  },
  {
   "cell_type": "code",
   "execution_count": null,
   "id": "3776150c",
   "metadata": {},
   "outputs": [
    {
     "name": "stdout",
     "output_type": "stream",
     "text": [
      "False\n"
     ]
    }
   ],
   "source": [
    "\n",
    "def Leap_Year(year):\n",
    "    # 4년마다 윤년(True/False)\n",
    "    return year % 4 == 0  \n",
    "\n",
    "# 연도 입력\n",
    "Year = int(input(\"연도를 입력하세요 : \"))\n",
    "\n",
    "# 윤년 판별 출력\n",
    "print(Leap_Year(Year))"
   ]
  },
  {
   "cell_type": "code",
   "execution_count": 3,
   "id": "4ca14457",
   "metadata": {},
   "outputs": [
    {
     "name": "stdout",
     "output_type": "stream",
     "text": [
      "True\n"
     ]
    }
   ],
   "source": [
    "# NOTE  참고: 리턴값만 활용해서 코드를 짜도 된다.\n",
    "\n",
    "# 윤년 계산 방식 확장 (선택사항)\n",
    "# 질문에 “4년마다”라고만 되어 있지만, 실제 그레고리력 Gregorian calendar에서는\n",
    "# 4로 나누어떨어지면 윤년\n",
    "# 단, 100으로 나누어떨어지면 평년\n",
    "# 400으로 나누어떨어지면 다시 윤년\n",
    "\n",
    "# 예시 코드\n",
    "def is_leap_gregorian(year):\n",
    "    \"\"\"\n",
    "    그레고리력 기준 윤년 판단:\n",
    "      • 4로 나누어떨어지고\n",
    "      • (100으로 나누어떨어지지 않거나 400으로 나누어떨어질 때)\n",
    "    \"\"\"\n",
    "    return (year % 4 == 0) and (year % 100 != 0 or year % 400 == 0)\n",
    "\n",
    "# --- 호출부 ---\n",
    "y = int(input(\"연도를 입력하세요: \"))\n",
    "print(is_leap_gregorian(y))"
   ]
  }
 ],
 "metadata": {
  "kernelspec": {
   "display_name": "base",
   "language": "python",
   "name": "python3"
  },
  "language_info": {
   "codemirror_mode": {
    "name": "ipython",
    "version": 3
   },
   "file_extension": ".py",
   "mimetype": "text/x-python",
   "name": "python",
   "nbconvert_exporter": "python",
   "pygments_lexer": "ipython3",
   "version": "3.12.7"
  }
 },
 "nbformat": 4,
 "nbformat_minor": 5
}
