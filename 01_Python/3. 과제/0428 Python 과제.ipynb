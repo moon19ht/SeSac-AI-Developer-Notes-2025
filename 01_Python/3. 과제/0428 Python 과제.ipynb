{
 "cells": [
  {
   "cell_type": "markdown",
   "id": "52223282",
   "metadata": {},
   "source": [
    "# ❔정수를 5개 입력받아서 합계를 구하라."
   ]
  },
  {
   "cell_type": "code",
   "execution_count": null,
   "id": "8b5feecc",
   "metadata": {},
   "outputs": [
    {
     "name": "stdout",
     "output_type": "stream",
     "text": [
      "합계 :  15\n"
     ]
    }
   ],
   "source": [
    "sum = 0 # 합계를 저장할 변수\n",
    "for i in range(5):\n",
    "    num = int(input(\"정수를 입력하세요 : \"))\n",
    "    sum += num\n",
    "print(\"합계 : \", sum)"
   ]
  },
  {
   "cell_type": "markdown",
   "id": "60c7d79f",
   "metadata": {},
   "source": [
    "# ❔숫자를 10개 입력받아서 각각 짝수와 홀수의 합과 평균을 구하라."
   ]
  },
  {
   "cell_type": "code",
   "execution_count": null,
   "id": "f1da9856",
   "metadata": {},
   "outputs": [
    {
     "name": "stdout",
     "output_type": "stream",
     "text": [
      "짝수의 합 :  26 짝수의 평균 :  5.2\n",
      "홀수의 합 :  21 홀수의 평균 :  4.2\n"
     ]
    }
   ],
   "source": [
    "even_sum = 0 # 짝수 합\n",
    "even_count = 0 # 짝수 개수\n",
    "odd_sum = 0 # 홀수 합\n",
    "odd_count = 0 # 홀수 개수\n",
    "\n",
    "for i in range(10):\n",
    "    num = int(input(f\"{i+1}번째 숫자를 입력하세요 : \"))\n",
    "\n",
    "    if num % 2 == 0:    # 짝수인 경우\n",
    "        even_sum += num\n",
    "        even_count += 1\n",
    "    else:\n",
    "        odd_sum += num  # 홀수인 경우\n",
    "        odd_count += 1\n",
    "\n",
    "# 평균 계산(개수가 0일 수 있기에 나눌 떄 확인)\n",
    "if even_count > 0:\n",
    "    even_avg = even_sum / even_count\n",
    "else:\n",
    "    even_avg = 0\n",
    "\n",
    "if odd_count > 0:\n",
    "    odd_avg = odd_sum / odd_count\n",
    "else:\n",
    "    odd_avg = 0\n",
    "\n",
    "print(\"짝수의 합 : \", even_sum, \"짝수의 평균 : \", even_avg)\n",
    "print(\"홀수의 합 : \", odd_sum, \"홀수의 평균 : \", odd_avg)"
   ]
  },
  {
   "cell_type": "markdown",
   "id": "685234c4",
   "metadata": {},
   "source": [
    "\n",
    "---\n",
    "\n",
    "# 클린코드"
   ]
  },
  {
   "cell_type": "code",
   "execution_count": 4,
   "id": "8ca35fab",
   "metadata": {},
   "outputs": [
    {
     "name": "stdout",
     "output_type": "stream",
     "text": [
      "총 합계: 15\n"
     ]
    }
   ],
   "source": [
    "# 정수 5개 입력받아서 합계를 구하는 코드 (클린 코드)\n",
    "\n",
    "total = 0  # 합계 저장 변수\n",
    "\n",
    "for index in range(5):\n",
    "    number = int(input(f\"{index + 1}번째 정수를 입력하세요: \"))\n",
    "    total += number  # 입력받은 숫자를 합계에 더함\n",
    "\n",
    "print(\"총 합계:\", total)\n"
   ]
  },
  {
   "cell_type": "code",
   "execution_count": 5,
   "id": "123285c3",
   "metadata": {},
   "outputs": [
    {
     "name": "stdout",
     "output_type": "stream",
     "text": [
      "\n",
      "[결과]\n",
      "짝수 합계: 30, 짝수 평균: 6.0\n",
      "홀수 합계: 25, 홀수 평균: 5.0\n"
     ]
    }
   ],
   "source": [
    "# 숫자 10개 입력받아서 짝수/홀수의 합과 평균 구하기 (클린 코드)\n",
    "\n",
    "even_sum = 0        # 짝수 합\n",
    "even_count = 0      # 짝수 개수\n",
    "odd_sum = 0         # 홀수 합\n",
    "odd_count = 0       # 홀수 개수\n",
    "\n",
    "for index in range(10):\n",
    "    number = int(input(f\"{index + 1}번째 숫자를 입력하세요: \"))\n",
    "\n",
    "    if number % 2 == 0:            # 짝수인 경우\n",
    "        even_sum += number\n",
    "        even_count += 1\n",
    "    else:                          # 홀수인 경우\n",
    "        odd_sum += number\n",
    "        odd_count += 1\n",
    "\n",
    "# 평균 계산 (0으로 나누는 상황 방지)\n",
    "even_average = even_sum / even_count if even_count > 0 else 0\n",
    "odd_average = odd_sum / odd_count if odd_count > 0 else 0\n",
    "\n",
    "print(\"\\n[결과]\")\n",
    "print(f\"짝수 합계: {even_sum}, 짝수 평균: {even_average}\")\n",
    "print(f\"홀수 합계: {odd_sum}, 홀수 평균: {odd_average}\")"
   ]
  }
 ],
 "metadata": {
  "kernelspec": {
   "display_name": "base",
   "language": "python",
   "name": "python3"
  },
  "language_info": {
   "codemirror_mode": {
    "name": "ipython",
    "version": 3
   },
   "file_extension": ".py",
   "mimetype": "text/x-python",
   "name": "python",
   "nbconvert_exporter": "python",
   "pygments_lexer": "ipython3",
   "version": "3.12.7"
  }
 },
 "nbformat": 4,
 "nbformat_minor": 5
}
