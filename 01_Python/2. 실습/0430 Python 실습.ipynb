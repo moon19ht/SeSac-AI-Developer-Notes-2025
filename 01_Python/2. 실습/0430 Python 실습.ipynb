{
 "cells": [
  {
   "cell_type": "markdown",
   "id": "6db65f5e",
   "metadata": {},
   "source": [
    "# 🔍 검색 알고리즘(Search Algorithms)\n",
    "\n",
    "데이터에서 원하는 값을 **찾기 위한 알고리즘**. 상황에 따라 성능이 크게 다르기 때문에 사용 목적과 데이터 구조에 따라 적절한 알고리즘을 선택해야 함.\n",
    "\n",
    "---\n",
    "\n",
    "## 1. 순차 검색 (선형 검색, Sequential Search)\n",
    "\n",
    "* **설명**: 데이터를 **처음부터 끝까지 하나씩 비교**하며 찾는다.\n",
    "* **조건**: 데이터가 **정렬되어 있지 않아도** 된다.\n",
    "* **시간복잡도**:\n",
    "\n",
    "  * 최악: O(n)\n",
    "  * 평균: O(n/2) ≈ O(n)\n",
    "\n",
    "```python\n",
    "def linear_search(data, target):\n",
    "    for i in range(len(data)):\n",
    "        if data[i] == target:\n",
    "            return i\n",
    "    return -1\n",
    "```\n",
    "\n",
    "* **예시**\n",
    "\n",
    "  ```text\n",
    "  데이터: [1, 2, 3, 4, 5]\n",
    "  찾는 값: 3 → 3번째에서 찾음 → O(3)\n",
    "  ```\n",
    "\n",
    "---\n",
    "\n",
    "## 2. 색인 순차 검색 (Indexed Sequential Search)\n",
    "\n",
    "* **설명**: **색인(index)** 정보를 먼저 검색해 **해당 범위만 순차적으로 검색**\n",
    "* **전제**: 데이터는 **정렬되어 있어야** 함\n",
    "* **특징**:\n",
    "\n",
    "  * **색인 테이블** + **원본 데이터 영역**을 나눔\n",
    "  * 색인 범위를 통해 검색 범위를 **좁힌 후** 순차 검색 수행\n",
    "* **시간복잡도**: O(√n) 정도 (색인 탐색 + 범위 내 선형 탐색)\n",
    "\n",
    "---\n",
    "\n",
    "## 3. 이분 검색 (Binary Search)\n",
    "\n",
    "* **설명**: 데이터를 **절반으로 나누어 탐색**.\n",
    "  찾는 값이 **중간보다 작으면 왼쪽**, 크면 **오른쪽** 탐색.\n",
    "* **조건**: 반드시 **정렬된 데이터**에서만 사용 가능\n",
    "* **시간복잡도**: O(log₂n)\n",
    "\n",
    "```python\n",
    "def binary_search(data, target):\n",
    "    left, right = 0, len(data) - 1\n",
    "    while left <= right:\n",
    "        mid = (left + right) // 2\n",
    "        if data[mid] == target:\n",
    "            return mid\n",
    "        elif data[mid] < target:\n",
    "            left = mid + 1\n",
    "        else:\n",
    "            right = mid - 1\n",
    "    return -1\n",
    "```\n",
    "\n",
    "* **단점**:\n",
    "\n",
    "  * 정렬되지 않은 데이터는 사용 불가\n",
    "  * **데이터 변경이 잦은 경우** 매번 정렬해야 하므로 비효율적\n",
    "\n",
    "---\n",
    "\n",
    "## 4. 해시 검색 (Hash Search)\n",
    "\n",
    "* **설명**: **해시 함수를 통해** 데이터를 저장하고 검색\n",
    "* **시간복잡도**: 이론상 **O(1)** (충돌이 없다면)\n",
    "* **구현 도구**:\n",
    "\n",
    "  * Python의 `dict`\n",
    "  * Java의 `HashMap`\n",
    "  * C++의 `unordered_map`\n",
    "* **단점**:\n",
    "\n",
    "  * **메모리 사용량 많음**\n",
    "  * 충돌 발생 시 별도의 처리 필요 (체이닝, 개방 주소법 등)\n",
    "  * 구현이 비교적 복잡함\n",
    "\n",
    "```python\n",
    "data = {\"apple\": 3, \"banana\": 5}\n",
    "print(data[\"apple\"])  # O(1)\n",
    "```\n",
    "\n",
    "* **Trade-off (트레이드 오프)**:\n",
    "\n",
    "  * 속도 vs. 메모리\n",
    "  * 구현 단순성 vs. 복잡도\n",
    "\n",
    "---\n",
    "\n",
    "## 📊 비교 요약\n",
    "\n",
    "| 알고리즘     | 정렬 필요 | 평균 시간복잡도 | 특징                    |\n",
    "| -------- | ----- | -------- | --------------------- |\n",
    "| 순차 검색    | ❌     | O(n)     | 단순, 정렬 불필요            |\n",
    "| 색인 순차 검색 | ✅     | O(√n)    | 색인 + 범위 좁힌 후 선형 탐색    |\n",
    "| 이분 검색    | ✅     | O(log n) | 빠름, 정렬 필요, 변경 잦으면 비효율 |\n",
    "| 해시 검색    | ❌     | O(1)     | 매우 빠름, 메모리↑, 충돌 관리 필요 |\n"
   ]
  },
  {
   "cell_type": "code",
   "execution_count": 1,
   "id": "326ada0b",
   "metadata": {},
   "outputs": [
    {
     "name": "stdout",
     "output_type": "stream",
     "text": [
      "2\n"
     ]
    }
   ],
   "source": [
    "# 정수 리스트에서 값 찾기 (순차 검색)\n",
    "a = [1, 2, 3, 4, 5, 6, 7, 8, 9, 10]\n",
    "key = 5  # 찾고자 하는 값\n",
    "find = -1  # 못 찾은 상태를 의미\n",
    "\n",
    "for i in range(len(a)):\n",
    "    if key == a[i]:\n",
    "        find = i\n",
    "        break\n",
    "\n",
    "# 일반화된 순차 검색 함수 (값이 같은 인덱스 반환, 없으면 -1)\n",
    "def myfilter(a_list, key):\n",
    "    for i in range(len(a_list)):\n",
    "        if key == a_list[i]:\n",
    "            return i\n",
    "    return -1\n",
    "\n",
    "# 예시:\n",
    "# pos = myfilter(a, 4)\n",
    "# print(pos)\n",
    "\n",
    "# 문자열 리스트 예시\n",
    "# colors = [\"red\", \"green\", \"blue\", \"cyan\", \"gray\"]\n",
    "# pos = myfilter(colors, \"cyan\")\n",
    "# print(pos)\n",
    "\n",
    "# 딕셔너리 리스트 예시\n",
    "a = [\n",
    "    {\"name\": \"A\", \"age\": 10},\n",
    "    {\"name\": \"B\", \"age\": 11},\n",
    "    {\"name\": \"C\", \"age\": 12},\n",
    "    {\"name\": \"D\", \"age\": 13},\n",
    "    {\"name\": \"E\", \"age\": 14},\n",
    "]\n",
    "\n",
    "# pos = myfilter(a, {\"name\": \"C\", \"age\": 12})\n",
    "# print(pos)\n",
    "\n",
    "# 조건 함수를 받아서 검색하는 함수 (람다 등 활용)\n",
    "def myfilter2(func_key, a_list):\n",
    "    for i in range(len(a_list)):\n",
    "        if func_key(a_list[i]):\n",
    "            return i\n",
    "    return -1\n",
    "\n",
    "# 예시: name이 \"C\"인 딕셔너리의 인덱스 찾기\n",
    "pos = myfilter2(lambda x: x[\"name\"] == \"C\", a)\n",
    "print(pos)\n"
   ]
  },
  {
   "cell_type": "markdown",
   "id": "b0c8b7f9",
   "metadata": {},
   "source": [
    "# 🔃 정렬(Sorting)\n",
    "\n",
    "**정렬**이란 데이터를 \\*\\*특정 순서(오름차순/내림차순)\\*\\*로 **정리**하는 과정이다.\n",
    "정렬은 **검색**, **분석**, **시각화** 등 여러 작업의 전처리로 매우 중요하다.\n",
    "\n",
    "---\n",
    "\n",
    "## 🧩 정렬과 데이터베이스\n",
    "\n",
    "* **SQL 기반 데이터베이스**에서는 정렬이 쿼리에서 자동으로 지원됨:\n",
    "\n",
    "  ```sql\n",
    "  SELECT * FROM users ORDER BY age ASC;\n",
    "  ```\n",
    "* 하지만 **파일 기반 처리나 메모리 처리** 상황에서는 **프로그래머가 직접 구현**해야 한다.\n",
    "\n",
    "---\n",
    "\n",
    "## 📈 정렬 방식\n",
    "\n",
    "* **오름차순 정렬**: 작은 값 → 큰 값\n",
    "* **내림차순 정렬**: 큰 값 → 작은 값\n",
    "\n",
    "---\n",
    "\n",
    "## 🛠️ 대표적인 정렬 알고리즘\n",
    "\n",
    "| 정렬 알고리즘                | 시간복잡도 (평균) | 특징            |\n",
    "| ---------------------- | ---------- | ------------- |\n",
    "| 선택 정렬 (Selection Sort) | O(n²)      | 구현 간단, 느림     |\n",
    "| 버블 정렬 (Bubble Sort)    | O(n²)      | 느림, 거의 사용 안 함 |\n",
    "| 퀵 정렬 (Quick Sort)      | O(n log n) | 빠름, 실무 사용 많음  |\n",
    "\n",
    "---\n",
    "\n",
    "## 🔎 선택 정렬 (Selection Sort)\n",
    "\n",
    "### 💡 개념 요약\n",
    "\n",
    "> **\"리스트에서 가장 작은(또는 큰) 값을 찾아서 맨 앞에 보내고,\n",
    "> 다음 작은 값을 찾아 그 다음 위치로 보내는 방식\"**\n",
    "\n",
    "* 총 **N개의 원소**가 있으면, **N-1번 반복**함\n",
    "* 각 반복에서 \\*\\*최솟값(또는 최댓값)\\*\\*의 위치를 찾아 현재 위치와 **교환(swap)**\n",
    "\n",
    "---\n",
    "\n",
    "### 📘 오름차순 선택 정렬 예시\n",
    "\n",
    "초기 데이터:\n",
    "`[5, 1, 2, 4, 3]`\n",
    "\n",
    "#### ✅ 단계별 정리\n",
    "\n",
    "| 단계 | 작업 내용                       | 리스트 상태            |\n",
    "| -- | --------------------------- | ----------------- |\n",
    "| 1  | 0번째 이후에서 가장 작은 값 1 → 0번과 교환 | `[1, 5, 2, 4, 3]` |\n",
    "| 2  | 1번째 이후에서 가장 작은 값 2 → 1번과 교환 | `[1, 2, 5, 4, 3]` |\n",
    "| 3  | 2번째 이후에서 가장 작은 값 3 → 2번과 교환 | `[1, 2, 3, 4, 5]` |\n",
    "| 4  | 3, 4 중 4가 가장 작으므로 교환 없음     | `[1, 2, 3, 4, 5]` |\n",
    "\n",
    "---\n",
    "\n",
    "### 🧪 Python 구현 예시\n",
    "\n",
    "```python\n",
    "def selection_sort(arr):\n",
    "    n = len(arr)\n",
    "    for i in range(n - 1):\n",
    "        min_idx = i\n",
    "        for j in range(i + 1, n):\n",
    "            if arr[j] < arr[min_idx]:\n",
    "                min_idx = j\n",
    "        arr[i], arr[min_idx] = arr[min_idx], arr[i]\n",
    "\n",
    "data = [5, 1, 2, 4, 3]\n",
    "selection_sort(data)\n",
    "print(\"정렬 결과:\", data)  # [1, 2, 3, 4, 5]\n",
    "```\n",
    "\n",
    "---\n",
    "\n",
    "## 🧠 요약\n",
    "\n",
    "* 선택 정렬은 **단순하고 구현하기 쉬움**\n",
    "* 그러나 \\*\\*시간복잡도 O(n²)\\*\\*로 대규모 데이터에는 부적합\n",
    "* 학습용/이해용으로 적합하고, 정렬 알고리즘의 기본 개념 파악에 유용\n"
   ]
  },
  {
   "cell_type": "code",
   "execution_count": 4,
   "id": "fbb001ee",
   "metadata": {},
   "outputs": [],
   "source": [
    "def selectSort(dataList, key):\n",
    "    \"\"\"\n",
    "    선택 정렬(Selection Sort) 알고리즘.\n",
    "    dataList의 원소를 key 함수 기준으로 오름차순 정렬한 새로운 리스트를 반환.\n",
    "    원본 dataList는 변경하지 않음(깊은 복사 사용).\n",
    "\n",
    "    Args:\n",
    "        dataList (list): 정렬할 데이터 리스트\n",
    "        key (function): 정렬 기준이 될 함수\n",
    "\n",
    "    Returns:\n",
    "        list: 정렬된 새로운 리스트\n",
    "    \"\"\"\n",
    "    # 깊은 복사(원본 변경 방지)\n",
    "    aList = [x for x in dataList]\n",
    "    n = len(aList)\n",
    "    for i in range(n - 1):\n",
    "        min_idx = i\n",
    "        for j in range(i + 1, n):\n",
    "            # key 함수 기준으로 더 작은 값 찾기\n",
    "            if key(aList[j]) < key(aList[min_idx]):\n",
    "                min_idx = j\n",
    "        # 최솟값을 현재 위치와 교환\n",
    "        aList[i], aList[min_idx] = aList[min_idx], aList[i]\n",
    "    return aList"
   ]
  },
  {
   "cell_type": "code",
   "execution_count": 5,
   "id": "6a59e9ae",
   "metadata": {},
   "outputs": [
    {
     "name": "stdout",
     "output_type": "stream",
     "text": [
      "[5, 1, 2, 4, 3]\n",
      "[1, 2, 3, 4, 5]\n"
     ]
    }
   ],
   "source": [
    "# 숫자 리스트 예시\n",
    "a = [5, 1, 2, 4, 3]\n",
    "b = selectSort(a, key=lambda x: x)\n",
    "print(a)  # 원본 리스트\n",
    "print(b)  # 정렬된 리스트"
   ]
  },
  {
   "cell_type": "code",
   "execution_count": 6,
   "id": "3518c993",
   "metadata": {},
   "outputs": [
    {
     "name": "stdout",
     "output_type": "stream",
     "text": [
      "[{'name': 'A', 'age': 12}, {'name': 'C', 'age': 11}, {'name': 'E', 'age': 13}, {'name': 'D', 'age': 14}, {'name': 'B', 'age': 15}]\n",
      "[{'name': 'A', 'age': 12}, {'name': 'B', 'age': 15}, {'name': 'C', 'age': 11}, {'name': 'D', 'age': 14}, {'name': 'E', 'age': 13}]\n"
     ]
    }
   ],
   "source": [
    "# 딕셔너리 리스트 예시\n",
    "a = [\n",
    "    {\"name\": \"A\", \"age\": 12},\n",
    "    {\"name\": \"C\", \"age\": 11},\n",
    "    {\"name\": \"E\", \"age\": 13},\n",
    "    {\"name\": \"D\", \"age\": 14},\n",
    "    {\"name\": \"B\", \"age\": 15}\n",
    "]\n",
    "b = selectSort(a, key=lambda x: x[\"name\"])\n",
    "print(a)  # 원본 리스트\n",
    "print(b)  # name 기준 정렬된 리스트"
   ]
  },
  {
   "cell_type": "markdown",
   "id": "af7676ae",
   "metadata": {},
   "source": [
    "# 가변 매개함수\n",
    "함수의 매개변수 개수가 바뀌는 경우에 사용\n",
    "\n",
    "# 가변 매개변수\n",
    "매개변수 앞에 *을 붙이면 여러 개의 인자를 tuple로 받을 수 있음"
   ]
  },
  {
   "cell_type": "code",
   "execution_count": 8,
   "id": "c8419e8b",
   "metadata": {},
   "outputs": [
    {
     "name": "stdout",
     "output_type": "stream",
     "text": [
      "<class 'tuple'>\n",
      "1\n",
      "2\n",
      "<class 'tuple'>\n",
      "1\n",
      "2\n",
      "3\n"
     ]
    }
   ],
   "source": [
    "def myadd(*args):\n",
    "    \"\"\"\n",
    "    전달받은 모든 인자를 출력하는 함수\n",
    "    \"\"\"\n",
    "    print(type(args))  # args는 tuple 타입\n",
    "    for a in args:\n",
    "        print(a)\n",
    "\n",
    "myadd(1, 2)\n",
    "myadd(1, 2, 3)"
   ]
  },
  {
   "cell_type": "code",
   "execution_count": 9,
   "id": "66f812bc",
   "metadata": {},
   "outputs": [
    {
     "name": "stdout",
     "output_type": "stream",
     "text": [
      "9\n",
      "25\n",
      "44\n"
     ]
    }
   ],
   "source": [
    "def myadd2(*data):\n",
    "    \"\"\"\n",
    "    전달받은 모든 숫자를 더해서 반환하는 함수\n",
    "    \"\"\"\n",
    "    s = 0\n",
    "    for i in data:\n",
    "        s += i\n",
    "    return s\n",
    "\n",
    "print(myadd2(1, 3, 5))\n",
    "print(myadd2(1, 3, 5, 7, 9))\n",
    "print(myadd2(1, 3, 5, 10, 12, 13))"
   ]
  },
  {
   "cell_type": "code",
   "execution_count": 10,
   "id": "76f5f0ef",
   "metadata": {},
   "outputs": [
    {
     "name": "stdout",
     "output_type": "stream",
     "text": [
      "n: 1\n",
      "2\n",
      "3\n",
      "4\n",
      "5\n"
     ]
    }
   ],
   "source": [
    "# 일반 인자와 가변 인자를 함께 쓸 때는 일반 인자가 먼저 와야 함\n",
    "def myadd3(n, *data):\n",
    "    \"\"\"\n",
    "    첫 번째 인자 n과, 이후 가변 인자 data를 출력\n",
    "    \"\"\"\n",
    "    print(\"n:\", n)\n",
    "    for i in data:\n",
    "        print(i)\n",
    "\n",
    "myadd3(1, 2, 3, 4, 5)"
   ]
  },
  {
   "cell_type": "code",
   "execution_count": 11,
   "id": "23498fb4",
   "metadata": {},
   "outputs": [
    {
     "name": "stdout",
     "output_type": "stream",
     "text": [
      "{'name': '홍길동', 'age': 12}\n"
     ]
    }
   ],
   "source": [
    "# 딕셔너리 타입을 매개변수로 넘길 수도 있음\n",
    "def myfunc(d):\n",
    "    \"\"\"\n",
    "    딕셔너리 인자를 받아 출력\n",
    "    \"\"\"\n",
    "    print(d)\n",
    "\n",
    "person = {\"name\": \"홍길동\", \"age\": 12}\n",
    "myfunc(person)"
   ]
  },
  {
   "cell_type": "code",
   "execution_count": 12,
   "id": "82a33294",
   "metadata": {},
   "outputs": [
    {
     "name": "stdout",
     "output_type": "stream",
     "text": [
      "{'name': '홍길동', 'age': 23}\n"
     ]
    }
   ],
   "source": [
    "# **을 사용하면 키워드 인자를 dict로 받을 수 있음\n",
    "def myfunc2(**d):\n",
    "    \"\"\"\n",
    "    키워드 인자를 dict로 받아 출력\n",
    "    \"\"\"\n",
    "    print(d)\n",
    "\n",
    "myfunc2(name=\"홍길동\", age=23)"
   ]
  },
  {
   "cell_type": "code",
   "execution_count": 13,
   "id": "46aeb850",
   "metadata": {},
   "outputs": [
    {
     "name": "stdout",
     "output_type": "stream",
     "text": [
      "rule: programmer\n",
      "skills: ('python', 'react', 'deeplearnning')\n",
      "details: {'yearpay': 100000000000, 'position': '개발자'}\n"
     ]
    }
   ],
   "source": [
    "# 일반 인자, tuple 인자, dict 인자를 모두 사용하는 예제 (순서 중요)\n",
    "def profile(rule, *skills, **details):\n",
    "    \"\"\"\n",
    "    rule: 일반 인자\n",
    "    *skills: 가변 positional 인자 (tuple)\n",
    "    **details: 가변 keyword 인자 (dict)\n",
    "    \"\"\"\n",
    "    print(\"rule:\", rule)\n",
    "    print(\"skills:\", skills)\n",
    "    print(\"details:\", details)\n",
    "\n",
    "profile(\n",
    "    \"programmer\", \"python\", \"react\", \"deeplearnning\",\n",
    "    yearpay=100000000000, position=\"개발자\"\n",
    ")"
   ]
  }
 ],
 "metadata": {
  "kernelspec": {
   "display_name": "base",
   "language": "python",
   "name": "python3"
  },
  "language_info": {
   "codemirror_mode": {
    "name": "ipython",
    "version": 3
   },
   "file_extension": ".py",
   "mimetype": "text/x-python",
   "name": "python",
   "nbconvert_exporter": "python",
   "pygments_lexer": "ipython3",
   "version": "3.12.7"
  }
 },
 "nbformat": 4,
 "nbformat_minor": 5
}
