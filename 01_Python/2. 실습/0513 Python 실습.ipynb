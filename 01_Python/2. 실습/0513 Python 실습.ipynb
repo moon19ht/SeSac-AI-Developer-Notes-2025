{
 "cells": [
  {
   "cell_type": "markdown",
   "id": "6fd3b1e1",
   "metadata": {},
   "source": [
    "# 📌 1. 상속 (Inheritance)\n",
    "\n",
    "## ✅ 개념\n",
    "- 기존 클래스의 기능을 **재사용하고 확장** 할 수 있는 객체지향의 핵심 개념\n",
    "- **부모 클래스(Parent)** 의 속성과 메서드를 **자식 클래스(Child)** 가 물려받음\n",
    "\n",
    "## ✅ 문법 및 예시\n",
    "```python\n",
    "class Animal:\n",
    "    def speak(self):\n",
    "        print(\"동물이 소리를 냅니다.\")\n",
    "\n",
    "class Dog(Animal):  # Animal을 상속받음\n",
    "    def bark(self):\n",
    "        print(\"멍멍!\")\n",
    "\n",
    "d = Dog()\n",
    "d.speak()  # 부모 클래스의 메서드 사용\n",
    "d.bark()\n",
    "```"
   ]
  },
  {
   "cell_type": "code",
   "execution_count": 1,
   "id": "60a77841",
   "metadata": {},
   "outputs": [],
   "source": [
    "class Base:  # 부모 클래스\n",
    "    def __init__(self, x=0, y=0):\n",
    "        # x, y 좌표값을 초기화\n",
    "        self.x = x\n",
    "        self.y = y\n",
    "        print(\"Base 생성자\")\n",
    "\n",
    "    def display(self):\n",
    "        # 현재 객체의 x, y 값을 출력\n",
    "        print(f'x={self.x} y={self.y}')\n",
    "\n",
    "    def add(self):\n",
    "        # x와 y의 합을 반환\n",
    "        return self.x + self.y\n",
    "\n",
    "    def doubleX(self):\n",
    "        # x의 두 배 값을 반환\n",
    "        return self.x * 2\n",
    "\n",
    "    def doubleY(self):\n",
    "        # y의 두 배 값을 반환\n",
    "        return self.y * 2"
   ]
  },
  {
   "cell_type": "markdown",
   "id": "002dfccb",
   "metadata": {},
   "source": [
    "# 다형성(Polymorphism)\n",
    "- 오버로딩(Overloading): 같은 이름의 메서드를 매개변수 형태만 다르게 여러 개 정의 (파이썬은 지원하지 않음)\n",
    "- 오버라이딩(Overriding): 부모 클래스의 메서드를 자식 클래스에서 재정의"
   ]
  },
  {
   "cell_type": "code",
   "execution_count": null,
   "id": "0d8d8fa4",
   "metadata": {},
   "outputs": [],
   "source": [
    "class Child1(Base):  # Base 클래스를 상속받는 자식 클래스\n",
    "    def __init__(self, x=0, y=0, z=0):\n",
    "        # 부모 생성자를 호출하여 x, y 초기화\n",
    "        super().__init__(x, y)\n",
    "        # 자식 클래스에서만 사용하는 z 변수 추가\n",
    "        self.z = z\n",
    "        print(\"Child1 생성자\")\n",
    "\n",
    "    def display(self):\n",
    "        # 부모의 display를 호출하지 않고, x, y, z 모두 출력\n",
    "        print(f\"x={self.x} y={self.y} z={self.z}\")\n"
   ]
  },
  {
   "cell_type": "code",
   "execution_count": null,
   "id": "2afd32a3",
   "metadata": {},
   "outputs": [
    {
     "name": "stdout",
     "output_type": "stream",
     "text": [
      "Base 생성자\n",
      "x=0 y=0\n",
      "Base 생성자\n",
      "x=4 y=5\n",
      "Base 생성자\n",
      "Child1 생성자\n",
      "x=1 y=2 z=3\n",
      "2\n",
      "4\n"
     ]
    }
   ],
   "source": [
    "# Base 클래스 인스턴스 생성 및 메서드 호출 예시\n",
    "p = Base()  # x=0, y=0\n",
    "p.display()\n",
    "\n",
    "p = Base(4, 5)  # x=4, y=5\n",
    "p.display()\n",
    "\n",
    "# Child1 클래스 인스턴스 생성 및 메서드 호출 예시\n",
    "c1 = Child1(1, 2, 3)  # x=1, y=2, z=3\n",
    "c1.display()\n",
    "print(c1.doubleX())  # x의 두 배 출력\n",
    "print(c1.doubleY())  # y의 두 배 출력"
   ]
  },
  {
   "cell_type": "markdown",
   "id": "698938e6",
   "metadata": {},
   "source": [
    "# 📌 2. 다중 상속 (Multiple Inheritance)\n",
    "\n",
    "## ✅ 개념\n",
    "- 두 개 이상의 클래스로부터 **속성과 메서드**를 동시에 상속받을 수 있음\n",
    "- 순서에 따라 **MRO(Method Resolution Order)** 적용\n",
    "\n",
    "## ✅ 예시\n",
    "```python\n",
    "class A:\n",
    "    def do_a(self):\n",
    "        print(\"A 동작\")\n",
    "\n",
    "class B:\n",
    "    def do_b(self):\n",
    "        print(\"B 동작\")\n",
    "\n",
    "class C(A, B):\n",
    "    pass\n",
    "\n",
    "c = C()\n",
    "c.do_a()\n",
    "c.do_b()\n",
    "```\n",
    "\n",
    "> `C`는 `A`, `B` 모두를 상속받아 두 클래스의 기능을 동시에 사용할 수 있음."
   ]
  },
  {
   "cell_type": "code",
   "execution_count": null,
   "id": "6a22e01e",
   "metadata": {},
   "outputs": [
    {
     "name": "stdout",
     "output_type": "stream",
     "text": [
      "날 수 있다\n",
      "수영할 수 있다\n",
      "꽥꽥\n",
      "*** 두다리로 걷는다 ***\n",
      "(<class '__main__.Duck'>, <class '__main__.Swimmable'>, <class '__main__.Flyable'>, <class 'object'>)\n"
     ]
    }
   ],
   "source": [
    "class Flyable:\n",
    "    def fly(self):\n",
    "        print(\"날 수 있다\")  # Can fly\n",
    "\n",
    "    def walk(self):\n",
    "        print(\"두다리로 걷는다\")  # Walks on two legs (Flyable version)\n",
    "\n",
    "\n",
    "class Swimmable:\n",
    "    def swim(self):\n",
    "        print(\"수영할 수 있다\")  # Can swim\n",
    "\n",
    "    def walk(self):\n",
    "        print(\"*** 두다리로 걷는다 ***\")  # Walks on two legs (Swimmable version)\n",
    "\n",
    "\n",
    "class Duck(Swimmable, Flyable):  # 다중상속: Swimmable, Flyable 순서\n",
    "    def quack(self):\n",
    "        print(\"꽥꽥\")  # Quack\n",
    "\n",
    "\n",
    "d1 = Duck()  # Duck 인스턴스 생성\n",
    "\n",
    "d1.fly()    # Flyable의 fly() 호출\n",
    "d1.swim()   # Swimmable의 swim() 호출\n",
    "d1.quack()  # Duck의 quack() 호출\n",
    "\n",
    "# walk() 메서드는 Swimmable이 먼저 상속되었으므로 Swimmable의 walk()가 호출됨\n",
    "d1.walk()\n",
    "\n",
    "# __mro__는 클래스의 상속 관계(메서드 탐색 순서)를 튜플로 반환\n",
    "print(Duck.__mro__)\n"
   ]
  },
  {
   "cell_type": "markdown",
   "id": "18bc0b7f",
   "metadata": {},
   "source": [
    "# 📌 3. 다이아몬드 상속 (Diamond Inheritance)\n",
    "\n",
    "## ✅ 개념\n",
    "- 상속 구조가 **마름모 형태**로 구성되어, **같은 조상 클래스가 중복 상속되는 구조**\n",
    "- Python은 **MRO(Method Resolution Order)** 규칙에 따라 중복을 해결\n",
    "\n",
    "## ✅ 예시\n",
    "```python\n",
    "class A:\n",
    "    def whoami(self):\n",
    "        print(\"A\")\n",
    "\n",
    "class B(A):\n",
    "    def whoami(self):\n",
    "        print(\"B\")\n",
    "\n",
    "class C(A):\n",
    "    def whoami(self):\n",
    "        print(\"C\")\n",
    "\n",
    "class D(B, C):\n",
    "    pass\n",
    "\n",
    "d = D()\n",
    "d.whoami()  # 출력: B → MRO에 따라 좌측 우선\n",
    "```\n",
    "\n",
    "> `D -> B -> C -> A` 순으로 메서드 탐색 (좌측 클래스 우선)"
   ]
  },
  {
   "cell_type": "code",
   "execution_count": 9,
   "id": "749431b8",
   "metadata": {},
   "outputs": [],
   "source": [
    "class A:\n",
    "    def __init__(self):\n",
    "        print(\"A 생성자 호출\")  # A의 생성자\n",
    "\n",
    "class B(A):  # A를 상속받음\n",
    "    def __init__(self):\n",
    "        print(\"B 생성자 호출\")  # B의 생성자\n",
    "        super().__init__()     # 부모(A) 생성자 호출\n",
    "\n",
    "class C(A):  # A를 상속받음\n",
    "    def __init__(self):\n",
    "        print(\"C 생성자 호출\")  # C의 생성자\n",
    "        super().__init__()     # 부모(A) 생성자 호출\n",
    "\n",
    "class D(B, C):  # B와 C를 모두 상속받음 (다이아몬드 상속 구조)\n",
    "    def __init__(self):\n",
    "        print(\"D 생성자 호출\")  # D의 생성자\n",
    "        super().__init__()     # 부모(B, C) 생성자 호출 (MRO에 따라 순서 결정)\n"
   ]
  },
  {
   "cell_type": "code",
   "execution_count": 8,
   "id": "3272e0ce",
   "metadata": {},
   "outputs": [
    {
     "name": "stdout",
     "output_type": "stream",
     "text": [
      "D 생성자 호출\n",
      "B 생성자 호출\n",
      "C 생성자 호출\n",
      "A 생성자 호출\n",
      "True\n",
      "True\n",
      "True\n",
      "True\n",
      "False\n",
      "<class 'object'>\n"
     ]
    }
   ],
   "source": [
    "d = D()  # D 인스턴스 생성, 생성자 호출 순서는 MRO(Method Resolution Order)에 따름\n",
    "\n",
    "# isinstance: 객체가 해당 클래스의 인스턴스인지 확인\n",
    "print(isinstance(d, A))      # d는 A의 인스턴스인가?\n",
    "print(isinstance(d, B))      # d는 B의 인스턴스인가?\n",
    "print(isinstance(d, C))      # d는 C의 인스턴스인가?\n",
    "print(isinstance(d, object)) # d는 object의 인스턴스인가? (모든 클래스의 최상위)\n",
    "print(isinstance(d, str))    # d는 str의 인스턴스인가?\n",
    "\n",
    "# object: 모든 클래스의 base 클래스\n",
    "a = object()\n",
    "print(a.__class__)  # object의 클래스 정보 출력"
   ]
  },
  {
   "cell_type": "markdown",
   "id": "93ca38f3",
   "metadata": {},
   "source": [
    "# 📌 4. 패키지 (Package)\n",
    "\n",
    "## ✅ 개념\n",
    "- 여러 개의 모듈을 **폴더 단위로 구조화한 단위**\n",
    "- `폴더에 ` __init__.py` 파일이 존재하면 Python은 해당 폴더를 패키지로 인식\n",
    "\n",
    "## ✅ 구조 예시\n",
    "```\n",
    "my_package/\n",
    "├── __init__.py\n",
    "├── module1.py\n",
    "└── module2.py\n",
    "```\n",
    "\n",
    "## ✅ 사용 예시\n",
    "```python\n",
    "from my_package import module1\n",
    "module1.function()\n",
    "```\n",
    "\n",
    "> `__init__.py`를 통해 패키지 초기화 로직 정의 가능"
   ]
  },
  {
   "cell_type": "markdown",
   "id": "c295f5e8",
   "metadata": {},
   "source": [
    "# 📌 5. 내장 함수 (Built-in Functions)\n",
    "\n",
    "## ✅ 개념\n",
    "- Python 인터프리터에 **기본 내장**된 함수\n",
    "- import 없이 바로 사용 가능\n",
    "\n",
    "## ✅ 주요 함수 예시\n",
    "\n",
    "| 함수 | 설명 |\n",
    "|------|------|\n",
    "| `len()` | 길이 반환 |\n",
    "| `type()` | 자료형 확인 |\n",
    "| `range()` | 반복 가능한 수열 생성 |\n",
    "| `print()` | 출력 |\n",
    "| `input()` | 사용자 입력 |\n",
    "| `sum()` | 합계 계산 |\n",
    "| `max()`, `min()` | 최대/최소값 반환 |"
   ]
  },
  {
   "cell_type": "code",
   "execution_count": 13,
   "id": "6bf0feee",
   "metadata": {},
   "outputs": [
    {
     "name": "stdout",
     "output_type": "stream",
     "text": [
      "4\n",
      "4\n"
     ]
    }
   ],
   "source": [
    "# abs: 절댓값 반환\n",
    "print(abs(-4))\n",
    "print(abs(4))"
   ]
  },
  {
   "cell_type": "code",
   "execution_count": 14,
   "id": "4d50cb13",
   "metadata": {},
   "outputs": [
    {
     "name": "stdout",
     "output_type": "stream",
     "text": [
      "True\n",
      "False\n",
      "True\n",
      "False\n"
     ]
    }
   ],
   "source": [
    "# all: 모든 요소가 참이면 True, 하나라도 거짓이면 False\n",
    "print(all([1, 2, 3]))           # 모두 참이므로 True\n",
    "print(all([1, 2, 3, 0]))        # 0이 있으므로 False\n",
    "print(all([\"a\", \"b\", \"C\"]))     # 모두 참(빈 문자열 아님)\n",
    "print(all([\"a\", \"b\", \"\"]))      # 빈 문자열이 있으므로 False"
   ]
  },
  {
   "cell_type": "code",
   "execution_count": 15,
   "id": "31148956",
   "metadata": {},
   "outputs": [
    {
     "name": "stdout",
     "output_type": "stream",
     "text": [
      "True\n",
      "True\n"
     ]
    }
   ],
   "source": [
    "# any: 하나라도 참이면 True, 모두 거짓이면 False\n",
    "print(any([1, 2, 3]))           # 모두 참이므로 True\n",
    "print(any([1, 2, 3, 0]))        # 0이 있지만 참이 있으므로 True"
   ]
  },
  {
   "cell_type": "code",
   "execution_count": 16,
   "id": "e2fbd74c",
   "metadata": {},
   "outputs": [
    {
     "name": "stdout",
     "output_type": "stream",
     "text": [
      "['__add__', '__class__', '__class_getitem__', '__contains__', '__delattr__', '__delitem__', '__dir__', '__doc__', '__eq__', '__format__', '__ge__', '__getattribute__', '__getitem__', '__getstate__', '__gt__', '__hash__', '__iadd__', '__imul__', '__init__', '__init_subclass__', '__iter__', '__le__', '__len__', '__lt__', '__mul__', '__ne__', '__new__', '__reduce__', '__reduce_ex__', '__repr__', '__reversed__', '__rmul__', '__setattr__', '__setitem__', '__sizeof__', '__str__', '__subclasshook__', 'append', 'clear', 'copy', 'count', 'extend', 'index', 'insert', 'pop', 'remove', 'reverse', 'sort']\n",
      "['__class__', '__class_getitem__', '__contains__', '__delattr__', '__delitem__', '__dir__', '__doc__', '__eq__', '__format__', '__ge__', '__getattribute__', '__getitem__', '__getstate__', '__gt__', '__hash__', '__init__', '__init_subclass__', '__ior__', '__iter__', '__le__', '__len__', '__lt__', '__ne__', '__new__', '__or__', '__reduce__', '__reduce_ex__', '__repr__', '__reversed__', '__ror__', '__setattr__', '__setitem__', '__sizeof__', '__str__', '__subclasshook__', 'clear', 'copy', 'fromkeys', 'get', 'items', 'keys', 'pop', 'popitem', 'setdefault', 'update', 'values']\n"
     ]
    }
   ],
   "source": [
    "# dir: 객체가 가진 변수/함수 목록 반환\n",
    "print(dir([1, 2, 3]))\n",
    "print(dir(dict()))"
   ]
  },
  {
   "cell_type": "code",
   "execution_count": 17,
   "id": "4128a198",
   "metadata": {},
   "outputs": [
    {
     "name": "stdout",
     "output_type": "stream",
     "text": [
      "1\n",
      "2\n"
     ]
    }
   ],
   "source": [
    "# divmod: 몫과 나머지를 tuple로 반환\n",
    "mok, nmg = divmod(5, 3)\n",
    "print(mok)  # 몫\n",
    "print(nmg)  # 나머지"
   ]
  },
  {
   "cell_type": "code",
   "execution_count": 18,
   "id": "dd66647d",
   "metadata": {},
   "outputs": [
    {
     "name": "stdout",
     "output_type": "stream",
     "text": [
      "0 L\n",
      "1 i\n",
      "2 f\n",
      "3 e\n",
      "4  \n",
      "5 i\n",
      "6 s\n",
      "7  \n",
      "8 e\n",
      "9 g\n",
      "10 g\n"
     ]
    }
   ],
   "source": [
    "# enumerate: 인덱스와 값을 함께 반환\n",
    "for i, c in enumerate(\"Life is egg\"):\n",
    "    print(i, c)"
   ]
  },
  {
   "cell_type": "code",
   "execution_count": 19,
   "id": "b3b7972a",
   "metadata": {},
   "outputs": [
    {
     "name": "stdout",
     "output_type": "stream",
     "text": [
      "14\n",
      "19\n"
     ]
    }
   ],
   "source": [
    "# eval: 문자열로 된 식을 실행\n",
    "result = eval('1+10+3')\n",
    "print(result)\n",
    "result = eval('(1+10)*2-3')\n",
    "print(result)"
   ]
  },
  {
   "cell_type": "code",
   "execution_count": 21,
   "id": "240579ac",
   "metadata": {},
   "outputs": [
    {
     "name": "stdout",
     "output_type": "stream",
     "text": [
      "[3, 4, 2, 9, 8, 7, 12, 15, 21]\n"
     ]
    }
   ],
   "source": [
    "# filter: 조건에 맞는 요소만 걸러내기\n",
    "a_list = [3, 4, -1, 2, 9, 8, 7, 12, 15, 21]\n",
    "\n",
    "def is_positive(x):\n",
    "    \"\"\"양수면 True 반환\"\"\"\n",
    "    return x > 0\n",
    "\n",
    "po_list = list(filter(is_positive, a_list))\n",
    "print(po_list)"
   ]
  },
  {
   "cell_type": "code",
   "execution_count": 22,
   "id": "d52e7e1b",
   "metadata": {},
   "outputs": [
    {
     "name": "stdout",
     "output_type": "stream",
     "text": [
      "[3, 4, 2, 9, 8, 7, 12, 15, 21]\n"
     ]
    }
   ],
   "source": [
    "# 람다(lambda)로 간단히 표현\n",
    "po_list = list(filter(lambda x: x > 0, a_list))\n",
    "print(po_list)"
   ]
  },
  {
   "cell_type": "code",
   "execution_count": 23,
   "id": "3f0f4feb",
   "metadata": {},
   "outputs": [
    {
     "name": "stdout",
     "output_type": "stream",
     "text": [
      "최대값 21  최소값:-1\n",
      "16\n"
     ]
    }
   ],
   "source": [
    "# max, min, pow: 최대, 최소, 거듭제곱\n",
    "print(f\"최대값 {max(a_list)}  최소값:{min(a_list)}\")\n",
    "print(pow(2, 4))"
   ]
  },
  {
   "cell_type": "code",
   "execution_count": 24,
   "id": "640732f4",
   "metadata": {},
   "outputs": [
    {
     "name": "stdout",
     "output_type": "stream",
     "text": [
      "2021-12-14\n",
      "2023-04-05\n"
     ]
    }
   ],
   "source": [
    "# 날짜 관련 내장 모듈\n",
    "import datetime\n",
    "day1 = datetime.date(2021, 12, 14)\n",
    "day2 = datetime.date(2023, 4, 5)\n",
    "print(day1)\n",
    "print(day2)"
   ]
  },
  {
   "cell_type": "code",
   "execution_count": 25,
   "id": "493e4a51",
   "metadata": {},
   "outputs": [
    {
     "name": "stdout",
     "output_type": "stream",
     "text": [
      "477\n"
     ]
    }
   ],
   "source": [
    "# 날짜 차이 계산 (timedelta 객체)\n",
    "day3 = day2 - day1\n",
    "print(day3.days)"
   ]
  },
  {
   "cell_type": "code",
   "execution_count": 26,
   "id": "2914ab01",
   "metadata": {},
   "outputs": [
    {
     "name": "stdout",
     "output_type": "stream",
     "text": [
      "30\n",
      "6\n",
      "1\n",
      "금요일\n"
     ]
    }
   ],
   "source": [
    "# 이번 달 말일까지 남은 일수 계산\n",
    "import calendar\n",
    "from datetime import date\n",
    "\n",
    "today = date.today()\n",
    "year = today.year\n",
    "month = today.month\n",
    "# 해당 월의 마지막 날 구하기\n",
    "last_day = calendar.monthrange(year, month)[1]\n",
    "print(last_day)\n",
    "\n",
    "end_of_month = datetime.date(year, month, last_day)\n",
    "print((end_of_month - today).days)\n",
    "\n",
    "# 오늘의 요일 (0:월 ~ 6:일)\n",
    "print(today.weekday())\n",
    "\n",
    "# 날짜 문자열을 받아 요일 반환 함수\n",
    "def get_weekday(s):\n",
    "    \"\"\"YYYY-MM-DD 형식의 날짜를 받아 요일명 반환\"\"\"\n",
    "    day_obj = datetime.datetime.strptime(s, \"%Y-%m-%d\")\n",
    "    weekday = day_obj.weekday()\n",
    "    titles = [\"월요일\", \"화요일\", \"수요일\", \"목요일\", \"금요일\", \"토요일\", \"일요일\"]\n",
    "    return titles[weekday]\n",
    "\n",
    "print(get_weekday(\"2025-04-11\"))"
   ]
  },
  {
   "cell_type": "code",
   "execution_count": 27,
   "id": "d900eaeb",
   "metadata": {},
   "outputs": [
    {
     "name": "stdout",
     "output_type": "stream",
     "text": [
      "['c:/$Recycle.Bin', 'c:/$SysReset', 'c:/Documents and Settings', 'c:/DumpStack.log.tmp', 'c:/hiberfil.sys', 'c:/inetpub', 'c:/pagefile.sys', 'c:/Program Files', 'c:/Program Files (x86)', 'c:/ProgramData', 'c:/Recovery', 'c:/swapfile.sys', 'c:/System Volume Information', 'c:/Temp', 'c:/Users', 'c:/Windows', 'c:/XboxGames']\n",
      "[]\n",
      "environ({'ALLUSERSPROFILE': 'C:\\\\ProgramData', 'APPDATA': 'C:\\\\Users\\\\ryan9\\\\AppData\\\\Roaming', 'APPLICATIONINSIGHTS_CONFIGURATION_CONTENT': '{}', 'APPLICATION_INSIGHTS_NO_DIAGNOSTIC_CHANNEL': '1', 'APPLICATION_INSIGHTS_NO_STATSBEAT': 'true', 'CHOCOLATEYINSTALL': 'C:\\\\ProgramData\\\\chocolatey', 'CHOCOLATEYLASTPATHUPDATE': '133928647601698566', 'CHROME_CRASHPAD_PIPE_NAME': '\\\\\\\\.\\\\pipe\\\\crashpad_6400_LVSMMOAVMRFOIRCG', 'COMMONPROGRAMFILES': 'C:\\\\Program Files\\\\Common Files', 'COMMONPROGRAMFILES(X86)': 'C:\\\\Program Files (x86)\\\\Common Files', 'COMMONPROGRAMW6432': 'C:\\\\Program Files\\\\Common Files', 'COMPUTERNAME': 'SURFACEPRO9', 'COMSPEC': 'C:\\\\Windows\\\\system32\\\\cmd.exe', 'CONDA_ALLOW_SOFTLINKS': 'false', 'CONDA_DEFAULT_ENV': 'base', 'CONDA_EXE': 'C:\\\\Users\\\\ryan9\\\\anaconda3\\\\Scripts\\\\conda.exe', 'CONDA_PREFIX': 'C:\\\\Users\\\\ryan9\\\\anaconda3', 'CONDA_PROMPT_MODIFIER': '(base) ', 'CONDA_PYTHON_EXE': 'C:\\\\Users\\\\ryan9\\\\anaconda3\\\\python.exe', 'CONDA_ROOT': 'C:\\\\Users\\\\ryan9\\\\anaconda3', 'CONDA_SHLVL': '1', 'DRIVERDATA': 'C:\\\\Windows\\\\System32\\\\Drivers\\\\DriverData', 'EFC_19192_1592913036': '1', 'ELECTRON_RUN_AS_NODE': '1', 'FLUTTER': 'C:\\\\Users\\\\ryan9\\\\문서\\\\flutter\\\\bin', 'HOMEDRIVE': 'C:', 'HOMEPATH': '\\\\Users\\\\ryan9', 'JPY_INTERRUPT_EVENT': '1060', 'LOCALAPPDATA': 'C:\\\\Users\\\\ryan9\\\\AppData\\\\Local', 'LOGONSERVER': '\\\\\\\\SURFACEPRO9', 'NUMBER_OF_PROCESSORS': '12', 'ONEDRIVE': 'C:\\\\Users\\\\ryan9\\\\OneDrive', 'ORIGINAL_XDG_CURRENT_DESKTOP': 'undefined', 'OS': 'Windows_NT', 'PATH': 'c:\\\\Users\\\\ryan9\\\\anaconda3;C:\\\\Users\\\\ryan9\\\\anaconda3;C:\\\\Users\\\\ryan9\\\\anaconda3\\\\Library\\\\mingw-w64\\\\bin;C:\\\\Users\\\\ryan9\\\\anaconda3\\\\Library\\\\usr\\\\bin;C:\\\\Users\\\\ryan9\\\\anaconda3\\\\Library\\\\bin;C:\\\\Users\\\\ryan9\\\\anaconda3\\\\Scripts;C:\\\\Users\\\\ryan9\\\\anaconda3\\\\bin;C:\\\\Users\\\\ryan9\\\\anaconda3\\\\condabin;c:\\\\Users\\\\ryan9\\\\AppData\\\\Local\\\\Programs\\\\cursor\\\\resources\\\\app\\\\bin;C:\\\\Windows\\\\system32;C:\\\\Windows;C:\\\\Windows\\\\System32\\\\Wbem;C:\\\\Windows\\\\System32\\\\WindowsPowerShell\\\\v1.0;C:\\\\Windows\\\\System32\\\\OpenSSH;C:\\\\Program Files\\\\Git\\\\cmd;C:\\\\Program Files\\\\Bandizip;C:\\\\Users\\\\ryan9\\\\anaconda3;C:\\\\Users\\\\ryan9\\\\anaconda3\\\\Scripts;C:\\\\Users\\\\ryan9\\\\anaconda3\\\\Library\\\\bin;C:\\\\Program Files\\\\MySQL\\\\MySQL Server 8.0\\\\bin;C:\\\\ProgramData\\\\chocolatey\\\\bin;C:\\\\Program Files\\\\PuTTY;C:\\\\Program Files\\\\GitHub CLI;C:\\\\Program Files (x86)\\\\GnuWin32\\\\bin;C:\\\\Program Files\\\\MySQL\\\\MySQL Shell 8.0\\\\bin;C:\\\\Users\\\\ryan9\\\\AppData\\\\Local\\\\Microsoft\\\\WindowsApps;C:\\\\Users\\\\ryan9\\\\AppData\\\\Local\\\\GitHubDesktop\\\\bin;c:\\\\Users\\\\ryan9\\\\AppData\\\\Local\\\\Programs\\\\cursor\\\\resources\\\\app\\\\bin;C:\\\\Program Files\\\\Docker\\\\Docker\\\\resources\\\\bin;C:\\\\Program Files\\\\nodejs;C:\\\\Program Files\\\\MySQL\\\\MySQL Shell 8.0\\\\bin;C:\\\\Users\\\\ryan9\\\\AppData\\\\Local\\\\Microsoft\\\\WindowsApps;C:\\\\Users\\\\ryan9\\\\AppData\\\\Local\\\\Programs\\\\Microsoft VS Code\\\\bin;C:\\\\Users\\\\ryan9\\\\AppData\\\\Local\\\\GitHubDesktop\\\\bin;C:\\\\Users\\\\ryan9\\\\AppData\\\\Local\\\\Programs\\\\cursor\\\\resources\\\\app\\\\bin;C:\\\\Users\\\\ryan9\\\\bin;C:\\\\Users\\\\ryan9\\\\AppData\\\\Roaming\\\\npm', 'PATHEXT': '.COM;.EXE;.BAT;.CMD;.VBS;.VBE;.JS;.JSE;.WSF;.WSH;.MSC', 'PROCESSOR_ARCHITECTURE': 'AMD64', 'PROCESSOR_IDENTIFIER': 'Intel64 Family 6 Model 154 Stepping 4, GenuineIntel', 'PROCESSOR_LEVEL': '6', 'PROCESSOR_REVISION': '9a04', 'PROGRAMDATA': 'C:\\\\ProgramData', 'PROGRAMFILES': 'C:\\\\Program Files', 'PROGRAMFILES(X86)': 'C:\\\\Program Files (x86)', 'PROGRAMW6432': 'C:\\\\Program Files', 'PROMPT': '(base) $P$G', 'PSMODULEPATH': 'C:\\\\Program Files\\\\WindowsPowerShell\\\\Modules;C:\\\\Windows\\\\system32\\\\WindowsPowerShell\\\\v1.0\\\\Modules', 'PUBLIC': 'C:\\\\Users\\\\Public', 'PYDEVD_IPYTHON_COMPATIBLE_DEBUGGING': '1', 'PYTHONIOENCODING': 'utf-8', 'PYTHONUNBUFFERED': '1', 'PYTHONUTF8': '1', 'PYTHON_FROZEN_MODULES': 'on', 'SESSIONNAME': 'Console', 'SSL_CERT_FILE': 'C:\\\\Users\\\\ryan9\\\\anaconda3\\\\Library\\\\ssl\\\\cacert.pem', 'SYSTEMDRIVE': 'C:', 'SYSTEMROOT': 'C:\\\\Windows', 'TEMP': 'C:\\\\Users\\\\ryan9\\\\AppData\\\\Local\\\\Temp', 'TMP': 'C:\\\\Users\\\\ryan9\\\\AppData\\\\Local\\\\Temp', 'USERDOMAIN': 'SURFACEPRO9', 'USERDOMAIN_ROAMINGPROFILE': 'SURFACEPRO9', 'USERNAME': 'ryan9', 'USERPROFILE': 'C:\\\\Users\\\\ryan9', 'VSCODE_CODE_CACHE_PATH': 'C:\\\\Users\\\\ryan9\\\\AppData\\\\Roaming\\\\Code\\\\CachedData\\\\18e3a1ec544e6907be1e944a94c496e302073435', 'VSCODE_CRASH_REPORTER_PROCESS_TYPE': 'extensionHost', 'VSCODE_CWD': 'C:\\\\Users\\\\ryan9\\\\AppData\\\\Local\\\\Programs\\\\Microsoft VS Code', 'VSCODE_DOTNET_INSTALL_TOOL_ORIGINAL_HOME': 'undefined', 'VSCODE_ESM_ENTRYPOINT': 'vs/workbench/api/node/extensionHostProcess', 'VSCODE_HANDLES_UNCAUGHT_ERRORS': 'true', 'VSCODE_IPC_HOOK': '\\\\\\\\.\\\\pipe\\\\5eb01c0b-1.101.1-main-sock', 'VSCODE_L10N_BUNDLE_LOCATION': 'file:///c%3A/Users/ryan9/.vscode/extensions/ms-ceintl.vscode-language-pack-ko-1.101.2025061109/translations/extensions/vscode.json-language-features.i18n.json', 'VSCODE_NLS_CONFIG': '{\"userLocale\":\"ko\",\"osLocale\":\"ko\",\"resolvedLanguage\":\"ko\",\"defaultMessagesFile\":\"C:\\\\\\\\Users\\\\\\\\ryan9\\\\\\\\AppData\\\\\\\\Local\\\\\\\\Programs\\\\\\\\Microsoft VS Code\\\\\\\\resources\\\\\\\\app\\\\\\\\out\\\\\\\\nls.messages.json\",\"languagePack\":{\"translationsConfigFile\":\"C:\\\\\\\\Users\\\\\\\\ryan9\\\\\\\\AppData\\\\\\\\Roaming\\\\\\\\Code\\\\\\\\clp\\\\\\\\deb1230c5aa9c99e914aea95a6da1ff5.ko\\\\\\\\tcf.json\",\"messagesFile\":\"C:\\\\\\\\Users\\\\\\\\ryan9\\\\\\\\AppData\\\\\\\\Roaming\\\\\\\\Code\\\\\\\\clp\\\\\\\\deb1230c5aa9c99e914aea95a6da1ff5.ko\\\\\\\\18e3a1ec544e6907be1e944a94c496e302073435\\\\\\\\nls.messages.json\",\"corruptMarkerFile\":\"C:\\\\\\\\Users\\\\\\\\ryan9\\\\\\\\AppData\\\\\\\\Roaming\\\\\\\\Code\\\\\\\\clp\\\\\\\\deb1230c5aa9c99e914aea95a6da1ff5.ko\\\\\\\\corrupted.info\"},\"locale\":\"ko\",\"availableLanguages\":{\"*\":\"ko\"},\"_languagePackId\":\"deb1230c5aa9c99e914aea95a6da1ff5.ko\",\"_languagePackSupport\":true,\"_translationsConfigFile\":\"C:\\\\\\\\Users\\\\\\\\ryan9\\\\\\\\AppData\\\\\\\\Roaming\\\\\\\\Code\\\\\\\\clp\\\\\\\\deb1230c5aa9c99e914aea95a6da1ff5.ko\\\\\\\\tcf.json\",\"_cacheRoot\":\"C:\\\\\\\\Users\\\\\\\\ryan9\\\\\\\\AppData\\\\\\\\Roaming\\\\\\\\Code\\\\\\\\clp\\\\\\\\deb1230c5aa9c99e914aea95a6da1ff5.ko\",\"_resolvedLanguagePackCoreLocation\":\"C:\\\\\\\\Users\\\\\\\\ryan9\\\\\\\\AppData\\\\\\\\Roaming\\\\\\\\Code\\\\\\\\clp\\\\\\\\deb1230c5aa9c99e914aea95a6da1ff5.ko\\\\\\\\18e3a1ec544e6907be1e944a94c496e302073435\",\"_corruptedFile\":\"C:\\\\\\\\Users\\\\\\\\ryan9\\\\\\\\AppData\\\\\\\\Roaming\\\\\\\\Code\\\\\\\\clp\\\\\\\\deb1230c5aa9c99e914aea95a6da1ff5.ko\\\\\\\\corrupted.info\"}', 'VSCODE_PID': '6400', 'WINDIR': 'C:\\\\Windows', '_CONDA_OLD_CHCP': '949', '__CONDA_OPENSLL_CERT_FILE_SET': '\"1\"', 'PYDEVD_USE_FRAME_EVAL': 'NO', 'TERM': 'xterm-color', 'CLICOLOR': '1', 'FORCE_COLOR': '1', 'CLICOLOR_FORCE': '1', 'PAGER': 'cat', 'GIT_PAGER': 'cat', 'MPLBACKEND': 'module://matplotlib_inline.backend_inline'})\n",
      "c:\\Users\\ryan9\\anaconda3;C:\\Users\\ryan9\\anaconda3;C:\\Users\\ryan9\\anaconda3\\Library\\mingw-w64\\bin;C:\\Users\\ryan9\\anaconda3\\Library\\usr\\bin;C:\\Users\\ryan9\\anaconda3\\Library\\bin;C:\\Users\\ryan9\\anaconda3\\Scripts;C:\\Users\\ryan9\\anaconda3\\bin;C:\\Users\\ryan9\\anaconda3\\condabin;c:\\Users\\ryan9\\AppData\\Local\\Programs\\cursor\\resources\\app\\bin;C:\\Windows\\system32;C:\\Windows;C:\\Windows\\System32\\Wbem;C:\\Windows\\System32\\WindowsPowerShell\\v1.0;C:\\Windows\\System32\\OpenSSH;C:\\Program Files\\Git\\cmd;C:\\Program Files\\Bandizip;C:\\Users\\ryan9\\anaconda3;C:\\Users\\ryan9\\anaconda3\\Scripts;C:\\Users\\ryan9\\anaconda3\\Library\\bin;C:\\Program Files\\MySQL\\MySQL Server 8.0\\bin;C:\\ProgramData\\chocolatey\\bin;C:\\Program Files\\PuTTY;C:\\Program Files\\GitHub CLI;C:\\Program Files (x86)\\GnuWin32\\bin;C:\\Program Files\\MySQL\\MySQL Shell 8.0\\bin;C:\\Users\\ryan9\\AppData\\Local\\Microsoft\\WindowsApps;C:\\Users\\ryan9\\AppData\\Local\\GitHubDesktop\\bin;c:\\Users\\ryan9\\AppData\\Local\\Programs\\cursor\\resources\\app\\bin;C:\\Program Files\\Docker\\Docker\\resources\\bin;C:\\Program Files\\nodejs;C:\\Program Files\\MySQL\\MySQL Shell 8.0\\bin;C:\\Users\\ryan9\\AppData\\Local\\Microsoft\\WindowsApps;C:\\Users\\ryan9\\AppData\\Local\\Programs\\Microsoft VS Code\\bin;C:\\Users\\ryan9\\AppData\\Local\\GitHubDesktop\\bin;C:\\Users\\ryan9\\AppData\\Local\\Programs\\cursor\\resources\\app\\bin;C:\\Users\\ryan9\\bin;C:\\Users\\ryan9\\AppData\\Roaming\\npm\n",
      "c:\\Users\\ryan9\\문서\\GitHub\\SeSac-AI-Developer-Notes-2025\\01_Python\\2. 실습\n"
     ]
    },
    {
     "data": {
      "text/plain": [
       "0"
      ]
     },
     "execution_count": 27,
     "metadata": {},
     "output_type": "execute_result"
    }
   ],
   "source": [
    "# 파일 복사, 파일 목록, 환경변수, 현재 경로, 시스템 명령어 실행\n",
    "import shutil\n",
    "# shutil.copy(\"./내장함수.py\", \"./내장함수2.py\")\n",
    "\n",
    "import glob\n",
    "filelist = glob.glob(\"c:/*\")\n",
    "print(filelist)\n",
    "\n",
    "filelist = glob.glob(\"./*.py\")\n",
    "print(filelist)\n",
    "\n",
    "import os\n",
    "print(os.environ)\n",
    "print(os.environ['PATH'])\n",
    "print(os.getcwd())\n",
    "\n",
    "# 시스템 명령어 실행 (윈도우: dir/w)\n",
    "os.system(\"dir/w\")\n"
   ]
  },
  {
   "cell_type": "markdown",
   "id": "9d017f51",
   "metadata": {},
   "source": [
    "# 📌 6. 표준 라이브러리 (Standard Library)\n",
    "\n",
    "## ✅ 개념\n",
    "- Python에서 기본 제공하는 모듈들의 집합\n",
    "- **추가 설치 없이** `import`만으로 사용 가능\n",
    "\n",
    "## ✅ 주요 표준 라이브러리\n",
    "\n",
    "| 모듈 | 용도 |\n",
    "|------|------|\n",
    "| `math` | 수학 연산 |\n",
    "| `datetime` | 날짜/시간 처리 |\n",
    "| `os` | 운영체제 기능 |\n",
    "| `sys` | 시스템 인자, 환경 |\n",
    "| `random` | 난수 생성 |\n",
    "| `json` | JSON 처리 |\n",
    "| `collections` | 고급 자료구조 |\n",
    "| `re` | 정규 표현식 |\n",
    "| `itertools` | 반복자 처리 도구 |\n",
    "\n",
    "## ✅ 예시\n",
    "```python\n",
    "import math\n",
    "print(math.sqrt(16))  # 4.0\n",
    "\n",
    "import datetime\n",
    "print(datetime.datetime.now())"
   ]
  },
  {
   "cell_type": "code",
   "execution_count": null,
   "id": "33101466",
   "metadata": {},
   "outputs": [],
   "source": [
    "# 외부 모듈 사용 예시\n",
    "# import mod1  # mod1.py 전체가 메모리에 로딩됨\n",
    "\n",
    "# mod1의 함수 사용\n",
    "print(mod1.add(3, 4))   # 3 + 4 = 7\n",
    "print(mod1.sub(3, 4))   # 3 - 4 = -1\n",
    "\n",
    "# mod1의 클래스 사용\n",
    "p2 = mod1.Person(\"윤하\", 44)\n",
    "p2.print()\n",
    "\n",
    "# 모듈명이 길 경우 별칭(alias) 사용\n",
    "# import mod1 as md\n",
    "\n",
    "print(md.add(3, 4))\n",
    "print(md.sub(3, 4))\n",
    "\n",
    "p2 = md.Person(\"웬디\", 32)\n",
    "p2.print()\n",
    "\n",
    "# 함수만 직접 import하여 마치 내 함수처럼 사용\n",
    "# from mod1 import add, sub\n",
    "\n",
    "print(add(9, 8))\n",
    "print(sub(9, 8))\n",
    "\n",
    "# from mod1 import Person\n",
    "\n",
    "p3 = Person(\"조이\", 24)\n",
    "p3.print()\n",
    "\n",
    "# 수학 라이브러리 numpy 사용 예시\n",
    "import numpy as np\n",
    "\n",
    "a = [1, 2, 3, 4, 5, 6, 7, 8, 9, 10]  # 파이썬 리스트\n",
    "b = [x * 2 for x in a]                # 리스트 내포로 각 원소 2배\n",
    "c = a + b                             # 리스트 연결(덧셈 아님)\n",
    "print(a)\n",
    "print(b)\n",
    "print(c)\n",
    "\n",
    "a1 = np.array(a)      # numpy 배열로 변환\n",
    "b1 = 2 * a1           # 벡터 연산: 각 원소 2배\n",
    "c1 = a1 + b1          # 벡터 연산: 각 원소끼리 덧셈\n",
    "print(a1)\n",
    "print(b1)\n",
    "print(c1)\n",
    "\n",
    "\"\"\"\n",
    "스칼라 연산: 1:1 연산, 대부분의 프로그래밍 언어 지원\n",
    "벡터 연산: 다대다 연산, numpy/pandas 등에서 지원\n",
    "예시: mymodule2.py의 함수 사용\n",
    "isEven(4)      # 짝수면 True, 홀수면 False 반환\n",
    "toUpper('asterisk')  # 대문자로 변환 → 'ASTERISK'\n",
    "\"\"\"\n"
   ]
  },
  {
   "cell_type": "code",
   "execution_count": null,
   "id": "a88e93cf",
   "metadata": {},
   "outputs": [],
   "source": [
    "# from mymodule2 import isEven, toUpper\n",
    "\n",
    "# print( isEven(4))\n",
    "# print( isEven(7))\n",
    "\n",
    "# print( toUpper(\"asterisk\"))\n",
    "# print( toUpper(\"Life is egg\"))"
   ]
  },
  {
   "cell_type": "markdown",
   "id": "e8dadfa9",
   "metadata": {},
   "source": [
    "# 에러 처리"
   ]
  },
  {
   "cell_type": "code",
   "execution_count": 28,
   "id": "41b045b8",
   "metadata": {},
   "outputs": [
    {
     "name": "stdout",
     "output_type": "stream",
     "text": [
      "x=1 y=2 z=0.5\n",
      "이 부분은 반드시 실행된다.\n"
     ]
    }
   ],
   "source": [
    "# 예외 처리 예시: 두 정수 입력받아 나눗셈 수행\n",
    "try:\n",
    "    x = int(input(\"정수 입력(x): \"))  # 사용자로부터 첫 번째 정수 입력\n",
    "    y = int(input(\"정수 입력(y): \"))  # 사용자로부터 두 번째 정수 입력\n",
    "    z = x / y                        # 나눗셈 연산\n",
    "    print(f\"x={x} y={y} z={z}\")      # 결과 출력\n",
    "except ZeroDivisionError:\n",
    "    # 0으로 나눌 경우 예외 처리\n",
    "    print(\"0으로 나눌 수 없습니다.\")\n",
    "except ValueError:\n",
    "    # 정수가 아닌 값 입력 시 예외 처리\n",
    "    print(\"정수를 입력하세요.\")\n",
    "finally:\n",
    "    # 예외 발생 여부와 관계없이 항상 실행\n",
    "    print(\"이 부분은 반드시 실행된다.\")\n",
    "\n",
    "# 주로 파일, 데이터베이스, 네트워크 처리 등에서 finally를 사용하여 자원 정리를 보장"
   ]
  },
  {
   "cell_type": "code",
   "execution_count": 30,
   "id": "5b9b9b1e",
   "metadata": {},
   "outputs": [
    {
     "name": "stdout",
     "output_type": "stream",
     "text": [
      "10\n",
      "20\n",
      "40\n",
      "50\n",
      "4\n",
      "5\n",
      "11\n",
      "12\n",
      "14\n",
      "27\n"
     ]
    }
   ],
   "source": [
    "# 파일을 안전하게 열고 읽는 예시 (with문 사용, 예외 처리 및 주석 추가)\n",
    "try:\n",
    "    # with문을 사용하면 파일을 자동으로 닫아줌\n",
    "    with open(\"./데이터파일/정수.txt\", \"r\") as f:\n",
    "        lines = f.readlines()  # 파일의 모든 줄을 리스트로 읽음\n",
    "        for line in lines:\n",
    "            print(line, end='')  # 줄바꿈이 이미 포함되어 있으므로 end='' 사용\n",
    "except FileNotFoundError as e:\n",
    "    # 파일이 존재하지 않을 때 예외 처리\n",
    "    print(\"파일을 찾을 수 없습니다:\", e)\n",
    "except Exception as e:\n",
    "    # 기타 예외 처리\n",
    "    print(\"오류 발생:\", e)"
   ]
  },
  {
   "cell_type": "code",
   "execution_count": null,
   "id": "c28cb465",
   "metadata": {},
   "outputs": [
    {
     "name": "stdout",
     "output_type": "stream",
     "text": [
      "IndexError: list index out of range\n",
      "Test 생성 예외: 객체 생성 오류: Test 인스턴스 생성 실패\n"
     ]
    }
   ],
   "source": [
    "# 리스트 인덱스 오류 처리 예시\n",
    "try:\n",
    "    a = [1, 2, 3, 4, 5]\n",
    "    b = a[5]  # 존재하지 않는 인덱스 접근 → IndexError 발생\n",
    "except ZeroDivisionError as e:\n",
    "    print(\"ZeroDivisionError:\", e)\n",
    "except IndexError as e:\n",
    "    print(\"IndexError:\", e)\n",
    "except Exception as e:  # 기타 모든 예외 처리 (cascading)\n",
    "    print(\"Exception:\", e)\n",
    "\n",
    "# raise: 강제로 예외를 발생시켜 함수/생성자 실행을 중단하고 예외 메시지 전달\n",
    "class Test:\n",
    "    def __init__(self):\n",
    "        # 생성자에서 오류 발생 시 raise 사용 (return 불가)\n",
    "        raise Exception(\"객체 생성 오류: Test 인스턴스 생성 실패\")\n",
    "\n",
    "# Test 클래스 인스턴스 생성 시 예외 처리\n",
    "try:\n",
    "    t1 = Test()\n",
    "except Exception as e:\n",
    "    print(\"Test 생성 예외:\", e)\n"
   ]
  }
 ],
 "metadata": {
  "kernelspec": {
   "display_name": "base",
   "language": "python",
   "name": "python3"
  },
  "language_info": {
   "codemirror_mode": {
    "name": "ipython",
    "version": 3
   },
   "file_extension": ".py",
   "mimetype": "text/x-python",
   "name": "python",
   "nbconvert_exporter": "python",
   "pygments_lexer": "ipython3",
   "version": "3.12.7"
  }
 },
 "nbformat": 4,
 "nbformat_minor": 5
}
