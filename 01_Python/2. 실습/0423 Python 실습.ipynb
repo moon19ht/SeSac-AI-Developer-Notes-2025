{
 "cells": [
  {
   "cell_type": "code",
   "execution_count": 1,
   "id": "8cce5a6d",
   "metadata": {},
   "outputs": [
    {
     "name": "stdout",
     "output_type": "stream",
     "text": [
      "출력을 하고자 할때 사용한다.\n"
     ]
    }
   ],
   "source": [
    "print(\"출력을 하고자 할때 사용한다.\")"
   ]
  },
  {
   "cell_type": "code",
   "execution_count": 2,
   "id": "654e9a64",
   "metadata": {},
   "outputs": [
    {
     "name": "stdout",
     "output_type": "stream",
     "text": [
      "11\n"
     ]
    }
   ],
   "source": [
    "print(5+6)"
   ]
  },
  {
   "cell_type": "markdown",
   "id": "bfe0b6e0",
   "metadata": {},
   "source": [
    "# 📦 변수(Variable)란?\n",
    "\n",
    "**변수**란 컴퓨터의 기억장소(메모리)에 **이름을 부여**한 것으로,\n",
    "값을 **저장**하거나 **읽어오는** 데 사용된다.\n",
    "\n",
    "---\n",
    "\n",
    "## 🧠 변수의 개념\n",
    "\n",
    "* 컴퓨터의 기억 공간(메모리)은 **0과 1**로 구성되어 있으며, \\*\\*주소(번지)\\*\\*로 구분된다.\n",
    "* 예를 들어:\n",
    "\n",
    "  * 1번지에 `3`을 저장\n",
    "  * 2번지에 `4`를 저장\n",
    "* 이 공간들에 이름을 붙인 것이 바로 **변수**다.\n",
    "\n",
    "---\n",
    "\n",
    "## 🖥️ 변수 사용 예시\n",
    "\n",
    "### JAVA (컴파일 언어)\n",
    "\n",
    "```java\n",
    "int a;\n",
    "```\n",
    "\n",
    "* `int` 형의 데이터를 저장할 **공간을 미리 확보**\n",
    "* 해당 공간에 `a`라는 **이름을 부여**\n",
    "* **정적 타입(Static Typing)**: 변수를 **미리 선언**해야 하며, **자료형을 지정**해야 함\n",
    "\n",
    "---\n",
    "\n",
    "### Python 등 인터프리터 언어\n",
    "\n",
    "```python\n",
    "a = 10\n",
    "```\n",
    "\n",
    "* 변수 선언 없이 **필요할 때 바로 생성 가능**\n",
    "* **동적 타입(Dynamic Typing)**: 실행 중에 변수의 자료형이 결정됨\n",
    "\n",
    "---\n",
    "\n",
    "## ✅ 요약\n",
    "\n",
    "| 항목     | 설명                                               |\n",
    "| ------ | ------------------------------------------------ |\n",
    "| 정의     | 메모리 공간에 이름을 붙인 것                                 |\n",
    "| 기능     | 값을 저장하고 꺼내 쓰기 위한 수단                              |\n",
    "| 자료형 선언 | 컴파일 언어에서는 필요 (`int`, `float` 등), 인터프리터 언어는 생략 가능 |\n",
    "| 사용 목적  | 프로그램의 데이터를 기억하고 조작하기 위해                          |\n"
   ]
  },
  {
   "cell_type": "code",
   "execution_count": null,
   "id": "2a1d9329",
   "metadata": {},
   "outputs": [
    {
     "name": "stdout",
     "output_type": "stream",
     "text": [
      "10 20 30\n"
     ]
    }
   ],
   "source": [
    "a = 10  # a라는 변수에 값 10을 저장(할당)하라.\n",
    "b = 20  # b라는 변수에 값 20을 저장하라.\n",
    "c = a+b # a의 값 10과 b의 값 20을 읽어와서 더한 뒤 c에 넣어라\n",
    "        # 좌변에는 변수만, 우변에는 아무거나 올 수 있다.\n",
    "print(a, b, c) # a, b, c의 값을 읽어와서 화면에 출력하라."
   ]
  },
  {
   "cell_type": "code",
   "execution_count": 4,
   "id": "a1c52bb1",
   "metadata": {},
   "outputs": [
    {
     "name": "stdout",
     "output_type": "stream",
     "text": [
      "4 3 43\n"
     ]
    }
   ],
   "source": [
    "# 값 입력하기 - 입력함수가 동시에 출력도 가능\n",
    "a = input(\"a = \")\n",
    "b = input(\"b = \")\n",
    "c = a+b        # 모든 입력은 unicode 다. 그래서 a, b, c도 문자로 인식한다.\n",
    "print(a, b, c) # 문자 + 문자 덧붙이기"
   ]
  },
  {
   "cell_type": "code",
   "execution_count": 5,
   "id": "afa9acb6",
   "metadata": {},
   "outputs": [
    {
     "name": "stdout",
     "output_type": "stream",
     "text": [
      "15.0\n"
     ]
    }
   ],
   "source": [
    "# 사각형의 면적 구하기(가로, 세로 입력 받아서 면적을 구함)\n",
    "width = input(\"width = \")   #밑변 입력\n",
    "height = input(\"height = \") #높이 입력\n",
    "area = int(width) * int(height) * 1/2 #면적 계산; 밑변*높이*1/2\n",
    "print(area) #면적 출력"
   ]
  },
  {
   "cell_type": "code",
   "execution_count": 6,
   "id": "3fd76c66",
   "metadata": {},
   "outputs": [
    {
     "name": "stdout",
     "output_type": "stream",
     "text": [
      "근무 시간은 9 시간당 급여는 10000 주급은 450000\n"
     ]
    }
   ],
   "source": [
    "#주급 계산하기 시간당 급여하고 근무시간을 입력받아서 주급을 계산하라.\n",
    "hourly_wage = input(\"시간당 급여 : \")\n",
    "working_times = input(\"근무 시간 : \")\n",
    "salary = int(hourly_wage) * int(working_times) * 5\n",
    "print(\"근무 시간은\", working_times, \"시간당 급여는\", hourly_wage, \"주급은\", salary)"
   ]
  },
  {
   "cell_type": "markdown",
   "id": "36eb4cee",
   "metadata": {},
   "source": [
    "아래는 **입력받은 이름과 주소를 한 문장으로 출력**하고,\n",
    "**동적 타입 언어인 Python에서 변수의 타입이 어떻게 바뀌는지 보여주는 코드**를 설명과 함께 정리한 것입니다:\n",
    "\n",
    "## 📌 예제 코드 (Python)\n",
    "\n",
    "```python\n",
    "# 이름과 주소 입력받기\n",
    "name = input(\"이름을 입력하세요: \")\n",
    "address = input(\"주소를 입력하세요: \")\n",
    "\n",
    "# 한 문장으로 출력\n",
    "print(f\"{name}님의 주소는 {address}입니다.\")\n",
    "\n",
    "# 변수에 다양한 값 대입\n",
    "a = 4\n",
    "print(a, type(a))  # 정수(int)\n",
    "\n",
    "a = \"test\"\n",
    "print(a, type(a))  # 문자열(str)\n",
    "\n",
    "a = 4.5\n",
    "print(a, type(a))  # 실수(float)\n",
    "```\n",
    "\n",
    "---\n",
    "\n",
    "## 🔍 해설\n",
    "\n",
    "### 🎯 1. `input()` 함수\n",
    "\n",
    "* 사용자로부터 **문자열**을 입력받는다.\n",
    "* 입력받은 값은 기본적으로 **`str` 타입**이다.\n",
    "\n",
    "### 🎯 2. `print(f\"...\")` 문법\n",
    "\n",
    "* f-string을 사용하여 문자열 안에 **변수를 직접 삽입**할 수 있다.\n",
    "* `{변수명}` 형태로 사용할 수 있어 **가독성이 좋고 간결**하다.\n",
    "\n",
    "### 🎯 3. 변수의 타입 변화 (`type()` 함수)\n",
    "\n",
    "* `type(a)`는 **변수 a가 가리키고 있는 값의 타입**을 반환한다.\n",
    "* Python은 **동적 타입 언어**이므로, 변수 `a`는 다양한 타입의 값을 자유롭게 저장할 수 있다.\n",
    "\n",
    "---\n",
    "\n",
    "## ✅ 출력 예시\n",
    "\n",
    "```\n",
    "이름을 입력하세요: 철수\n",
    "주소를 입력하세요: 서울시 강남구\n",
    "철수님의 주소는 서울시 강남구입니다.\n",
    "4 <class 'int'>\n",
    "test <class 'str'>\n",
    "4.5 <class 'float'>\n",
    "```\n"
   ]
  },
  {
   "cell_type": "code",
   "execution_count": 1,
   "id": "3eb50457",
   "metadata": {},
   "outputs": [
    {
     "name": "stdout",
     "output_type": "stream",
     "text": [
      "달밤돌다리님의 주소는 000입니다\n"
     ]
    }
   ],
   "source": [
    "name =  input(\"이름을 입력하세요 : \")\n",
    "addr = input(\"주소를 입력하세요 : \")\n",
    "#python 의 경우에 문자열+ 연산은 문자열끼리만 가능하다.\n",
    "print(name+\"님의 주소는 \"+addr+\"입니다\")"
   ]
  }
 ],
 "metadata": {
  "kernelspec": {
   "display_name": "base",
   "language": "python",
   "name": "python3"
  },
  "language_info": {
   "codemirror_mode": {
    "name": "ipython",
    "version": 3
   },
   "file_extension": ".py",
   "mimetype": "text/x-python",
   "name": "python",
   "nbconvert_exporter": "python",
   "pygments_lexer": "ipython3",
   "version": "3.12.7"
  }
 },
 "nbformat": 4,
 "nbformat_minor": 5
}
