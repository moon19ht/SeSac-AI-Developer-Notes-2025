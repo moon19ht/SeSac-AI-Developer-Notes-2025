{
 "cells": [
  {
   "cell_type": "markdown",
   "id": "6ca7b490",
   "metadata": {},
   "source": [
    "# 리스트"
   ]
  },
  {
   "cell_type": "code",
   "execution_count": 1,
   "id": "223c7044",
   "metadata": {},
   "outputs": [
    {
     "name": "stdout",
     "output_type": "stream",
     "text": [
      "[1, 2, 3, 4, 5, 6, 7, 8]\n",
      "[1, 2, 3, 4, 5, 6, 7, 8]\n",
      "같다\n",
      "[2, 3, 4, 5, 6, 7, 8]\n",
      "[2, 3, 4, 5]\n"
     ]
    }
   ],
   "source": [
    "a = [1,2,3,4]\n",
    "b = [5,6,7,8]\n",
    "\n",
    "# 리스트를 결합하는 방법, 원본을 안바꾸고 더해진 새로운 list를 반환 \n",
    "c = a + b # 연산자 중복기능 => 우리가 연산자를 새로 만들 수 있다. \n",
    "print(c)\n",
    "\n",
    "a.extend(b) # 원본에 추가\n",
    "print(a)\n",
    "\n",
    "s = \"hello\"\n",
    "if s == \"hello\": # if s.equals(\"hello\") -- java\n",
    "    print(\"같다\")\n",
    "else:\n",
    "    print(\"다르다\")\n",
    "\n",
    "# 요소 삭제; del `삭제할요소`, del `객체`\n",
    "del c[0]  \n",
    "print(c)\n",
    "\n",
    "del c[4:] # 4번째 요소 이후로 모두 삭제를 하라 \n",
    "print(c)"
   ]
  },
  {
   "cell_type": "code",
   "execution_count": 2,
   "id": "2dd8f1ef",
   "metadata": {},
   "outputs": [
    {
     "name": "stdout",
     "output_type": "stream",
     "text": [
      "[1, 3, 4, 5, 7, 8, 9, 11, 12, 15, 17]\n",
      "[17, 15, 12, 11, 9, 8, 7, 5, 4, 3, 1]\n",
      "[100, 17, 15, 12, 11, 9, 8, 7, 5, 4, 3, 1]\n",
      "[100, 17, 15, 12, 11, 77, 9, 8, 7, 5, 4, 3, 1]\n",
      "[100, 17, 15, 12, 11, 77, 9, 8, 7, 5, 4, 3, 1, 88]\n",
      "[100, 17, 15, 12, 11, 9, 8, 7, 5, 4, 3, 1, 88]\n"
     ]
    }
   ],
   "source": [
    "a = [4,3,5,7,9,1,11,17, 12,15,8]\n",
    "\n",
    "# 정렬 : 순서대로 데이터를 늘어놓는것을 말한다. \n",
    "a.sort() \n",
    "# 오름차순 정렬 : 갈수록 커지는 것  \n",
    "# 내림차순 정렬 : 갈수록 작아지는 것 \n",
    "print(a)\n",
    "a.reverse() # 순서뒤집기\n",
    "print(a)\n",
    "\n",
    "# insert - 특정위치에 데이터 끼워넣기 \n",
    "a.insert(0, 100) # 0번째 위치에 값 100 넣어보기 \n",
    "print(a)\n",
    "a.insert(5, 77) # 5번째 위치에 값 77을 넣어보기 \n",
    "print(a)\n",
    "a.insert(len(a), 88) # append 함수와 동일한 역할을 한다. \n",
    "print(a)\n",
    "\n",
    "# a.remove(값) \n",
    "# 값을 찾아서 (여러 개 일때는) 첫 번째로 나오는 값을 찾아서 삭제\n",
    "a.remove(77)\n",
    "print(a)"
   ]
  },
  {
   "cell_type": "markdown",
   "id": "02177d21",
   "metadata": {},
   "source": [
    "\n",
    "- 컴퓨터안에 데이터를 저장하는 구조\n",
    "\n",
    "배열구조\n",
    "\n",
    "링크드리스트 구조 \n",
    "\n",
    "+ `Stack` 구조 - 후입선출(Last In First Out) - 나중에 들어간 것이 먼저 나오는 구조\n",
    "+ `Queue` 구조 - 선입선출(First In First Out)- 먼저 들어간 것이 먼저 나오는 구조"
   ]
  },
  {
   "cell_type": "code",
   "execution_count": 3,
   "id": "0ed02f6d",
   "metadata": {},
   "outputs": [
    {
     "name": "stdout",
     "output_type": "stream",
     "text": [
      "['A', 'B', 'C', 'D', 'E']\n",
      "E\n",
      "['A', 'B', 'C', 'D']\n",
      "D\n",
      "['A', 'B', 'C']\n",
      "C\n",
      "['A', 'B']\n",
      "B\n",
      "['A']\n",
      "A\n",
      "[]\n"
     ]
    }
   ],
   "source": [
    "a=[]\n",
    "a.append(\"A\")  # 스택구조의 push동작 데이터가 거꾸로 들어감 \n",
    "a.append(\"B\")\n",
    "a.append(\"C\")\n",
    "a.append(\"D\")\n",
    "a.append(\"E\")\n",
    "\n",
    "print(a)\n",
    "print(a.pop())\n",
    "print(a)\n",
    "print(a.pop())\n",
    "print(a)\n",
    "print(a.pop())\n",
    "print(a)\n",
    "print(a.pop())\n",
    "print(a)\n",
    "print(a.pop())\n",
    "print(a)"
   ]
  },
  {
   "cell_type": "markdown",
   "id": "a212ae0e",
   "metadata": {},
   "source": [
    "\n",
    "---\n",
    "# 딕셔너리"
   ]
  },
  {
   "cell_type": "code",
   "execution_count": 4,
   "id": "a1a3584c",
   "metadata": {},
   "outputs": [
    {
     "name": "stdout",
     "output_type": "stream",
     "text": [
      "빨간색\n",
      "초록색\n",
      "파란색\n",
      "dict_keys(['red', 'blue', 'green'])\n",
      "dict_keys(['red', 'blue', 'green', 'black'])\n",
      "{'red': '빨강', 'blue': '파란색', 'green': '초록색', 'black': '검은색'}\n",
      "pink is not exist\n",
      "dict_items([('red', '빨강'), ('blue', '파란색'), ('green', '초록색'), ('black', '검은색')])\n",
      "dict_values(['빨강', '파란색', '초록색', '검은색'])\n",
      "{'blue': '파란색', 'green': '초록색', 'black': '검은색'}\n",
      "{}\n"
     ]
    }
   ],
   "source": [
    "colors = {\"red\":\"빨간색\", \"blue\":\"파란색\", \"green\":\"초록색\"}\n",
    "# key값은 문자열을 주로 사용한다.\n",
    "# 만약, 같은 key 값을 2번쓰면 2번째꺼로 업데이트한다. \n",
    "\n",
    "# 인덱싱, 슬라이싱 불가능 \n",
    "print(colors[\"red\"])\n",
    "print(colors[\"green\"])\n",
    "print(colors[\"blue\"])\n",
    "\n",
    "print( colors.keys() ) # key 값들의 목록을 보여준다 \n",
    "\n",
    "# 추가 \n",
    "colors[\"black\"] = \"검은색\"\n",
    "print( colors.keys() )\n",
    "\n",
    "# 업데이트 \n",
    "colors[\"red\"] = \"빨강\"\n",
    "print(colors)\n",
    "\n",
    "# 없는 key값의 경우 파이썬이 어떻게 동작하는지\n",
    "if \"pink\" in colors.keys(): \n",
    "    print( colors['pink'])\n",
    "else:\n",
    "    print(\"pink is not exist\")\n",
    "\n",
    "print( colors.items() )\n",
    "print( colors.values() )\n",
    "\n",
    "colors.pop(\"red\") # red 키 삭제 \n",
    "print( colors)\n",
    "\n",
    "colors.clear()  # 전체 삭제  \n",
    "print( colors)\n",
    "\n",
    "# 특정 key삭제 - pop(키값)\n"
   ]
  },
  {
   "cell_type": "markdown",
   "id": "3a202eec",
   "metadata": {},
   "source": [
    "\n",
    "---\n",
    "\n",
    "# 리스트 컴프리핸션\n"
   ]
  },
  {
   "cell_type": "code",
   "execution_count": 5,
   "id": "98f7f43b",
   "metadata": {},
   "outputs": [
    {
     "name": "stdout",
     "output_type": "stream",
     "text": [
      "[1, 2, -3, 4, 5, 6, 7, 8, 9, 10]\n",
      "[1, 2, -3, 4, 5, 6, 7, 8, 9, 10]\n"
     ]
    }
   ],
   "source": [
    "a = [1,2,3,4,5,6,7,8,9,10]\n",
    "b = a \n",
    "a[2] = -3 \n",
    "\n",
    "print( a ) # 1.둘이 같다  2.둘이 다르다 \n",
    "print( b )"
   ]
  },
  {
   "cell_type": "markdown",
   "id": "dd80faf6",
   "metadata": {},
   "source": [
    "`Stack` 하고 `Hip` 을 시스템이 프로세스한테 할당한다.\n",
    "\n",
    "`Stack` 에는 변수 자신이 저장된다.\n",
    "\n",
    "`Hip` 에는 데이터가 저장된다. 저장된 주소를 변수한테 전달한다.\n",
    "\n",
    "- a(100번지) ========> (1,2,3,4,5,6,7,8,9,10)\n",
    "- b = a  : 동일한 데이터 공간을 공유한다 \n",
    "- b(100번지지)\n",
    "\n",
    "b라는 메모리 공간을 `Stack` 에 만들고, a의 값 (데이터가 있는 곳의 주소)를 복사한다.\n",
    "\n",
    "이를 `소프트 카피(Soft Copy)`, `얖은 카피(Shallow Copy)`라고 부른다.\n",
    "\n",
    "`Soft Copy`의 목적은 메모리 절약이며, 쓸데없는 복사과정(overhead)이 필요없다.\n",
    "\n",
    "`하드카피(Hard Copy)`, `깊은 카피(Deep Copy)`의 경우는 직접 구현하거나 `Deep Copy` 모듈을 사용하거나 컴프리헨션을 사용한다"
   ]
  },
  {
   "cell_type": "code",
   "execution_count": 6,
   "id": "145df9a8",
   "metadata": {},
   "outputs": [
    {
     "name": "stdout",
     "output_type": "stream",
     "text": [
      "[1, 2, -3, 4, 5, 6, 7, 8, 9, 10]\n",
      "[1, 2, -3, 99, 5, 6, 7, 8, 9, 10]\n"
     ]
    }
   ],
   "source": [
    "# 사용자가 구현한 하드카피 상황\n",
    "b = [] # 새로 기억공간을 만든다 \n",
    "for item in a: # a로 부터 데이터를 하나씩 가져와서 item이라는 변수에 저장 \n",
    "    b.append(item) \n",
    "b[3]=99\n",
    "print(a)\n",
    "print(b)"
   ]
  },
  {
   "cell_type": "code",
   "execution_count": 8,
   "id": "fa05cd99",
   "metadata": {},
   "outputs": [
    {
     "name": "stdout",
     "output_type": "stream",
     "text": [
      "a =  [1, 2, -3, 4, 5, 6, 7, 8, 9, 10]\n",
      "c =  [1, 2, -3, 4, 5, 55, 7, 8, 9, 10]\n",
      "d =  [2, 4, -6, 8, 10, 12, 14, 16, 18, 20]\n",
      "[1, -3, 5, 7, 9]\n"
     ]
    }
   ],
   "source": [
    "# 컴프리핸션 : 리스트 복사   [ 변수명 for 변수명 in 리스트형변수]\n",
    "\n",
    "c = [item for item in a] # 하드카피 \n",
    "c[5] = 55\n",
    "print(\"a = \", a)\n",
    "print(\"c = \", c)\n",
    "\n",
    "d = [ item*2 for item in a] \n",
    "print(\"d = \", d)\n",
    "\n",
    "# 조건을 부여할 수도 있다. \n",
    "# [변수명 for 변수명 in 리스트형변수   if 변수명> 0 ]\n",
    "# 짝수와 홀수를 나눠보자 a의 숫자를 \n",
    "oddList = [ x for x in a if x%2==1 ]\n",
    "print( oddList )"
   ]
  },
  {
   "cell_type": "code",
   "execution_count": 9,
   "id": "340276e4",
   "metadata": {},
   "outputs": [
    {
     "name": "stdout",
     "output_type": "stream",
     "text": [
      "['rain', 'desk', 'hospital', 'building', 'java', 'python', 'cloud', 'rainbow', 'assembly', 'javascript', 'html', 'css']\n",
      "['RAIN', 'DESK', 'HOSPITAL', 'BUILDING', 'JAVA', 'PYTHON', 'CLOUD', 'RAINBOW', 'ASSEMBLY', 'JAVASCRIPT', 'HTML', 'CSS']\n",
      "[('rain', 4, 'RAIN'), ('desk', 4, 'DESK'), ('hospital', 8, 'HOSPITAL'), ('building', 8, 'BUILDING'), ('java', 4, 'JAVA'), ('python', 6, 'PYTHON'), ('cloud', 5, 'CLOUD'), ('rainbow', 7, 'RAINBOW'), ('assembly', 8, 'ASSEMBLY'), ('javascript', 10, 'JAVASCRIPT'), ('html', 4, 'HTML'), ('css', 3, 'CSS')]\n",
      "['hospital', 'building', 'python', 'cloud', 'rainbow', 'assembly', 'javascript']\n",
      "['java', 'javascript']\n",
      "['rain', 'desk', 'java', 'html', 'css']\n"
     ]
    }
   ],
   "source": [
    "wordList = [\"rain\", \"desk\", \"hospital\", \"building\", \"java\", \"python\", \n",
    "            \"cloud\", \"rainbow\", \"assembly\", \"javascript\", \"html\", \"css\"]\n",
    "# 1.복사 - 하드카피 \n",
    "wordList2  = [w for w in wordList]\n",
    "print( wordList2 )\n",
    "\n",
    "# 2.복사하면서 대문자로 바꾸고 싶다\n",
    "wordList3 = [w.upper() for w in wordList]\n",
    "print( wordList3 )\n",
    "\n",
    "# 단어와 단어길이\n",
    "wordList3 = [ (w, len(w), w.upper()) for w in wordList]\n",
    "print( wordList3 )\n",
    "\n",
    "# 단어 길이가 5글자 이상인 것만 \n",
    "wordList3 = [w for w in wordList if len(w)>=5]\n",
    "print( wordList3 )\n",
    "\n",
    "# 문제1. 단어중에 java 라는 단어가 있는것만 추출하기 \n",
    "wordList3 = [w for w in wordList if 'java' in w]\n",
    "print( wordList3 )\n",
    "\n",
    "# 문제2. 단어중에 길이가 5개보다 짧은단어만 추출하기 \n",
    "wordList3 = [w for w in wordList if len(w)<5]\n",
    "print( wordList3 )\n"
   ]
  },
  {
   "cell_type": "markdown",
   "id": "7cc2a12d",
   "metadata": {},
   "source": [
    "\n",
    "---\n",
    "# 튜플(Tuple)\n",
    "튜플은 다른언어에 아직 없는 타입이었는데 최근에 추가되고 있다.\n",
    "\n",
    ">우리가 점심때 플리마켓에 놀러갔다. 이것저것 사다가 손에 다 못들면 비닐봉지 하나 얻어서 비닐봉지에 담는다. 이 때 비닐봉지와 같은 역할을 하는것이 튜플(Tuple)이다.\n",
    "\n",
    "- 괄호를 사용한다. 인덱싱과 슬라이싱을 지원한다.\n",
    "- 인덱싱이나 슬라이싱을 통한 업데이트는 안된다.\n",
    "- read only list 형, 속도가 빠르다 \n",
    "- \"이름 %s 나이 %d \" % (\"홍길동\", 45)  괄호가 Tuple 타입이다 "
   ]
  },
  {
   "cell_type": "code",
   "execution_count": 10,
   "id": "e7af96e5",
   "metadata": {},
   "outputs": [
    {
     "name": "stdout",
     "output_type": "stream",
     "text": [
      "(1, 2, 3, 4, 5) <class 'tuple'>\n",
      "5 7 9\n"
     ]
    }
   ],
   "source": [
    "a = (1,2,3,4,5)\n",
    "print( a, type(a))\n",
    "\n",
    "a = 5\n",
    "b = 7 \n",
    "c = 9 \n",
    "\n",
    "a,b,c = 5,7,9 # tuple활용 \n",
    "print(a,b,c)"
   ]
  },
  {
   "cell_type": "code",
   "execution_count": 11,
   "id": "18f1549d",
   "metadata": {},
   "outputs": [
    {
     "name": "stdout",
     "output_type": "stream",
     "text": [
      "<class 'tuple'>\n",
      "3 4\n",
      "A= 7 B= 5\n",
      "A= 5 B= 7\n",
      "1\n",
      "2\n",
      "3\n",
      "(1, 2, 3, 4, 5)\n",
      "(3, 4, 5)\n",
      "(10, 9, 8, 7, 6, 5, 4, 3, 2, 1)\n",
      "(1, 2, 3, 4, 5, 6, 7, 8, 9, 10, 1, 2, 3, 4, 5, 6, 7, 8, 9, 10)\n",
      "(1, 2, 3, 4, 5, 6, 7, 8, 9, 10, 1, 2, 3, 4, 5, 6, 7, 8, 9, 10, 1, 2, 3, 4, 5, 6, 7, 8, 9, 10)\n"
     ]
    }
   ],
   "source": [
    "# 함수-> 코드를 묶어놓은것, 함수는 값을 하나만 반환해야 한다. \n",
    "# 우리가 여러개를 반환하면 이걸 알아서 tuple로 묶어서 하나를 보낸다.  \n",
    "def myfunc1():\n",
    "    return 3,4\n",
    "a = myfunc1() \n",
    "print( type (a) )\n",
    "\n",
    "b,c = a \n",
    "print(b,c)\n",
    "\n",
    "a = 5 \n",
    "b = 7\n",
    "\n",
    "# 두개의 변수값을 서로 exchange, swap\n",
    "c = a \n",
    "a = b \n",
    "b = c \n",
    "print( \"A=\",a, \"B=\",b)\n",
    "\n",
    "b, a = a, b   # tuple를 써서 값을 swap 할 수 있다\n",
    "print( \"A=\",a, \"B=\",b)\n",
    "\n",
    "# 튜플은 read only이다. 삭제도 업데이트도 안된다. \n",
    "a = (1,2,3,4,5,6,7,8,9,10)\n",
    "print( a[0] )\n",
    "print( a[1] )\n",
    "print( a[2] )\n",
    "\n",
    "# del a[2] #삭제안됨 \n",
    "# a[0] = 11\n",
    " \n",
    "print( a[:5])\n",
    "print( a[2:5])\n",
    "print( a[::-1])\n",
    "\n",
    "b = a + a\n",
    "print(b)\n",
    "\n",
    "b = a * 3\n",
    "print(b)\n"
   ]
  },
  {
   "cell_type": "markdown",
   "id": "8a1d1cdd",
   "metadata": {},
   "source": [
    "\n",
    "---\n",
    "# 조건문 (if문)"
   ]
  },
  {
   "cell_type": "code",
   "execution_count": 13,
   "id": "abc14d67",
   "metadata": {},
   "outputs": [
    {
     "name": "stdout",
     "output_type": "stream",
     "text": [
      "25\n",
      "양수\n"
     ]
    }
   ],
   "source": [
    "# 정수 하나를 입력 받아서 양수일 경우에 본래의 값에 *5를 해서 출력하라\n",
    "n = int(input(\"정수를 입력하세요: \"))\n",
    "if  n > 0:\n",
    "     n = n * 5\n",
    "print(n)\n",
    "\n",
    "# 양수이면 양수라고 출력하고 음수면 음수 0이면 0을 출력\n",
    "if n > 0:\n",
    "    print(\"양수\")\n",
    "elif n == 0:\n",
    "    print(\"0\")\n",
    "else:\n",
    "    print(\"음수\")"
   ]
  },
  {
   "cell_type": "markdown",
   "id": "50d61d07",
   "metadata": {},
   "source": [
    "### 조건식 문제 1 : 주급계산 : 이름, 근무시간, 시간당 급여액, \n",
    "\n",
    "> 추가수당(근무시간이 20시간을 초과하면 시간 급여액에 50% 가산한다.)\n",
    "> \n",
    "> 이름, 근무시간, 시간당 급여액, 기본 금액, 추가수당, 총액\n"
   ]
  },
  {
   "cell_type": "code",
   "execution_count": 14,
   "id": "0168ab6c",
   "metadata": {},
   "outputs": [
    {
     "name": "stdout",
     "output_type": "stream",
     "text": [
      "이름 :  뭄\n",
      "근무시간 :  40\n",
      "시간당 급여액 :  15000\n",
      "기본 금액 :  600000\n",
      "추가수당 :  900000.0\n",
      "총액 :  1500000.0\n"
     ]
    }
   ],
   "source": [
    "#TODO 1. 변수선언 2. 입력 3. 계산 4. 출력\n",
    "\n",
    "# 입력\n",
    "name = input(\"이름을 입력하세요 : \")\n",
    "work_time = int(input(\"근무시간을 입력하세요 : \"))\n",
    "pay = int(input(\"시간당 급여액을 입력하세요 : \"))\n",
    "\n",
    "# 계산\n",
    "money = work_time * pay\n",
    "if work_time > 20:\n",
    "    ex_money = money + money * 0.5\n",
    "else:\n",
    "    ex_money = 0\n",
    "\n",
    "# 출력\n",
    "print(\"이름 : \", name)\n",
    "print(\"근무시간 : \", work_time)\n",
    "print(\"시간당 급여액 : \", pay)\n",
    "print(\"기본 금액 : \", money)\n",
    "print(\"추가수당 : \", ex_money)\n",
    "print(\"총액 : \", money + ex_money)"
   ]
  },
  {
   "cell_type": "markdown",
   "id": "7614acc0",
   "metadata": {},
   "source": [
    "### 조건식 문제 2 : 컴활 \n",
    "\n",
    "> 이름 필기(400), 워드(200), 스프레트시트(200), 프레젠테이션(200)\n",
    "> \n",
    "> 총점을 구하고 등급 800점 이상이면 A, 800점 미만 600이상이면 B,\n",
    "> \n",
    "> 600점미만 400점이상이면 C, 400점미만이면 D, 재시험 요망"
   ]
  },
  {
   "cell_type": "code",
   "execution_count": 16,
   "id": "3e3a6a7d",
   "metadata": {},
   "outputs": [
    {
     "name": "stdout",
     "output_type": "stream",
     "text": [
      "D, 재시험 요망\n"
     ]
    }
   ],
   "source": [
    "#TODO 이름 입력, 각 시험별 점수 입력, 총점구해서 성적 표시\n",
    "\n",
    "name = input(\"이름을 입력하세요 : \")\n",
    "\n",
    "# TODO 각 시험별 점수 입력 (띄여쓰기로 구분)\n",
    "write, word, excel, ppt = map(int, input(\"각 점수를 입력하세요 : \").split())\n",
    "\n",
    "# TODO 총점구해서 성적 표시\n",
    "total = write + word + excel + ppt\n",
    "\n",
    "if total >= 800:\n",
    "    print(\"A\")\n",
    "elif total >= 600:\n",
    "    print(\"B\")\n",
    "elif total >= 400:\n",
    "    print(\"C\")\n",
    "else:\n",
    "    print(\"D, 재시험 요망\")"
   ]
  },
  {
   "cell_type": "code",
   "execution_count": 17,
   "id": "ce1b81e3",
   "metadata": {},
   "outputs": [
    {
     "name": "stdout",
     "output_type": "stream",
     "text": [
      "=== 성적 계산 프로그램 ===\n",
      "\n",
      "\n",
      "=== 결과 ===\n",
      "이름: 홍길동\n",
      "총점: 920 / 1000\n",
      "성적: A\n"
     ]
    }
   ],
   "source": [
    "# NOTE : 클린코드 작성(함수, 예외처리 포함)\n",
    "# 각 과목의 최대 점수 (만점 기준)\n",
    "MAX_SCORES = {\n",
    "    \"필기\": 400,\n",
    "    \"워드\": 200,\n",
    "    \"스프레드시트\": 200,\n",
    "    \"프레젠테이션\": 200\n",
    "}\n",
    "\n",
    "def get_scores():\n",
    "    \"\"\"사용자로부터 시험 점수를 입력받아 반환한다. 예외 처리 포함.\"\"\"\n",
    "    subjects = list(MAX_SCORES.keys())\n",
    "    \n",
    "    while True:\n",
    "        try:\n",
    "            input_scores = list(map(int, input(f\"각 시험 점수를 입력하세요 ({' '.join(subjects)} 순서, 띄어쓰기로 구분): \").split()))\n",
    "            \n",
    "            if len(input_scores) != 4:\n",
    "                raise ValueError(\"점수는 4개(필기, 워드, 스프레드시트, 프레젠테이션)를 입력해야 합니다.\")\n",
    "            \n",
    "            # 점수별 만점 초과 여부 확인\n",
    "            for subject, score, max_score in zip(subjects, input_scores, MAX_SCORES.values()):\n",
    "                if score < 0:\n",
    "                    raise ValueError(f\"{subject} 점수는 음수가 될 수 없습니다.\")\n",
    "                if score > max_score:\n",
    "                    raise ValueError(f\"{subject} 점수는 최대 {max_score}점까지 입력 가능합니다. (현재 입력: {score})\")\n",
    "            \n",
    "            return input_scores\n",
    "        except ValueError as e:\n",
    "            print(f\"입력 오류: {e} 다시 입력하세요.\\n\")\n",
    "\n",
    "def calculate_total(scores):\n",
    "    \"\"\"총점을 계산한다.\"\"\"\n",
    "    return sum(scores)\n",
    "\n",
    "def determine_grade(total):\n",
    "    \"\"\"총점에 따른 성적을 반환한다.\"\"\"\n",
    "    if total >= 800:\n",
    "        return \"A\"\n",
    "    elif total >= 600:\n",
    "        return \"B\"\n",
    "    elif total >= 400:\n",
    "        return \"C\"\n",
    "    else:\n",
    "        return \"D (재시험 요망)\"\n",
    "\n",
    "def main():\n",
    "    print(\"=== 성적 계산 프로그램 ===\\n\")\n",
    "    name = input(\"이름을 입력하세요: \")\n",
    "    scores = get_scores()\n",
    "    total = calculate_total(scores)\n",
    "    grade = determine_grade(total)\n",
    "    \n",
    "    print(\"\\n=== 결과 ===\")\n",
    "    print(f\"이름: {name}\")\n",
    "    print(f\"총점: {total} / 1000\")\n",
    "    print(f\"성적: {grade}\")\n",
    "\n",
    "if __name__ == \"__main__\":\n",
    "    main()"
   ]
  },
  {
   "cell_type": "markdown",
   "id": "4e33ed59",
   "metadata": {},
   "source": [
    "\n",
    "---\n",
    "\n",
    "# 반복문(for문)"
   ]
  },
  {
   "cell_type": "code",
   "execution_count": 18,
   "id": "889c8d61",
   "metadata": {},
   "outputs": [
    {
     "name": "stdout",
     "output_type": "stream",
     "text": [
      "1\n",
      "2\n",
      "3\n",
      "4\n",
      "5\n",
      "6\n",
      "7\n",
      "8\n",
      "9\n",
      "10\n",
      "range(1, 11)\n",
      "1\n",
      "2\n",
      "3\n",
      "4\n",
      "5\n",
      "6\n",
      "7\n",
      "8\n",
      "9\n",
      "10\n",
      "[1, 2, 3, 4, 5, 6, 7, 8, 9, 10]\n",
      "2 4 6 8 10 12 14 16 18 20 22 24 26 28 30 32 34 36 38 40 42 44 46 48 50 52 54 56 58 60 62 64 66 68 70 72 74 76 78 80 82 84 86 88 90 92 94 96 98 \n",
      "100 98 96 94 92 90 88 86 84 82 80 78 76 74 72 70 68 66 64 62 60 58 56 54 52 50 48 46 44 42 40 38 36 34 32 30 28 26 24 22 20 18 16 14 12 10 8 6 4 2 \n"
     ]
    }
   ],
   "source": [
    "for i in [1,2,3,4,5,6,7,8,9,10]:\n",
    "    print(i)\n",
    "\n",
    "# range(시작,종료,증감치)\n",
    "# 시작값부터 시작해서 종료값-1까지 증감치를 가지고 생성해낸다.\n",
    "print( range(1,11) )\n",
    "for i in range(1,11):\n",
    "    print(i) \n",
    "\n",
    "a = list(range(1,11))\n",
    "print(a)\n",
    "\n",
    "for kk in range(2, 100,2):\n",
    "    print(kk, end=' ')\n",
    "print()\n",
    "\n",
    "for kk in range(100, 1, -2):\n",
    "    print(kk, end=' ')\n",
    "print()"
   ]
  },
  {
   "cell_type": "code",
   "execution_count": 19,
   "id": "5510881a",
   "metadata": {},
   "outputs": [
    {
     "name": "stdout",
     "output_type": "stream",
     "text": [
      "1 2 3 4 5 6 7 8 9 10 \n",
      "11 12 13 14 15 16 17 18 19 20 \n",
      "21 22 23 24 25 26 27 28 29 30 \n",
      "31 32 33 34 35 36 37 38 39 40 \n",
      "41 42 43 44 45 46 47 48 49 50 \n",
      "51 52 53 54 55 56 57 58 59 60 \n",
      "61 62 63 64 65 66 67 68 69 70 \n",
      "71 72 73 74 75 76 77 78 79 80 \n",
      "81 82 83 84 85 86 87 88 89 90 \n",
      "91 92 93 94 95 96 97 98 99 100 \n"
     ]
    }
   ],
   "source": [
    "# 1 2 3 4 5 6 7 8 9 10\n",
    "# 11 12 13 14 15 ......  \n",
    "for i in range(1, 101):\n",
    "    print(i, end=' ')\n",
    "    if i%10==0:\n",
    "        print()"
   ]
  },
  {
   "cell_type": "code",
   "execution_count": 21,
   "id": "31fc9607",
   "metadata": {},
   "outputs": [
    {
     "name": "stdout",
     "output_type": "stream",
     "text": [
      "65\n",
      "66\n",
      "97\n",
      "48\n",
      "49\n",
      "1\n",
      "A\n"
     ]
    }
   ],
   "source": [
    "# 문자의 unicode -> ord \n",
    "print( ord('A'))  # 65\n",
    "print( ord('B'))  # 66\n",
    "print( ord('a'))  # 97\n",
    "print( ord('0'))  # 48\n",
    "print( ord('1'))\n",
    "# 코드값 => 문자로 chr(코드값)\n",
    "print( chr(49))\n",
    "print( chr(65))"
   ]
  },
  {
   "cell_type": "code",
   "execution_count": 22,
   "id": "ce659953",
   "metadata": {},
   "outputs": [
    {
     "name": "stdout",
     "output_type": "stream",
     "text": [
      "ABCDEFGHIJKLMNOPQRSTUVWXYZ\n"
     ]
    }
   ],
   "source": [
    "# for문을 써서 알파벳 A~Z까지 출력하기  \n",
    "\n",
    "for i in range(ord('A'), ord('Z')+1):\n",
    "    print( chr(i), end='')\n",
    "print() "
   ]
  },
  {
   "cell_type": "code",
   "execution_count": 23,
   "id": "e9e43b13",
   "metadata": {},
   "outputs": [
    {
     "name": "stdout",
     "output_type": "stream",
     "text": [
      "A ===> 1\n",
      "B ===> 0\n",
      "C ===> 0\n",
      "D ===> 1\n",
      "E ===> 1\n",
      "F ===> 0\n",
      "G ===> 3\n",
      "H ===> 2\n",
      "I ===> 2\n",
      "J ===> 0\n",
      "K ===> 0\n",
      "L ===> 3\n",
      "M ===> 1\n",
      "N ===> 2\n",
      "O ===> 3\n",
      "P ===> 0\n",
      "Q ===> 0\n",
      "R ===> 0\n",
      "S ===> 0\n",
      "T ===> 0\n",
      "U ===> 0\n",
      "V ===> 0\n",
      "W ===> 0\n",
      "X ===> 0\n",
      "Y ===> 0\n",
      "Z ===> 0\n",
      "\n"
     ]
    }
   ],
   "source": [
    "# 키보드로부터 문장을 입력받아서  각 문자의 개수 \n",
    "#  A  ===> 5   대소문자 구분하지 않고 \n",
    "#  B  ===> 0   조건식 and 조건식   조건식 or 조건식 \n",
    "\n",
    "count =[0,0,0,0,0, 0,0,0,0,0,\n",
    "        0,0,0,0,0, 0,0,0,0,0,\n",
    "        0,0,0,0,0,0]\n",
    "\n",
    "sentence = input(\"문장 : \")\n",
    "for i in sentence: #한글자씩 가져온다\n",
    "    if ord(i)>=ord('A') and ord(i)<=ord('Z'):\n",
    "        count[ord(i)-ord('A')]+=1 \n",
    "    elif ord(i)>=ord('a') and ord(i)<=ord('z'):\n",
    "        count[ord(i)-ord('a')]+=1\n",
    "    \n",
    "for i in range(0,len(count)):\n",
    "    print( chr(i+ord('A')), \"===>\" , count[i])\n",
    "print() "
   ]
  },
  {
   "cell_type": "code",
   "execution_count": 24,
   "id": "aa419ab2",
   "metadata": {},
   "outputs": [
    {
     "name": "stdout",
     "output_type": "stream",
     "text": [
      "('h', 2)\n",
      "('e', 1)\n",
      "('l', 3)\n",
      "('o', 3)\n",
      "(' ', 5)\n",
      "('i', 2)\n",
      "('a', 1)\n",
      "('m', 1)\n",
      "('n', 2)\n",
      "('g', 3)\n",
      "('d', 1)\n"
     ]
    }
   ],
   "source": [
    "# dict 타입 'A' 존재안하면 하나 만들고 1 존재하면 + 1\n",
    "result={}  # result = dict() \n",
    "for i in sentence.lower():\n",
    "    if i in result.keys():\n",
    "        result[i]+=1\n",
    "    else:\n",
    "        result[i]=1\n",
    "\n",
    "for item in result.items():\n",
    "    print(item)"
   ]
  },
  {
   "cell_type": "code",
   "execution_count": 25,
   "id": "f45d4706",
   "metadata": {},
   "outputs": [
    {
     "name": "stdout",
     "output_type": "stream",
     "text": [
      "\n",
      "알파벳 개수\n",
      "a ==> 1개\n",
      "d ==> 1개\n",
      "e ==> 1개\n",
      "g ==> 3개\n",
      "h ==> 2개\n",
      "i ==> 2개\n",
      "l ==> 3개\n",
      "m ==> 1개\n",
      "n ==> 2개\n",
      "o ==> 3개\n"
     ]
    }
   ],
   "source": [
    "# NOTE 클린코드; string.ascii_lowercase 사용\n",
    "import string\n",
    "\n",
    "# 입력\n",
    "sentence = input(\"문장을 입력하세요: \")\n",
    "\n",
    "# 소문자로 변환\n",
    "sentence = sentence.lower()\n",
    "\n",
    "# 알파벳 개수 세기\n",
    "print(\"\\n알파벳 개수\")\n",
    "for letter in string.ascii_lowercase:\n",
    "    count = sentence.count(letter)\n",
    "    if count > 0:\n",
    "        print(f\"{letter} ==> {count}개\")"
   ]
  },
  {
   "cell_type": "markdown",
   "id": "6eb81f51",
   "metadata": {},
   "source": [
    "# 1~10까지의 합계 구하기 \n",
    "변수 1~10숫자 세는 변수 <br>\n",
    "더해지는 값 : 누적되는 값을 저장할 변수가 필요하다, 누적이 된다. <br> \n",
    "for문 밖에 0으로 값이 초기화된다. <br>\n",
    "0 + 1 <br>\n",
    "0 + 1 + 2 ... <br>"
   ]
  },
  {
   "cell_type": "code",
   "execution_count": null,
   "id": "60bd138e",
   "metadata": {},
   "outputs": [
    {
     "name": "stdout",
     "output_type": "stream",
     "text": [
      "i=1 sum = 1\n",
      "i=2 sum = 3\n",
      "i=3 sum = 6\n",
      "i=4 sum = 10\n",
      "i=5 sum = 15\n",
      "i=6 sum = 21\n",
      "i=7 sum = 28\n",
      "i=8 sum = 36\n"
     ]
    }
   ],
   "source": [
    "limit = int(input(\"끝 숫자를 입력하세요: \"))\n",
    "sum = 0 # sum = sum + 1\n",
    "for i in range(1, limit - 1):\n",
    "    sum = sum + i\n",
    "    print(f\"i={i} sum = {sum}\")\n"
   ]
  }
 ],
 "metadata": {
  "kernelspec": {
   "display_name": "sesac_ai",
   "language": "python",
   "name": "python3"
  },
  "language_info": {
   "codemirror_mode": {
    "name": "ipython",
    "version": 3
   },
   "file_extension": ".py",
   "mimetype": "text/x-python",
   "name": "python",
   "nbconvert_exporter": "python",
   "pygments_lexer": "ipython3",
   "version": "3.11.13"
  }
 },
 "nbformat": 4,
 "nbformat_minor": 5
}
