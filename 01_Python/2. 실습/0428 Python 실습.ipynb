{
 "cells": [
  {
   "cell_type": "markdown",
   "id": "63d432a2",
   "metadata": {},
   "source": [
    "# 성적 리스트"
   ]
  },
  {
   "cell_type": "code",
   "execution_count": 10,
   "id": "888233ce",
   "metadata": {},
   "outputs": [
    {
     "name": "stdout",
     "output_type": "stream",
     "text": [
      "미미 265 88.33333333333333 우\n",
      "수수 300 100.0 수\n"
     ]
    }
   ],
   "source": [
    "# 이름 국어 영어 수학 총점 평균, 평균에 대해서 수(90) 우(80) 미(70) 양(60) 가(50미만) 표현\n",
    "# TODO 1. 리스트 선언 2. for문으로 리스트 생성 3. 총점 및 평균 구하기\n",
    "students = []\n",
    "\n",
    "# 총점, 평균, 등급 저장x, 정수만 저장\n",
    "for i in range(0, 2):\n",
    "    name = input(\"이름 : \")\n",
    "    kor = int(input(\"국어 : \"))\n",
    "    eng = int(input(\"영어 : \"))\n",
    "    math = int(input(\"수학 : \"))\n",
    "    \n",
    "    student = {\n",
    "        \"name\" : name,\n",
    "        \"kor\" : kor,\n",
    "        \"eng\" : eng,\n",
    "        \"math\" : math\n",
    "    }\n",
    "    students.append(student)\n",
    "\n",
    "# 총점, 평균, 등급 계산 for문 추가\n",
    "for student in students:\n",
    "    total = student[\"kor\"] + student[\"eng\"] + student[\"math\"]\n",
    "    avg = total / 3\n",
    "\n",
    "    # 등급 판단\n",
    "    if avg >= 90:\n",
    "        grade = \"수\"\n",
    "    elif avg >= 80:\n",
    "        grade = \"우\"\n",
    "    elif avg >= 70:\n",
    "        grade = \"미\"\n",
    "    elif avg >= 60:\n",
    "        grade = \"양\"\n",
    "    else:\n",
    "        grade = \"가\"\n",
    "\n",
    "    # # NOTE : dict + for 문으로 접근\n",
    "    # grade_table ={\n",
    "    #     90: \"수\",\n",
    "    #     80: \"우\",\n",
    "    #     70: \"미\",\n",
    "    #     60: \"양\",\n",
    "    #     0: \"가\"  # 60미만\n",
    "    # }\n",
    "    # def get_grade(avg):\n",
    "    #     for score, grade in grade_table.items():\n",
    "    #         if avg >= score:\n",
    "    #             return grade\n",
    "\n",
    "    \n",
    "    # 학생 dict에 추가\n",
    "    student[\"total\"] = total\n",
    "    student[\"avg\"] = avg\n",
    "    student[\"grade\"] = grade\n",
    "    \n",
    "# 출력\n",
    "for student in students:\n",
    "    print(f\"{student['name']} {student['total']} {student['avg']} {student['grade']}\")"
   ]
  },
  {
   "cell_type": "code",
   "execution_count": 18,
   "id": "fc1b8196",
   "metadata": {},
   "outputs": [
    {
     "name": "stdout",
     "output_type": "stream",
     "text": [
      "이름\t국어\t영어\t수학\t총점\t평균\t등급\n",
      "미미\t90\t90\t90\t270\t90.00\t수\n"
     ]
    }
   ],
   "source": [
    "# 학생 점수 관리 프로그램 (클린 코드: dict 매핑 + 3단계 구조)\n",
    "\n",
    "# 등급 컷오프와 매핑\n",
    "GRADE_CUT = {\n",
    "    90: \"수\",\n",
    "    80: \"우\",\n",
    "    70: \"미\",\n",
    "    60: \"양\",\n",
    "     0: \"가\"\n",
    "}\n",
    "\n",
    "# 학생 수 입력\n",
    "student_count = int(input(\"학생 수 : \"))\n",
    "students = []\n",
    "\n",
    "# [1] 입력 단계: 이름과 점수만 저장\n",
    "for _ in range(student_count):\n",
    "    name = input(\"이름   : \")\n",
    "    while True:\n",
    "        try:\n",
    "            kor = int(input(\"국어   : \"))\n",
    "            break\n",
    "        except ValueError:\n",
    "            print(\"정수를 입력하세요.\")\n",
    "    while True:\n",
    "        try:\n",
    "            eng = int(input(\"영어   : \"))\n",
    "            break\n",
    "        except ValueError:\n",
    "            print(\"정수를 입력하세요.\")\n",
    "    while True:\n",
    "        try:\n",
    "            math = int(input(\"수학   : \"))\n",
    "            break\n",
    "        except ValueError:\n",
    "            print(\"정수를 입력하세요.\")\n",
    "    students.append({\n",
    "        \"name\": name,\n",
    "        \"kor\": kor,\n",
    "        \"eng\": eng,\n",
    "        \"math\": math\n",
    "    })\n",
    "\n",
    "# [2] 처리 단계: 총점·평균 계산, dict 매핑으로 등급 결정\n",
    "for s in students:\n",
    "    s[\"total\"] = s[\"kor\"] + s[\"eng\"] + s[\"math\"]\n",
    "    s[\"avg\"]   = s[\"total\"] / 3\n",
    "\n",
    "    # dict 순회하면서 첫 번째 매칭된 등급으로 결정\n",
    "    for cutoff, grade in GRADE_CUT.items():\n",
    "        if s[\"avg\"] >= cutoff:\n",
    "            s[\"grade\"] = grade\n",
    "            break\n",
    "\n",
    "# [3] 출력 단계\n",
    "print(\"이름\\t국어\\t영어\\t수학\\t총점\\t평균\\t등급\")\n",
    "for s in students:\n",
    "    print(f\"{s['name']}\\t{s['kor']}\\t{s['eng']}\\t{s['math']}\\t{s['total']}\\t{s['avg']:.2f}\\t{s['grade']}\")"
   ]
  },
  {
   "cell_type": "markdown",
   "id": "7e331850",
   "metadata": {},
   "source": [
    "# 성적리스트 딕셔너리"
   ]
  },
  {
   "cell_type": "code",
   "execution_count": null,
   "id": "4db8a8ec",
   "metadata": {},
   "outputs": [
    {
     "name": "stdout",
     "output_type": "stream",
     "text": [
      "수수\t80\t80\t80\t240\t80\t우\n",
      "미미\t90\t90\t80\t260\t86\t우\n",
      "아양\t60\t70\t50\t180\t60\t양\n",
      "가가\t90\t80\t40\t210\t70\t미\n"
     ]
    }
   ],
   "source": [
    "scoreList = list()    # scoreList = []\n",
    "\n",
    "# 1. 입력 \n",
    "for i in range(0,4):\n",
    "    name = input(\"이름 : \")\n",
    "    kor = int(input(\"국어 : \"))\n",
    "    eng = int(input(\"영어 : \"))\n",
    "    mat = int(input(\"수학 : \"))\n",
    "\n",
    "    score={} \n",
    "    score[\"name\"]= name \n",
    "    score[\"kor\"] = kor \n",
    "    score[\"eng\"] = eng \n",
    "    score[\"mat\"] = mat\n",
    "\n",
    "    scoreList.append( score ) \n",
    "    \n",
    "\n",
    "for i in range(0, len(scoreList)):\n",
    "    score = scoreList[i] # 저장되었던 dict타입 객체를 가져와서 \n",
    "    score[\"total\"] = score[\"kor\"] + score[\"eng\"] + score[\"mat\"]\n",
    "    score[\"avg\"] = score[\"total\"]//3 # 몫만 구하기 \n",
    "\n",
    "for i in range(0, len(scoreList)):\n",
    "    score = scoreList[i] # 저장되었던 dict타입 객체를 가져와서 \n",
    "    if score[\"avg\"]>=90:\n",
    "        score[\"grade\"] = \"수\"\n",
    "    elif score[\"avg\"]>=80:   \n",
    "        score[\"grade\"] = \"우\"     \n",
    "    elif score[\"avg\"]>=70:   \n",
    "        score[\"grade\"] = \"미\"     \n",
    "    elif score[\"avg\"]>=60:   \n",
    "        score[\"grade\"] = \"양\" \n",
    "    else:\n",
    "        score[\"grade\"] = \"가\"    \n",
    "\n",
    "\n",
    "for score in scoreList:\n",
    "    print( f\"{score[\"name\"]}\", end=\"\\t\")\n",
    "    print( f\"{score[\"kor\"]}\", end=\"\\t\")\n",
    "    print( f\"{score[\"eng\"]}\", end=\"\\t\")\n",
    "    print( f\"{score[\"mat\"]}\", end=\"\\t\")\n",
    "    print( f\"{score[\"total\"]}\", end=\"\\t\")\n",
    "    print( f\"{score[\"avg\"]}\", end=\"\\t\")\n",
    "    print( f\"{score[\"grade\"]}\")\n",
    "    "
   ]
  },
  {
   "cell_type": "markdown",
   "id": "c5c39231",
   "metadata": {},
   "source": [
    "# 주급 리스트"
   ]
  },
  {
   "cell_type": "code",
   "execution_count": 20,
   "id": "094f3113",
   "metadata": {},
   "outputs": [
    {
     "name": "stdout",
     "output_type": "stream",
     "text": [
      "\n",
      "홍길동 40 10000\n",
      "임꺽정 20 20000\n",
      "장길산 30 20000\n",
      "홍경래 10 15000\n",
      "이창옥 20 20000\n"
     ]
    }
   ],
   "source": [
    "# TODO 주급계산 이름, 근무시간, 시간당 급여액, 5명에 대해서\n",
    "# 홍길동 40 10000\n",
    "# 임꺽정 20 20000\n",
    "# 장길산 30 20000\n",
    "# 홍경래 10 15000\n",
    "# 이창옥 20 20000\n",
    "\n",
    "NameList = []\n",
    "WorkTimeList = []\n",
    "PerPayList = []\n",
    "\n",
    "for i in range(0, 5):\n",
    "    name = input(\"이름 : \")\n",
    "    work_time = int(input(\"일한 시간 : \"))\n",
    "    per_pay = int(input(\"시간당 급여액 : \"))\n",
    "\n",
    "    NameList.append(name)\n",
    "    WorkTimeList.append(work_time)\n",
    "    PerPayList.append(per_pay)\n",
    "    \n",
    "print()\n",
    "\n",
    "for i in range(0, 5):\n",
    "    print(f\"{NameList[i]} {WorkTimeList[i]} {PerPayList[i]}\")\n"
   ]
  },
  {
   "cell_type": "markdown",
   "id": "89bca18d",
   "metadata": {},
   "source": [
    "# 주급 리스트 딕셔너리"
   ]
  },
  {
   "cell_type": "code",
   "execution_count": null,
   "id": "c85c7401",
   "metadata": {},
   "outputs": [],
   "source": [
    "worker = {}  # 한 사람분 저장하기 (dict로 초기화)\n",
    "person_list = [\n",
    "    {\"name\": \"홍길동\", \"work_time\": 20, \"per_pay\": 10000},\n",
    "    {\"name\": \"임꺽정\", \"work_time\": 40, \"per_pay\": 20000},\n",
    "    {\"name\": \"장길산\", \"work_time\": 15, \"per_pay\": 15000},\n",
    "]\n",
    "for i in range(0, 2):\n",
    "    worker[\"name\"] = input(\"이름 : \")\n",
    "    worker[\"work_time\"] = int(input(\"근무시간 : \"))\n",
    "    worker[\"per_pay\"] = int(input(\"시간당 급여 : \"))\n",
    "    person_list.append(worker)\n",
    "    worker = {}\n",
    "\n",
    "# 각 사람의 pay 계산해서 person_list에 추가\n",
    "for person in person_list:\n",
    "    person[\"pay\"] = person[\"work_time\"] * person[\"per_pay\"]\n",
    "\n",
    "print()\n",
    "for person in person_list:\n",
    "    print(f\"worker name : {person['name']} pay : {person['pay']}\")\n"
   ]
  },
  {
   "cell_type": "markdown",
   "id": "970c9956",
   "metadata": {},
   "source": [
    "# 직원 임금"
   ]
  },
  {
   "cell_type": "code",
   "execution_count": null,
   "id": "521c3f8a",
   "metadata": {},
   "outputs": [],
   "source": [
    "# 직원이 노동청 신고가 들어와 회사가 성별간 임금차별과 연봉을 구하려고 한다.\n",
    "# 직원 전체가 10명이고 성별과 연봉을 입력받아 남녀별로 임금 평균을 구하려라\n",
    "\n",
    "# TODO 1. 직원 정보를 입력받아 리스트에 저장 2. 남녀 구분 3. 남녀별 임금 평균\n",
    "empolyees = []\n",
    "for i in range(10):\n",
    "    gender = input(\"성별을 입력하세요(남/여) : \")\n",
    "    pay = int(input(\"연봉을 입력하세요 : \"))\n",
    "\n",
    "    empolyees.append({\n",
    "        \"gender\" : gender,\n",
    "        \"pay\" : pay\n",
    "    })\n",
    "\n",
    "# 남녀별 총합/인원수 초기화\n",
    "male_total = 0\n",
    "female_total = 0\n",
    "male_count = 0\n",
    "female_count = 0\n",
    "\n",
    "# 남녀 구분\n",
    "for emp in empolyees:\n",
    "   if emp[\"gender\"] == \"남\":\n",
    "       male_total += emp[\"pay\"]\n",
    "       male_count += 1\n",
    "   else:\n",
    "       female_total += emp[\"pay\"]\n",
    "       female_count += 1\n",
    "\n",
    "# 평균 계산 (0으로 나누는 오류 방지)\n",
    "male_avg = male_total / male_count if male_count > 0 else 0\n",
    "female_avg = female_total / female_count if female_count > 0 else 0\n",
    "\n",
    "# 출력 소수점 첫번째에서 반올림\n",
    "print(f\"남성 평균 연봉: {male_avg :.0f}원\")\n",
    "print(f\"여성 평균 연봉: {female_avg :.0f}원\")\n"
   ]
  },
  {
   "cell_type": "markdown",
   "id": "3c4cec03",
   "metadata": {},
   "source": [
    "---"
   ]
  },
  {
   "cell_type": "markdown",
   "id": "f04dcf5b",
   "metadata": {},
   "source": [
    "# 이중 for문\n",
    "for 문안에서 또 for문이 작동하는 경우이다. <br>\n",
    "외부의 루프가 M번 돌고, 내부 루프가 N번 돌면 M*N번 수행한다. <br>\n",
    "가급적 2중 for문까지만 동작하게 해야한다. <br>\n",
    "\n",
    "```python\n",
    "for i in range(1, 5):\n",
    "    for j in range(1, 5):\n",
    "        print(f\"i = {i} j = {j}\")\n",
    "```"
   ]
  },
  {
   "cell_type": "code",
   "execution_count": 1,
   "id": "2c77c9a9",
   "metadata": {},
   "outputs": [
    {
     "name": "stdout",
     "output_type": "stream",
     "text": [
      "1 2 3 4 5 6 7 8 9 10 \n",
      "11 12 13 14 15 16 17 18 19 20 \n",
      "21 22 23 24 25 26 27 28 29 30 \n",
      "31 32 33 34 35 36 37 38 39 40 \n",
      "41 42 43 44 45 46 47 48 49 50 \n",
      "51 52 53 54 55 56 57 58 59 60 \n",
      "61 62 63 64 65 66 67 68 69 70 \n",
      "71 72 73 74 75 76 77 78 79 80 \n",
      "81 82 83 84 85 86 87 88 89 90 \n",
      "91 92 93 94 95 96 97 98 99 100 \n"
     ]
    }
   ],
   "source": [
    "# TODO 문제1 이중 for문 사용해서 1~100까지 출력 한줄에 10개씩 출력하기\n",
    "for i in range(10):\n",
    "    for j in range(10): # 10 * 10 = 100, 10 단위로 끊기기\n",
    "        print(i*10+j+1, end =' ') # i는 십의 자리, j는 일의 자리, +1은 0 제거\n",
    "    print()"
   ]
  },
  {
   "cell_type": "code",
   "execution_count": 3,
   "id": "f31cbb92",
   "metadata": {},
   "outputs": [
    {
     "name": "stdout",
     "output_type": "stream",
     "text": [
      "1 -> 1\n",
      "1 + 2 -> 3\n",
      "1 + 2 + 3 -> 6\n",
      "1 + 2 + 3 + 4 -> 10\n",
      "1 + 2 + 3 + 4 + 5 -> 15\n",
      "1 + 2 + 3 + 4 + 5 + 6 -> 21\n",
      "1 + 2 + 3 + 4 + 5 + 6 + 7 -> 28\n",
      "1 + 2 + 3 + 4 + 5 + 6 + 7 + 8 -> 36\n",
      "1 + 2 + 3 + 4 + 5 + 6 + 7 + 8 + 9 -> 45\n",
      "1 + 2 + 3 + 4 + 5 + 6 + 7 + 8 + 9 + 10 -> 55\n"
     ]
    }
   ],
   "source": [
    "# TODO 문제2 이중 for문 \n",
    "# 1 -> 1\n",
    "# 1 + 2 -> 3\n",
    "# 1 + 2 + 3 -> 6 ...\n",
    "# 1 + 2 + ...+ 10 -> 55\n",
    "\n",
    "for i in range(1, 11):  # 1부터 10까지\n",
    "    total = 0           # 합계를 0으로 초기화\n",
    "    expr = \"\"           # 식\"문자열\" 초기화\n",
    "\n",
    "    for j in range(1, i+1): # 1부터 i까지\n",
    "        total += j \n",
    "        if j == 1:          # 첫번째 항일떄 expr을 \"1\"로 초기화\n",
    "            expr = \"1\"      # expr을 \"1\"로 초기화하여 식의 시작을 명확하게 설정.\n",
    "        else:\n",
    "            # 기존 expr 뒤에 \" + j\"를 문자열로 붙입니다.\n",
    "            # 예: 이전 expr이 \"1 + 2\"였다면, j가 3일 때 \"1 + 2 + 3\"\n",
    "            expr += \" + \" + str(j)\n",
    "\n",
    "    print(f\"{expr} -> {total}\")"
   ]
  },
  {
   "cell_type": "code",
   "execution_count": 4,
   "id": "983d44aa",
   "metadata": {},
   "outputs": [
    {
     "name": "stdout",
     "output_type": "stream",
     "text": [
      "1 -> 1\n",
      "1 + 2 -> 3\n",
      "1 + 2 + 3 -> 6\n",
      "1 + 2 + 3 + 4 -> 10\n",
      "1 + 2 + 3 + 4 + 5 -> 15\n",
      "1 + 2 + 3 + 4 + 5 + 6 -> 21\n",
      "1 + 2 + 3 + 4 + 5 + 6 + 7 -> 28\n",
      "1 + 2 + 3 + 4 + 5 + 6 + 7 + 8 -> 36\n",
      "1 + 2 + 3 + 4 + 5 + 6 + 7 + 8 + 9 -> 45\n",
      "1 + 2 + 3 + 4 + 5 + 6 + 7 + 8 + 9 + 10 -> 55\n"
     ]
    }
   ],
   "source": [
    "# NOTE 다른 방법\n",
    "# 1. join + sum 이용\n",
    "for i in range(1, 11):\n",
    "    nums = range(1, i+1)\n",
    "    expr = \" + \".join(map(str, nums))\n",
    "    print(f\"{expr} -> {sum(nums)}\")"
   ]
  },
  {
   "cell_type": "code",
   "execution_count": 5,
   "id": "4b2b9686",
   "metadata": {},
   "outputs": [
    {
     "name": "stdout",
     "output_type": "stream",
     "text": [
      "1 -> 1\n",
      "1 + 2 -> 3\n",
      "1 + 2 + 3 -> 6\n",
      "1 + 2 + 3 + 4 -> 10\n",
      "1 + 2 + 3 + 4 + 5 -> 15\n",
      "1 + 2 + 3 + 4 + 5 + 6 -> 21\n",
      "1 + 2 + 3 + 4 + 5 + 6 + 7 -> 28\n",
      "1 + 2 + 3 + 4 + 5 + 6 + 7 + 8 -> 36\n",
      "1 + 2 + 3 + 4 + 5 + 6 + 7 + 8 + 9 -> 45\n",
      "1 + 2 + 3 + 4 + 5 + 6 + 7 + 8 + 9 + 10 -> 55\n"
     ]
    }
   ],
   "source": [
    "# 2. 수학 공식 Σ = n(n+1)/2\n",
    "for i in range(1, 11):\n",
    "    expr = \" + \".join(str(j) for j in range(1, i+1))\n",
    "    total = i * (i + 1) // 2\n",
    "    print(f\"{expr} -> {total}\")"
   ]
  },
  {
   "cell_type": "code",
   "execution_count": 6,
   "id": "7bad01fb",
   "metadata": {},
   "outputs": [
    {
     "name": "stdout",
     "output_type": "stream",
     "text": [
      "\n",
      "*\n",
      "**\n",
      "***\n",
      "****\n",
      "*****\n",
      "******\n",
      "*******\n",
      "********\n",
      "*********\n",
      "\n",
      "*\n",
      "**\n",
      "***\n",
      "****\n",
      "*****\n",
      "******\n",
      "*******\n",
      "********\n",
      "*********\n"
     ]
    }
   ],
   "source": [
    "# TODO 문제3 삼각형 별 문제\n",
    "for i in range(0, 10):\n",
    "    for j in range(0, i):\n",
    "        print(\"*\", end=\"\")\n",
    "    print()\n",
    "\n",
    "for i in range(0, 10):\n",
    "    print(f\"*\"*i)"
   ]
  },
  {
   "cell_type": "code",
   "execution_count": 7,
   "id": "cb355ad0",
   "metadata": {},
   "outputs": [
    {
     "name": "stdout",
     "output_type": "stream",
     "text": [
      "    *\n",
      "   ***\n",
      "  *****\n",
      " *******\n",
      "*********\n",
      " *******\n",
      "  *****\n",
      "   ***\n",
      "    *\n"
     ]
    }
   ],
   "source": [
    "# TODO 문제4 마름모 문제 \n",
    "# 마름모는 위 아래가 반전된 모양이다. 즉, 위 아래 구분을 해야한다.\n",
    "# 또한, 공백과 별이 얼마나 있는지에 대해서도 계산을 해야한다.\n",
    "\n",
    "n = 5           # 마름모의 반(위쪽) 높이\n",
    "# 마름모 위쪽\n",
    "for i in range(n):\n",
    "    # 1. 좌측 공백 : n - i - 1개\n",
    "    for j in range(n - i - 1):\n",
    "        print(\" \", end=\"\")\n",
    "    # 2. 별 출력 : 2 * i + 1개\n",
    "    for j in range(2 * i + 1):\n",
    "        print(\"*\", end=\"\")\n",
    "    # 3.한 줄 출력 후 줄 바꿈\n",
    "    print()\n",
    "\n",
    "# 마름모 아래쪽\n",
    "for i in range(n - 2, -1, -1):\n",
    "    # 1. 좌측 공백 : n - i - 1개\n",
    "    for j in range(n - i - 1):\n",
    "        print(\" \", end=\"\")\n",
    "    # 2. 별 출력 : 2 * i + 1개\n",
    "    for j in range(2 * i + 1):\n",
    "        print(\"*\", end=\"\")\n",
    "    # 3. 한 줄 출력 후 줄 바꿈\n",
    "    print()"
   ]
  },
  {
   "cell_type": "markdown",
   "id": "34ca15b0",
   "metadata": {},
   "source": [
    "---"
   ]
  },
  {
   "cell_type": "markdown",
   "id": "935b6993",
   "metadata": {},
   "source": [
    "# 동작 설명\n",
    "1. 윗부분 ( `i = 0` 부터 `n - 1` 까지)<br>\n",
    "  `n - i - 1` 개의 공백을 찍어 별을 가운데로 정렬<br>\n",
    "  `2 * i + 1`개의 별을 찍어 점점 넓어지는 형태 생성<br>\n",
    "2. 아랫부분 (`i = n - 2` 부터 0까지 역순)<br>\n",
    "   윗부분과 동일한 로직을 반대로 적용해 점점 좁아지는 형태 생성<br>\n",
    "\n",
    "# 각 부분 상세 설명\n",
    "## 변수 `n`의 의미\n",
    "`n` 은 다이아몬드의 반 높이입니다.<br>\n",
    "    윗부분(정점에서 중간까지)은 총 `n` 줄, <br>\n",
    "    아랫부분(중간 바로 아래에서 바닥 정점까지)은 `n - 1` 줄<br>\n",
    "> 전체 줄 수: `n + (n - 1) = 2n - 1` 줄\n",
    "\n",
    "1) 윗부분(`for i in range(n)`)\n",
    "    `i` 는 현재 그려야 할 줄의 위치 지표로, 0부터 시작해 1씩 증가하며 맨 중간 줄 `(i = n - 1)` 까지 진행합니다.<br>\n",
    "        1. 공백 계산<br>\n",
    "            한 줄에 찍을 공백 수 = `n - i - 1`<br>\n",
    "                맨 위`(i = 0)`에선 `n - 1`개의 공백 → 별이 가장 중앙에 오도록 띄움\n",
    "                줄이 내려올수록 공백이 1씩 줄어듦<br>\n",
    "        2. 별 계산<br>\n",
    "            한 줄에 찍을 별 수 = `2 * i + 1`<br>\n",
    "                `i = 0`일 때 1개(*)<br>\n",
    "                `i = 1`일 때 3개(***), i=2일 때 5개(*****)...<br>\n",
    "                중앙 줄 `(i = n - 1)` 에서는 `2*(n - 1) + 1 = 2n - 1` 개의 별<br>\n",
    "        3. 줄바꿈<br>\n",
    "            공백과 별을 모두 찍은 뒤 `print()`로 줄을 마무리<br>\n",
    "\n",
    "2) 아랫부분(`for i in range(n - 2, -1, -1)`)<br>\n",
    "    중앙 바로 아래`(i = n - 2)`부터 시작해 맨 아래`(i = 0)`까지 역순으로 반복합니다.<br>\n",
    "    공백과 별 계산 공식은 윗부분과 동일합니다.<br>\n",
    "    > 공백: `n - i - 1`\n",
    "    > 별: `2 * i + 1`\n",
    "\n",
    "이 과정을 통해 다이아몬드 모양이 아래로 좁아지며 완성됩니다.\n",
    "```python\n",
    "    *        # i = 0, 공백 4 + 별 1\n",
    "   ***       # i = 1, 공백 3 + 별 3\n",
    "  *****      # i = 2, 공백 2 + 별 5\n",
    " *******     # i = 3, 공백 1 + 별 7\n",
    "*********    # i = 4, 공백 0 + 별 9  ← 중앙 줄\n",
    " *******     # i = 3, 공백 1 + 별 7\n",
    "  *****      # i = 2, 공백 2 + 별 5\n",
    "   ***       # i = 1, 공백 3 + 별 3\n",
    "    *        # i = 0, 공백 4 + 별 1\n",
    "```"
   ]
  },
  {
   "cell_type": "code",
   "execution_count": 8,
   "id": "e7f668ba",
   "metadata": {},
   "outputs": [
    {
     "name": "stdout",
     "output_type": "stream",
     "text": [
      "      *\n",
      "     ***\n",
      "    *****\n",
      "   *******\n",
      "  *********\n",
      " ***********\n",
      "*************\n",
      "      *\n",
      "     ***\n",
      "    *****\n",
      "   *******\n",
      "  *********\n",
      " ***********\n",
      "*************\n",
      "*************\n",
      " ***********\n",
      "  *********\n",
      "   *******\n",
      "    *****\n",
      "     ***\n",
      "      *\n"
     ]
    }
   ],
   "source": [
    "# 강사님 답\n",
    "LINES = 7\n",
    "for i in range(1, LINES + 1):\n",
    "    print(\" \" * (LINES - i), end=\"\")\n",
    "    print(\"*\" * (2 * i - 1))\n",
    "\n",
    "for i in range(1, LINES + 1):\n",
    "    for j in range(0, (LINES - i)):\n",
    "        print(\" \", end=\"\")\n",
    "    for j in range(0, 2 * i - 1):\n",
    "        print(\"*\", end=\"\")\n",
    "    print()\n",
    "\n",
    "LINES = LINES - 1 \n",
    "for i in range(0, LINES + 1):\n",
    "    for j in range(0, i):\n",
    "        print(\" \",end=\"\")\n",
    "    for j in range(0, (LINES - i) * 2 + 1):\n",
    "        print(\"*\", end=\"\")\n",
    "    print()"
   ]
  },
  {
   "cell_type": "markdown",
   "id": "b3379e8e",
   "metadata": {},
   "source": [
    "---"
   ]
  },
  {
   "cell_type": "markdown",
   "id": "cf236f4c",
   "metadata": {},
   "source": [
    "# while문\n",
    "While문은 조건에 의해서 특정 조건을 만족할때만 수행을 한다. <br>\n",
    "때로는 단한번도 실행이 안될때도 있다<br>\n",
    "\n",
    "while 조건식: 조건식의 결과가 True일때 수행한다. <br>\n",
    "```python\n",
    "i = 1\n",
    "while i<=10:\n",
    "    print(i)\n",
    "    i = i + 1 # while 마지막 문장은 조건이 false가 되는 상황을 만들게 하는 것이 좋다,\n",
    "```\n",
    "\n",
    "> 에러 체크 : 숫자를 입력 해야하는데 문자를 입력했음. DB 처리나 파일처리 같은 경우 유용함\n",
    "> 그러나 파이썬의 경우에는 for문 만으로도 수행이 가능해서 while 문의 역할이 줄고 있다.\n",
    "```python\n",
    "num = input(\"숫자로 입력하세요 : \")\n",
    "while ord(num) < 48 or ord(num) > 57:\n",
    "    print(\"숫자만 입력하세요(0~9)\")\n",
    "    num = input(\"숫자로 입력하세요 : \")\n",
    "print(f\"입력한 숫자는 {num} 입니다.\")\n",
    "```"
   ]
  },
  {
   "cell_type": "code",
   "execution_count": 11,
   "id": "cf69f1fd",
   "metadata": {},
   "outputs": [
    {
     "name": "stdout",
     "output_type": "stream",
     "text": [
      "1000\n"
     ]
    }
   ],
   "source": [
    "# 1 + 2 + 3 + ... 언제 1000을 넘을까? 1000을 넘는 N을 구하라\n",
    "# TODO 1. 변수 선언(합계 초기화) 2. for문 / while문 사용 3. i 구하기\n",
    "sum = 0\n",
    "i = 0\n",
    "while sum<1000:\n",
    "    i = i + 1\n",
    "    sum = sum + 1\n",
    "\n",
    "print(i)"
   ]
  },
  {
   "cell_type": "markdown",
   "id": "e81d1ae6",
   "metadata": {},
   "source": [
    "---"
   ]
  },
  {
   "cell_type": "markdown",
   "id": "548a2bd1",
   "metadata": {},
   "source": [
    "# 함수(Function)란?\n",
    "\n",
    "함수는 **특정 기능을 수행하는 코드 묶음**으로, 프로그램의 **유지보수성**, **재사용성**, **가독성**을 높이는 데 중요한 역할을 한다.\n",
    "\n",
    "## 📜 역사적 배경\n",
    "\n",
    "* 과거에는 프로그램이 **스파게티 코드** 형태로 짜였으며, 복잡하고 유지보수가 어려웠음.\n",
    "* 결과만 제대로 나오면 된다는 식의 코드 작성이 일반적이었음.\n",
    "\n",
    "---\n",
    "\n",
    "## 🔧 모듈이란?\n",
    "\n",
    "* **모듈(Module)**: 프로그램을 **작은 단위로 나눈 것**\n",
    "* 하나의 모듈은 **프로시저**나 **함수**로 구성됨\n",
    "\n",
    "### 프로시저(Procedure)\n",
    "\n",
    "* 일을 수행하고 **값을 반환하지 않음**\n",
    "\n",
    "### 함수(Function)\n",
    "\n",
    "* 일을 수행한 뒤 **값을 반환함**\n",
    "\n",
    "> 💡 **C 언어**에서는 프로시저와 함수를 구분하지 않고 통틀어 \"함수\"라고 부름\n",
    "\n",
    "---\n",
    "\n",
    "## 🐍 파이썬에서의 함수\n",
    "\n",
    "* `def` 키워드를 사용하여 함수를 정의\n",
    "\n",
    "* 기본 구조:\n",
    "\n",
    "  ```python\n",
    "  def 함수이름(매개변수들):\n",
    "      # 실행 코드\n",
    "      return 값\n",
    "  ```\n",
    "\n",
    "* **값은 원칙적으로 하나만 반환**\n",
    "\n",
    "  * 여러 값을 반환하는 경우에는 **tuple**로 묶어 반환\n",
    "\n",
    "  ```python\n",
    "  def example():\n",
    "      return 1, 2, 3  # 실제로는 return (1, 2, 3)\n",
    "  ```\n",
    "\n",
    "---\n",
    "\n",
    "## ✅ 함수의 장점\n",
    "\n",
    "* **유지보수가 쉬움**\n",
    "* **반복적인 작업**을 간결하게 처리 가능\n",
    "* \\*\\*구조적 프로그래밍(C 언어)\\*\\*과 **객체지향 프로그래밍**에서 필수 개념\n",
    "\n",
    "---\n",
    "\n",
    "## 📏 함수 작성 시 유의사항\n",
    "\n",
    "* **15줄**을 넘기지 않는 것이 바람직함\n",
    "* **A4용지 한 장**을 넘기지 않는 수준이 좋음\n",
    "\n",
    "  * 너무 긴 함수는 읽기 어렵고, 재사용성이 떨어짐\n"
   ]
  },
  {
   "cell_type": "code",
   "execution_count": 25,
   "id": "5d69978f",
   "metadata": {},
   "outputs": [
    {
     "name": "stdout",
     "output_type": "stream",
     "text": [
      "==============================\n",
      "==============================\n",
      "==============================\n",
      "==============================\n",
      "==============================\n",
      "==============================\n",
      "==============================\n",
      "None\n",
      "55\n",
      "5050\n",
      "500500\n",
      "50005000\n"
     ]
    }
   ],
   "source": [
    "def print_line(): # 함수를 정의 한다 \n",
    "    # pass  # 파이썬은 함수가 되었던 아니면  for, if나 등등등 코드가 없이  if 조건식 {}\n",
    "    print(\"=\"*30)\n",
    "    # 함수에서 반환값을 안주면 None 이 온다 \n",
    "\n",
    "print_line() # 함수를 호출한다. \n",
    "print_line()\n",
    "print_line()\n",
    "print_line()\n",
    "print_line()\n",
    "print_line()\n",
    "\n",
    "print( print_line() )\n",
    "\n",
    "# 1부터 N까지의 합계를 구하는 함수 만들기 \n",
    "def sigma(limit): # 작은 프로그램 단위 입출력\n",
    "    # limit : 매개변수, 매개체를 말한다. \n",
    "    # 함수 외부에서 함수 내부로 값을 전달하기 위한 목적\n",
    "    s = 0\n",
    "    for i in range(1, limit + 1):\n",
    "        s += i \n",
    "    return s \n",
    "\n",
    "print( sigma(10) )\n",
    "print( sigma(100) )\n",
    "print( sigma(1000) )\n",
    "print( sigma(10000) )"
   ]
  }
 ],
 "metadata": {
  "kernelspec": {
   "display_name": "base",
   "language": "python",
   "name": "python3"
  },
  "language_info": {
   "codemirror_mode": {
    "name": "ipython",
    "version": 3
   },
   "file_extension": ".py",
   "mimetype": "text/x-python",
   "name": "python",
   "nbconvert_exporter": "python",
   "pygments_lexer": "ipython3",
   "version": "3.12.7"
  }
 },
 "nbformat": 4,
 "nbformat_minor": 5
}
