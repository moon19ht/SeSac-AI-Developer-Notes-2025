{
 "cells": [
  {
   "cell_type": "markdown",
   "metadata": {},
   "source": [
    "# 자연어 처리 및 텍스트 분석 종합 실습\n",
    "\n",
    "## 목표\n",
    "- 텍스트 전처리 및 벡터화 기법 이해\n",
    "- 한글과 영어 텍스트 분석 비교\n",
    "- 감정 분석 모델 구축 및 평가\n",
    "- 인터랙티브 시각화를 통한 결과 표현\n",
    "\n",
    "## 사용 데이터셋\n",
    "- **네이버 영화 리뷰**: 한글 감정 분석 (긍정/부정)\n",
    "- **IMDB 영화 리뷰**: 영어 감정 분석 (긍정/부정)\n",
    "\n",
    "## 주요 기술\n",
    "- KoNLPy를 이용한 한글 형태소 분석\n",
    "- CountVectorizer, TF-IDF를 이용한 텍스트 벡터화\n",
    "- 로지스틱 회귀를 이용한 감정 분류\n",
    "- Plotly를 이용한 인터랙티브 시각화"
   ]
  },
  {
   "cell_type": "markdown",
   "metadata": {},
   "source": [
    "## 1. 라이브러리 Import 및 환경 설정"
   ]
  },
  {
   "cell_type": "code",
   "execution_count": 2,
   "metadata": {},
   "outputs": [
    {
     "name": "stdout",
     "output_type": "stream",
     "text": [
      "모든 라이브러리가 성공적으로 import되었습니다.\n"
     ]
    }
   ],
   "source": [
    "# 기본 라이브러리\n",
    "import pandas as pd \n",
    "import numpy as np \n",
    "import matplotlib.pyplot as plt \n",
    "import re  # 정규식 처리 라이브러리\n",
    "\n",
    "# 머신러닝 라이브러리\n",
    "from sklearn.datasets import load_files \n",
    "from sklearn.feature_extraction.text import CountVectorizer, TfidfVectorizer\n",
    "from sklearn.linear_model import LogisticRegression\n",
    "from sklearn.model_selection import train_test_split\n",
    "from sklearn.metrics import accuracy_score, classification_report, confusion_matrix\n",
    "\n",
    "# 한글 자연어 처리\n",
    "from konlpy.tag import Okt\n",
    "\n",
    "# 시각화 라이브러리\n",
    "import plotly.graph_objects as go\n",
    "import plotly.express as px\n",
    "\n",
    "# 경고 메시지 필터링\n",
    "import warnings\n",
    "warnings.filterwarnings('ignore')\n",
    "\n",
    "print(\"모든 라이브러리가 성공적으로 import되었습니다.\")"
   ]
  },
  {
   "cell_type": "markdown",
   "metadata": {},
   "source": [
    "## 2. 텍스트 분석 기초 이론\n",
    "\n",
    "### 2.1 텍스트 분석의 핵심 개념\n",
    "텍스트 분석은 비정형 텍스트 데이터를 머신러닝이 처리할 수 있는 수치형 데이터로 변환하는 과정입니다.\n",
    "\n",
    "### 2.2 주요 단계\n",
    "1. **토큰화(Tokenization)**: 텍스트를 단어 단위로 분리\n",
    "2. **어휘사전 구축**: 단어에 고유 번호 할당\n",
    "3. **벡터화**: 텍스트를 수치 벡터로 변환\n",
    "4. **모델 학습**: 머신러닝 알고리즘 적용\n",
    "\n",
    "### 2.3 벡터화 방법\n",
    "- **Count Vectorizer**: 단어 빈도수 기반\n",
    "- **TF-IDF**: 단어 중요도 가중치 적용"
   ]
  },
  {
   "cell_type": "code",
   "execution_count": 3,
   "metadata": {},
   "outputs": [
    {
     "name": "stdout",
     "output_type": "stream",
     "text": [
      "=== 기본 CountVectorizer 예제 ===\n",
      "어휘사전 크기: 5\n",
      "어휘사전 내용: {'like': 2, 'star': 4, 'red': 3, 'blue': 0, 'dog': 1}\n",
      "벡터화 결과 (희소행렬):\n",
      "<Compressed Sparse Row sparse matrix of dtype 'int64'\n",
      "\twith 7 stored elements and shape (3, 5)>\n",
      "  Coords\tValues\n",
      "  (0, 2)\t1\n",
      "  (0, 4)\t1\n",
      "  (1, 0)\t1\n",
      "  (1, 3)\t1\n",
      "  (1, 4)\t2\n",
      "  (2, 1)\t1\n",
      "  (2, 2)\t1\n",
      "벡터화 결과 (배열):\n",
      "[[0 0 1 0 1]\n",
      " [1 0 0 1 2]\n",
      " [0 1 1 0 0]]\n",
      "\n",
      "=== 불용어 제거 예제 ===\n",
      "불용어 제거 후 어휘사전: {'like': 2, 'star': 3, 'blue': 0, 'dog': 1}\n",
      "\n",
      "=== N-gram 예제 ===\n",
      "2-gram 어휘사전: {'like star': 2, 'red star': 3, 'star blue': 4, 'blue star': 0, 'like dog': 1}\n"
     ]
    }
   ],
   "source": [
    "# 간단한 텍스트 분석 예제\n",
    "sample_texts = [\"I like star\", \n",
    "                \"red star, blue star\",\n",
    "                \"I like dog\"]\n",
    "\n",
    "print(\"=== 기본 CountVectorizer 예제 ===\")\n",
    "# 1. CountVectorizer 객체 생성 및 학습\n",
    "vect = CountVectorizer()\n",
    "vect.fit(sample_texts)\n",
    "\n",
    "print(f\"어휘사전 크기: {len(vect.vocabulary_)}\")\n",
    "print(f\"어휘사전 내용: {vect.vocabulary_}\")\n",
    "\n",
    "# 2. 텍스트를 벡터로 변환\n",
    "bag_of_words = vect.transform(sample_texts)\n",
    "print(f\"벡터화 결과 (희소행렬):\\n{bag_of_words}\")\n",
    "print(f\"벡터화 결과 (배열):\\n{bag_of_words.toarray()}\")\n",
    "\n",
    "print(f\"\\n=== 불용어 제거 예제 ===\")\n",
    "vect_stopwords = CountVectorizer(stop_words=[\"I\", \"red\"])\n",
    "vect_stopwords.fit(sample_texts)\n",
    "print(f\"불용어 제거 후 어휘사전: {vect_stopwords.vocabulary_}\")\n",
    "\n",
    "print(f\"\\n=== N-gram 예제 ===\")\n",
    "vect_ngram = CountVectorizer(ngram_range=(2,2))  # 2-gram\n",
    "vect_ngram.fit(sample_texts)\n",
    "print(f\"2-gram 어휘사전: {vect_ngram.vocabulary_}\")"
   ]
  },
  {
   "cell_type": "markdown",
   "metadata": {},
   "source": [
    "### 2.4 한글 텍스트 분석"
   ]
  },
  {
   "cell_type": "code",
   "execution_count": 4,
   "metadata": {},
   "outputs": [
    {
     "name": "stdout",
     "output_type": "stream",
     "text": [
      "=== 한글 형태소 분석 예제 ===\n",
      "원문: 안녕하세요 만나서 반갑습니다. 점심 먹고 오셨나요?\n",
      "형태소 분리: ['안녕하세요', '만나서', '반갑습니다', '.', '점심', '먹고', '오셨나요', '?']\n",
      "명사 추출: ['점심']\n",
      "구문 추출: ['점심']\n",
      "\n",
      "=== 한글 CountVectorizer 예제 ===\n",
      "한글 어휘사전: {'나': 2, '는': 4, '오늘': 5, '기분': 1, '이': 6, '좋아요': 8, '날씨': 3, '가': 0, '좋아서': 7}\n",
      "\n",
      "=== 한글 불용어 제거 예제 ===\n",
      "불용어 제거 후 한글 어휘사전: {'나': 2, '는': 4, '기분': 1, '이': 5, '좋아요': 7, '날씨': 3, '가': 0, '좋아서': 6}\n",
      "형태소 분리: ['안녕하세요', '만나서', '반갑습니다', '.', '점심', '먹고', '오셨나요', '?']\n",
      "명사 추출: ['점심']\n",
      "구문 추출: ['점심']\n",
      "\n",
      "=== 한글 CountVectorizer 예제 ===\n",
      "한글 어휘사전: {'나': 2, '는': 4, '오늘': 5, '기분': 1, '이': 6, '좋아요': 8, '날씨': 3, '가': 0, '좋아서': 7}\n",
      "\n",
      "=== 한글 불용어 제거 예제 ===\n",
      "불용어 제거 후 한글 어휘사전: {'나': 2, '는': 4, '기분': 1, '이': 5, '좋아요': 7, '날씨': 3, '가': 0, '좋아서': 6}\n"
     ]
    }
   ],
   "source": [
    "# 한글 형태소 분석 예제\n",
    "okt = Okt()\n",
    "sample_korean = \"안녕하세요 만나서 반갑습니다. 점심 먹고 오셨나요?\"\n",
    "\n",
    "print(\"=== 한글 형태소 분석 예제 ===\")\n",
    "print(f\"원문: {sample_korean}\")\n",
    "print(f\"형태소 분리: {okt.morphs(sample_korean)}\")\n",
    "print(f\"명사 추출: {okt.nouns(sample_korean)}\")\n",
    "print(f\"구문 추출: {okt.phrases(sample_korean)}\")\n",
    "\n",
    "# 한글 토크나이저 함수 정의\n",
    "def korean_tokenizer(text):\n",
    "    \"\"\"한글 텍스트를 형태소 단위로 토큰화\"\"\"\n",
    "    return okt.morphs(text)\n",
    "\n",
    "# 한글 텍스트로 벡터화 테스트\n",
    "korean_texts = [\"나는 오늘 기분이 좋아요\", \"나는 오늘 날씨가 좋아서 좋아요\"]\n",
    "\n",
    "print(f\"\\n=== 한글 CountVectorizer 예제 ===\")\n",
    "vect_korean = CountVectorizer(tokenizer=korean_tokenizer)\n",
    "vect_korean.fit(korean_texts)\n",
    "print(f\"한글 어휘사전: {vect_korean.vocabulary_}\")\n",
    "\n",
    "# 불용어 처리가 포함된 한글 토크나이저\n",
    "stop_words_korean = [\"나는\", \"오늘\"]\n",
    "\n",
    "def korean_tokenizer_with_stopwords(text):\n",
    "    \"\"\"불용어 제거가 포함된 한글 토크나이저\"\"\"\n",
    "    words = okt.morphs(text)\n",
    "    return [word for word in words if word not in stop_words_korean]\n",
    "\n",
    "print(f\"\\n=== 한글 불용어 제거 예제 ===\")\n",
    "vect_korean_stop = CountVectorizer(tokenizer=korean_tokenizer_with_stopwords)\n",
    "vect_korean_stop.fit(korean_texts)\n",
    "print(f\"불용어 제거 후 한글 어휘사전: {vect_korean_stop.vocabulary_}\")"
   ]
  },
  {
   "cell_type": "markdown",
   "metadata": {},
   "source": [
    "### 2.5 TF-IDF (Term Frequency-Inverse Document Frequency)\n",
    "\n",
    "TF-IDF는 단어의 빈도수와 역문서 빈도를 사용하여 단어의 중요도를 가중치로 계산하는 방법입니다.\n",
    "\n",
    "- **TF (Term Frequency)**: 단어 빈도수가 높을수록 중요\n",
    "- **IDF (Inverse Document Frequency)**: 문서 빈도수가 낮을수록 중요\n",
    "- 자주 등장하지만 여러 문서에 공통으로 나타나는 단어는 가중치가 낮아짐"
   ]
  },
  {
   "cell_type": "code",
   "execution_count": 5,
   "metadata": {},
   "outputs": [
    {
     "name": "stdout",
     "output_type": "stream",
     "text": [
      "=== TF-IDF 기본 예제 ===\n",
      "TF-IDF 행렬:\n",
      "[[0.         0.         0.70710678 0.         0.70710678]\n",
      " [0.48148213 0.         0.         0.48148213 0.73235914]\n",
      " [0.         0.79596054 0.60534851 0.         0.        ]]\n",
      "어휘사전: {'like': 2, 'star': 4, 'red': 3, 'blue': 0, 'dog': 1}\n",
      "\n",
      "=== 한글 TF-IDF 예제 ===\n",
      "한글 TF-IDF 행렬:\n",
      "[[0.         0.49844628 0.35464863 0.         0.35464863 0.35464863\n",
      "  0.49844628 0.         0.35464863]\n",
      " [0.44610081 0.         0.3174044  0.44610081 0.3174044  0.3174044\n",
      "  0.         0.44610081 0.3174044 ]]\n",
      "한글 어휘사전: {'나': 2, '는': 4, '오늘': 5, '기분': 1, '이': 6, '좋아요': 8, '날씨': 3, '가': 0, '좋아서': 7}\n",
      "\n",
      "=== TF-IDF 고급 옵션 예제 ===\n",
      "고급 TF-IDF 어휘사전: {'나': np.int64(3), '는': np.int64(6), '기분': np.int64(1), '좋아요': np.int64(8), '나 는': np.int64(4), '는 기분': np.int64(7), '기분 이': np.int64(2), '가': np.int64(0), '날씨 가': np.int64(5), '하루': np.int64(9)}\n",
      "고급 TF-IDF 행렬 크기: (3, 10)\n"
     ]
    }
   ],
   "source": [
    "# TF-IDF 예제\n",
    "print(\"=== TF-IDF 기본 예제 ===\")\n",
    "tfidf = TfidfVectorizer()\n",
    "sample_texts = [\"I like star\", \"red star, blue star\", \"I like dog\"]\n",
    "tfidf.fit(sample_texts)\n",
    "\n",
    "tfidf_matrix = tfidf.transform(sample_texts)\n",
    "print(f\"TF-IDF 행렬:\\n{tfidf_matrix.toarray()}\")\n",
    "print(f\"어휘사전: {tfidf.vocabulary_}\")\n",
    "\n",
    "print(f\"\\n=== 한글 TF-IDF 예제 ===\")\n",
    "tfidf_korean = TfidfVectorizer(tokenizer=korean_tokenizer)\n",
    "korean_texts = [\"나는 오늘 기분이 좋아요\", \"나는 오늘 날씨가 좋아서 좋아요\"]\n",
    "tfidf_korean.fit(korean_texts)\n",
    "\n",
    "korean_tfidf_matrix = tfidf_korean.transform(korean_texts)\n",
    "print(f\"한글 TF-IDF 행렬:\\n{korean_tfidf_matrix.toarray()}\")\n",
    "print(f\"한글 어휘사전: {tfidf_korean.vocabulary_}\")\n",
    "\n",
    "print(f\"\\n=== TF-IDF 고급 옵션 예제 ===\")\n",
    "# 다양한 옵션을 적용한 TF-IDF\n",
    "tfidf_advanced = TfidfVectorizer(\n",
    "    tokenizer=korean_tokenizer_with_stopwords,\n",
    "    ngram_range=(1, 2),          # 1-gram과 2-gram 모두 사용\n",
    "    max_features=10,             # 최대 특성 수 제한\n",
    "    min_df=1,                    # 최소 문서 빈도\n",
    "    max_df=0.8,                  # 최대 문서 빈도 (80% 이상 나타나는 단어 제외)\n",
    "    norm='l2',                   # L2 정규화\n",
    "    smooth_idf=True,             # 부드러운 IDF\n",
    "    sublinear_tf=True            # 서브리니어 TF\n",
    ")\n",
    "\n",
    "extended_korean_texts = [\"나는 오늘 기분이 좋아요\", \n",
    "                        \"나는 오늘 날씨가 좋아서 좋아요\", \n",
    "                        \"오늘 하루도 좋은 하루였어요\"]\n",
    "\n",
    "tfidf_advanced.fit(extended_korean_texts)\n",
    "advanced_matrix = tfidf_advanced.transform(extended_korean_texts)\n",
    "\n",
    "print(f\"고급 TF-IDF 어휘사전: {tfidf_advanced.vocabulary_}\")\n",
    "print(f\"고급 TF-IDF 행렬 크기: {advanced_matrix.shape}\")"
   ]
  },
  {
   "cell_type": "code",
   "execution_count": 6,
   "metadata": {},
   "outputs": [
    {
     "name": "stdout",
     "output_type": "stream",
     "text": [
      "=== 네이버 영화 리뷰 데이터 정보 ===\n",
      "데이터 크기: (8047, 3)\n",
      "컬럼: ['id', 'document', 'label']\n",
      "\n",
      "데이터 샘플:\n",
      "         id                                           document  label\n",
      "0   9976970                                아 더빙.. 진짜 짜증나네요 목소리      0\n",
      "1   3819312                  흠...포스터보고 초딩영화줄....오버연기조차 가볍지 않구나      1\n",
      "2  10265843                                  너무재밓었다그래서보는것을추천한다      1\n",
      "3   9045019                      교도소 이야기구먼 ..솔직히 재미는 없다..평점 조정      0\n",
      "4   6483659  사이몬페그의 익살스런 연기가 돋보였던 영화!스파이더맨에서 늙어보이기만 했던 커스틴 ...      1\n",
      "\n",
      "텍스트 샘플 (처음 3개):\n",
      "1. 레이블: 0, 리뷰: 아 더빙.. 진짜 짜증나네요 목소리\n",
      "2. 레이블: 1, 리뷰: 흠...포스터보고 초딩영화줄....오버연기조차 가볍지 않구나\n",
      "3. 레이블: 1, 리뷰: 너무재밓었다그래서보는것을추천한다\n",
      "\n",
      "레이블 분포:\n",
      "긍정(1): 4002개\n",
      "부정(0): 4045개\n"
     ]
    }
   ],
   "source": [
    "# 네이버 영화 리뷰 데이터 로드\n",
    "try:\n",
    "    # 데이터 파일 읽기 (탭으로 구분된 파일)\n",
    "    df_train = pd.read_csv(\n",
    "        \"C:/Users/ryan9/문서/GitHub/SeSac-AI-Developer-Notes-2025/07_Machine_Deep_Learning/data/aclImdb/ratings_train.txt\", \n",
    "        delimiter=\"\\t\", \n",
    "        keep_default_na=False\n",
    "    )\n",
    "    \n",
    "    print(\"=== 네이버 영화 리뷰 데이터 정보 ===\")\n",
    "    print(f\"데이터 크기: {df_train.shape}\")\n",
    "    print(f\"컬럼: {list(df_train.columns)}\")\n",
    "    print(\"\\n데이터 샘플:\")\n",
    "    print(df_train.head())\n",
    "    \n",
    "    # 텍스트와 레이블 분리\n",
    "    text_train = df_train[\"document\"].values\n",
    "    y_train = df_train[\"label\"].values\n",
    "    \n",
    "    print(f\"\\n텍스트 샘플 (처음 3개):\")\n",
    "    for i, text in enumerate(text_train[:3]):\n",
    "        print(f\"{i+1}. 레이블: {y_train[i]}, 리뷰: {text}\")\n",
    "    \n",
    "    print(f\"\\n레이블 분포:\")\n",
    "    print(f\"긍정(1): {sum(y_train == 1)}개\")\n",
    "    print(f\"부정(0): {sum(y_train == 0)}개\")\n",
    "    \n",
    "except FileNotFoundError:\n",
    "    print(\"⚠️ 파일을 찾을 수 없습니다. 파일 경로를 확인해주세요.\")\n",
    "    # 예시 데이터로 대체\n",
    "    text_train = [\"이 영화 정말 재미있어요\", \"별로 재미없네요\", \"최고의 영화입니다\"]\n",
    "    y_train = np.array([1, 0, 1])\n",
    "    print(\"예시 데이터로 진행합니다.\")"
   ]
  },
  {
   "cell_type": "markdown",
   "metadata": {},
   "source": [
    "### 3.2 한글 텍스트 전처리 및 토크나이저 구현"
   ]
  },
  {
   "cell_type": "code",
   "execution_count": 7,
   "metadata": {},
   "outputs": [
    {
     "name": "stdout",
     "output_type": "stream",
     "text": [
      "=== 한글 토크나이저 테스트 ===\n",
      "1. 원문: 아 더빙.. 진짜 짜증나네요 목소리\n",
      "   토큰: ['더빙', '진짜', '짜증나다', '목소리']\n",
      "   토큰 수: 4\n",
      "\n",
      "2. 원문: 흠...포스터보고 초딩영화줄....오버연기조차 가볍지 않구나\n",
      "   토큰: ['포스터', '보고', '초딩', '영화', '오버', '연기', '조차', '가볍다', '않다']\n",
      "   토큰 수: 9\n",
      "\n",
      "3. 원문: 너무재밓었다그래서보는것을추천한다\n",
      "   토큰: ['무재', '밓었', '다그', '래서', '보다', '추천']\n",
      "   토큰 수: 6\n",
      "\n",
      "4. 원문: 교도소 이야기구먼 ..솔직히 재미는 없다..평점 조정\n",
      "   토큰: ['교도소', '이야기', '구먼', '솔직하다', '재미', '없다', '평점', '조정']\n",
      "   토큰 수: 8\n",
      "\n",
      "5. 원문: 사이몬페그의 익살스런 연기가 돋보였던 영화!스파이더맨에서 늙어보이기만 했던 커스틴 던스트가 너무나도 이뻐보였다\n",
      "   토큰: ['사이', '몬페', '익살스럽다', '연기', '돋보이다', '영화', '스파이더맨', '에서', '늙다', '보이다', '하다', '커스틴', '던스트', '너무나도', '이쁘다', '보이다']\n",
      "   토큰 수: 16\n",
      "\n"
     ]
    }
   ],
   "source": [
    "# 한글 텍스트 전처리를 위한 토크나이저 구현\n",
    "okt = Okt()\n",
    "\n",
    "# 불용어 리스트 정의 (필요에 따라 확장 가능)\n",
    "stop_words = [\"아\", \"..\", \"?\", \"있는\", \"그\", \"것\", \"들\", \"의\", \"가\", \"을\", \"를\", \"에\", \"와\", \"과\"]\n",
    "\n",
    "def okt_tokenizer(text):\n",
    "    \"\"\"\n",
    "    한글 텍스트를 전처리하고 토크나이징하는 함수\n",
    "    1. 정규식으로 특수문자, 숫자, 영어 제거 (한글과 공백만 남김)\n",
    "    2. 형태소 분리\n",
    "    3. 불용어 제거 및 길이 2 이상인 단어만 유지\n",
    "    \"\"\"\n",
    "    if pd.isna(text) or text == \"\":\n",
    "        return []\n",
    "    \n",
    "    # 정규식 패턴: 한글(가-힣)과 공백만 유지\n",
    "    text = re.sub(r\"[^\\uAC00-\\uD7A3\\s]\", \"\", str(text))\n",
    "    \n",
    "    # 형태소 분리\n",
    "    morphs = okt.morphs(text, stem=True)  # stem=True로 어근 추출\n",
    "    \n",
    "    # 불용어 제거 및 길이 필터링\n",
    "    filtered_words = [\n",
    "        word for word in morphs \n",
    "        if word not in stop_words and len(word) >= 2 and word.strip()\n",
    "    ]\n",
    "    \n",
    "    return filtered_words\n",
    "\n",
    "# 토크나이저 테스트\n",
    "print(\"=== 한글 토크나이저 테스트 ===\")\n",
    "test_samples = text_train[:5] if len(text_train) > 5 else text_train\n",
    "\n",
    "for i, text in enumerate(test_samples):\n",
    "    tokens = okt_tokenizer(text)\n",
    "    print(f\"{i+1}. 원문: {text}\")\n",
    "    print(f\"   토큰: {tokens}\")\n",
    "    print(f\"   토큰 수: {len(tokens)}\")\n",
    "    print()"
   ]
  },
  {
   "cell_type": "markdown",
   "metadata": {},
   "source": [
    "### 3.3 벡터화 및 감정 분류 모델 학습"
   ]
  },
  {
   "cell_type": "code",
   "execution_count": 8,
   "metadata": {},
   "outputs": [
    {
     "name": "stdout",
     "output_type": "stream",
     "text": [
      "=== 한글 텍스트 벡터화 ===\n",
      "전체 특성(단어) 개수: 4497\n",
      "벡터화된 데이터 크기: (8047, 4497)\n",
      "주요 특성 20개: ['가가' '가게' '가관' '가구' '가기' '가깝다' '가끔' '가나다' '가난' '가난하다' '가늠' '가능' '가능성'\n",
      " '가능하다' '가다' '가도' '가득' '가득하다' '가량' '가르다']\n",
      "\n",
      "=== 데이터 분할 결과 ===\n",
      "훈련 데이터: 6437개\n",
      "테스트 데이터: 1610개\n",
      "\n",
      "=== 모델 학습 ===\n",
      "훈련 정확도: 0.9119\n",
      "테스트 정확도: 0.7994\n",
      "\n",
      "=== 상세 평가 결과 ===\n",
      "              precision    recall  f1-score   support\n",
      "\n",
      "          부정       0.80      0.81      0.80       809\n",
      "          긍정       0.80      0.79      0.80       801\n",
      "\n",
      "    accuracy                           0.80      1610\n",
      "   macro avg       0.80      0.80      0.80      1610\n",
      "weighted avg       0.80      0.80      0.80      1610\n",
      "\n",
      "전체 특성(단어) 개수: 4497\n",
      "벡터화된 데이터 크기: (8047, 4497)\n",
      "주요 특성 20개: ['가가' '가게' '가관' '가구' '가기' '가깝다' '가끔' '가나다' '가난' '가난하다' '가늠' '가능' '가능성'\n",
      " '가능하다' '가다' '가도' '가득' '가득하다' '가량' '가르다']\n",
      "\n",
      "=== 데이터 분할 결과 ===\n",
      "훈련 데이터: 6437개\n",
      "테스트 데이터: 1610개\n",
      "\n",
      "=== 모델 학습 ===\n",
      "훈련 정확도: 0.9119\n",
      "테스트 정확도: 0.7994\n",
      "\n",
      "=== 상세 평가 결과 ===\n",
      "              precision    recall  f1-score   support\n",
      "\n",
      "          부정       0.80      0.81      0.80       809\n",
      "          긍정       0.80      0.79      0.80       801\n",
      "\n",
      "    accuracy                           0.80      1610\n",
      "   macro avg       0.80      0.80      0.80      1610\n",
      "weighted avg       0.80      0.80      0.80      1610\n",
      "\n"
     ]
    }
   ],
   "source": [
    "# CountVectorizer를 사용한 한글 텍스트 벡터화\n",
    "print(\"=== 한글 텍스트 벡터화 ===\")\n",
    "\n",
    "# CountVectorizer 생성 및 학습\n",
    "vect = CountVectorizer(\n",
    "    tokenizer=okt_tokenizer,\n",
    "    max_features=10000,  # 최대 특성 수 제한\n",
    "    min_df=2,           # 최소 2개 문서에서 등장하는 단어만 사용\n",
    "    max_df=0.95         # 95% 이상 문서에서 등장하는 단어 제외\n",
    ")\n",
    "\n",
    "# 텍스트 벡터화\n",
    "X_train = vect.fit_transform(text_train)\n",
    "\n",
    "# 벡터화 결과 확인\n",
    "feature_names = vect.get_feature_names_out()\n",
    "print(f\"전체 특성(단어) 개수: {len(feature_names)}\")\n",
    "print(f\"벡터화된 데이터 크기: {X_train.shape}\")\n",
    "print(f\"주요 특성 20개: {feature_names[:20]}\")\n",
    "\n",
    "# 데이터 분할\n",
    "X_train_split, X_test_split, y_train_split, y_test_split = train_test_split(\n",
    "    X_train, y_train, \n",
    "    test_size=0.2, \n",
    "    random_state=42, \n",
    "    stratify=y_train\n",
    ")\n",
    "\n",
    "print(f\"\\n=== 데이터 분할 결과 ===\")\n",
    "print(f\"훈련 데이터: {X_train_split.shape[0]}개\")\n",
    "print(f\"테스트 데이터: {X_test_split.shape[0]}개\")\n",
    "\n",
    "# 로지스틱 회귀 모델 학습\n",
    "print(f\"\\n=== 모델 학습 ===\")\n",
    "model = LogisticRegression(solver='liblinear', random_state=42)\n",
    "model.fit(X_train_split, y_train_split)\n",
    "\n",
    "# 모델 성능 평가\n",
    "train_accuracy = model.score(X_train_split, y_train_split)\n",
    "test_accuracy = model.score(X_test_split, y_test_split)\n",
    "\n",
    "print(f\"훈련 정확도: {train_accuracy:.4f}\")\n",
    "print(f\"테스트 정확도: {test_accuracy:.4f}\")\n",
    "\n",
    "# 예측 및 상세 평가\n",
    "y_pred = model.predict(X_test_split)\n",
    "print(f\"\\n=== 상세 평가 결과 ===\")\n",
    "print(classification_report(y_test_split, y_pred, target_names=['부정', '긍정']))"
   ]
  },
  {
   "cell_type": "markdown",
   "metadata": {},
   "source": [
    "## 3. 한글 영화 리뷰 감정 분석 (네이버 영화 데이터)\n",
    "\n",
    "### 3.1 데이터 로드 및 전처리"
   ]
  },
  {
   "cell_type": "markdown",
   "metadata": {},
   "source": [
    "## 4. 영어 영화 리뷰 감정 분석 (IMDB 데이터)\n",
    "\n",
    "### 4.1 IMDB 데이터 로드 및 전처리"
   ]
  },
  {
   "cell_type": "code",
   "execution_count": 9,
   "metadata": {},
   "outputs": [
    {
     "name": "stdout",
     "output_type": "stream",
     "text": [
      "=== IMDB 영화 리뷰 데이터 로드 ===\n",
      "데이터셋 설명:\n",
      "None\n",
      "\n",
      "=== 데이터 정보 ===\n",
      "전체 리뷰 수: 7511\n",
      "긍정 리뷰: 2550개\n",
      "부정 리뷰: 2766개\n",
      "데이터셋 설명:\n",
      "None\n",
      "\n",
      "=== 데이터 정보 ===\n",
      "전체 리뷰 수: 7511\n",
      "긍정 리뷰: 2550개\n",
      "부정 리뷰: 2766개\n",
      "데이터가 C:/Users/ryan9/문서/GitHub/SeSac-AI-Developer-Notes-2025/07_Machine_Deep_Learning/data/csv/imdb.csv에 저장되었습니다.\n",
      "\n",
      "=== 샘플 데이터 ===\n",
      "                                                text  target\n",
      "0  b'I caught this film at the Edinburgh Film Fes...       0\n",
      "1  b\"Based upon the recommendation of a friend, m...       0\n",
      "2  b'This is not an entirely bad movie. The plot ...       0\n",
      "3  b\"I must confess to not having read the origin...       1\n",
      "4  b\"as the title of this post says, the section ...       2\n",
      "\n",
      "=== 텍스트 전처리 ===\n",
      "HTML 태그 제거 전 샘플:\n",
      "b\"I caught this film at the Edinburgh Film Festival. I hadn't heard much about it; only that it was a tightly-paced thriller, shot digitally on a very low budget. I was hoping to catch the next big Brit\"\n",
      "\n",
      "HTML 태그 제거 후 샘플:\n",
      "b\"I caught this film at the Edinburgh Film Festival. I hadn't heard much about it; only that it was a tightly-paced thriller, shot digitally on a very low budget. I was hoping to catch the next big Brit\"\n",
      "데이터가 C:/Users/ryan9/문서/GitHub/SeSac-AI-Developer-Notes-2025/07_Machine_Deep_Learning/data/csv/imdb.csv에 저장되었습니다.\n",
      "\n",
      "=== 샘플 데이터 ===\n",
      "                                                text  target\n",
      "0  b'I caught this film at the Edinburgh Film Fes...       0\n",
      "1  b\"Based upon the recommendation of a friend, m...       0\n",
      "2  b'This is not an entirely bad movie. The plot ...       0\n",
      "3  b\"I must confess to not having read the origin...       1\n",
      "4  b\"as the title of this post says, the section ...       2\n",
      "\n",
      "=== 텍스트 전처리 ===\n",
      "HTML 태그 제거 전 샘플:\n",
      "b\"I caught this film at the Edinburgh Film Festival. I hadn't heard much about it; only that it was a tightly-paced thriller, shot digitally on a very low budget. I was hoping to catch the next big Brit\"\n",
      "\n",
      "HTML 태그 제거 후 샘플:\n",
      "b\"I caught this film at the Edinburgh Film Festival. I hadn't heard much about it; only that it was a tightly-paced thriller, shot digitally on a very low budget. I was hoping to catch the next big Brit\"\n"
     ]
    }
   ],
   "source": [
    "# IMDB 영화 리뷰 데이터 로드\n",
    "try:\n",
    "    print(\"=== IMDB 영화 리뷰 데이터 로드 ===\")\n",
    "    reviews_train = load_files(\"C:/Users/ryan9/문서/GitHub/SeSac-AI-Developer-Notes-2025/07_Machine_Deep_Learning/data/aclImdb/train\")\n",
    "    \n",
    "    print(\"데이터셋 설명:\")\n",
    "    print(reviews_train[\"DESCR\"])\n",
    "    \n",
    "    # 텍스트 데이터와 레이블 추출\n",
    "    text_train_en = reviews_train.data\n",
    "    y_train_en = reviews_train.target \n",
    "    \n",
    "    print(f\"\\n=== 데이터 정보 ===\")\n",
    "    print(f\"전체 리뷰 수: {len(text_train_en)}\")\n",
    "    print(f\"긍정 리뷰: {sum(y_train_en == 1)}개\")\n",
    "    print(f\"부정 리뷰: {sum(y_train_en == 0)}개\")\n",
    "    \n",
    "    # DataFrame으로 변환하여 CSV 저장\n",
    "    df_imdb = pd.DataFrame({'text': text_train_en, 'target': y_train_en})\n",
    "    output_path = \"C:/Users/ryan9/문서/GitHub/SeSac-AI-Developer-Notes-2025/07_Machine_Deep_Learning/data/csv/imdb.csv\"\n",
    "    df_imdb.to_csv(output_path, encoding=\"utf-8-sig\", index=False)\n",
    "    print(f\"데이터가 {output_path}에 저장되었습니다.\")\n",
    "    \n",
    "    print(f\"\\n=== 샘플 데이터 ===\")\n",
    "    print(df_imdb.head())\n",
    "    \n",
    "    # 텍스트 전처리 (HTML 태그 제거)\n",
    "    print(f\"\\n=== 텍스트 전처리 ===\")\n",
    "    print(\"HTML 태그 제거 전 샘플:\")\n",
    "    print(text_train_en[0][:200])\n",
    "    \n",
    "    # <br /> 태그 제거\n",
    "    text_train_en = [review.replace(b\"<br />\", b\"\") for review in text_train_en]\n",
    "    \n",
    "    print(f\"\\nHTML 태그 제거 후 샘플:\")\n",
    "    print(text_train_en[0][:200])\n",
    "    \n",
    "except FileNotFoundError:\n",
    "    print(\"⚠️ IMDB 데이터 파일을 찾을 수 없습니다.\")\n",
    "    # 예시 데이터로 대체\n",
    "    text_train_en = [b\"This movie is great!\", b\"I hate this film\", b\"Amazing story\"]\n",
    "    y_train_en = np.array([1, 0, 1])\n",
    "    print(\"예시 데이터로 진행합니다.\")"
   ]
  },
  {
   "cell_type": "markdown",
   "metadata": {},
   "source": [
    "### 4.2 영어 텍스트 벡터화 및 모델 학습"
   ]
  },
  {
   "cell_type": "code",
   "execution_count": 13,
   "metadata": {},
   "outputs": [
    {
     "name": "stdout",
     "output_type": "stream",
     "text": [
      "=== 영어 텍스트 벡터화 ===\n",
      "영어 특성(단어) 개수: 10000\n",
      "벡터화된 데이터 크기: (7511, 10000)\n",
      "주요 특성 20개: ['00' '000' '01' '10' '100' '101' '10th' '11' '12' '13' '13th' '14' '15'\n",
      " '150' '16' '17' '18' '1800' '18th' '19']\n",
      "\n",
      "=== 영어 데이터 분할 결과 ===\n",
      "훈련 데이터: 6008개\n",
      "테스트 데이터: 1503개\n",
      "\n",
      "=== 영어 모델 학습 ===\n",
      "영어 특성(단어) 개수: 10000\n",
      "벡터화된 데이터 크기: (7511, 10000)\n",
      "주요 특성 20개: ['00' '000' '01' '10' '100' '101' '10th' '11' '12' '13' '13th' '14' '15'\n",
      " '150' '16' '17' '18' '1800' '18th' '19']\n",
      "\n",
      "=== 영어 데이터 분할 결과 ===\n",
      "훈련 데이터: 6008개\n",
      "테스트 데이터: 1503개\n",
      "\n",
      "=== 영어 모델 학습 ===\n",
      "영어 모델 - 훈련 정확도: 0.9995\n",
      "영어 모델 - 테스트 정확도: 0.7438\n",
      "\n",
      "=== 영어 모델 상세 평가 ===\n",
      "테스트 데이터의 클래스: [0 1 2]\n",
      "              precision    recall  f1-score   support\n",
      "\n",
      "    Negative       0.79      0.78      0.79       554\n",
      "    Positive       0.73      0.78      0.76       510\n",
      "Unsupervised       0.70      0.65      0.67       439\n",
      "\n",
      "    accuracy                           0.74      1503\n",
      "   macro avg       0.74      0.74      0.74      1503\n",
      "weighted avg       0.74      0.74      0.74      1503\n",
      "\n",
      "\n",
      "=== 이진 분류 결과 (unsupervised 제외) ===\n",
      "              precision    recall  f1-score   support\n",
      "\n",
      "    Negative       0.90      0.78      0.84       554\n",
      "    Positive       0.87      0.78      0.83       510\n",
      "\n",
      "   micro avg       0.89      0.78      0.83      1064\n",
      "   macro avg       0.88      0.78      0.83      1064\n",
      "weighted avg       0.89      0.78      0.83      1064\n",
      "\n",
      "영어 모델 - 이진 분류 테스트 정확도: 0.7829\n",
      "영어 모델 - 훈련 정확도: 0.9995\n",
      "영어 모델 - 테스트 정확도: 0.7438\n",
      "\n",
      "=== 영어 모델 상세 평가 ===\n",
      "테스트 데이터의 클래스: [0 1 2]\n",
      "              precision    recall  f1-score   support\n",
      "\n",
      "    Negative       0.79      0.78      0.79       554\n",
      "    Positive       0.73      0.78      0.76       510\n",
      "Unsupervised       0.70      0.65      0.67       439\n",
      "\n",
      "    accuracy                           0.74      1503\n",
      "   macro avg       0.74      0.74      0.74      1503\n",
      "weighted avg       0.74      0.74      0.74      1503\n",
      "\n",
      "\n",
      "=== 이진 분류 결과 (unsupervised 제외) ===\n",
      "              precision    recall  f1-score   support\n",
      "\n",
      "    Negative       0.90      0.78      0.84       554\n",
      "    Positive       0.87      0.78      0.83       510\n",
      "\n",
      "   micro avg       0.89      0.78      0.83      1064\n",
      "   macro avg       0.88      0.78      0.83      1064\n",
      "weighted avg       0.89      0.78      0.83      1064\n",
      "\n",
      "영어 모델 - 이진 분류 테스트 정확도: 0.7829\n"
     ]
    }
   ],
   "source": [
    "# 영어 텍스트 벡터화\n",
    "print(\"=== 영어 텍스트 벡터화 ===\")\n",
    "\n",
    "# CountVectorizer로 영어 텍스트 벡터화\n",
    "vect_en = CountVectorizer(\n",
    "    stop_words='english',  # 영어 불용어 자동 제거\n",
    "    max_features=10000,    # 최대 특성 수 제한\n",
    "    min_df=5,             # 최소 5개 문서에서 등장하는 단어만 사용\n",
    "    max_df=0.7            # 70% 이상 문서에서 등장하는 단어 제외\n",
    ")\n",
    "\n",
    "X_train_en = vect_en.fit_transform(text_train_en)\n",
    "\n",
    "# 벡터화 결과 확인\n",
    "feature_names_en = vect_en.get_feature_names_out()\n",
    "print(f\"영어 특성(단어) 개수: {len(feature_names_en)}\")\n",
    "print(f\"벡터화된 데이터 크기: {X_train_en.shape}\")\n",
    "print(f\"주요 특성 20개: {feature_names_en[:20]}\")\n",
    "\n",
    "# 데이터 분할\n",
    "X_train_en_split, X_test_en_split, y_train_en_split, y_test_en_split = train_test_split(\n",
    "    X_train_en, y_train_en, \n",
    "    test_size=0.2, \n",
    "    random_state=42, \n",
    "    stratify=y_train_en\n",
    ")\n",
    "\n",
    "print(f\"\\n=== 영어 데이터 분할 결과 ===\")\n",
    "print(f\"훈련 데이터: {X_train_en_split.shape[0]}개\")\n",
    "print(f\"테스트 데이터: {X_test_en_split.shape[0]}개\")\n",
    "\n",
    "# 영어 감정 분류 모델 학습\n",
    "print(f\"\\n=== 영어 모델 학습 ===\")\n",
    "model_en = LogisticRegression(random_state=42, max_iter=1000)\n",
    "model_en.fit(X_train_en_split, y_train_en_split)\n",
    "\n",
    "# 영어 모델 성능 평가\n",
    "train_accuracy_en = model_en.score(X_train_en_split, y_train_en_split)\n",
    "test_accuracy_en = model_en.score(X_test_en_split, y_test_en_split)\n",
    "\n",
    "print(f\"영어 모델 - 훈련 정확도: {train_accuracy_en:.4f}\")\n",
    "print(f\"영어 모델 - 테스트 정확도: {test_accuracy_en:.4f}\")\n",
    "\n",
    "# 영어 모델 상세 평가\n",
    "y_pred_en = model_en.predict(X_test_en_split)\n",
    "print(f\"\\n=== 영어 모델 상세 평가 ===\")\n",
    "\n",
    "# Check unique classes in the dataset\n",
    "unique_classes = np.unique(y_test_en_split)\n",
    "print(f\"테스트 데이터의 클래스: {unique_classes}\")\n",
    "\n",
    "if len(unique_classes) == 3:\n",
    "    # If we have 3 classes (0: negative, 1: positive, 2: unsupervised)\n",
    "    print(classification_report(\n",
    "        y_test_en_split, y_pred_en, \n",
    "        target_names=['Negative', 'Positive', 'Unsupervised'],\n",
    "        labels=[0, 1, 2]\n",
    "    ))\n",
    "    \n",
    "    # Also provide binary classification results (excluding unsupervised)\n",
    "    binary_mask = y_test_en_split != 2\n",
    "    y_test_en_binary = y_test_en_split[binary_mask]\n",
    "    y_pred_en_binary = y_pred_en[binary_mask]\n",
    "    \n",
    "    if len(y_test_en_binary) > 0:\n",
    "        print(f\"\\n=== 이진 분류 결과 (unsupervised 제외) ===\")\n",
    "        print(classification_report(\n",
    "            y_test_en_binary, y_pred_en_binary, \n",
    "            target_names=['Negative', 'Positive'],\n",
    "            labels=[0, 1]\n",
    "        ))\n",
    "        # Recalculate accuracy for binary classification\n",
    "        test_accuracy_en_binary = (y_test_en_binary == y_pred_en_binary).mean()\n",
    "        print(f\"영어 모델 - 이진 분류 테스트 정확도: {test_accuracy_en_binary:.4f}\")\n",
    "        # Update the global test_accuracy_en for binary classification\n",
    "        test_accuracy_en = test_accuracy_en_binary\n",
    "    else:\n",
    "        print(\"No binary classification samples found in test set.\")\n",
    "        \n",
    "elif len(unique_classes) == 2:\n",
    "    # If we have 2 classes (binary classification)\n",
    "    print(classification_report(y_test_en_split, y_pred_en, target_names=['Negative', 'Positive']))\n",
    "else:\n",
    "    # Handle other cases\n",
    "    print(f\"Unexpected number of classes: {len(unique_classes)}\")\n",
    "    print(classification_report(y_test_en_split, y_pred_en))"
   ]
  },
  {
   "cell_type": "markdown",
   "metadata": {},
   "source": [
    "## 5. 인터랙티브 시각화 (Plotly)\n",
    "\n",
    "### 5.1 모델 성능 비교 시각화"
   ]
  },
  {
   "cell_type": "code",
   "execution_count": 14,
   "metadata": {},
   "outputs": [
    {
     "name": "stdout",
     "output_type": "stream",
     "text": [
      "=== 모델 성능 비교 차트 생성 ===\n",
      "차트가 C:/Users/ryan9/문서/GitHub/SeSac-AI-Developer-Notes-2025/07_Machine_Deep_Learning/data/model_comparison.html에 저장되었습니다.\n"
     ]
    },
    {
     "data": {
      "application/vnd.plotly.v1+json": {
       "config": {
        "plotlyServerURL": "https://plot.ly"
       },
       "data": [
        {
         "marker": {
          "color": [
           "lightcoral",
           "lightblue"
          ]
         },
         "name": "정확도",
         "text": [
          "0.799",
          "0.783"
         ],
         "textposition": "auto",
         "type": "bar",
         "x": [
          "한글 감정분석",
          "영어 감정분석"
         ],
         "y": [
          0.7993788819875777,
          0.7828947368421053
         ]
        }
       ],
       "layout": {
        "font": {
         "size": 12
        },
        "showlegend": false,
        "template": {
         "data": {
          "bar": [
           {
            "error_x": {
             "color": "#2a3f5f"
            },
            "error_y": {
             "color": "#2a3f5f"
            },
            "marker": {
             "line": {
              "color": "#E5ECF6",
              "width": 0.5
             },
             "pattern": {
              "fillmode": "overlay",
              "size": 10,
              "solidity": 0.2
             }
            },
            "type": "bar"
           }
          ],
          "barpolar": [
           {
            "marker": {
             "line": {
              "color": "#E5ECF6",
              "width": 0.5
             },
             "pattern": {
              "fillmode": "overlay",
              "size": 10,
              "solidity": 0.2
             }
            },
            "type": "barpolar"
           }
          ],
          "carpet": [
           {
            "aaxis": {
             "endlinecolor": "#2a3f5f",
             "gridcolor": "white",
             "linecolor": "white",
             "minorgridcolor": "white",
             "startlinecolor": "#2a3f5f"
            },
            "baxis": {
             "endlinecolor": "#2a3f5f",
             "gridcolor": "white",
             "linecolor": "white",
             "minorgridcolor": "white",
             "startlinecolor": "#2a3f5f"
            },
            "type": "carpet"
           }
          ],
          "choropleth": [
           {
            "colorbar": {
             "outlinewidth": 0,
             "ticks": ""
            },
            "type": "choropleth"
           }
          ],
          "contour": [
           {
            "colorbar": {
             "outlinewidth": 0,
             "ticks": ""
            },
            "colorscale": [
             [
              0,
              "#0d0887"
             ],
             [
              0.1111111111111111,
              "#46039f"
             ],
             [
              0.2222222222222222,
              "#7201a8"
             ],
             [
              0.3333333333333333,
              "#9c179e"
             ],
             [
              0.4444444444444444,
              "#bd3786"
             ],
             [
              0.5555555555555556,
              "#d8576b"
             ],
             [
              0.6666666666666666,
              "#ed7953"
             ],
             [
              0.7777777777777778,
              "#fb9f3a"
             ],
             [
              0.8888888888888888,
              "#fdca26"
             ],
             [
              1,
              "#f0f921"
             ]
            ],
            "type": "contour"
           }
          ],
          "contourcarpet": [
           {
            "colorbar": {
             "outlinewidth": 0,
             "ticks": ""
            },
            "type": "contourcarpet"
           }
          ],
          "heatmap": [
           {
            "colorbar": {
             "outlinewidth": 0,
             "ticks": ""
            },
            "colorscale": [
             [
              0,
              "#0d0887"
             ],
             [
              0.1111111111111111,
              "#46039f"
             ],
             [
              0.2222222222222222,
              "#7201a8"
             ],
             [
              0.3333333333333333,
              "#9c179e"
             ],
             [
              0.4444444444444444,
              "#bd3786"
             ],
             [
              0.5555555555555556,
              "#d8576b"
             ],
             [
              0.6666666666666666,
              "#ed7953"
             ],
             [
              0.7777777777777778,
              "#fb9f3a"
             ],
             [
              0.8888888888888888,
              "#fdca26"
             ],
             [
              1,
              "#f0f921"
             ]
            ],
            "type": "heatmap"
           }
          ],
          "histogram": [
           {
            "marker": {
             "pattern": {
              "fillmode": "overlay",
              "size": 10,
              "solidity": 0.2
             }
            },
            "type": "histogram"
           }
          ],
          "histogram2d": [
           {
            "colorbar": {
             "outlinewidth": 0,
             "ticks": ""
            },
            "colorscale": [
             [
              0,
              "#0d0887"
             ],
             [
              0.1111111111111111,
              "#46039f"
             ],
             [
              0.2222222222222222,
              "#7201a8"
             ],
             [
              0.3333333333333333,
              "#9c179e"
             ],
             [
              0.4444444444444444,
              "#bd3786"
             ],
             [
              0.5555555555555556,
              "#d8576b"
             ],
             [
              0.6666666666666666,
              "#ed7953"
             ],
             [
              0.7777777777777778,
              "#fb9f3a"
             ],
             [
              0.8888888888888888,
              "#fdca26"
             ],
             [
              1,
              "#f0f921"
             ]
            ],
            "type": "histogram2d"
           }
          ],
          "histogram2dcontour": [
           {
            "colorbar": {
             "outlinewidth": 0,
             "ticks": ""
            },
            "colorscale": [
             [
              0,
              "#0d0887"
             ],
             [
              0.1111111111111111,
              "#46039f"
             ],
             [
              0.2222222222222222,
              "#7201a8"
             ],
             [
              0.3333333333333333,
              "#9c179e"
             ],
             [
              0.4444444444444444,
              "#bd3786"
             ],
             [
              0.5555555555555556,
              "#d8576b"
             ],
             [
              0.6666666666666666,
              "#ed7953"
             ],
             [
              0.7777777777777778,
              "#fb9f3a"
             ],
             [
              0.8888888888888888,
              "#fdca26"
             ],
             [
              1,
              "#f0f921"
             ]
            ],
            "type": "histogram2dcontour"
           }
          ],
          "mesh3d": [
           {
            "colorbar": {
             "outlinewidth": 0,
             "ticks": ""
            },
            "type": "mesh3d"
           }
          ],
          "parcoords": [
           {
            "line": {
             "colorbar": {
              "outlinewidth": 0,
              "ticks": ""
             }
            },
            "type": "parcoords"
           }
          ],
          "pie": [
           {
            "automargin": true,
            "type": "pie"
           }
          ],
          "scatter": [
           {
            "fillpattern": {
             "fillmode": "overlay",
             "size": 10,
             "solidity": 0.2
            },
            "type": "scatter"
           }
          ],
          "scatter3d": [
           {
            "line": {
             "colorbar": {
              "outlinewidth": 0,
              "ticks": ""
             }
            },
            "marker": {
             "colorbar": {
              "outlinewidth": 0,
              "ticks": ""
             }
            },
            "type": "scatter3d"
           }
          ],
          "scattercarpet": [
           {
            "marker": {
             "colorbar": {
              "outlinewidth": 0,
              "ticks": ""
             }
            },
            "type": "scattercarpet"
           }
          ],
          "scattergeo": [
           {
            "marker": {
             "colorbar": {
              "outlinewidth": 0,
              "ticks": ""
             }
            },
            "type": "scattergeo"
           }
          ],
          "scattergl": [
           {
            "marker": {
             "colorbar": {
              "outlinewidth": 0,
              "ticks": ""
             }
            },
            "type": "scattergl"
           }
          ],
          "scattermap": [
           {
            "marker": {
             "colorbar": {
              "outlinewidth": 0,
              "ticks": ""
             }
            },
            "type": "scattermap"
           }
          ],
          "scattermapbox": [
           {
            "marker": {
             "colorbar": {
              "outlinewidth": 0,
              "ticks": ""
             }
            },
            "type": "scattermapbox"
           }
          ],
          "scatterpolar": [
           {
            "marker": {
             "colorbar": {
              "outlinewidth": 0,
              "ticks": ""
             }
            },
            "type": "scatterpolar"
           }
          ],
          "scatterpolargl": [
           {
            "marker": {
             "colorbar": {
              "outlinewidth": 0,
              "ticks": ""
             }
            },
            "type": "scatterpolargl"
           }
          ],
          "scatterternary": [
           {
            "marker": {
             "colorbar": {
              "outlinewidth": 0,
              "ticks": ""
             }
            },
            "type": "scatterternary"
           }
          ],
          "surface": [
           {
            "colorbar": {
             "outlinewidth": 0,
             "ticks": ""
            },
            "colorscale": [
             [
              0,
              "#0d0887"
             ],
             [
              0.1111111111111111,
              "#46039f"
             ],
             [
              0.2222222222222222,
              "#7201a8"
             ],
             [
              0.3333333333333333,
              "#9c179e"
             ],
             [
              0.4444444444444444,
              "#bd3786"
             ],
             [
              0.5555555555555556,
              "#d8576b"
             ],
             [
              0.6666666666666666,
              "#ed7953"
             ],
             [
              0.7777777777777778,
              "#fb9f3a"
             ],
             [
              0.8888888888888888,
              "#fdca26"
             ],
             [
              1,
              "#f0f921"
             ]
            ],
            "type": "surface"
           }
          ],
          "table": [
           {
            "cells": {
             "fill": {
              "color": "#EBF0F8"
             },
             "line": {
              "color": "white"
             }
            },
            "header": {
             "fill": {
              "color": "#C8D4E3"
             },
             "line": {
              "color": "white"
             }
            },
            "type": "table"
           }
          ]
         },
         "layout": {
          "annotationdefaults": {
           "arrowcolor": "#2a3f5f",
           "arrowhead": 0,
           "arrowwidth": 1
          },
          "autotypenumbers": "strict",
          "coloraxis": {
           "colorbar": {
            "outlinewidth": 0,
            "ticks": ""
           }
          },
          "colorscale": {
           "diverging": [
            [
             0,
             "#8e0152"
            ],
            [
             0.1,
             "#c51b7d"
            ],
            [
             0.2,
             "#de77ae"
            ],
            [
             0.3,
             "#f1b6da"
            ],
            [
             0.4,
             "#fde0ef"
            ],
            [
             0.5,
             "#f7f7f7"
            ],
            [
             0.6,
             "#e6f5d0"
            ],
            [
             0.7,
             "#b8e186"
            ],
            [
             0.8,
             "#7fbc41"
            ],
            [
             0.9,
             "#4d9221"
            ],
            [
             1,
             "#276419"
            ]
           ],
           "sequential": [
            [
             0,
             "#0d0887"
            ],
            [
             0.1111111111111111,
             "#46039f"
            ],
            [
             0.2222222222222222,
             "#7201a8"
            ],
            [
             0.3333333333333333,
             "#9c179e"
            ],
            [
             0.4444444444444444,
             "#bd3786"
            ],
            [
             0.5555555555555556,
             "#d8576b"
            ],
            [
             0.6666666666666666,
             "#ed7953"
            ],
            [
             0.7777777777777778,
             "#fb9f3a"
            ],
            [
             0.8888888888888888,
             "#fdca26"
            ],
            [
             1,
             "#f0f921"
            ]
           ],
           "sequentialminus": [
            [
             0,
             "#0d0887"
            ],
            [
             0.1111111111111111,
             "#46039f"
            ],
            [
             0.2222222222222222,
             "#7201a8"
            ],
            [
             0.3333333333333333,
             "#9c179e"
            ],
            [
             0.4444444444444444,
             "#bd3786"
            ],
            [
             0.5555555555555556,
             "#d8576b"
            ],
            [
             0.6666666666666666,
             "#ed7953"
            ],
            [
             0.7777777777777778,
             "#fb9f3a"
            ],
            [
             0.8888888888888888,
             "#fdca26"
            ],
            [
             1,
             "#f0f921"
            ]
           ]
          },
          "colorway": [
           "#636efa",
           "#EF553B",
           "#00cc96",
           "#ab63fa",
           "#FFA15A",
           "#19d3f3",
           "#FF6692",
           "#B6E880",
           "#FF97FF",
           "#FECB52"
          ],
          "font": {
           "color": "#2a3f5f"
          },
          "geo": {
           "bgcolor": "white",
           "lakecolor": "white",
           "landcolor": "#E5ECF6",
           "showlakes": true,
           "showland": true,
           "subunitcolor": "white"
          },
          "hoverlabel": {
           "align": "left"
          },
          "hovermode": "closest",
          "mapbox": {
           "style": "light"
          },
          "paper_bgcolor": "white",
          "plot_bgcolor": "#E5ECF6",
          "polar": {
           "angularaxis": {
            "gridcolor": "white",
            "linecolor": "white",
            "ticks": ""
           },
           "bgcolor": "#E5ECF6",
           "radialaxis": {
            "gridcolor": "white",
            "linecolor": "white",
            "ticks": ""
           }
          },
          "scene": {
           "xaxis": {
            "backgroundcolor": "#E5ECF6",
            "gridcolor": "white",
            "gridwidth": 2,
            "linecolor": "white",
            "showbackground": true,
            "ticks": "",
            "zerolinecolor": "white"
           },
           "yaxis": {
            "backgroundcolor": "#E5ECF6",
            "gridcolor": "white",
            "gridwidth": 2,
            "linecolor": "white",
            "showbackground": true,
            "ticks": "",
            "zerolinecolor": "white"
           },
           "zaxis": {
            "backgroundcolor": "#E5ECF6",
            "gridcolor": "white",
            "gridwidth": 2,
            "linecolor": "white",
            "showbackground": true,
            "ticks": "",
            "zerolinecolor": "white"
           }
          },
          "shapedefaults": {
           "line": {
            "color": "#2a3f5f"
           }
          },
          "ternary": {
           "aaxis": {
            "gridcolor": "white",
            "linecolor": "white",
            "ticks": ""
           },
           "baxis": {
            "gridcolor": "white",
            "linecolor": "white",
            "ticks": ""
           },
           "bgcolor": "#E5ECF6",
           "caxis": {
            "gridcolor": "white",
            "linecolor": "white",
            "ticks": ""
           }
          },
          "title": {
           "x": 0.05
          },
          "xaxis": {
           "automargin": true,
           "gridcolor": "white",
           "linecolor": "white",
           "ticks": "",
           "title": {
            "standoff": 15
           },
           "zerolinecolor": "white",
           "zerolinewidth": 2
          },
          "yaxis": {
           "automargin": true,
           "gridcolor": "white",
           "linecolor": "white",
           "ticks": "",
           "title": {
            "standoff": 15
           },
           "zerolinecolor": "white",
           "zerolinewidth": 2
          }
         }
        },
        "title": {
         "text": "한글 vs 영어 감정분석 모델 성능 비교",
         "x": 0.5,
         "xanchor": "center"
        },
        "xaxis": {
         "title": {
          "text": "모델 유형"
         }
        },
        "yaxis": {
         "range": [
          0,
          1
         ],
         "title": {
          "text": "정확도"
         }
        }
       }
      }
     },
     "metadata": {},
     "output_type": "display_data"
    },
    {
     "name": "stdout",
     "output_type": "stream",
     "text": [
      "\n",
      "=== 특성 중요도 산포도 생성 ===\n",
      "특성 중요도 차트가 C:/Users/ryan9/문서/GitHub/SeSac-AI-Developer-Notes-2025/07_Machine_Deep_Learning/data/feature_importance.html에 저장되었습니다.\n"
     ]
    },
    {
     "data": {
      "application/vnd.plotly.v1+json": {
       "config": {
        "plotlyServerURL": "https://plot.ly"
       },
       "data": [
        {
         "marker": {
          "color": [
           "red",
           "blue",
           "blue",
           "red",
           "blue",
           "blue",
           "red",
           "blue",
           "red",
           "red"
          ],
          "line": {
           "color": "DarkSlateGrey",
           "width": 1
          },
          "opacity": 0.7,
          "size": [
           30.05634240644763,
           31.709937578773552,
           31.771864291815778,
           32.03039282059861,
           32.472080992226594,
           32.66718251470871,
           33.12927633538617,
           33.26549990655472,
           34.28637016465921,
           40.83946830992747
          ]
         },
         "mode": "markers",
         "name": "특성 중요도",
         "text": [
          "실망하다",
          "슬프다",
          "최고",
          "아깝다",
          "최고다",
          "재밌다",
          "쓰레기",
          "수작",
          "재미없다",
          "최악"
         ],
         "textposition": "middle center",
         "type": "scatter",
         "x": [
          0,
          1,
          2,
          3,
          4,
          5,
          6,
          7,
          8,
          9
         ],
         "y": {
          "bdata": "13T69okLAMAhOq/5MV4BQAcK9bfgagFA3QAiD9OfAcC8vWs9SPoBQHOCui09IgJAGIEANOCAAsCw/tI9xpwCQPKbfD7ZbQPAxrvtUOyrCMA=",
          "dtype": "f8"
         }
        }
       ],
       "layout": {
        "font": {
         "size": 12
        },
        "hovermode": "closest",
        "template": {
         "data": {
          "bar": [
           {
            "error_x": {
             "color": "#2a3f5f"
            },
            "error_y": {
             "color": "#2a3f5f"
            },
            "marker": {
             "line": {
              "color": "#E5ECF6",
              "width": 0.5
             },
             "pattern": {
              "fillmode": "overlay",
              "size": 10,
              "solidity": 0.2
             }
            },
            "type": "bar"
           }
          ],
          "barpolar": [
           {
            "marker": {
             "line": {
              "color": "#E5ECF6",
              "width": 0.5
             },
             "pattern": {
              "fillmode": "overlay",
              "size": 10,
              "solidity": 0.2
             }
            },
            "type": "barpolar"
           }
          ],
          "carpet": [
           {
            "aaxis": {
             "endlinecolor": "#2a3f5f",
             "gridcolor": "white",
             "linecolor": "white",
             "minorgridcolor": "white",
             "startlinecolor": "#2a3f5f"
            },
            "baxis": {
             "endlinecolor": "#2a3f5f",
             "gridcolor": "white",
             "linecolor": "white",
             "minorgridcolor": "white",
             "startlinecolor": "#2a3f5f"
            },
            "type": "carpet"
           }
          ],
          "choropleth": [
           {
            "colorbar": {
             "outlinewidth": 0,
             "ticks": ""
            },
            "type": "choropleth"
           }
          ],
          "contour": [
           {
            "colorbar": {
             "outlinewidth": 0,
             "ticks": ""
            },
            "colorscale": [
             [
              0,
              "#0d0887"
             ],
             [
              0.1111111111111111,
              "#46039f"
             ],
             [
              0.2222222222222222,
              "#7201a8"
             ],
             [
              0.3333333333333333,
              "#9c179e"
             ],
             [
              0.4444444444444444,
              "#bd3786"
             ],
             [
              0.5555555555555556,
              "#d8576b"
             ],
             [
              0.6666666666666666,
              "#ed7953"
             ],
             [
              0.7777777777777778,
              "#fb9f3a"
             ],
             [
              0.8888888888888888,
              "#fdca26"
             ],
             [
              1,
              "#f0f921"
             ]
            ],
            "type": "contour"
           }
          ],
          "contourcarpet": [
           {
            "colorbar": {
             "outlinewidth": 0,
             "ticks": ""
            },
            "type": "contourcarpet"
           }
          ],
          "heatmap": [
           {
            "colorbar": {
             "outlinewidth": 0,
             "ticks": ""
            },
            "colorscale": [
             [
              0,
              "#0d0887"
             ],
             [
              0.1111111111111111,
              "#46039f"
             ],
             [
              0.2222222222222222,
              "#7201a8"
             ],
             [
              0.3333333333333333,
              "#9c179e"
             ],
             [
              0.4444444444444444,
              "#bd3786"
             ],
             [
              0.5555555555555556,
              "#d8576b"
             ],
             [
              0.6666666666666666,
              "#ed7953"
             ],
             [
              0.7777777777777778,
              "#fb9f3a"
             ],
             [
              0.8888888888888888,
              "#fdca26"
             ],
             [
              1,
              "#f0f921"
             ]
            ],
            "type": "heatmap"
           }
          ],
          "histogram": [
           {
            "marker": {
             "pattern": {
              "fillmode": "overlay",
              "size": 10,
              "solidity": 0.2
             }
            },
            "type": "histogram"
           }
          ],
          "histogram2d": [
           {
            "colorbar": {
             "outlinewidth": 0,
             "ticks": ""
            },
            "colorscale": [
             [
              0,
              "#0d0887"
             ],
             [
              0.1111111111111111,
              "#46039f"
             ],
             [
              0.2222222222222222,
              "#7201a8"
             ],
             [
              0.3333333333333333,
              "#9c179e"
             ],
             [
              0.4444444444444444,
              "#bd3786"
             ],
             [
              0.5555555555555556,
              "#d8576b"
             ],
             [
              0.6666666666666666,
              "#ed7953"
             ],
             [
              0.7777777777777778,
              "#fb9f3a"
             ],
             [
              0.8888888888888888,
              "#fdca26"
             ],
             [
              1,
              "#f0f921"
             ]
            ],
            "type": "histogram2d"
           }
          ],
          "histogram2dcontour": [
           {
            "colorbar": {
             "outlinewidth": 0,
             "ticks": ""
            },
            "colorscale": [
             [
              0,
              "#0d0887"
             ],
             [
              0.1111111111111111,
              "#46039f"
             ],
             [
              0.2222222222222222,
              "#7201a8"
             ],
             [
              0.3333333333333333,
              "#9c179e"
             ],
             [
              0.4444444444444444,
              "#bd3786"
             ],
             [
              0.5555555555555556,
              "#d8576b"
             ],
             [
              0.6666666666666666,
              "#ed7953"
             ],
             [
              0.7777777777777778,
              "#fb9f3a"
             ],
             [
              0.8888888888888888,
              "#fdca26"
             ],
             [
              1,
              "#f0f921"
             ]
            ],
            "type": "histogram2dcontour"
           }
          ],
          "mesh3d": [
           {
            "colorbar": {
             "outlinewidth": 0,
             "ticks": ""
            },
            "type": "mesh3d"
           }
          ],
          "parcoords": [
           {
            "line": {
             "colorbar": {
              "outlinewidth": 0,
              "ticks": ""
             }
            },
            "type": "parcoords"
           }
          ],
          "pie": [
           {
            "automargin": true,
            "type": "pie"
           }
          ],
          "scatter": [
           {
            "fillpattern": {
             "fillmode": "overlay",
             "size": 10,
             "solidity": 0.2
            },
            "type": "scatter"
           }
          ],
          "scatter3d": [
           {
            "line": {
             "colorbar": {
              "outlinewidth": 0,
              "ticks": ""
             }
            },
            "marker": {
             "colorbar": {
              "outlinewidth": 0,
              "ticks": ""
             }
            },
            "type": "scatter3d"
           }
          ],
          "scattercarpet": [
           {
            "marker": {
             "colorbar": {
              "outlinewidth": 0,
              "ticks": ""
             }
            },
            "type": "scattercarpet"
           }
          ],
          "scattergeo": [
           {
            "marker": {
             "colorbar": {
              "outlinewidth": 0,
              "ticks": ""
             }
            },
            "type": "scattergeo"
           }
          ],
          "scattergl": [
           {
            "marker": {
             "colorbar": {
              "outlinewidth": 0,
              "ticks": ""
             }
            },
            "type": "scattergl"
           }
          ],
          "scattermap": [
           {
            "marker": {
             "colorbar": {
              "outlinewidth": 0,
              "ticks": ""
             }
            },
            "type": "scattermap"
           }
          ],
          "scattermapbox": [
           {
            "marker": {
             "colorbar": {
              "outlinewidth": 0,
              "ticks": ""
             }
            },
            "type": "scattermapbox"
           }
          ],
          "scatterpolar": [
           {
            "marker": {
             "colorbar": {
              "outlinewidth": 0,
              "ticks": ""
             }
            },
            "type": "scatterpolar"
           }
          ],
          "scatterpolargl": [
           {
            "marker": {
             "colorbar": {
              "outlinewidth": 0,
              "ticks": ""
             }
            },
            "type": "scatterpolargl"
           }
          ],
          "scatterternary": [
           {
            "marker": {
             "colorbar": {
              "outlinewidth": 0,
              "ticks": ""
             }
            },
            "type": "scatterternary"
           }
          ],
          "surface": [
           {
            "colorbar": {
             "outlinewidth": 0,
             "ticks": ""
            },
            "colorscale": [
             [
              0,
              "#0d0887"
             ],
             [
              0.1111111111111111,
              "#46039f"
             ],
             [
              0.2222222222222222,
              "#7201a8"
             ],
             [
              0.3333333333333333,
              "#9c179e"
             ],
             [
              0.4444444444444444,
              "#bd3786"
             ],
             [
              0.5555555555555556,
              "#d8576b"
             ],
             [
              0.6666666666666666,
              "#ed7953"
             ],
             [
              0.7777777777777778,
              "#fb9f3a"
             ],
             [
              0.8888888888888888,
              "#fdca26"
             ],
             [
              1,
              "#f0f921"
             ]
            ],
            "type": "surface"
           }
          ],
          "table": [
           {
            "cells": {
             "fill": {
              "color": "#EBF0F8"
             },
             "line": {
              "color": "white"
             }
            },
            "header": {
             "fill": {
              "color": "#C8D4E3"
             },
             "line": {
              "color": "white"
             }
            },
            "type": "table"
           }
          ]
         },
         "layout": {
          "annotationdefaults": {
           "arrowcolor": "#2a3f5f",
           "arrowhead": 0,
           "arrowwidth": 1
          },
          "autotypenumbers": "strict",
          "coloraxis": {
           "colorbar": {
            "outlinewidth": 0,
            "ticks": ""
           }
          },
          "colorscale": {
           "diverging": [
            [
             0,
             "#8e0152"
            ],
            [
             0.1,
             "#c51b7d"
            ],
            [
             0.2,
             "#de77ae"
            ],
            [
             0.3,
             "#f1b6da"
            ],
            [
             0.4,
             "#fde0ef"
            ],
            [
             0.5,
             "#f7f7f7"
            ],
            [
             0.6,
             "#e6f5d0"
            ],
            [
             0.7,
             "#b8e186"
            ],
            [
             0.8,
             "#7fbc41"
            ],
            [
             0.9,
             "#4d9221"
            ],
            [
             1,
             "#276419"
            ]
           ],
           "sequential": [
            [
             0,
             "#0d0887"
            ],
            [
             0.1111111111111111,
             "#46039f"
            ],
            [
             0.2222222222222222,
             "#7201a8"
            ],
            [
             0.3333333333333333,
             "#9c179e"
            ],
            [
             0.4444444444444444,
             "#bd3786"
            ],
            [
             0.5555555555555556,
             "#d8576b"
            ],
            [
             0.6666666666666666,
             "#ed7953"
            ],
            [
             0.7777777777777778,
             "#fb9f3a"
            ],
            [
             0.8888888888888888,
             "#fdca26"
            ],
            [
             1,
             "#f0f921"
            ]
           ],
           "sequentialminus": [
            [
             0,
             "#0d0887"
            ],
            [
             0.1111111111111111,
             "#46039f"
            ],
            [
             0.2222222222222222,
             "#7201a8"
            ],
            [
             0.3333333333333333,
             "#9c179e"
            ],
            [
             0.4444444444444444,
             "#bd3786"
            ],
            [
             0.5555555555555556,
             "#d8576b"
            ],
            [
             0.6666666666666666,
             "#ed7953"
            ],
            [
             0.7777777777777778,
             "#fb9f3a"
            ],
            [
             0.8888888888888888,
             "#fdca26"
            ],
            [
             1,
             "#f0f921"
            ]
           ]
          },
          "colorway": [
           "#636efa",
           "#EF553B",
           "#00cc96",
           "#ab63fa",
           "#FFA15A",
           "#19d3f3",
           "#FF6692",
           "#B6E880",
           "#FF97FF",
           "#FECB52"
          ],
          "font": {
           "color": "#2a3f5f"
          },
          "geo": {
           "bgcolor": "white",
           "lakecolor": "white",
           "landcolor": "#E5ECF6",
           "showlakes": true,
           "showland": true,
           "subunitcolor": "white"
          },
          "hoverlabel": {
           "align": "left"
          },
          "hovermode": "closest",
          "mapbox": {
           "style": "light"
          },
          "paper_bgcolor": "white",
          "plot_bgcolor": "#E5ECF6",
          "polar": {
           "angularaxis": {
            "gridcolor": "white",
            "linecolor": "white",
            "ticks": ""
           },
           "bgcolor": "#E5ECF6",
           "radialaxis": {
            "gridcolor": "white",
            "linecolor": "white",
            "ticks": ""
           }
          },
          "scene": {
           "xaxis": {
            "backgroundcolor": "#E5ECF6",
            "gridcolor": "white",
            "gridwidth": 2,
            "linecolor": "white",
            "showbackground": true,
            "ticks": "",
            "zerolinecolor": "white"
           },
           "yaxis": {
            "backgroundcolor": "#E5ECF6",
            "gridcolor": "white",
            "gridwidth": 2,
            "linecolor": "white",
            "showbackground": true,
            "ticks": "",
            "zerolinecolor": "white"
           },
           "zaxis": {
            "backgroundcolor": "#E5ECF6",
            "gridcolor": "white",
            "gridwidth": 2,
            "linecolor": "white",
            "showbackground": true,
            "ticks": "",
            "zerolinecolor": "white"
           }
          },
          "shapedefaults": {
           "line": {
            "color": "#2a3f5f"
           }
          },
          "ternary": {
           "aaxis": {
            "gridcolor": "white",
            "linecolor": "white",
            "ticks": ""
           },
           "baxis": {
            "gridcolor": "white",
            "linecolor": "white",
            "ticks": ""
           },
           "bgcolor": "#E5ECF6",
           "caxis": {
            "gridcolor": "white",
            "linecolor": "white",
            "ticks": ""
           }
          },
          "title": {
           "x": 0.05
          },
          "xaxis": {
           "automargin": true,
           "gridcolor": "white",
           "linecolor": "white",
           "ticks": "",
           "title": {
            "standoff": 15
           },
           "zerolinecolor": "white",
           "zerolinewidth": 2
          },
          "yaxis": {
           "automargin": true,
           "gridcolor": "white",
           "linecolor": "white",
           "ticks": "",
           "title": {
            "standoff": 15
           },
           "zerolinecolor": "white",
           "zerolinewidth": 2
          }
         }
        },
        "title": {
         "text": "한글 감정분석 모델 - 주요 특성 중요도",
         "x": 0.5,
         "xanchor": "center"
        },
        "xaxis": {
         "title": {
          "text": "특성 순서"
         }
        },
        "yaxis": {
         "title": {
          "text": "회귀 계수"
         }
        }
       }
      }
     },
     "metadata": {},
     "output_type": "display_data"
    }
   ],
   "source": [
    "# Plotly를 이용한 인터랙티브 시각화\n",
    "\n",
    "def create_performance_comparison():\n",
    "    \"\"\"모델 성능 비교 차트 생성\"\"\"\n",
    "    print(\"=== 모델 성능 비교 차트 생성 ===\")\n",
    "    \n",
    "    # 성능 데이터 준비 (실제 실행 후 값들로 대체)\n",
    "    try:\n",
    "        korean_acc = test_accuracy if 'test_accuracy' in globals() else 0.85\n",
    "        english_acc = test_accuracy_en if 'test_accuracy_en' in globals() else 0.88\n",
    "    except:\n",
    "        korean_acc, english_acc = 0.85, 0.88  # 예시 값\n",
    "    \n",
    "    models = ['한글 감정분석', '영어 감정분석']\n",
    "    accuracies = [korean_acc, english_acc]\n",
    "    colors = ['lightcoral', 'lightblue']\n",
    "    \n",
    "    # 막대 차트 생성\n",
    "    fig = go.Figure(data=[\n",
    "        go.Bar(\n",
    "            x=models,\n",
    "            y=accuracies,\n",
    "            marker_color=colors,\n",
    "            text=[f'{acc:.3f}' for acc in accuracies],\n",
    "            textposition='auto',\n",
    "            name='정확도'\n",
    "        )\n",
    "    ])\n",
    "    \n",
    "    fig.update_layout(\n",
    "        title={\n",
    "            'text': '한글 vs 영어 감정분석 모델 성능 비교',\n",
    "            'x': 0.5,\n",
    "            'xanchor': 'center'\n",
    "        },\n",
    "        xaxis_title='모델 유형',\n",
    "        yaxis_title='정확도',\n",
    "        yaxis=dict(range=[0, 1]),\n",
    "        font=dict(size=12),\n",
    "        showlegend=False\n",
    "    )\n",
    "    \n",
    "    # HTML 파일로 저장\n",
    "    output_path = \"C:/Users/ryan9/문서/GitHub/SeSac-AI-Developer-Notes-2025/07_Machine_Deep_Learning/data/model_comparison.html\"\n",
    "    fig.write_html(output_path)\n",
    "    print(f\"차트가 {output_path}에 저장되었습니다.\")\n",
    "    \n",
    "    # 노트북에서 표시\n",
    "    fig.show()\n",
    "\n",
    "def create_feature_importance_scatter():\n",
    "    \"\"\"특성 중요도 산포도 생성\"\"\"\n",
    "    print(\"\\n=== 특성 중요도 산포도 생성 ===\")\n",
    "    \n",
    "    try:\n",
    "        # 한글 모델의 특성 중요도 (상위 10개)\n",
    "        if 'model' in globals() and 'feature_names' in globals():\n",
    "            coef = model.coef_[0]\n",
    "            top_indices = np.argsort(np.abs(coef))[-10:]\n",
    "            top_features = [feature_names[i] for i in top_indices]\n",
    "            top_coefs = coef[top_indices]\n",
    "        else:\n",
    "            # 예시 데이터\n",
    "            top_features = ['좋다', '나쁘다', '최고', '별로', '재미있다', '지루하다', '감동', '실망', '추천', '비추']\n",
    "            top_coefs = np.random.randn(10) * 2\n",
    "    except:\n",
    "        top_features = ['좋다', '나쁘다', '최고', '별로', '재미있다', '지루하다', '감동', '실망', '추천', '비추']\n",
    "        top_coefs = np.random.randn(10) * 2\n",
    "    \n",
    "    # 색상 결정 (양수: 긍정, 음수: 부정)\n",
    "    colors = ['red' if coef < 0 else 'blue' for coef in top_coefs]\n",
    "    \n",
    "    fig = go.Figure(data=go.Scatter(\n",
    "        x=list(range(len(top_features))),\n",
    "        y=top_coefs,\n",
    "        mode='markers',\n",
    "        marker=dict(\n",
    "            size=[abs(coef) * 10 + 10 for coef in top_coefs],\n",
    "            color=colors,\n",
    "            opacity=0.7,\n",
    "            line=dict(width=1, color='DarkSlateGrey')\n",
    "        ),\n",
    "        text=top_features,\n",
    "        textposition=\"middle center\",\n",
    "        name=\"특성 중요도\"\n",
    "    ))\n",
    "    \n",
    "    fig.update_layout(\n",
    "        title={\n",
    "            'text': '한글 감정분석 모델 - 주요 특성 중요도',\n",
    "            'x': 0.5,\n",
    "            'xanchor': 'center'\n",
    "        },\n",
    "        xaxis_title='특성 순서',\n",
    "        yaxis_title='회귀 계수',\n",
    "        hovermode='closest',\n",
    "        font=dict(size=12)\n",
    "    )\n",
    "    \n",
    "    # HTML 파일로 저장\n",
    "    output_path = \"C:/Users/ryan9/문서/GitHub/SeSac-AI-Developer-Notes-2025/07_Machine_Deep_Learning/data/feature_importance.html\"\n",
    "    fig.write_html(output_path)\n",
    "    print(f\"특성 중요도 차트가 {output_path}에 저장되었습니다.\")\n",
    "    \n",
    "    fig.show()\n",
    "\n",
    "# 시각화 함수 실행\n",
    "if __name__ == \"__main__\":\n",
    "    create_performance_comparison()\n",
    "    create_feature_importance_scatter()"
   ]
  },
  {
   "cell_type": "markdown",
   "metadata": {},
   "source": [
    "## 6. 결론 및 비교 분석\n",
    "\n",
    "### 6.1 한글 vs 영어 텍스트 분석 비교\n",
    "\n",
    "| 구분 | 한글 (네이버 영화) | 영어 (IMDB) |\n",
    "|------|-------------------|-------------|\n",
    "| **전처리 복잡도** | 높음 (형태소 분석 필요) | 낮음 (공백 기준 분리) |\n",
    "| **토크나이저** | KoNLPy Okt | 기본 CountVectorizer |\n",
    "| **주요 도전과제** | 교착어 특성, 불용어 처리 | HTML 태그 제거 |\n",
    "| **벡터화 방법** | CountVectorizer + 커스텀 토크나이저 | CountVectorizer + 영어 불용어 |\n",
    "\n",
    "### 6.2 학습한 주요 개념\n",
    "1. **텍스트 전처리**: 정규식, 형태소 분석, 불용어 제거\n",
    "2. **벡터화 기법**: CountVectorizer, TF-IDF\n",
    "3. **모델링**: 로지스틱 회귀를 이용한 이진 분류\n",
    "4. **평가**: 정확도, 정밀도, 재현율, F1-score\n",
    "5. **시각화**: Plotly를 이용한 인터랙티브 차트\n",
    "\n",
    "### 6.3 실무 적용 시 고려사항\n",
    "- **데이터 품질**: 노이즈 제거, 일관성 있는 전처리\n",
    "- **특성 선택**: 최적의 max_features, min_df, max_df 설정\n",
    "- **모델 개선**: 앙상블 방법, 딥러닝 모델 고려\n",
    "- **실시간 처리**: 토크나이저 최적화, 모델 경량화\n",
    "\n",
    "### 6.4 다음 단계\n",
    "- 다른 알고리즘 비교 (SVM, Random Forest, BERT)\n",
    "- 교차 검증을 통한 robust한 성능 평가\n",
    "- 하이퍼파라미터 튜닝\n",
    "- 실제 서비스 배포를 위한 API 구축"
   ]
  },
  {
   "cell_type": "code",
   "execution_count": 15,
   "metadata": {},
   "outputs": [
    {
     "name": "stdout",
     "output_type": "stream",
     "text": [
      "============================================================\n",
      "           자연어 처리 및 텍스트 분석 실습 완료\n",
      "============================================================\n",
      "\n",
      "📊 모델 성능 비교 요약\n",
      "     모델       데이터셋          전처리                     벡터화 테스트 정확도\n",
      "한글 감정분석  네이버 영화 리뷰 KoNLPy + 정규식   CountVectorizer + 커스텀  0.7994\n",
      "영어 감정분석 IMDB 영화 리뷰   HTML 태그 제거 CountVectorizer + 영어불용어  0.7829\n",
      "\n",
      "🎯 주요 성과\n",
      "✅ 한글과 영어 텍스트 분석 방법론 습득\n",
      "✅ 텍스트 전처리 및 벡터화 기법 이해\n",
      "✅ 감정 분류 모델 구축 및 평가\n",
      "✅ 인터랙티브 시각화를 통한 결과 해석\n",
      "\n",
      "🔧 사용된 주요 기술\n",
      "- 자연어 처리: KoNLPy, 정규식\n",
      "- 머신러닝: scikit-learn, 로지스틱 회귀\n",
      "- 시각화: Plotly, matplotlib\n",
      "- 데이터 처리: pandas, numpy\n",
      "\n",
      "📈 개선 방향\n",
      "- 더 큰 데이터셋으로 실험\n",
      "- BERT 등 사전 훈련된 모델 활용\n",
      "- 다중 클래스 분류로 확장\n",
      "- 실시간 감정 분석 시스템 구축\n",
      "\n",
      "============================================================\n",
      "🎉 실습이 완료되었습니다! 수고하셨습니다!\n",
      "============================================================\n"
     ]
    }
   ],
   "source": [
    "# 전체 실습 요약 및 성능 비교\n",
    "print(\"=\" * 60)\n",
    "print(\"           자연어 처리 및 텍스트 분석 실습 완료\")\n",
    "print(\"=\" * 60)\n",
    "\n",
    "# 성능 비교 요약\n",
    "performance_summary = {\n",
    "    \"모델\": [\"한글 감정분석\", \"영어 감정분석\"],\n",
    "    \"데이터셋\": [\"네이버 영화 리뷰\", \"IMDB 영화 리뷰\"],\n",
    "    \"전처리\": [\"KoNLPy + 정규식\", \"HTML 태그 제거\"],\n",
    "    \"벡터화\": [\"CountVectorizer + 커스텀\", \"CountVectorizer + 영어불용어\"]\n",
    "}\n",
    "\n",
    "try:\n",
    "    if 'test_accuracy' in globals():\n",
    "        performance_summary[\"테스트 정확도\"] = [f\"{test_accuracy:.4f}\", f\"{test_accuracy_en:.4f}\"]\n",
    "    else:\n",
    "        performance_summary[\"테스트 정확도\"] = [\"실행 후 확인\", \"실행 후 확인\"]\n",
    "except:\n",
    "    performance_summary[\"테스트 정확도\"] = [\"실행 후 확인\", \"실행 후 확인\"]\n",
    "\n",
    "# DataFrame으로 정리\n",
    "summary_df = pd.DataFrame(performance_summary)\n",
    "print(\"\\n📊 모델 성능 비교 요약\")\n",
    "print(summary_df.to_string(index=False))\n",
    "\n",
    "print(f\"\\n🎯 주요 성과\")\n",
    "print(\"✅ 한글과 영어 텍스트 분석 방법론 습득\")\n",
    "print(\"✅ 텍스트 전처리 및 벡터화 기법 이해\")\n",
    "print(\"✅ 감정 분류 모델 구축 및 평가\")\n",
    "print(\"✅ 인터랙티브 시각화를 통한 결과 해석\")\n",
    "\n",
    "print(f\"\\n🔧 사용된 주요 기술\")\n",
    "print(\"- 자연어 처리: KoNLPy, 정규식\")\n",
    "print(\"- 머신러닝: scikit-learn, 로지스틱 회귀\")\n",
    "print(\"- 시각화: Plotly, matplotlib\")\n",
    "print(\"- 데이터 처리: pandas, numpy\")\n",
    "\n",
    "print(f\"\\n📈 개선 방향\")\n",
    "print(\"- 더 큰 데이터셋으로 실험\")\n",
    "print(\"- BERT 등 사전 훈련된 모델 활용\")\n",
    "print(\"- 다중 클래스 분류로 확장\")\n",
    "print(\"- 실시간 감정 분석 시스템 구축\")\n",
    "\n",
    "print(f\"\\n\" + \"=\" * 60)\n",
    "print(\"🎉 실습이 완료되었습니다! 수고하셨습니다!\")\n",
    "print(\"=\" * 60)"
   ]
  }
 ],
 "metadata": {
  "kernelspec": {
   "display_name": "sesac_ai",
   "language": "python",
   "name": "python3"
  },
  "language_info": {
   "codemirror_mode": {
    "name": "ipython",
    "version": 3
   },
   "file_extension": ".py",
   "mimetype": "text/x-python",
   "name": "python",
   "nbconvert_exporter": "python",
   "pygments_lexer": "ipython3",
   "version": "3.11.13"
  }
 },
 "nbformat": 4,
 "nbformat_minor": 4
}
