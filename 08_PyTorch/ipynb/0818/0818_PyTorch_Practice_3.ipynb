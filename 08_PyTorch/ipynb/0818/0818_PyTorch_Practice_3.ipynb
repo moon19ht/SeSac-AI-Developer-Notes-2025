{
 "cells": [
  {
   "cell_type": "markdown",
   "metadata": {},
   "source": [
    "# 유방암 분류를 위한 PyTorch 신경망 모델\n",
    "\n",
    "이 노트북은 유방암 데이터셋을 사용하여 이진 분류를 수행하는 PyTorch 신경망 모델을 구현합니다.\n",
    "\n",
    "## 주요 내용\n",
    "1. 데이터 전처리 및 로드\n",
    "2. 신경망 모델 정의\n",
    "3. 모델 훈련\n",
    "4. 모델 평가"
   ]
  },
  {
   "cell_type": "markdown",
   "metadata": {},
   "source": [
    "## 1. 필요한 라이브러리 임포트"
   ]
  },
  {
   "cell_type": "code",
   "execution_count": null,
   "metadata": {},
   "outputs": [],
   "source": [
    "import torch\n",
    "import torch.nn as nn\n",
    "import torch.optim as optim\n",
    "from torch.utils.data import TensorDataset, DataLoader\n",
    "from sklearn.datasets import load_breast_cancer\n",
    "from sklearn.model_selection import train_test_split\n",
    "from sklearn.preprocessing import StandardScaler\n",
    "import numpy as np"
   ]
  },
  {
   "cell_type": "markdown",
   "metadata": {},
   "source": [
    "## 2. 신경망 모델 정의\n",
    "\n",
    "`CancerClassifier` 클래스는 유방암 분류를 위한 신경망 모델을 정의합니다."
   ]
  },
  {
   "cell_type": "code",
   "execution_count": null,
   "metadata": {},
   "outputs": [],
   "source": [
    "class CancerClassifier(nn.Module):\n",
    "    \"\"\"유방암 분류를 위한 신경망 모델\"\"\"\n",
    "    \n",
    "    def __init__(self, input_size=30, hidden_sizes=[64, 32], output_size=1):\n",
    "        \"\"\"\n",
    "        모델 초기화\n",
    "        Args:\n",
    "            input_size (int): 입력 특성 수 (기본값: 30)\n",
    "            hidden_sizes (list): 은닉층 크기 리스트 (기본값: [64, 32])\n",
    "            output_size (int): 출력 크기 (기본값: 1)\n",
    "        \"\"\"\n",
    "        super(CancerClassifier, self).__init__()\n",
    "        \n",
    "        layers = []\n",
    "        prev_size = input_size\n",
    "        \n",
    "        # 은닉층 생성\n",
    "        for hidden_size in hidden_sizes:\n",
    "            layers.append(nn.Linear(prev_size, hidden_size))  # 선형 변환\n",
    "            layers.append(nn.ReLU())  # 활성화 함수\n",
    "            prev_size = hidden_size\n",
    "        \n",
    "        # 출력층 추가\n",
    "        layers.append(nn.Linear(prev_size, output_size))\n",
    "        self.network = nn.Sequential(*layers)\n",
    "    \n",
    "    def forward(self, x):\n",
    "        \"\"\"순전파 함수\"\"\"\n",
    "        return self.network(x)"
   ]
  },
  {
   "cell_type": "markdown",
   "metadata": {},
   "source": [
    "## 3. 데이터 전처리 클래스\n",
    "\n",
    "`CancerDataProcessor` 클래스는 유방암 데이터의 전처리 및 DataLoader 생성을 담당합니다."
   ]
  },
  {
   "cell_type": "code",
   "execution_count": null,
   "metadata": {},
   "outputs": [],
   "source": [
    "class CancerDataProcessor:\n",
    "    \"\"\"유방암 데이터 전처리 및 로더 생성 클래스\"\"\"\n",
    "    \n",
    "    def __init__(self, test_size=0.2, batch_size=32):\n",
    "        \"\"\"\n",
    "        데이터 처리기 초기화\n",
    "        Args:\n",
    "            test_size (float): 테스트 데이터 비율 (기본값: 0.2)\n",
    "            batch_size (int): 배치 크기 (기본값: 32)\n",
    "        \"\"\"\n",
    "        self.test_size = test_size\n",
    "        self.batch_size = batch_size\n",
    "        self.scaler = StandardScaler()  # 데이터 정규화를 위한 스케일러\n",
    "    \n",
    "    def load_and_prepare_data(self):\n",
    "        \"\"\"데이터 로드 및 전처리\"\"\"\n",
    "        # 유방암 데이터셋 로드\n",
    "        cancer = load_breast_cancer()\n",
    "        # 데이터 정규화 (평균 0, 표준편차 1)\n",
    "        X = self.scaler.fit_transform(cancer.data)\n",
    "        y = cancer.target\n",
    "        \n",
    "        # 훈련/테스트 데이터 분할 (계층화 샘플링 사용)\n",
    "        X_train, X_test, y_train, y_test = train_test_split(\n",
    "            X, y, test_size=self.test_size, stratify=y, random_state=42\n",
    "        )\n",
    "        \n",
    "        return self._create_dataloaders(X_train, X_test, y_train, y_test)\n",
    "    \n",
    "    def _create_dataloaders(self, X_train, X_test, y_train, y_test):\n",
    "        \"\"\"PyTorch 텐서로 변환 및 데이터로더 생성\"\"\"\n",
    "        # NumPy 배열을 PyTorch 텐서로 변환\n",
    "        X_train_tensor = torch.tensor(X_train, dtype=torch.float32)\n",
    "        y_train_tensor = torch.tensor(y_train, dtype=torch.float32).view(-1, 1)\n",
    "        X_test_tensor = torch.tensor(X_test, dtype=torch.float32)\n",
    "        y_test_tensor = torch.tensor(y_test, dtype=torch.float32).view(-1, 1)\n",
    "        \n",
    "        # 데이터셋 생성\n",
    "        train_dataset = TensorDataset(X_train_tensor, y_train_tensor)\n",
    "        test_dataset = TensorDataset(X_test_tensor, y_test_tensor)\n",
    "        \n",
    "        # 데이터로더 생성 (배치 단위로 데이터 제공)\n",
    "        train_loader = DataLoader(train_dataset, batch_size=self.batch_size, shuffle=True)\n",
    "        test_loader = DataLoader(test_dataset, batch_size=self.batch_size, shuffle=False)\n",
    "        \n",
    "        return train_loader, test_loader"
   ]
  },
  {
   "cell_type": "markdown",
   "metadata": {},
   "source": [
    "## 4. 모델 훈련 및 평가 클래스\n",
    "\n",
    "`CancerTrainer` 클래스는 모델의 훈련과 평가를 담당합니다."
   ]
  },
  {
   "cell_type": "code",
   "execution_count": null,
   "metadata": {},
   "outputs": [],
   "source": [
    "class CancerTrainer:\n",
    "    \"\"\"모델 훈련 및 평가를 담당하는 클래스\"\"\"\n",
    "    \n",
    "    def __init__(self, model, learning_rate=0.001):\n",
    "        \"\"\"\n",
    "        훈련기 초기화\n",
    "        Args:\n",
    "            model: 훈련할 모델\n",
    "            learning_rate (float): 학습률 (기본값: 0.001)\n",
    "        \"\"\"\n",
    "        self.model = model\n",
    "        self.criterion = nn.BCEWithLogitsLoss()  # 이진 분류용 손실 함수\n",
    "        self.optimizer = optim.Adam(model.parameters(), lr=learning_rate)  # Adam 옵티마이저\n",
    "    \n",
    "    def train(self, train_loader, epochs=100):\n",
    "        \"\"\"\n",
    "        모델 훈련\n",
    "        Args:\n",
    "            train_loader: 훈련 데이터로더\n",
    "            epochs (int): 훈련 에포크 수 (기본값: 100)\n",
    "        \"\"\"\n",
    "        self.model.train()  # 훈련 모드 설정\n",
    "        \n",
    "        for epoch in range(epochs):\n",
    "            total_loss = 0\n",
    "            \n",
    "            # 배치별 훈련\n",
    "            for inputs, labels in train_loader:\n",
    "                self.optimizer.zero_grad()  # 그래디언트 초기화\n",
    "                outputs = self.model(inputs)  # 순전파\n",
    "                loss = self.criterion(outputs, labels)  # 손실 계산\n",
    "                loss.backward()  # 역전파\n",
    "                self.optimizer.step()  # 가중치 업데이트\n",
    "                total_loss += loss.item()\n",
    "            \n",
    "            # 20 에포크마다 손실 출력\n",
    "            if (epoch + 1) % 20 == 0:\n",
    "                avg_loss = total_loss / len(train_loader)\n",
    "                print(f'Epoch {epoch+1}/{epochs}, Average Loss: {avg_loss:.4f}')\n",
    "        \n",
    "        print(\"Training completed!\")\n",
    "    \n",
    "    def evaluate(self, test_loader):\n",
    "        \"\"\"\n",
    "        모델 평가\n",
    "        Args:\n",
    "            test_loader: 테스트 데이터로더\n",
    "        Returns:\n",
    "            float: 정확도\n",
    "        \"\"\"\n",
    "        self.model.eval()  # 평가 모드 설정\n",
    "        correct = 0\n",
    "        total = 0\n",
    "        \n",
    "        # 그래디언트 계산 비활성화 (메모리 절약)\n",
    "        with torch.no_grad():\n",
    "            for inputs, labels in test_loader:\n",
    "                outputs = self.model(inputs)  # 예측\n",
    "                # 시그모이드 함수 적용 후 반올림하여 0 또는 1로 변환\n",
    "                predicted = torch.round(torch.sigmoid(outputs))\n",
    "                total += labels.size(0)\n",
    "                correct += (predicted == labels).sum().item()\n",
    "        \n",
    "        # 정확도 계산 및 출력\n",
    "        accuracy = 100 * correct / total\n",
    "        print(f'Test Accuracy: {accuracy:.2f}%')\n",
    "        return accuracy"
   ]
  },
  {
   "cell_type": "markdown",
   "metadata": {},
   "source": [
    "## 5. 모델 실행\n",
    "\n",
    "이제 정의한 클래스들을 사용하여 유방암 분류 모델을 훈련하고 평가해보겠습니다."
   ]
  },
  {
   "cell_type": "code",
   "execution_count": null,
   "metadata": {},
   "outputs": [],
   "source": [
    "# 데이터 전처리\n",
    "data_processor = CancerDataProcessor(test_size=0.2, batch_size=32)\n",
    "train_loader, test_loader = data_processor.load_and_prepare_data()\n",
    "\n",
    "print(f\"훈련 데이터 배치 수: {len(train_loader)}\")\n",
    "print(f\"테스트 데이터 배치 수: {len(test_loader)}\")"
   ]
  },
  {
   "cell_type": "code",
   "execution_count": null,
   "metadata": {},
   "outputs": [],
   "source": [
    "# 모델 생성\n",
    "model = CancerClassifier(input_size=30, hidden_sizes=[64, 32], output_size=1)\n",
    "print(f\"모델 구조:\\n{model}\")"
   ]
  },
  {
   "cell_type": "code",
   "execution_count": null,
   "metadata": {},
   "outputs": [],
   "source": [
    "# 훈련\n",
    "trainer = CancerTrainer(model, learning_rate=0.001)\n",
    "trainer.train(train_loader, epochs=100)"
   ]
  },
  {
   "cell_type": "code",
   "execution_count": null,
   "metadata": {},
   "outputs": [],
   "source": [
    "# 평가\n",
    "accuracy = trainer.evaluate(test_loader)\n",
    "print(f\"\\n최종 테스트 정확도: {accuracy:.2f}%\")"
   ]
  },
  {
   "cell_type": "markdown",
   "metadata": {},
   "source": [
    "## 6. 결과 분석\n",
    "\n",
    "이 모델은 유방암 데이터셋을 사용하여 이진 분류를 수행합니다. 주요 특징:\n",
    "\n",
    "- **입력**: 30개의 특성 (유방암 데이터셋의 특성 수)\n",
    "- **아키텍처**: 30 → 64 → 32 → 1 (ReLU 활성화 함수 사용)\n",
    "- **손실 함수**: BCEWithLogitsLoss (이진 분류에 적합)\n",
    "- **옵티마이저**: Adam (적응적 학습률)\n",
    "- **데이터 전처리**: StandardScaler로 정규화\n",
    "- **평가 지표**: 정확도 (Accuracy)\n",
    "\n",
    "일반적으로 이 모델은 90% 이상의 높은 정확도를 달성할 수 있습니다."
   ]
  }
 ],
 "metadata": {
  "kernelspec": {
   "display_name": "sesac_ai",
   "language": "python",
   "name": "python3"
  },
  "language_info": {
   "codemirror_mode": {
    "name": "ipython",
    "version": 3
   },
   "file_extension": ".py",
   "mimetype": "text/x-python",
   "name": "python",
   "nbconvert_exporter": "python",
   "pygments_lexer": "ipython3",
   "version": "3.11.13"
  }
 },
 "nbformat": 4,
 "nbformat_minor": 4
}
