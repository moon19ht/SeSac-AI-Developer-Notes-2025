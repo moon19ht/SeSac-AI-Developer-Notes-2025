{
  "cells": [
    {
      "cell_type": "markdown",
      "metadata": {},
      "source": [
        "# 다이아몬드 가격 예측 모델\n",
        "\n",
        "PyTorch를 사용한 다이아몬드 가격 예측 신경망 모델입니다."
      ]
    },
    {
      "cell_type": "code",
      "execution_count": null,
      "metadata": {},
      "outputs": [],
      "source": [
        "# 라이브러리 임포트\n",
        "import torch\n",
        "import torch.nn as nn\n",
        "import torch.optim as optim\n",
        "from torch.utils.data import TensorDataset, DataLoader\n",
        "from sklearn.model_selection import train_test_split\n",
        "from sklearn.preprocessing import StandardScaler\n",
        "import numpy as np\n",
        "import pandas as pd"
      ]
    },
    {
      "cell_type": "markdown",
      "metadata": {},
      "source": [
        "## 신경망 모델 클래스 정의"
      ]
    },
    {
      "cell_type": "code",
      "execution_count": null,
      "metadata": {},
      "outputs": [],
      "source": [
        "class DiamondPricePredictor(nn.Module):\n",
        "    \"\"\"다이아몬드 가격 예측을 위한 신경망 모델\"\"\"\n",
        "    \n",
        "    def __init__(self, input_features):\n",
        "        super(DiamondPricePredictor, self).__init__()\n",
        "        self.fc1 = nn.Linear(input_features, 128)\n",
        "        self.fc2 = nn.Linear(128, 64)\n",
        "        self.fc3 = nn.Linear(64, 32)\n",
        "        self.output = nn.Linear(32, 1)\n",
        "        self.relu = nn.ReLU()\n",
        "        self.dropout = nn.Dropout(0.2)\n",
        "        \n",
        "    def forward(self, x):\n",
        "        x = self.relu(self.fc1(x))\n",
        "        x = self.dropout(x)\n",
        "        x = self.relu(self.fc2(x))\n",
        "        x = self.dropout(x)\n",
        "        x = self.relu(self.fc3(x))\n",
        "        x = self.output(x)\n",
        "        return x"
      ]
    },
    {
      "cell_type": "markdown",
      "metadata": {},
      "source": [
        "## 메인 모델 클래스 정의 - Part 1: 초기화 및 데이터 전처리"
      ]
    },
    {
      "cell_type": "code",
      "execution_count": null,
      "metadata": {},
      "outputs": [],
      "source": [
        "class DiamondPriceModel:\n",
        "    \"\"\"다이아몬드 가격 예측 모델 클래스\"\"\"\n",
        "    \n",
        "    def __init__(self, data_path, test_size=0.2, batch_size=32, learning_rate=0.001):\n",
        "        self.data_path = data_path\n",
        "        self.test_size = test_size\n",
        "        self.batch_size = batch_size\n",
        "        self.learning_rate = learning_rate\n",
        "        self.scaler = StandardScaler()\n",
        "        self.model = None\n",
        "        self.criterion = nn.MSELoss()\n",
        "        self.optimizer = None\n",
        "        \n",
        "    def load_and_preprocess_data(self):\n",
        "        \"\"\"데이터 로드 및 전처리\"\"\"\n",
        "        # 데이터 로드\n",
        "        diamond = pd.read_csv(self.data_path)\n",
        "        print(\"데이터 기본 정보:\")\n",
        "        print(diamond.head())\n",
        "        print(diamond.info())\n",
        "        print(diamond.describe())\n",
        "        \n",
        "        # 특성과 타겟 분리 (price 컬럼 제외한 모든 컬럼을 특성으로 사용)\n",
        "        X = diamond.drop(['price'], axis=1)\n",
        "        y = diamond['price']\n",
        "        \n",
        "        print(f\"\\n원본 특성 수: {X.shape[1]}\")\n",
        "        print(f\"데이터 포인트 수: {X.shape[0]}\")\n",
        "        \n",
        "        # 원핫 인코딩 (범주형 변수 처리)\n",
        "        X = pd.get_dummies(X, drop_first=True)\n",
        "        print(f\"원핫 인코딩 후 특성 수: {X.shape[1]}\")\n",
        "        \n",
        "        # 데이터 표준화\n",
        "        X_scaled = self.scaler.fit_transform(X)\n",
        "        \n",
        "        # 훈련/테스트 데이터 분할\n",
        "        X_train, X_test, y_train, y_test = train_test_split(\n",
        "            X_scaled, y, test_size=self.test_size, random_state=42\n",
        "        )\n",
        "        \n",
        "        # 텐서로 변환\n",
        "        X_train_tensor = torch.tensor(X_train, dtype=torch.float32)\n",
        "        y_train_tensor = torch.tensor(y_train.values, dtype=torch.float32).view(-1, 1)\n",
        "        X_test_tensor = torch.tensor(X_test, dtype=torch.float32)\n",
        "        y_test_tensor = torch.tensor(y_test.values, dtype=torch.float32).view(-1, 1)\n",
        "        \n",
        "        # 데이터로더 생성\n",
        "        train_dataset = TensorDataset(X_train_tensor, y_train_tensor)\n",
        "        test_dataset = TensorDataset(X_test_tensor, y_test_tensor)\n",
        "        \n",
        "        self.train_loader = DataLoader(train_dataset, batch_size=self.batch_size, shuffle=True)\n",
        "        self.test_loader = DataLoader(test_dataset, batch_size=self.batch_size, shuffle=False)\n",
        "        \n",
        "        return X.shape[1]  # 특성 수 반환"
      ]
    },
    {
      "cell_type": "markdown",
      "metadata": {},
      "source": [
        "## 메인 모델 클래스 정의 - Part 2: 모델 생성 및 훈련"
      ]
    },
    {
      "cell_type": "code",
      "execution_count": null,
      "metadata": {},
      "outputs": [],
      "source": [
        "    def build_model(self, input_features):\n",
        "        \"\"\"모델 생성 및 최적화기 설정\"\"\"\n",
        "        self.model = DiamondPricePredictor(input_features)\n",
        "        self.optimizer = optim.Adam(self.model.parameters(), lr=self.learning_rate)\n",
        "        print(f\"모델 생성 완료 - 입력 특성 수: {input_features}\")\n",
        "    \n",
        "    def train(self, epochs=100):\n",
        "        \"\"\"모델 훈련\"\"\"\n",
        "        if self.model is None:\n",
        "            raise ValueError(\"모델이 생성되지 않았습니다. build_model()을 먼저 호출하세요.\")\n",
        "        \n",
        "        print(f\"\\n모델 훈련 시작 - {epochs} 에포크\")\n",
        "        self.model.train()\n",
        "        \n",
        "        for epoch in range(epochs):\n",
        "            epoch_loss = 0.0\n",
        "            num_batches = 0\n",
        "            \n",
        "            for inputs, labels in self.train_loader:\n",
        "                # 그래디언트 초기화\n",
        "                self.optimizer.zero_grad()\n",
        "                \n",
        "                # 순전파\n",
        "                outputs = self.model(inputs)\n",
        "                loss = self.criterion(outputs, labels)\n",
        "                \n",
        "                # 역전파 및 최적화\n",
        "                loss.backward()\n",
        "                self.optimizer.step()\n",
        "                \n",
        "                epoch_loss += loss.item()\n",
        "                num_batches += 1\n",
        "            \n",
        "            avg_loss = epoch_loss / num_batches\n",
        "            if (epoch + 1) % 10 == 0:  # 10 에포크마다 출력\n",
        "                print(f'Epoch {epoch+1}/{epochs}, Average Loss: {avg_loss:.4f}')\n",
        "        \n",
        "        print(\"훈련 완료!\")"
      ]
    },
    {
      "cell_type": "markdown",
      "metadata": {},
      "source": [
        "## 메인 모델 클래스 정의 - Part 3: 평가 및 예측"
      ]
    },
    {
      "cell_type": "code",
      "execution_count": null,
      "metadata": {},
      "outputs": [],
      "source": [
        "    def evaluate(self):\n",
        "        \"\"\"모델 평가\"\"\"\n",
        "        if self.model is None:\n",
        "            raise ValueError(\"모델이 생성되지 않았습니다.\")\n",
        "        \n",
        "        print(\"\\n모델 평가 시작...\")\n",
        "        self.model.eval()\n",
        "        \n",
        "        total_loss = 0.0\n",
        "        total_samples = 0\n",
        "        predictions = []\n",
        "        actuals = []\n",
        "        \n",
        "        with torch.no_grad():\n",
        "            for inputs, labels in self.test_loader:\n",
        "                outputs = self.model(inputs)\n",
        "                loss = self.criterion(outputs, labels)\n",
        "                \n",
        "                total_loss += loss.item() * inputs.size(0)\n",
        "                total_samples += inputs.size(0)\n",
        "                \n",
        "                predictions.extend(outputs.squeeze().tolist())\n",
        "                actuals.extend(labels.squeeze().tolist())\n",
        "        \n",
        "        # 평가 지표 계산\n",
        "        avg_mse = total_loss / total_samples\n",
        "        rmse = np.sqrt(avg_mse)\n",
        "        \n",
        "        # 추가 평가 지표 계산\n",
        "        predictions = np.array(predictions)\n",
        "        actuals = np.array(actuals)\n",
        "        mae = np.mean(np.abs(predictions - actuals))\n",
        "        \n",
        "        print(f\"평가 결과:\")\n",
        "        print(f\"  평균 MSE: {avg_mse:.4f}\")\n",
        "        print(f\"  RMSE: {rmse:.4f}\")\n",
        "        print(f\"  MAE: {mae:.4f}\")\n",
        "        \n",
        "        return avg_mse, rmse, mae\n",
        "    \n",
        "    def predict(self, X_new):\n",
        "        \"\"\"새로운 데이터에 대한 예측\"\"\"\n",
        "        if self.model is None:\n",
        "            raise ValueError(\"모델이 생성되지 않았습니다.\")\n",
        "        \n",
        "        self.model.eval()\n",
        "        X_scaled = self.scaler.transform(X_new)\n",
        "        X_tensor = torch.tensor(X_scaled, dtype=torch.float32)\n",
        "        \n",
        "        with torch.no_grad():\n",
        "            predictions = self.model(X_tensor)\n",
        "        \n",
        "        return predictions.squeeze().numpy()"
      ]
    },
    {
      "cell_type": "markdown",
      "metadata": {},
      "source": [
        "## 모델 인스턴스 생성 및 설정"
      ]
    },
    {
      "cell_type": "code",
      "execution_count": null,
      "metadata": {},
      "outputs": [],
      "source": [
        "# 모델 인스턴스 생성\n",
        "model = DiamondPriceModel(\n",
        "    data_path=\"./data/diamonds.csv\",  # 데이터 파일 경로를 실제 경로로 수정하세요\n",
        "    test_size=0.2,\n",
        "    batch_size=32,\n",
        "    learning_rate=0.001\n",
        ")\n",
        "\n",
        "print(\"모델 인스턴스 생성 완료!\")"
      ]
    },
    {
      "cell_type": "markdown",
      "metadata": {},
      "source": [
        "## 데이터 전처리 실행"
      ]
    },
    {
      "cell_type": "code",
      "execution_count": null,
      "metadata": {},
      "outputs": [],
      "source": [
        "# 데이터 전처리\n",
        "try:\n",
        "    input_features = model.load_and_preprocess_data()\n",
        "    print(f\"\\n데이터 전처리 완료! 특성 수: {input_features}\")\n",
        "except FileNotFoundError:\n",
        "    print(\"데이터 파일을 찾을 수 없습니다. 경로를 확인하세요.\")\n",
        "except Exception as e:\n",
        "    print(f\"데이터 전처리 중 오류 발생: {e}\")"
      ]
    },
    {
      "cell_type": "markdown",
      "metadata": {},
      "source": [
        "## 모델 생성"
      ]
    },
    {
      "cell_type": "code",
      "execution_count": null,
      "metadata": {},
      "outputs": [],
      "source": [
        "# 모델 생성\n",
        "model.build_model(input_features)"
      ]
    },
    {
      "cell_type": "markdown",
      "metadata": {},
      "source": [
        "## 모델 훈련"
      ]
    },
    {
      "cell_type": "code",
      "execution_count": null,
      "metadata": {},
      "outputs": [],
      "source": [
        "# 모델 훈련 (에포크 수를 조정할 수 있습니다)\n",
        "model.train(epochs=100)"
      ]
    },
    {
      "cell_type": "markdown",
      "metadata": {},
      "source": [
        "## 모델 평가"
      ]
    },
    {
      "cell_type": "code",
      "execution_count": null,
      "metadata": {},
      "outputs": [],
      "source": [
        "# 모델 평가\n",
        "mse, rmse, mae = model.evaluate()\n",
        "\n",
        "# 결과 시각화를 위한 추가 분석\n",
        "print(f\"\\n=== 최종 평가 메트릭 ===\")\n",
        "print(f\"Mean Squared Error (MSE): {mse:.2f}\")\n",
        "print(f\"Root Mean Squared Error (RMSE): {rmse:.2f}\")\n",
        "print(f\"Mean Absolute Error (MAE): {mae:.2f}\")"
      ]
    },
    {
      "cell_type": "markdown",
      "metadata": {},
      "source": [
        "## 예측 예제 (선택사항)\n",
        "\n",
        "새로운 데이터에 대한 예측을 위한 예제 코드입니다."
      ]
    },
    {
      "cell_type": "code",
      "execution_count": null,
      "metadata": {},
      "outputs": [],
      "source": [
        "# 새로운 데이터에 대한 예측 예제\n",
        "# 주의: 실제 사용 시에는 원본 데이터와 동일한 형태의 데이터를 준비해야 합니다.\n",
        "# 예시 코드이므로 실제 데이터 구조에 맞게 수정이 필요합니다.\n",
        "\n",
        "print(\"=== 예측 사용법 안내 ===\")\n",
        "print(\"다음과 같은 형태로 새로운 데이터를 준비하여 예측할 수 있습니다:\")\n",
        "print()\n",
        "print(\"예제 코드:\")\n",
        "print(\"new_data = pd.DataFrame({\")\n",
        "print(\"    'carat': [1.0, 2.0],\")\n",
        "print(\"    'cut': ['Premium', 'Ideal'],\")\n",
        "print(\"    'color': ['G', 'H'],\")\n",
        "print(\"    'clarity': ['SI1', 'VS2'],\")\n",
        "print(\"    # ... 기타 필요한 특성들\")\n",
        "print(\"})\")\n",
        "print()\n",
        "print(\"# 원핫 인코딩 적용 (훈련 데이터와 동일하게)\")\n",
        "print(\"new_data_encoded = pd.get_dummies(new_data, drop_first=True)\")\n",
        "print()\n",
        "print(\"# 예측 실행\")\n",
        "print(\"predictions = model.predict(new_data_encoded)\")\n",
        "print(\"print(f'예측된 다이아몬드 가격: {predictions}')\")"
      ]
    }
  ],
  "metadata": {
    "kernelspec": {
      "display_name": "Python 3",
      "language": "python",
      "name": "python3"
    },
    "language_info": {
      "codemirror_mode": {
        "name": "ipython",
        "version": 3
      },
      "file_extension": ".py",
      "mimetype": "text/x-python",
      "name": "python",
      "nbconvert_exporter": "python",
      "pygments_lexer": "ipython3",
      "version": "3.8.5"
    }
  },
  "nbformat": 4,
  "nbformat_minor": 4
}
