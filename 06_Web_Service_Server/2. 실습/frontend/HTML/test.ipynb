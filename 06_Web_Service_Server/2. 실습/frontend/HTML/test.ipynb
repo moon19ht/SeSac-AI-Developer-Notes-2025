{
 "cells": [
  {
   "cell_type": "code",
   "execution_count": null,
   "metadata": {
    "vscode": {
     "languageId": "html"
    }
   },
   "outputs": [
    {
     "ename": "",
     "evalue": "",
     "output_type": "error",
     "traceback": [
      "\u001b[1;31mRunning cells with '.venv (Python 3.10.18)' requires the ipykernel package.\n",
      "\u001b[1;31mRun the following command to install 'ipykernel' into the Python environment. \n",
      "\u001b[1;31mCommand: 'c:/Users/ryan9/문서/GitHub/SeSac-AI-Developer-Notes-2025/.venv/Scripts/python.exe -m pip install ipykernel -U --force-reinstall'"
     ]
    }
   ],
   "source": [
    "<!DOCTYPE html>\n",
    "<html lang=\"en\">\n",
    "<head>\n",
    "    <meta charset=\"UTF-8\">\n",
    "    <meta name=\"viewport\" content=\"width=device-width, initial-scale=1.0\">\n",
    "    <title>Document</title>\n",
    "</head>\n",
    "<body>\n",
    "    <form action=\"\">\n",
    "        <label for=\"cars\">차를 선택하세요</label>\n",
    "        <select name=\"cars\" id=\"cars\">\n",
    "            <option value=\"1\">기아</option>\n",
    "            <option value=\"2\">현대</option>\n",
    "            <option value=\"3\">르노</option>\n",
    "            <option value=\"4\">KGM</option>\n",
    "            <option value=\"5\">BMW</option>\n",
    "        </select>\n",
    "        <br/>\n",
    "        <br/>\n",
    "        \n",
    "        <label for=\"intro\">소개</label>\n",
    "        <textarea name=\"intro\" id=\"intro\" rows=\"10\" cols=\"80\"></textarea>\n",
    "        <br/><br/>\n",
    "        \n",
    "\n",
    "        <label for=\"cars2\">차를 선택하세요</label>\n",
    "        <input list=\"cars2\" name=\"cars2_edit\">\n",
    "        <datalist id=\"cars2\">\n",
    "            <option value=\"기아\">\n",
    "            <option value=\"현대\">\n",
    "            <option value=\"르노\">\n",
    "            <option value=\"KGM\">\n",
    "            <option value=\"BMW\">\n",
    "        </datalist>\n",
    "\n",
    "         <input list=\"cars2\" name=\"cars3_edit\">\n",
    "\n",
    "        <br/>\n",
    "        <br/>\n",
    "\n",
    "        <button>보내기</button>\n",
    "        \n",
    "    </form>\n",
    "</body>\n",
    "</html>"
   ]
  }
 ],
 "metadata": {
  "kernelspec": {
   "display_name": "base",
   "language": "python",
   "name": "python3"
  },
  "language_info": {
   "name": "python",
   "version": "3.12.7"
  }
 },
 "nbformat": 4,
 "nbformat_minor": 2
}
