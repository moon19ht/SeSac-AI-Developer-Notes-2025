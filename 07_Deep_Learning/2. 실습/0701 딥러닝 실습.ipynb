{
 "cells": [
  {
   "cell_type": "code",
   "execution_count": 1,
   "id": "96ed057a",
   "metadata": {},
   "outputs": [],
   "source": [
    "import numpy as np\n",
    "# numpy - NumPy는 파이썬에서 과학 계산을 위한 핵심 패키지로, 다차원 배열 객체와 다양한 수학 함수들을 제공합니다."
   ]
  },
  {
   "cell_type": "code",
   "execution_count": 2,
   "id": "ebf9d423",
   "metadata": {},
   "outputs": [
    {
     "name": "stdout",
     "output_type": "stream",
     "text": [
      "[1, 2, 3, 4, 5, 2, 4, 6, 8, 10]\n"
     ]
    }
   ],
   "source": [
    "a = [1, 2, 3, 4, 5]\n",
    "b = [2, 4, 6, 8, 10]\n",
    "c = a + b\n",
    "\n",
    "print(c)"
   ]
  },
  {
   "cell_type": "code",
   "execution_count": 3,
   "id": "d194d620",
   "metadata": {},
   "outputs": [
    {
     "name": "stdout",
     "output_type": "stream",
     "text": [
      "[1 2 3 4 5] <class 'numpy.ndarray'>\n",
      "[ 3  6  9 12 15]\n"
     ]
    }
   ],
   "source": [
    "# 머신러닝, 딥러닝 둘 다 취습하는 데이터 타입이 ndarray이다.\n",
    "a1 = np.array([1, 2, 3, 4, 5]) # 타입을  List에서 ndarray로 변경 (C언어의 배열, 속도 빠름)\n",
    "print(a1, type(a1))\n",
    "b1 = np.array([2, 4, 6, 8, 10])\n",
    "c1 = a1 + b1\n",
    "print(c1)"
   ]
  },
  {
   "cell_type": "markdown",
   "id": "f48fdd65",
   "metadata": {},
   "source": [
    "**수학의 벡터 연산을 수행한다.**\n",
    "- 스칼라 연산 - 요소 하나씩 연산\n",
    "- 벡터 연산 - 백터끼리 연산(행렬끼리 연산, for X)"
   ]
  },
  {
   "cell_type": "code",
   "execution_count": 5,
   "id": "82e53e1c",
   "metadata": {},
   "outputs": [
    {
     "name": "stdout",
     "output_type": "stream",
     "text": [
      "[ 5  7  9 11 13 15 17 19 21 23]\n"
     ]
    }
   ],
   "source": [
    "x = np.array([1, 2, 3, 4, 5, 6, 7, 8, 9, 10])\n",
    "y = 2*x+3\n",
    "print(y)"
   ]
  },
  {
   "cell_type": "code",
   "execution_count": 6,
   "id": "1ee59142",
   "metadata": {},
   "outputs": [
    {
     "data": {
      "image/png": "[encoded data removed]",
      "text/plain": [
       "<Figure size 640x480 with 1 Axes>"
      ]
     },
     "metadata": {},
     "output_type": "display_data"
    }
   ],
   "source": [
    "import matplotlib.pyplot as plt\n",
    "\n",
    "plt.plot(x, y, marker='o')\n",
    "plt.xlabel('x')\n",
    "plt.ylabel('y')\n",
    "plt.title('y = 2x + 3')\n",
    "plt.grid(True)\n",
    "plt.show()"
   ]
  },
  {
   "cell_type": "code",
   "execution_count": 9,
   "id": "e952bbf8",
   "metadata": {},
   "outputs": [
    {
     "name": "stdout",
     "output_type": "stream",
     "text": [
      "평균 5.5\n",
      "중앙값 5.5\n",
      "최대값 10\n",
      "최소값 1\n",
      "표준편차 2.8722813232690143\n",
      "분산 8.25\n"
     ]
    }
   ],
   "source": [
    "# 기초 통계량 계산\n",
    "\n",
    "print(\"평균\", np.mean(x))\n",
    "print(\"중앙값\", np.median(x))\n",
    "print(\"최대값\", np.max(x))\n",
    "print(\"최소값\", np.min(x))\n",
    "print(\"표준편차\", np.std(x))\n",
    "print(\"분산\", np.var(x))"
   ]
  },
  {
   "cell_type": "markdown",
   "id": "2334db01",
   "metadata": {
    "vscode": {
     "languageId": "ini"
    }
   },
   "source": [
    "\n",
    "---\n",
    "\n",
    "# 행렬(Matrix) 설명\n",
    "\n",
    "행렬은 수학에서 데이터를 구조화하고 연산을 수행하기 위한 중요한 도구입니다. 행렬은 숫자, 기호 또는 표현식으로 구성된 2차원 배열로, 행(row)과 열(column)로 구성됩니다.\n",
    "\n",
    "## 행렬의 주요 연산\n",
    "1. **행렬 덧셈 (Matrix Addition)**  \n",
    "    두 행렬의 같은 위치에 있는 요소를 더합니다.  \n",
    "    예:  \n",
    "    행렬 A:  \n",
    "    ```\n",
    "    [[1, 2],\n",
    "     [3, 4]]\n",
    "    ```\n",
    "    행렬 B:  \n",
    "    ```\n",
    "    [[5, 6],\n",
    "     [7, 8]]\n",
    "    ```\n",
    "    행렬 덧셈 결과 C:  \n",
    "    ```\n",
    "    [[ 6,  8],\n",
    "     [10, 12]]\n",
    "    ```\n",
    "\n",
    "2. **행렬 곱셈 (Matrix Multiplication)**  \n",
    "    두 행렬의 곱은 첫 번째 행렬의 행과 두 번째 행렬의 열 간의 내적(dot product)을 계산하여 얻습니다.  \n",
    "    예:  \n",
    "    행렬 A와 B의 곱 D:  \n",
    "    ```\n",
    "    [[19, 22],\n",
    "     [43, 50]]\n",
    "    ```\n",
    "\n",
    "3. **행렬 전치 (Matrix Transpose)**  \n",
    "    행렬의 행과 열을 바꿉니다.  \n",
    "    예:  \n",
    "    행렬 A의 전치 E:  \n",
    "    ```\n",
    "    [[1, 3],\n",
    "     [2, 4]]\n",
    "    ```\n",
    "\n",
    "4. **역행렬 (Inverse Matrix)**  \n",
    "    행렬의 역행렬은 행렬을 곱했을 때 단위 행렬(identity matrix)이 되는 행렬입니다. 역행렬은 정사각 행렬(square matrix)에서만 존재하며, 행렬식(determinant)이 0이 아니어야 합니다.  \n",
    "    예:  \n",
    "    행렬 A의 역행렬 F:  \n",
    "    ```\n",
    "    [[-2. ,  1. ],\n",
    "     [ 1.5, -0.5]]\n",
    "    ```\n",
    "\n",
    "5. **행렬식 (Determinant)**  \n",
    "    행렬의 행렬식은 행렬의 특성을 나타내는 값으로, 역행렬이 존재하는지 여부를 결정합니다.  \n",
    "    예:  \n",
    "    행렬 A의 행렬식: -2.0\n",
    "\n",
    "6. **고유값과 고유벡터 (Eigenvalues and Eigenvectors)**  \n",
    "    고유값은 행렬의 변환 특성을 나타내며, 고유벡터는 변환 후에도 방향이 변하지 않는 벡터입니다.  \n",
    "    예:  \n",
    "    행렬 A의 고유값:  \n",
    "    ```\n",
    "    [-0.37228132,  5.37228132]\n",
    "    ```\n",
    "    행렬 A의 고유벡터:  \n",
    "    ```\n",
    "    [[-0.82456484, -0.41597356],\n",
    "     [ 0.56576746, -0.90937671]]\n",
    "    ```\n",
    "\n",
    "## 행렬의 활용\n",
    "- 데이터 분석 및 변환\n",
    "- 머신러닝 및 딥러닝 모델의 가중치 계산\n",
    "- 컴퓨터 그래픽스에서의 변환\n",
    "- 물리학 및 공학 문제 해결"
   ]
  },
  {
   "cell_type": "code",
   "execution_count": null,
   "id": "fcab0bda",
   "metadata": {},
   "outputs": [
    {
     "name": "stdout",
     "output_type": "stream",
     "text": [
      "행렬 A:\n",
      " [[1 2]\n",
      " [3 4]]\n",
      "행렬 B:\n",
      " [[5 6]\n",
      " [7 8]]\n",
      "행렬 덧셈 C:\n",
      " [[ 6  8]\n",
      " [10 12]]\n",
      "행렬 곱셈 D:\n",
      " [[19 22]\n",
      " [43 50]]\n",
      "행렬 A의 전치 E:\n",
      " [[1 3]\n",
      " [2 4]]\n",
      "행렬 A의 역행렬 F:\n",
      " [[-2.   1. ]\n",
      " [ 1.5 -0.5]]\n",
      "행렬 A의 행렬식: -2.0000000000000004\n",
      "행렬 A의 고유값: [-0.37228132  5.37228132]\n",
      "행렬 A의 고유벡터:\n",
      " [[-0.82456484 -0.41597356]\n",
      " [ 0.56576746 -0.90937671]]\n"
     ]
    }
   ],
   "source": [
    "import numpy as np\n",
    "\n",
    "# 수학적으로 행렬(matrix) 연산을 수행하는 예시\n",
    "A = np.array([[1, 2], [3, 4]])\n",
    "B = np.array([[5, 6], [7, 8]])\n",
    "\n",
    "# 행렬 덧셈\n",
    "C = A + B\n",
    "\n",
    "# 행렬 곱셈\n",
    "D = np.dot(A, B)\n",
    "\n",
    "# 행렬 전치\n",
    "E = A.T\n",
    "\n",
    "# 행렬의 역행렬\n",
    "try:\n",
    "    F = np.linalg.inv(A)\n",
    "except np.linalg.LinAlgError:\n",
    "    F = \"역행렬이 존재하지 않습니다.\"\n",
    "# 행렬의 행렬식\n",
    "det_A = np.linalg.det(A)\n",
    "\n",
    "# 행렬의 고유값과 고유벡터\n",
    "eigenvalues, eigenvectors = np.linalg.eig(A)\n",
    "\n",
    "# 결과 출력\n",
    "print(\"행렬 A:\\n\", A)\n",
    "print(\"행렬 B:\\n\", B)\n",
    "print(\"행렬 덧셈 C:\\n\", C)\n",
    "print(\"행렬 곱셈 D:\\n\", D)\n",
    "print(\"행렬 A의 전치 E:\\n\", E)\n",
    "print(\"행렬 A의 역행렬 F:\\n\", F)\n",
    "print(\"행렬 A의 행렬식:\", det_A)\n",
    "print(\"행렬 A의 고유값:\", eigenvalues)\n",
    "print(\"행렬 A의 고유벡터:\\n\", eigenvectors)\n",
    "# 행렬 연산을 통해 딥러닝 모델의 가중치 업데이트, 데이터 변환 등을 수행할 수 있습니다."
   ]
  },
  {
   "cell_type": "code",
   "execution_count": 19,
   "id": "5f5bc709",
   "metadata": {},
   "outputs": [
    {
     "name": "stdout",
     "output_type": "stream",
     "text": [
      "Shape: (2, 3)\n",
      "Rows: 2 Columns: 3\n",
      "Data Type: int64\n",
      "Element at (0, 0): 1\n",
      "Element at (0, 1): 2\n",
      "Element at (0, 2): 3\n",
      "\n",
      "Element at (1, 0): 4\n",
      "Element at (1, 1): 5\n",
      "Element at (1, 2): 6\n",
      "\n"
     ]
    }
   ],
   "source": [
    "# shape, dtype, size\n",
    "x = np.array([[1, 2, 3], [4, 5, 6]])\n",
    "print(\"Shape:\", x.shape)  # 배열의 차원\n",
    "row, col = x.shape\n",
    "print(\"Rows:\", row, \"Columns:\", col)  # 행과 열의 개수\n",
    "print(\"Data Type:\", x.dtype)  # 데이터 타입\n",
    "\n",
    "for i in range(row):\n",
    "    for j in range(col):\n",
    "        print(f\"Element at ({i}, {j}):\", x[i, j])  # 각 요소 접근\n",
    "    print()  # 행마다 줄바꿈"
   ]
  },
  {
   "cell_type": "code",
   "execution_count": 22,
   "id": "7c5410e0",
   "metadata": {},
   "outputs": [
    {
     "name": "stdout",
     "output_type": "stream",
     "text": [
      "Range 0 to 10 with step 2: [0 2 4 6 8]\n",
      "Range 5 to 20 with step 3: [ 5  8 11 14 17]\n"
     ]
    }
   ],
   "source": [
    "# range 함수 => arange 함수(시작값, 끝값, 간격)\n",
    "print(\"Range 0 to 10 with step 2:\", np.arange(0, 10, 2))  # 0부터 10까지 2씩 증가\n",
    "print(\"Range 5 to 20 with step 3:\", np.arange(5, 20, 3))  # 5부터 20까지 3씩 증가"
   ]
  },
  {
   "cell_type": "code",
   "execution_count": 29,
   "id": "06fde1b1",
   "metadata": {},
   "outputs": [
    {
     "name": "stdout",
     "output_type": "stream",
     "text": [
      "[100  11]\n",
      "[100  11]\n",
      "\n",
      "[100  11]\n",
      "[-1 11]\n"
     ]
    }
   ],
   "source": [
    "# 복사하기 - 얕은 복사\n",
    "a = np.array([1, 11])\n",
    "b = a  # 얕은 복사\n",
    "a[0] = 100  # b를 수정하면 a도 영향을 받음\n",
    "print(a)  # a도 변경됨\n",
    "print(b)  # b도 변경됨\n",
    "print()\n",
    "\n",
    "c = a.copy()  # 깊은 복사\n",
    "c[0] = -1\n",
    "print(a)  # a는 여전히 [100, 11]\n",
    "print(c)  # c는 [-1, 11]로 변경됨"
   ]
  },
  {
   "cell_type": "code",
   "execution_count": 35,
   "id": "37936c71",
   "metadata": {},
   "outputs": [
    {
     "name": "stdout",
     "output_type": "stream",
     "text": [
      "Zeros array: [0. 0. 0. 0. 0. 0. 0. 0. 0. 0.]\n"
     ]
    }
   ],
   "source": [
    "# 메모리 할당을 해서 요소의 값이 0 또는 1로 채워진 ndarray 생성\n",
    "a = np.zeros(10)  # 10개의 요소를 가지며 모두 0으로 초기화된 배열\n",
    "print(\"Zeros array:\", a)"
   ]
  },
  {
   "cell_type": "code",
   "execution_count": 36,
   "id": "1325e555",
   "metadata": {},
   "outputs": [
    {
     "name": "stdout",
     "output_type": "stream",
     "text": [
      "Zeros array:\n",
      " [[0. 0. 0. 0.]\n",
      " [0. 0. 0. 0.]\n",
      " [0. 0. 0. 0.]]\n"
     ]
    }
   ],
   "source": [
    "b = np.zeros((3,4))  # 3x4 배열을 생성하고 모두 0으로 초기화, 매개변수 tuple 타입\n",
    "print(\"Zeros array:\\n\", b)"
   ]
  },
  {
   "cell_type": "code",
   "execution_count": 38,
   "id": "7f0a8f86",
   "metadata": {},
   "outputs": [
    {
     "name": "stdout",
     "output_type": "stream",
     "text": [
      "Ones array:\n",
      " [[1. 1. 1. 1. 1. 1. 1. 1. 1. 1.]\n",
      " [1. 1. 1. 1. 1. 1. 1. 1. 1. 1.]\n",
      " [1. 1. 1. 1. 1. 1. 1. 1. 1. 1.]]\n"
     ]
    }
   ],
   "source": [
    "c = np.ones((3, 10)) # 3x10 배열을 생성하고 모두 1로 초기화\n",
    "print(\"Ones array:\\n\", c)"
   ]
  },
  {
   "cell_type": "code",
   "execution_count": 72,
   "id": "243b05a8",
   "metadata": {},
   "outputs": [
    {
     "name": "stdout",
     "output_type": "stream",
     "text": [
      "[0.9755889  0.69182922 0.05528253 0.08342506 0.32040291 0.10778157\n",
      " 0.66223359 0.1435364  0.736065   0.57638956]\n",
      "[[0.67189701 0.07974469 0.78083246 0.4854141 ]\n",
      " [0.88402243 0.19825254 0.1045545  0.64481725]\n",
      " [0.28307378 0.79104003 0.03217322 0.91470945]]\n",
      "[[[0.52268369 0.70951658 0.23682447 0.14455224]\n",
      "  [0.27713758 0.21389985 0.16357561 0.48949892]\n",
      "  [0.54285309 0.25196614 0.89494913 0.20385054]]\n",
      "\n",
      " [[0.48513084 0.93295048 0.85848002 0.70707564]\n",
      "  [0.18477272 0.26147818 0.52864392 0.87091423]\n",
      "  [0.98975019 0.09054571 0.16711358 0.49939831]]]\n"
     ]
    }
   ],
   "source": [
    "# 요소가 랜덤인 배열 또는 행렬 생성\n",
    "# 평균 0 분산 1인 가우스 분포(정규 분포)를 따르는 난수 발생\n",
    "print(np.random.rand(10))   # 10개의 요소를 가지는 배열 생성\n",
    "print(np.random.rand(3, 4))  # 3x4 행렬 생성\n",
    "print(np.random.rand(2, 3, 4)) # 0과 1 사이의 균등 분포를 따르는 3x4 행렬 생성"
   ]
  },
  {
   "cell_type": "code",
   "execution_count": 74,
   "id": "9de43818",
   "metadata": {},
   "outputs": [
    {
     "name": "stdout",
     "output_type": "stream",
     "text": [
      "[11 12 13 10]\n",
      "[[14 16 10]\n",
      " [11 14 17]]\n"
     ]
    }
   ],
   "source": [
    "# 정수 발생  np.random.randint(low, high=None, size=None, dtype=int)\n",
    "print(np.random.randint(10, 20, 4), end=\"\\n\") # 10부터 20까지의 정수로 이루어진 4개의 요소를 가지는 배열 생성\n",
    "print(np.random.randint(10, 20, (2, 3)), end=\"\\n\") # 10부터 20까지의 정수로 이루어진 2x3 행렬 생성"
   ]
  },
  {
   "cell_type": "code",
   "execution_count": 81,
   "id": "46d50c3d",
   "metadata": {},
   "outputs": [
    {
     "name": "stdout",
     "output_type": "stream",
     "text": [
      "Reshaped arange:\n",
      " [[0 1 2 3 4]\n",
      " [5 6 7 8 9]]\n",
      "Reshaped arange:\n",
      " [[0 1]\n",
      " [2 3]\n",
      " [4 5]\n",
      " [6 7]\n",
      " [8 9]]\n"
     ]
    }
   ],
   "source": [
    "import numpy as np\n",
    "\n",
    "# 차원 변환 a = a.reshape\n",
    "a = np.arange(10) # 0차원 배열\n",
    "a = a.reshape(2, 5)  # 1차원 배열로 변환\n",
    "print(\"Reshaped arange:\\n\", a)\n",
    "\n",
    "a = a.reshape(5, 2)  # 2차원 배열로 변환\n",
    "print(\"Reshaped arange:\\n\", a)"
   ]
  },
  {
   "cell_type": "code",
   "execution_count": 84,
   "id": "bbe19373",
   "metadata": {},
   "outputs": [
    {
     "name": "stdout",
     "output_type": "stream",
     "text": [
      "[ 0  1  2  3  4  5  6  7  8  9 10 11 12 13 14 15 16 17 18 19]\n",
      "[0 1 2 3 4 5 6 7 8 9]\n",
      "[10 11 12 13 14 15 16 17 18 19]\n",
      "[19 18 17 16 15 14 13 12 11 10  9  8  7  6  5  4  3  2  1  0]\n",
      "[10  9  8  7  6  5  4  3]\n",
      "[10  8  6  4  2]\n",
      "[1 2]\n",
      "[1 2 3 4]\n"
     ]
    }
   ],
   "source": [
    "print(x) # [ 0  1  2  3  4  5  6  7  8  9 10 11 12 13 14 15 16 17 18 19]\n",
    "print(x[:10]) # [0 1 2 3 4 5 6 7 8 9]\n",
    "print(x[10:])  # [10 11 12 13 14 15 16 17 18 19]\n",
    "\n",
    "print(x[::-1]) # 역순으로\n",
    "print(x[10:2:-1])  # [10  9  8  7  6  5  4  3]\n",
    "print(x[10:0:-2])  # [10  8  6  4  2]\n",
    "print(x[1:3])\n",
    "print(x[1:5])"
   ]
  },
  {
   "cell_type": "code",
   "execution_count": null,
   "id": "f0badd74",
   "metadata": {},
   "outputs": [
    {
     "name": "stdout",
     "output_type": "stream",
     "text": [
      "[False False False False False False False False False False  True  True\n",
      "  True  True  True  True  True  True  True  True]\n",
      "[10 11 12 13 14 15 16 17 18 19]\n",
      "[ 0  2  4  6  8 10 12 14 16 18]\n",
      "[ 0 15]\n",
      "[ 0 15]\n"
     ]
    }
   ],
   "source": [
    "# 조건식\n",
    "print(x>=10)  # [False... , True  ...]\n",
    "\n",
    "print(x[x>=10])  # [10 11 12 13 14 15 16 17 18 19]\n",
    "\n",
    "# x값이 짝수인 값만 출력\n",
    "print(x[x % 2 == 0]) # [ 0  2  4  6  8 10 12 14 16 18]\n",
    "\n",
    "# x값이 3의 배수이면서 5의 배수인 값만 출력\n",
    "print(x[(x % 3 == 0) & (x % 5 == 0)]) # [0 15]\n",
    "\n",
    "print(x[np.logical_and(x % 3 == 0, x % 5 == 0)]) # [0 15]\n",
    "\n",
    "# print(x[(x % 3 == 0 and x % 5 == 0)]) # 오류 발생: and 연산자는 배열에 적용할 수 없습니다. 대신 & 연산자를 사용해야 합니다.\n"
   ]
  },
  {
   "cell_type": "code",
   "execution_count": 93,
   "id": "43dfe9ed",
   "metadata": {},
   "outputs": [
    {
     "name": "stdout",
     "output_type": "stream",
     "text": [
      "2차원 배열 k:\n",
      " [[ 1  2  3  4  5]\n",
      " [ 6  7  8  9 10]\n",
      " [11 12 13 14 15]\n",
      " [16 17 18 19 20]]\n",
      "2차원 배열 k2:\n",
      " [[ 1  2  3  4  5]\n",
      " [ 6  7  8  9 10]\n",
      " [11 12 13 14 15]\n",
      " [16 17 18 19 20]]\n",
      "[[ 1  2  3  4  5]\n",
      " [ 6  7  8  9 10]\n",
      " [11 12 13 14 15]\n",
      " [16 17 18 19 20]]\n",
      "[[1 2 3 4 5]]\n",
      "[[ 6  7  8  9 10]\n",
      " [11 12 13 14 15]]\n"
     ]
    }
   ],
   "source": [
    "# 2차원의 경우에 slicing\n",
    "# k와 k2는 이미 위에서 정의되어 있음\n",
    "\n",
    "print(\"2차원 배열 k:\\n\", k)\n",
    "print(\"2차원 배열 k2:\\n\", k2)\n",
    "\n",
    "print(k[:]) # 전체 행렬 출력\n",
    "print(k[:1]) # 첫 번째 행 출력\n",
    "print(k[1:3]) # 두 번째, 세 번째 행 출력"
   ]
  },
  {
   "cell_type": "code",
   "execution_count": 94,
   "id": "a173cf4e",
   "metadata": {},
   "outputs": [
    {
     "name": "stdout",
     "output_type": "stream",
     "text": [
      "Concatenated array: [ 1  2  3  4  6  7  8  9 10 11 12 13 14 15 16 17 18 19 20]\n"
     ]
    }
   ],
   "source": [
    "# numpy 배열 합치기\n",
    "a = np.array([1, 2, 3, 4])\n",
    "b = np.arange(6, 11)\n",
    "c = np.concatenate((a, b, np.arange(11, 21)))   # a와 b를 합칩니다.\n",
    "\n",
    "print(\"Concatenated array:\", c)"
   ]
  },
  {
   "cell_type": "code",
   "execution_count": 95,
   "id": "de00e3bb",
   "metadata": {},
   "outputs": [
    {
     "name": "stdout",
     "output_type": "stream",
     "text": [
      "Split array c1: [array([1, 2, 3, 4, 6, 7, 8]), array([ 9, 10, 11, 12, 13, 14]), array([15, 16, 17, 18, 19, 20])]\n"
     ]
    }
   ],
   "source": [
    "c1 = np.array_split(c, 3)  # c를 3개의 부분으로 나눕니다.\n",
    "print(\"Split array c1:\", c1)  # c1은 3개의 부분 배열로 나뉩니다."
   ]
  },
  {
   "cell_type": "code",
   "execution_count": 98,
   "id": "c94dea9d",
   "metadata": {},
   "outputs": [
    {
     "name": "stdout",
     "output_type": "stream",
     "text": [
      "(array([ 1,  3,  4,  6,  8, 10, 12, 14, 16, 18]),)\n"
     ]
    }
   ],
   "source": [
    "# 검색은 where 함수를 사용합니다.\n",
    "print(np.where(c % 2 == 0)) # a에서 짝수인 요소의 인덱스를 반환합니다."
   ]
  },
  {
   "cell_type": "code",
   "execution_count": 100,
   "id": "2120aaae",
   "metadata": {},
   "outputs": [
    {
     "name": "stdout",
     "output_type": "stream",
     "text": [
      "Original array: [ 1  7 34 45 49 64 69 89 96 98]\n"
     ]
    }
   ],
   "source": [
    "# 정렬\n",
    "\n",
    "c1 = np.random.randint(1, 100, 10)  # 1부터 100 사이의 랜덤한 정수로 이루어진 배열 생성\n",
    "c2 = np.sort(c1)  # 오름차순 정렬\n",
    "print(\"Original array:\", c2)"
   ]
  },
  {
   "cell_type": "code",
   "execution_count": 102,
   "id": "d678f8c7",
   "metadata": {},
   "outputs": [
    {
     "name": "stdout",
     "output_type": "stream",
     "text": [
      "Array a: [0.07012022 0.88820559 0.44026683 0.36951829 0.85414793]\n",
      "Index of max value: 1\n",
      "Index of min value: 0\n"
     ]
    }
   ],
   "source": [
    "# argmax와 argmin\n",
    "a = np.random.rand(5) # 0과 1 사이의 랜덤한 실수로 이루어진 배열 생성\n",
    "print(\"Array a:\", a)\n",
    "print(\"Index of max value:\", np.argmax(a))  # 최대값의 인덱스\n",
    "print(\"Index of min value:\", np.argmin(a))  # 최소값의 인덱스"
   ]
  },
  {
   "cell_type": "markdown",
   "id": "e0b8bb02",
   "metadata": {},
   "source": [
    "\n",
    "---\n",
    "\n",
    "문제. 가우스 분포에 따른 랜덤값을 5개씩 10개 생성해서 각 행마다의 최대값하고 그위치를 찾아서 출력하라"
   ]
  },
  {
   "cell_type": "code",
   "execution_count": null,
   "id": "b3a2e627",
   "metadata": {},
   "outputs": [],
   "source": [
    "a = np.random.rand(50)\n",
    "a = a.reshape()"
   ]
  }
 ],
 "metadata": {
  "kernelspec": {
   "display_name": "sesac_ai",
   "language": "python",
   "name": "python3"
  },
  "language_info": {
   "codemirror_mode": {
    "name": "ipython",
    "version": 3
   },
   "file_extension": ".py",
   "mimetype": "text/x-python",
   "name": "python",
   "nbconvert_exporter": "python",
   "pygments_lexer": "ipython3",
   "version": "3.11.13"
  }
 },
 "nbformat": 4,
 "nbformat_minor": 5
}
