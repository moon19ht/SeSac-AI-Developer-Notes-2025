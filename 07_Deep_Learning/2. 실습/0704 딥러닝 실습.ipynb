{
 "cells": [
  {
   "cell_type": "code",
   "execution_count": 1,
   "id": "7e10d707",
   "metadata": {},
   "outputs": [
    {
     "name": "stdout",
     "output_type": "stream",
     "text": [
      "     X1    X2    X3  X4  total\n",
      "0   2.9   9.2  13.2   2   27.3\n",
      "1   2.4   8.7  11.5   3   25.6\n",
      "2   2.0   7.2  10.8   4   24.0\n",
      "3   2.3   8.5  12.3   3   26.1\n",
      "4   3.2   9.6  12.6   2   27.4\n",
      "5  10.0  20.0  30.0  40  100.0\n"
     ]
    }
   ],
   "source": [
    "import pandas as pd\n",
    " \n",
    "data = {\n",
    "    'X1':[2.9, 2.4, 2, 2.3, 3.2],\n",
    "    'X2':[9.2, 8.7, 7.2, 8.5, 9.6],\n",
    "    'X3':[13.2, 11.5, 10.8, 12.3, 12.6],\n",
    "    'X4':[2, 3, 4, 3, 2]\n",
    "}\n",
    " \n",
    "df = pd.DataFrame(data)\n",
    "\n",
    "df.loc[len(df)] = [10, 20, 30, 40]\n",
    "df['total'] = df.X1 +  df.X2 + df.X3 + df.X4\n",
    "print(df)"
   ]
  }
 ],
 "metadata": {
  "kernelspec": {
   "display_name": "sesac_ai",
   "language": "python",
   "name": "python3"
  },
  "language_info": {
   "codemirror_mode": {
    "name": "ipython",
    "version": 3
   },
   "file_extension": ".py",
   "mimetype": "text/x-python",
   "name": "python",
   "nbconvert_exporter": "python",
   "pygments_lexer": "ipython3",
   "version": "3.11.13"
  }
 },
 "nbformat": 4,
 "nbformat_minor": 5
}
