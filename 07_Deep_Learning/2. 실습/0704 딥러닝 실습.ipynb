{
 "cells": [
  {
   "cell_type": "code",
   "execution_count": 1,
   "id": "7e10d707",
   "metadata": {},
   "outputs": [
    {
     "name": "stdout",
     "output_type": "stream",
     "text": [
      "['\\n', '오픈소스', '를', '이용', '하여', '형태소', '분석', '을', '배워', '봅시다', '.', '형태소', '분석', '을', '지원', '하는', '라이브러리', '가', '많습니다', '.', '각자', '어떻게', '분석', '하', '지는', '살펴보겠습니다', '.', '이건', 'Twitter', '모듈', '입니다', '.', '\\n']\n",
      "['오픈소스', '이용', '형태소', '분석', '형태소', '분석', '지원', '라이브러리', '각자', '분석', '이건', '모듈']\n",
      "[('\\n', 'Foreign'), ('오픈소스', 'Noun'), ('를', 'Josa'), ('이용', 'Noun'), ('하여', 'Verb'), ('형태소', 'Noun'), ('분석', 'Noun'), ('을', 'Josa'), ('배워', 'Verb'), ('봅시다', 'Verb'), ('.', 'Punctuation'), ('형태소', 'Noun'), ('분석', 'Noun'), ('을', 'Josa'), ('지원', 'Noun'), ('하는', 'Verb'), ('라이브러리', 'Noun'), ('가', 'Josa'), ('많습니다', 'Adjective'), ('.', 'Punctuation'), ('각자', 'Noun'), ('어떻게', 'Adjective'), ('분석', 'Noun'), ('하', 'Suffix'), ('지는', 'Josa'), ('살펴보겠습니다', 'Verb'), ('.', 'Punctuation'), ('이건', 'Noun'), ('Twitter', 'Alpha'), ('모듈', 'Noun'), ('입니다', 'Adjective'), ('.', 'Punctuation'), ('\\n', 'Foreign')]\n"
     ]
    }
   ],
   "source": [
    "from konlpy.tag import Kkma, Hannanum, Komoran, Okt\n",
    "from pprint import pprint\n",
    "\n",
    "msg = \"\"\"\n",
    "오픈소스를 이용하여 형태소 분석을 배워봅시다. 형태소 분석을 지원하는 라이브러리가 많습니다. \n",
    "각자 어떻게 분석하지는 살펴보겠습니다. \n",
    "이건 Twitter 모듈입니다.\n",
    "\"\"\"\n",
    "twitter = Okt()\n",
    "print(twitter.morphs(msg)) \n",
    "print(twitter.nouns(msg))\n",
    "print(twitter.pos(msg))\n"
   ]
  }
 ],
 "metadata": {
  "kernelspec": {
   "display_name": "sesac_ai",
   "language": "python",
   "name": "python3"
  },
  "language_info": {
   "codemirror_mode": {
    "name": "ipython",
    "version": 3
   },
   "file_extension": ".py",
   "mimetype": "text/x-python",
   "name": "python",
   "nbconvert_exporter": "python",
   "pygments_lexer": "ipython3",
   "version": "3.11.13"
  }
 },
 "nbformat": 4,
 "nbformat_minor": 5
}
