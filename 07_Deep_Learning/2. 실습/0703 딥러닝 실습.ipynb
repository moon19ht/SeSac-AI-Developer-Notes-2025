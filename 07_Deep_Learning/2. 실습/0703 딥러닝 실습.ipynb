{
 "cells": [
  {
   "cell_type": "markdown",
   "id": "3c3257c5",
   "metadata": {},
   "source": [
    "# 정규화\n",
    "y = ax + b      자동으로 a 와 b 를 찾아내는 과정 <br>\n",
    "```markdown\n",
    "                 a, b        2  1 \n",
    "                 x=[1,2,3,4,5,6,7, ....]\n",
    "                 y=[...................] 기대값\n",
    "                 real_y=[............... ]  오차의제곱의합 : 4843783873\n",
    "                 a, b    3 1 \n",
    "```\n",
    "y = w1x1 + w2x2  + w3x3   + w4x4 ......   + b<br>  \n",
    "\n",
    "y 에 영향을 미치는 x1,x2,..............<br>\n",
    "         기울기들 w1,w2,.................  가중치<br>   \n",
    "\n",
    "모든 데이터(필드, 특성, 픽처)들의 단위가 비슷해야 한다.<br> \n",
    "서포트벡터머신 머신러닝 , 딥러닝 = 반드시 단위가 비슷해야 한다.<br> \n",
    "단위맞추는 과정을 `정규화`라고 한다. <br>"
   ]
  },
  {
   "cell_type": "code",
   "execution_count": 1,
   "id": "0f4b0436",
   "metadata": {},
   "outputs": [
    {
     "name": "stdout",
     "output_type": "stream",
     "text": [
      "<class 'pandas.core.frame.DataFrame'>\n",
      "RangeIndex: 398 entries, 0 to 397\n",
      "Data columns (total 7 columns):\n",
      " #   Column        Non-Null Count  Dtype  \n",
      "---  ------        --------------  -----  \n",
      " 0   mpg           398 non-null    float64\n",
      " 1   cylinders     398 non-null    int64  \n",
      " 2   displacement  398 non-null    object \n",
      " 3   horsepower    396 non-null    float64\n",
      " 4   weight        398 non-null    int64  \n",
      " 5   acceleration  398 non-null    float64\n",
      " 6   model-year    398 non-null    int64  \n",
      "dtypes: float64(3), int64(3), object(1)\n",
      "memory usage: 21.9+ KB\n",
      "None\n",
      "    mpg  cylinders displacement  horsepower  weight  acceleration  model-year\n",
      "0  18.0          8            ?       130.0    3504          12.0          70\n",
      "1  15.0          8          350       165.0    3693          11.5          70\n",
      "2  18.0          8          318       150.0    3436          11.0          70\n",
      "3  16.0          8          304       150.0    3433          12.0          70\n",
      "4  17.0          8          302       140.0    3449          10.5          70\n"
     ]
    }
   ],
   "source": [
    "import pandas as pd \n",
    "\n",
    "data = pd.read_csv('./data/auto-mpg.csv')\n",
    "print(data.info())\n",
    "print(data.head())"
   ]
  },
  {
   "cell_type": "code",
   "execution_count": 2,
   "id": "401a980b",
   "metadata": {},
   "outputs": [
    {
     "name": "stdout",
     "output_type": "stream",
     "text": [
      "    mpg  cyl disp  power  weight  acce  model\n",
      "0  18.0    8    ?  130.0    3504  12.0     70\n",
      "1  15.0    8  350  165.0    3693  11.5     70\n",
      "2  18.0    8  318  150.0    3436  11.0     70\n",
      "3  16.0    8  304  150.0    3433  12.0     70\n",
      "4  17.0    8  302  140.0    3449  10.5     70\n"
     ]
    }
   ],
   "source": [
    "# 컬럼명 변경하기 => 프로그램 안에서 바꾸기 \n",
    "data.columns=['mpg', 'cyl', 'disp', 'power', 'weight', 'acce', 'model']\n",
    "print(data.head())"
   ]
  },
  {
   "cell_type": "code",
   "execution_count": 3,
   "id": "eef99389",
   "metadata": {},
   "outputs": [
    {
     "name": "stdout",
     "output_type": "stream",
     "text": [
      "    mpg  cyl disp  power  weight  acce  model      mpg2   kpl\n",
      "0  18.0    8    ?  130.0    3504  12.0     70  0.239362  7.65\n",
      "1  15.0    8  350  165.0    3693  11.5     70  0.159574  6.38\n",
      "2  18.0    8  318  150.0    3436  11.0     70  0.239362  7.65\n",
      "3  16.0    8  304  150.0    3433  12.0     70  0.186170  6.80\n",
      "4  17.0    8  302  140.0    3449  10.5     70  0.212766  7.23\n"
     ]
    }
   ],
   "source": [
    "# 정규화( 정규화하고자하는값 - 최소값)/(최대값-최소값)\n",
    "data['mpg2'] = (data['mpg']-data['mpg'].min())/(data['mpg'].max()-data['mpg'].min())\n",
    "\n",
    "# 단위환산 \n",
    "mpg_unit = 1.60934/3.78541\n",
    "data['kpl'] = (data['mpg']*mpg_unit).round(2) # 소수점이하 2자리 반올림 \n",
    "print(data.head()) "
   ]
  },
  {
   "cell_type": "markdown",
   "id": "db6a1fa0",
   "metadata": {},
   "source": [
    "# 중복 제거"
   ]
  },
  {
   "cell_type": "code",
   "execution_count": 5,
   "id": "8a565df1",
   "metadata": {},
   "outputs": [
    {
     "name": "stdout",
     "output_type": "stream",
     "text": [
      "  passenger_code target  price\n",
      "0           A101     광주  25000\n",
      "1           A102     서울  27000\n",
      "2           A103     부산  45000\n",
      "3           A101     광주  25000\n",
      "4           A104     대구  35000\n",
      "5           A101     광주  27000\n",
      "6           A103     부산  45000\n"
     ]
    }
   ],
   "source": [
    "import pandas as pd \n",
    "\n",
    "data = {\n",
    "    'passenger_code':['A101', 'A102', 'A103', 'A101', 'A104', 'A101', 'A103'],\n",
    "    'target':['광주', '서울', '부산', '광주', '대구', '광주', '부산'],\n",
    "    'price':[25000, 27000, 45000, 25000, 35000, 27000, 45000]\n",
    "}\n",
    "\n",
    "df = pd.DataFrame(data)\n",
    "print(df)"
   ]
  },
  {
   "cell_type": "code",
   "execution_count": 6,
   "id": "6ed6ede9",
   "metadata": {},
   "outputs": [
    {
     "name": "stdout",
     "output_type": "stream",
     "text": [
      "중복된데이터\n",
      "0    False\n",
      "1    False\n",
      "2    False\n",
      "3     True\n",
      "4    False\n",
      "5     True\n",
      "6     True\n",
      "Name: passenger_code, dtype: bool\n"
     ]
    }
   ],
   "source": [
    "print(\"중복된데이터\")\n",
    "col = df['passenger_code'].duplicated() #True 나 False의 리스트로 보여준다 \n",
    "print(col)"
   ]
  },
  {
   "cell_type": "code",
   "execution_count": 7,
   "id": "b0705c2e",
   "metadata": {},
   "outputs": [
    {
     "name": "stdout",
     "output_type": "stream",
     "text": [
      "중복 삭제 후\n",
      "  passenger_code target  price\n",
      "0           A101     광주  25000\n",
      "1           A102     서울  27000\n",
      "2           A103     부산  45000\n",
      "4           A104     대구  35000\n",
      "5           A101     광주  27000\n"
     ]
    }
   ],
   "source": [
    "print(\"중복 삭제 후\")\n",
    "df2 = df.drop_duplicates() #삭제된 데이터를 반환 , 전체필드가 완전히 일치하는 데이터만 삭제한다 \n",
    "print(df2)"
   ]
  },
  {
   "cell_type": "code",
   "execution_count": 8,
   "id": "ff37e3a8",
   "metadata": {},
   "outputs": [
    {
     "name": "stdout",
     "output_type": "stream",
     "text": [
      "서브셋 사용하기\n",
      "  passenger_code target  price\n",
      "0           A101     광주  25000\n",
      "1           A102     서울  27000\n",
      "2           A103     부산  45000\n",
      "4           A104     대구  35000\n"
     ]
    }
   ],
   "source": [
    "\n",
    "print(\"서브셋 사용하기\")\n",
    "df3 = df.drop_duplicates(subset=['passenger_code'])\n",
    "print(df3)"
   ]
  },
  {
   "cell_type": "code",
   "execution_count": 9,
   "id": "bb926a13",
   "metadata": {},
   "outputs": [
    {
     "name": "stdout",
     "output_type": "stream",
     "text": [
      "서브셋 사용하기2\n",
      "  passenger_code target  price\n",
      "0           A101     광주  25000\n",
      "1           A102     서울  27000\n",
      "2           A103     부산  45000\n",
      "4           A104     대구  35000\n"
     ]
    }
   ],
   "source": [
    "print(\"서브셋 사용하기2\")\n",
    "df3 = df.drop_duplicates(subset=['passenger_code', 'target'])\n",
    "print(df3)"
   ]
  },
  {
   "cell_type": "markdown",
   "id": "33f2ce5a",
   "metadata": {},
   "source": [
    "# 타입 전환"
   ]
  },
  {
   "cell_type": "code",
   "execution_count": 10,
   "id": "bce06802",
   "metadata": {},
   "outputs": [
    {
     "name": "stdout",
     "output_type": "stream",
     "text": [
      "<class 'pandas.core.frame.DataFrame'>\n",
      "RangeIndex: 398 entries, 0 to 397\n",
      "Data columns (total 7 columns):\n",
      " #   Column        Non-Null Count  Dtype  \n",
      "---  ------        --------------  -----  \n",
      " 0   mpg           398 non-null    float64\n",
      " 1   cylinders     398 non-null    int64  \n",
      " 2   displacement  398 non-null    object \n",
      " 3   horsepower    396 non-null    float64\n",
      " 4   weight        398 non-null    int64  \n",
      " 5   acceleration  398 non-null    float64\n",
      " 6   model-year    398 non-null    int64  \n",
      "dtypes: float64(3), int64(3), object(1)\n",
      "memory usage: 21.9+ KB\n",
      "None\n",
      "    mpg  cylinders displacement  horsepower  weight  acceleration  model-year\n",
      "0  18.0          8            ?       130.0    3504          12.0          70\n",
      "1  15.0          8          350       165.0    3693          11.5          70\n",
      "2  18.0          8          318       150.0    3436          11.0          70\n",
      "3  16.0          8          304       150.0    3433          12.0          70\n",
      "4  17.0          8          302       140.0    3449          10.5          70\n"
     ]
    }
   ],
   "source": [
    "import pandas as pd \n",
    "import numpy as np \n",
    "\n",
    "data = pd.read_csv('./data/auto-mpg.csv')\n",
    "print(data.info())\n",
    "print(data.head())"
   ]
  },
  {
   "cell_type": "markdown",
   "id": "13b9c20a",
   "metadata": {},
   "source": [
    " \n",
    "# 1. 라벨 인코딩 (Label Encoding)\n",
    "# 머신러닝을 위한 데이터 전처리와 수치화\n",
    "\n",
    "머신러닝 및 딥러닝 모델은 **수치 데이터**만을 입력으로 사용할 수 있습니다.<br>\n",
    "따라서 모든 입력 데이터는 반드시 수치형으로 변환되어야 하며, 문자열이나 범주형 데이터는 적절한 전처리 과정을 거쳐야 합니다.<br>\n",
    "\n",
    "---\n",
    "\n",
    "## 1. 문자열 데이터의 처리\n",
    "\n",
    "- **카테고리화가 가능한 문자열**  \n",
    "  예를 들어, 연비 등급이 'A', 'B', 'C', 'D'와 같이 정해진 범주로만 이루어진 경우, 이를 **카테고리 타입**으로 변환할 수 있습니다.\n",
    "  - 이때, 허용된 범주(A, B, C, D) 이외의 값은 데이터에 포함되지 않도록 차단해야 합니다.\n",
    "  - 카테고리화가 불가능한 문자열(예: 이름, 고유 식별자 등)은 머신러닝에 불필요하므로 **삭제**해야 합니다.\n",
    "\n",
    "---\n",
    "\n",
    "## 2. 카테고리 데이터의 수치화 방법\n",
    "\n",
    "### (1) 라벨 인코딩(Label Encoding)\n",
    "- 각 카테고리 값을 정수로 매핑합니다.\n",
    "- 예시:\n",
    "  ```\n",
    "  A → 1\n",
    "  B → 2\n",
    "  C → 3\n",
    "  D → 4\n",
    "  ```\n",
    "- 단, 카테고리 간에 **순서나 크기 의미가 없을 때는 부적합**할 수 있습니다.\n",
    "\n",
    "### (2) 원-핫 인코딩(One-Hot Encoding)\n",
    "- 각 카테고리를 별도의 컬럼으로 만들어, 해당 카테고리에만 1, 나머지는 0으로 표시합니다.\n",
    "- 예시:\n",
    "  ```\n",
    "  원본 데이터: A, B, C, D\n",
    "  변환 결과:\n",
    "    A  B  C  D\n",
    "    1  0  0  0   (A)\n",
    "    0  1  0  0   (B)\n",
    "    0  0  1  0   (C)\n",
    "    0  0  0  1   (D)\n",
    "  ```\n",
    "- **장점**: 카테고리 간의 순서/크기 정보가 없을 때 적합\n",
    "- **단점**: 카테고리 개수가 많으면(예: 단어 10만 개) 컬럼 수가 매우 커질 수 있음\n",
    "\n",
    "---\n",
    "\n",
    "## 3. 데이터 전처리의 일반 원칙\n",
    "\n",
    "1. **수치화가 가능한 데이터**는 반드시 수치형으로 변환\n",
    "2. **카테고리화가 불가능한 문자열**(예: 이름, 고유번호 등)은 삭제\n",
    "3. **결측치/이상치 처리**: NaN, 잘못된 값 등은 적절히 처리\n",
    "4. **정규화/표준화**: 수치형 데이터의 단위가 다를 경우, 정규화 또는 표준화 필요\n",
    "\n",
    "---\n",
    "\n",
    "## 4. 실무 적용 예시\n",
    "\n",
    "- 연비 등급(문자열): 'A', 'B', 'C', 'D' → 원-핫 인코딩 또는 라벨 인코딩\n",
    "- 이름(문자열): 삭제\n",
    "- 자동차 모델(카테고리): 카테고리 타입으로 변환\n",
    "- 연비, 배기량 등(수치): 결측치 처리 후 float 타입으로 변환, 필요시 정규화\n",
    "\n",
    "---\n",
    "\n",
    "## 5. 참고: 대용량 텍스트 데이터의 원-핫 인코딩\n",
    "\n",
    "- 단어가 100,000개라면, 각 샘플은 1개의 1과 99,999개의 0으로 이루어진 벡터가 됨\n",
    "- 차원이 너무 커질 경우, **임베딩(embedding)** 등 다른 방법을 고려해야 함\n",
    "\n",
    "---\n",
    "\n",
    "## 결론\n",
    "\n",
    "머신러닝을 위해서는 모든 입력 데이터가 수치형이어야 하며, <br>\n",
    "이를 위해 문자열/카테고리형 데이터는 적절한 인코딩 및 전처리 과정을 거쳐야 합니다. <br>\n",
    "데이터의 특성에 따라 라벨 인코딩, 원-핫 인코딩, 정규화 등 다양한 방법을 적용할 수 있습니다.<br>"
   ]
  },
  {
   "cell_type": "code",
   "execution_count": 11,
   "id": "0aeac072",
   "metadata": {},
   "outputs": [
    {
     "name": "stdout",
     "output_type": "stream",
     "text": [
      "mpg       float64\n",
      "cyl         int64\n",
      "disp       object\n",
      "power     float64\n",
      "weight      int64\n",
      "acce      float64\n",
      "model       int64\n",
      "dtype: object\n",
      "    mpg  cyl disp  power  weight  acce  model\n",
      "0  18.0    8    ?  130.0    3504  12.0     70\n",
      "1  15.0    8  350  165.0    3693  11.5     70\n",
      "2  18.0    8  318  150.0    3436  11.0     70\n",
      "3  16.0    8  304  150.0    3433  12.0     70\n",
      "4  17.0    8  302  140.0    3449  10.5     70\n"
     ]
    }
   ],
   "source": [
    "# 타입이 맞지 않을 경우 전환을 해서 사용해야 한다 \n",
    "# 현재 사용하는 파이썬 버전은 문자열 데이터라도 수치 형태면 자동으로 수치자료로 처리한다 \n",
    "# 파이썬 버전에 따라 다르게 동작할 수 도 있다 \n",
    "data.columns=['mpg', 'cyl', 'disp', 'power', 'weight', 'acce', 'model']\n",
    "print(data.dtypes)\n",
    "print(data.head())"
   ]
  },
  {
   "cell_type": "code",
   "execution_count": 12,
   "id": "99b931c4",
   "metadata": {},
   "outputs": [
    {
     "name": "stdout",
     "output_type": "stream",
     "text": [
      "['?' '350' '318' '304' '302' '429' '454' '440' '455' '390' '383' '340'\n",
      " '400' '113' '198' '199' '200' '97' '110' '107' '104' '121' '360' '307'\n",
      " '140' '98' '232' '225' '250' '351' '258' '122' '116' '79' '88' '71' '72'\n",
      " '91' '97.5' '70' '120' '96' '108' '155' '68' '114' '156' '76' '83' '90'\n",
      " '231' '262' '134' '119' '171' '115' '101' '305' '85' '130' '168' '111'\n",
      " '260' '151' '146' '80' '78' '105' '131' '163' '89' '267' '86' '183' '141'\n",
      " '173' '135' '81' '100' '145' '112' '181' '144']\n",
      "    mpg  cyl disp  power  weight  acce  model\n",
      "0  18.0    8  NaN  130.0    3504  12.0     70\n",
      "1  15.0    8  350  165.0    3693  11.5     70\n",
      "2  18.0    8  318  150.0    3436  11.0     70\n",
      "3  16.0    8  304  150.0    3433  12.0     70\n",
      "4  17.0    8  302  140.0    3449  10.5     70\n"
     ]
    },
    {
     "name": "stderr",
     "output_type": "stream",
     "text": [
      "C:\\Users\\ryan9\\AppData\\Local\\Temp\\ipykernel_2360\\2479411558.py:4: FutureWarning: A value is trying to be set on a copy of a DataFrame or Series through chained assignment using an inplace method.\n",
      "The behavior will change in pandas 3.0. This inplace method will never work because the intermediate object on which we are setting values always behaves as a copy.\n",
      "\n",
      "For example, when doing 'df[col].method(value, inplace=True)', try using 'df.method({col: value}, inplace=True)' or df[col] = df[col].method(value) instead, to perform the operation inplace on the original object.\n",
      "\n",
      "\n",
      "  data['disp'].replace('?', np.nan, inplace=True)\n"
     ]
    }
   ],
   "source": [
    "print( data['disp'].unique()) # 중복된 거 배제하고 보여준다 \n",
    "\n",
    "# 잘못된 데이터를 NaN으로 먼저 바꾼다 \n",
    "data['disp'].replace('?', np.nan, inplace=True)\n",
    "print(data.head())"
   ]
  },
  {
   "cell_type": "code",
   "execution_count": 13,
   "id": "59821a0b",
   "metadata": {},
   "outputs": [
    {
     "name": "stdout",
     "output_type": "stream",
     "text": [
      "    mpg  cyl disp  power  weight  acce  model\n",
      "1  15.0    8  350  165.0    3693  11.5     70\n",
      "2  18.0    8  318  150.0    3436  11.0     70\n",
      "3  16.0    8  304  150.0    3433  12.0     70\n",
      "4  17.0    8  302  140.0    3449  10.5     70\n",
      "5  15.0    8  429  198.0    4341  10.0     70\n",
      "mpg       float64\n",
      "cyl         int64\n",
      "disp       object\n",
      "power     float64\n",
      "weight      int64\n",
      "acce      float64\n",
      "model       int64\n",
      "dtype: object\n",
      "mpg       float64\n",
      "cyl         int64\n",
      "disp      float64\n",
      "power     float64\n",
      "weight      int64\n",
      "acce      float64\n",
      "model       int64\n",
      "dtype: object\n"
     ]
    }
   ],
   "source": [
    "data.dropna(subset=['disp'], axis=0, inplace=True)\n",
    "print(data.head())\n",
    "print(data.dtypes)\n",
    "data['disp'] = data['disp'].astype('float')\n",
    "print(data.dtypes)"
   ]
  },
  {
   "cell_type": "code",
   "execution_count": 14,
   "id": "2b07def2",
   "metadata": {},
   "outputs": [
    {
     "name": "stdout",
     "output_type": "stream",
     "text": [
      "mpg       float64\n",
      "cyl         int64\n",
      "disp      float64\n",
      "power     float64\n",
      "weight      int64\n",
      "acce      float64\n",
      "model       int64\n",
      "dtype: object\n",
      "mpg        float64\n",
      "cyl          int64\n",
      "disp       float64\n",
      "power      float64\n",
      "weight       int64\n",
      "acce       float64\n",
      "model     category\n",
      "dtype: object\n"
     ]
    }
   ],
   "source": [
    "# 범주형으로 바꾼다 \n",
    "print(data.dtypes)\n",
    "data['model'] = data['model'].astype('category')\n",
    "print(data.dtypes)"
   ]
  },
  {
   "cell_type": "markdown",
   "id": "8180906c",
   "metadata": {},
   "source": [
    "DataFrame의 버그( 카테고리)- 그 범위를 벗어나는 데이터는 받으면 안된다.<br>\n",
    "카테고리타입에 데이터 추가했더니 스스로 float로 바뀌었다.<br>\n",
    "허용되면 안된다.\n",
    "\n",
    "```python \n",
    "data = data.append({'mpg':90, 'model':93}, ignore_index=True)\n",
    "data.loc[len(data)] = {'mpg':90, 'model':93}\n",
    "\n",
    "```\n",
    "모델타입이 카테코리라서 없는 카테고리 값을 추가할 경우에 오류가 발생한다.<br>\n",
    "파일을 읽을때 범위가 결정되어서 93이 해당사항이 없어서 에러가 발생한다.<br>\n",
    "반드시 범주형으로 되어야 할것들은 범주형으로 바꿔줘야 한다.<br>"
   ]
  },
  {
   "cell_type": "code",
   "execution_count": 15,
   "id": "0dc82276",
   "metadata": {},
   "outputs": [
    {
     "name": "stdout",
     "output_type": "stream",
     "text": [
      "mpg        float64\n",
      "cyl          int64\n",
      "disp       float64\n",
      "power      float64\n",
      "weight       int64\n",
      "acce       float64\n",
      "model     category\n",
      "dtype: object\n",
      "model\n",
      "73    40\n",
      "78    36\n",
      "76    34\n",
      "82    31\n",
      "75    30\n",
      "80    29\n",
      "79    29\n",
      "81    29\n",
      "70    28\n",
      "71    28\n",
      "72    28\n",
      "77    28\n",
      "74    27\n",
      "Name: count, dtype: int64\n"
     ]
    }
   ],
   "source": [
    "print(data.dtypes)\n",
    "print( data['model'].value_counts())# 빈도표, 범주형의 경우에는 엄청 중요하다 "
   ]
  },
  {
   "cell_type": "markdown",
   "id": "4224aa1a",
   "metadata": {},
   "source": [
    "# 분석"
   ]
  },
  {
   "cell_type": "code",
   "execution_count": 17,
   "id": "a73290d6",
   "metadata": {},
   "outputs": [
    {
     "name": "stdout",
     "output_type": "stream",
     "text": [
      "    mpg  cylinders displacement  horsepower  weight  acceleration  model-year\n",
      "0  18.0          8            ?       130.0    3504          12.0          70\n",
      "1  15.0          8          350       165.0    3693          11.5          70\n",
      "2  18.0          8          318       150.0    3436          11.0          70\n",
      "3  16.0          8          304       150.0    3433          12.0          70\n",
      "4  17.0          8          302       140.0    3449          10.5          70\n",
      "      mpg  cylinders displacement  horsepower  weight  acceleration  \\\n",
      "393  27.0          4          140        86.0    2790          15.6   \n",
      "394  44.0          4           97        52.0    2130          24.6   \n",
      "395  32.0          4          135        84.0    2295          11.6   \n",
      "396  28.0          4          120        79.0    2625          18.6   \n",
      "397  31.0          4          119        82.0    2720          19.4   \n",
      "\n",
      "     model-year  \n",
      "393          82  \n",
      "394          82  \n",
      "395          82  \n",
      "396          82  \n",
      "397          82  \n"
     ]
    }
   ],
   "source": [
    "import pandas as pd \n",
    "\n",
    "df = pd.read_csv(\"./data/auto-mpg.csv\")\n",
    "# print(df)\n",
    "\n",
    "print(df.head())\n",
    "print(df.tail())"
   ]
  },
  {
   "cell_type": "code",
   "execution_count": 19,
   "id": "986f67f4",
   "metadata": {},
   "outputs": [
    {
     "name": "stdout",
     "output_type": "stream",
     "text": [
      "데이터전체개수  398 7\n",
      "<class 'pandas.core.frame.DataFrame'>\n",
      "RangeIndex: 398 entries, 0 to 397\n",
      "Data columns (total 7 columns):\n",
      " #   Column        Non-Null Count  Dtype  \n",
      "---  ------        --------------  -----  \n",
      " 0   mpg           398 non-null    float64\n",
      " 1   cylinders     398 non-null    int64  \n",
      " 2   displacement  398 non-null    object \n",
      " 3   horsepower    396 non-null    float64\n",
      " 4   weight        398 non-null    int64  \n",
      " 5   acceleration  398 non-null    float64\n",
      " 6   model-year    398 non-null    int64  \n",
      "dtypes: float64(3), int64(3), object(1)\n",
      "memory usage: 21.9+ KB\n",
      "None\n"
     ]
    }
   ],
   "source": [
    "row, col = df.shape \n",
    "print(\"데이터전체개수 \", row, col)\n",
    "\n",
    "# info ->데이터 정보를 요약해서 보여준다 \n",
    "print( df.info()) "
   ]
  },
  {
   "cell_type": "code",
   "execution_count": 20,
   "id": "7fd581bc",
   "metadata": {},
   "outputs": [
    {
     "name": "stdout",
     "output_type": "stream",
     "text": [
      "              mpg   cylinders  horsepower       weight  acceleration  \\\n",
      "count  398.000000  398.000000  396.000000   398.000000    398.000000   \n",
      "mean    23.514573    5.454774  104.189394  2970.424623     15.568090   \n",
      "std      7.815984    1.701004   38.402030   846.841774      2.757689   \n",
      "min      9.000000    3.000000   46.000000  1613.000000      8.000000   \n",
      "25%     17.500000    4.000000   75.000000  2223.750000     13.825000   \n",
      "50%     23.000000    4.000000   92.000000  2803.500000     15.500000   \n",
      "75%     29.000000    8.000000  125.000000  3608.000000     17.175000   \n",
      "max     46.600000    8.000000  230.000000  5140.000000     24.800000   \n",
      "\n",
      "       model-year  \n",
      "count  398.000000  \n",
      "mean    76.010050  \n",
      "std      3.697627  \n",
      "min     70.000000  \n",
      "25%     73.000000  \n",
      "50%     76.000000  \n",
      "75%     79.000000  \n",
      "max     82.000000  \n"
     ]
    }
   ],
   "source": [
    "# 통계량 - 기초통계학 중요 : 평균, 개수, 표준편차(std),최소값,최대값, 중간값(2/4), 1/4분위수\n",
    "print(df.describe())"
   ]
  },
  {
   "cell_type": "code",
   "execution_count": 21,
   "id": "bf362040",
   "metadata": {},
   "outputs": [
    {
     "name": "stdout",
     "output_type": "stream",
     "text": [
      "(398, 7)\n",
      "(103, 7)\n",
      "cylinders\n",
      "8    103\n",
      "Name: count, dtype: int64\n",
      "cylinders\n",
      "4    204\n",
      "8    103\n",
      "6     84\n",
      "3      4\n",
      "5      3\n",
      "Name: count, dtype: int64\n"
     ]
    }
   ],
   "source": [
    "# df2 = df[조건식] 조건식이 True 데이터 셋만 가져온다 \n",
    "df2 = df[ df[\"cylinders\"]==8]\n",
    "print(df.shape)\n",
    "print(df2.shape)\n",
    "# value_counts() - 카테고리형 데이터  2 4 8 \n",
    "print(df2[\"cylinders\"].value_counts())\n",
    "\n",
    "# 실린더-카테고리타입 , 평균이나 표준값 따위가 의미가 없는 데이터 타입 \n",
    "# value_counts() - 분할표 \n",
    "print(df[\"cylinders\"].value_counts())"
   ]
  },
  {
   "cell_type": "code",
   "execution_count": 22,
   "id": "ed5f5de0",
   "metadata": {},
   "outputs": [
    {
     "name": "stdout",
     "output_type": "stream",
     "text": [
      "     mpg  cylinders displacement  horsepower  weight  acceleration  model-year\n",
      "18  27.0          4           97        88.0    2130          14.5          70\n",
      "19  26.0          4           97        46.0    1835          20.5          70\n",
      "20  25.0          4          110        87.0    2672          17.5          70\n",
      "22  25.0          4          104        95.0    2375          17.5          70\n",
      "23  26.0          4          121       113.0    2234          12.5          70\n",
      "5\n",
      "model-year\n",
      "73    40\n",
      "78    36\n",
      "76    34\n",
      "82    31\n",
      "75    30\n",
      "80    29\n",
      "79    29\n",
      "81    29\n",
      "70    29\n",
      "71    28\n",
      "72    28\n",
      "77    28\n",
      "74    27\n",
      "Name: count, dtype: int64\n",
      "mpg   cylinders  displacement  horsepower  weight  acceleration  model-year\n",
      "17.6  6          225           85.0        3465    16.6          81            1\n",
      "19.1  6          225           90.0        3381    18.7          80            1\n",
      "20.2  6          200           88.0        3060    17.1          81            1\n",
      "22.0  6          232           112.0       2835    14.7          82            1\n",
      "22.4  6          231           110.0       3415    15.8          81            1\n",
      "                                                                              ..\n",
      "43.4  4          90            48.0        2335    23.7          80            1\n",
      "44.0  4          97            52.0        2130    24.6          82            1\n",
      "44.3  4          90            48.0        2085    21.7          80            1\n",
      "44.6  4          91            67.0        1850    13.8          80            1\n",
      "46.6  4          86            65.0        2110    17.9          80            1\n",
      "Name: count, Length: 89, dtype: int64\n",
      "mpg   cylinders  displacement  horsepower  weight  acceleration  model-year\n",
      "17.6  6          225           85.0        3465    16.6          81            1\n",
      "19.1  6          225           90.0        3381    18.7          80            1\n",
      "20.2  6          200           88.0        3060    17.1          81            1\n",
      "22.0  6          232           112.0       2835    14.7          82            1\n",
      "22.4  6          231           110.0       3415    15.8          81            1\n",
      "                                                                              ..\n",
      "43.4  4          90            48.0        2335    23.7          80            1\n",
      "44.0  4          97            52.0        2130    24.6          82            1\n",
      "44.3  4          90            48.0        2085    21.7          80            1\n",
      "44.6  4          91            67.0        1850    13.8          80            1\n",
      "46.6  4          86            65.0        2110    17.9          80            1\n",
      "Name: count, Length: 89, dtype: int64\n",
      "      mpg  cylinders displacement  horsepower  weight  acceleration  \\\n",
      "309  41.5          4           98        76.0    2144          14.7   \n",
      "310  38.1          4           89        60.0    1968          18.8   \n",
      "311  32.1          4           98        70.0    2120          15.5   \n",
      "312  37.2          4           86        65.0    2019          16.4   \n",
      "313  28.0          4          151        90.0    2678          16.5   \n",
      "..    ...        ...          ...         ...     ...           ...   \n",
      "393  27.0          4          140        86.0    2790          15.6   \n",
      "394  44.0          4           97        52.0    2130          24.6   \n",
      "395  32.0          4          135        84.0    2295          11.6   \n",
      "396  28.0          4          120        79.0    2625          18.6   \n",
      "397  31.0          4          119        82.0    2720          19.4   \n",
      "\n",
      "     model-year  \n",
      "309          80  \n",
      "310          80  \n",
      "311          80  \n",
      "312          80  \n",
      "313          80  \n",
      "..          ...  \n",
      "393          82  \n",
      "394          82  \n",
      "395          82  \n",
      "396          82  \n",
      "397          82  \n",
      "\n",
      "[77 rows x 7 columns]\n",
      "5\n"
     ]
    }
   ],
   "source": [
    "# 모델발표연도가 70이고 연비가 25이상(and, or-python연산자는 사용못해)\n",
    "import numpy as np   \n",
    "df2 = df[ np.logical_and( df[\"model-year\"]==70 , df[\"mpg\"]>=25) ] \n",
    "print(df2)\n",
    "\n",
    "# 모델발표연도가 70이고 연비가 25이상(and, or-python연산자는 사용못해) 데이터 건수 \n",
    "print(df2.shape[0])\n",
    "\n",
    "# 모델과 모델별 제품 개수 \n",
    "print(df[\"model-year\"].value_counts())\n",
    "\n",
    "\n",
    "# 문제1. 80년대에 나온 제품들을 모델과 개수로 나타내기 \n",
    "print(df[df['model-year']//10==8].value_counts())\n",
    "print(df[np.logical_and(df['model-year']>=80, df['model-year']<=89)].value_counts())\n",
    "\n",
    "\n",
    "# 문제2. 73, 78, 76년에 나온 제품만 모두 출력하기 \n",
    "\"\"\"\n",
    "df2 = df[ (df['model-year']==73) | (df['model-year']==78) | (df['model-year']==76) ]\n",
    "print(df2)\n",
    "df2 = df[ (df['model-year']>=80) & (df['model-year']<=89) & (df['mpg']>=25) ]\n",
    "df[(df['model-year'].isin(range(80, 90))) & (df['mpg'] >= 25)]\n",
    "\"\"\"\n",
    "\n",
    "# 문제3. 80년대에 출시한 제품중에서 연비가 25 이상인 제품의 정보만 출력하기 \n",
    "print(df[np.logical_and(df['model-year']//10==8, df.mpg>=25)])\n",
    "\n",
    "# 문제4. 70년대에 출시된 모델중에서 실린더가 4개인 제품의 정보만 출력하기\n",
    "  \n",
    "# 문제5. 80년대에 출시된 모델들을 실린더 개수와 제품개수로 출력하기 \n",
    "\n",
    "# | or 비트연산자   & and 연산자\n",
    "# df2 = df[ (df['model-year']==73) | (df['model-year']==78) | (df['model-year']==76) ]\n",
    "\n",
    "\n",
    "a = 5 & 7  #  0101 & 0111 = 0101 \n",
    "print(a)"
   ]
  },
  {
   "cell_type": "code",
   "execution_count": 23,
   "id": "49983a02",
   "metadata": {},
   "outputs": [
    {
     "name": "stdout",
     "output_type": "stream",
     "text": [
      "model-year\n",
      "73    40\n",
      "78    36\n",
      "76    34\n",
      "82    31\n",
      "75    30\n",
      "80    29\n",
      "79    29\n",
      "81    29\n",
      "70    29\n",
      "71    28\n",
      "72    28\n",
      "77    28\n",
      "74    27\n",
      "Name: count, dtype: int64\n",
      "연비평균 :  23.514572864321607\n",
      "연비최대 :  46.6\n",
      "연비최소 :  9.0\n",
      "연비중간 :  23.0\n",
      "연비분산 :  61.089610774274405\n",
      "연비표준편차 :  7.815984312565782\n",
      "1사분위수 :  17.5\n",
      "2사분위수 :  23.0\n",
      "3사분위수 :  29.0\n"
     ]
    }
   ],
   "source": [
    "import pandas as pd \n",
    "\n",
    "# 분석에서 데이터가 크게 두종류가 있다 - 분석방법이 다르다 \n",
    "# 연속형데이터, 평균값이 중요하다 연비 40, 30, 25, 회귀분석, 회귀(Regressior)    \n",
    "# 불연속형데이터, 범주형, 카테고리, 평균값이 중요하지 않다. 빈도수가 중요하다. \n",
    "# 발생빈도수 - 실린더수 3 5 4 6 8 , 분류분석, 로지스틱회귀, 분류(Classifier)\n",
    "\n",
    "# header가 3번째 줄에 있음 \n",
    "data = pd.read_csv(\"./data/auto-mpg.csv\")\n",
    "\n",
    "# value_counts 각 데이터별 고유카운트-빈도수, 발생빈도수를 카운트 한다  \n",
    "print( data['model-year'].value_counts())\n",
    "\n",
    "# 평균, 최대, 최소 \n",
    "print(\"연비평균 : \", data['mpg'].mean())\n",
    "print(\"연비최대 : \", data['mpg'].max())\n",
    "print(\"연비최소 : \", data['mpg'].min())\n",
    "print(\"연비중간 : \", data['mpg'].median())\n",
    "print(\"연비분산 : \", data['mpg'].var())\n",
    "print(\"연비표준편차 : \", data['mpg'].std())\n",
    "\n",
    "print(\"1사분위수 : \", data['mpg'].quantile(0.25))\n",
    "print(\"2사분위수 : \", data['mpg'].quantile(0.5))\n",
    "print(\"3사분위수 : \", data['mpg'].quantile(0.75))"
   ]
  },
  {
   "cell_type": "markdown",
   "id": "eedc4c0c",
   "metadata": {},
   "source": [
    "# 결측치"
   ]
  },
  {
   "cell_type": "code",
   "execution_count": 24,
   "id": "b047152e",
   "metadata": {},
   "outputs": [
    {
     "name": "stdout",
     "output_type": "stream",
     "text": [
      "0    False\n",
      "1    False\n",
      "2    False\n",
      "3    False\n",
      "4     True\n",
      "dtype: bool\n",
      "1\n",
      "(30, 3)\n",
      "<class 'pandas.core.frame.DataFrame'>\n",
      "RangeIndex: 30 entries, 0 to 29\n",
      "Data columns (total 3 columns):\n",
      " #   Column  Non-Null Count  Dtype  \n",
      "---  ------  --------------  -----  \n",
      " 0   name    30 non-null     object \n",
      " 1   height  27 non-null     float64\n",
      " 2   weight  28 non-null     float64\n",
      "dtypes: float64(2), object(1)\n",
      "memory usage: 852.0+ bytes\n",
      "None\n",
      "           height      weight\n",
      "count   27.000000   28.000000\n",
      "mean   177.888889   67.107143\n",
      "std     12.096832   25.725530\n",
      "min    167.000000   12.000000\n",
      "25%    172.000000   59.000000\n",
      "50%    175.000000   65.000000\n",
      "75%    179.000000   77.250000\n",
      "max    230.000000  160.000000\n",
      "height\n",
      "175.0    3\n",
      "172.0    3\n",
      "174.0    2\n",
      "176.0    2\n",
      "177.0    2\n",
      "179.0    2\n",
      "173.0    2\n",
      "169.0    2\n",
      "180.0    1\n",
      "168.0    1\n",
      "181.0    1\n",
      "189.0    1\n",
      "193.0    1\n",
      "167.0    1\n",
      "230.0    1\n",
      "171.0    1\n",
      "187.0    1\n",
      "Name: count, dtype: int64\n",
      "height\n",
      "172.0    3\n",
      "175.0    3\n",
      "NaN      3\n",
      "176.0    2\n",
      "174.0    2\n",
      "177.0    2\n",
      "179.0    2\n",
      "173.0    2\n",
      "169.0    2\n",
      "180.0    1\n",
      "168.0    1\n",
      "181.0    1\n",
      "189.0    1\n",
      "193.0    1\n",
      "167.0    1\n",
      "230.0    1\n",
      "171.0    1\n",
      "187.0    1\n",
      "Name: count, dtype: int64\n",
      "3\n",
      "2\n",
      "(25, 3)\n",
      "(30, 1)\n",
      "(30, 2)\n",
      "  name  weight\n",
      "0   A1    92.0\n",
      "1   A2    70.0\n",
      "2   A3    65.0\n",
      "3   A4    64.0\n",
      "4   A5     NaN\n",
      "<class 'pandas.core.frame.DataFrame'>\n",
      "RangeIndex: 398 entries, 0 to 397\n",
      "Data columns (total 7 columns):\n",
      " #   Column        Non-Null Count  Dtype  \n",
      "---  ------        --------------  -----  \n",
      " 0   mpg           398 non-null    float64\n",
      " 1   cylinders     398 non-null    int64  \n",
      " 2   displacement  398 non-null    object \n",
      " 3   horsepower    396 non-null    float64\n",
      " 4   weight        398 non-null    int64  \n",
      " 5   acceleration  398 non-null    float64\n",
      " 6   model-year    398 non-null    int64  \n",
      "dtypes: float64(3), int64(3), object(1)\n",
      "memory usage: 21.9+ KB\n",
      "None\n",
      "2\n",
      "(396, 7)\n"
     ]
    }
   ],
   "source": [
    "import numpy as np \n",
    "import pandas as pd \n",
    "\n",
    "\n",
    "s1 = pd.Series([1,2,3,4,np.nan]) #프로그램에서 nan값을 직접 입력할때는 np.nan을 사용해야 한다 \n",
    "print(s1.isnull()) \n",
    "print(s1.isnull().sum()) #[ False, False, False, False, True]\n",
    "#c언어 True는 1이고 False는 0으로 해석  \n",
    "#[0,0,0,0,1].sum() \n",
    "\n",
    "data = pd.read_csv(\"./data/data.csv\")\n",
    "print(data.shape) \n",
    "print(data.info())\n",
    "print(data.describe())\n",
    "\n",
    "print( data['height'].value_counts()) \n",
    "print( data['height'].value_counts(dropna=False)) \n",
    "\n",
    "print( data['height'].isnull().sum()) \n",
    "print( data['weight'].isnull().sum()) \n",
    "\n",
    "#결측치가 발생하면 행이나 열을 삭제시키거나 평균값이나 중간값으로 대체를 한다. \n",
    "#표준편차가 크면 평균값 보다는 중간값으로 대체를 하는것이 좋다 \n",
    "\n",
    "data2 = data.dropna( how='any', axis=0) #행중에 NaN값 있으면 행 전체를 삭제해라 \n",
    "print(data2.shape)#25, 3으로 준다 \n",
    "\n",
    "data2 = data.dropna( how='any', axis=1) #열중에 NaN값이 하나라도 있으면 삭제한다. \n",
    "print(data2.shape)#30, 1으로 준다 name열 빼고 전체가 삭제된다. \n",
    "\n",
    "#thresh 라는 옵션 - 최소한의 실효성있는 데이터 개수를 유지해라\n",
    "data2 = data.dropna(thresh=28, axis=1) #데이터개수가 27개인 열은 삭제된다. \n",
    "print(data2.shape)\n",
    "print(data2.head())\n",
    "\n",
    "data = pd.read_csv(\"./data/auto-mpg.csv\")\n",
    "print( data.info() )\n",
    "\n",
    "print(data['horsepower'].isnull().sum())\n",
    "data = data.dropna(how='any', axis=0)\n",
    "print(data.shape)"
   ]
  },
  {
   "cell_type": "code",
   "execution_count": 25,
   "id": "a21baafc",
   "metadata": {},
   "outputs": [
    {
     "name": "stdout",
     "output_type": "stream",
     "text": [
      "  name  height  weight\n",
      "0   A1   180.0    92.0\n",
      "1   A2   176.0    70.0\n",
      "2   A3   175.0    65.0\n",
      "3   A4   172.0    64.0\n",
      "4   A5   168.0     NaN\n",
      "<class 'pandas.core.frame.DataFrame'>\n",
      "RangeIndex: 30 entries, 0 to 29\n",
      "Data columns (total 3 columns):\n",
      " #   Column  Non-Null Count  Dtype  \n",
      "---  ------  --------------  -----  \n",
      " 0   name    30 non-null     object \n",
      " 1   height  27 non-null     float64\n",
      " 2   weight  28 non-null     float64\n",
      "dtypes: float64(2), object(1)\n",
      "memory usage: 852.0+ bytes\n",
      "None\n",
      "height 결측치 :  3\n",
      "weight 결측치 :  2\n",
      "name      0\n",
      "height    3\n",
      "weight    2\n",
      "dtype: int64\n",
      "누락데이터 교체 후\n",
      "name      0\n",
      "height    0\n",
      "weight    0\n",
      "dtype: int64\n"
     ]
    },
    {
     "name": "stderr",
     "output_type": "stream",
     "text": [
      "C:\\Users\\ryan9\\AppData\\Local\\Temp\\ipykernel_2360\\1650329432.py:19: FutureWarning: A value is trying to be set on a copy of a DataFrame or Series through chained assignment using an inplace method.\n",
      "The behavior will change in pandas 3.0. This inplace method will never work because the intermediate object on which we are setting values always behaves as a copy.\n",
      "\n",
      "For example, when doing 'df[col].method(value, inplace=True)', try using 'df.method({col: value}, inplace=True)' or df[col] = df[col].method(value) instead, to perform the operation inplace on the original object.\n",
      "\n",
      "\n",
      "  data['height'].fillna(mean_height, inplace=True)\n",
      "C:\\Users\\ryan9\\AppData\\Local\\Temp\\ipykernel_2360\\1650329432.py:20: FutureWarning: A value is trying to be set on a copy of a DataFrame or Series through chained assignment using an inplace method.\n",
      "The behavior will change in pandas 3.0. This inplace method will never work because the intermediate object on which we are setting values always behaves as a copy.\n",
      "\n",
      "For example, when doing 'df[col].method(value, inplace=True)', try using 'df.method({col: value}, inplace=True)' or df[col] = df[col].method(value) instead, to perform the operation inplace on the original object.\n",
      "\n",
      "\n",
      "  data['weight'].fillna(mean_height, inplace=True)\n"
     ]
    }
   ],
   "source": [
    "import pandas as pd \n",
    "\n",
    "#header가 3번째 줄에 있음 \n",
    "data = pd.read_csv(\"./data/data.csv\")\n",
    "\n",
    "print(data.head())\n",
    "print(data.info())\n",
    "\n",
    "print(\"height 결측치 : \", data[\"height\"].isnull().sum())\n",
    "print(\"weight 결측치 : \", data[\"weight\"].isnull().sum())\n",
    "\n",
    "#데이터프레임 전체의 결측치를 확인하기 \n",
    "print(data.isnull().sum())\n",
    "\n",
    "mean_height = data['height'].mean() \n",
    "mean_weight = data['weight'].mean() \n",
    "\n",
    "#fillna(대체값, inplace=True) inplace=True이면 원본데이터를 바꾼다. 그게 아니면 반드시 반환을 받아야 한다 \n",
    "data['height'].fillna(mean_height, inplace=True) \n",
    "data['weight'].fillna(mean_height, inplace=True)\n",
    " \n",
    "print(\"누락데이터 교체 후\")\n",
    "print(data.isnull().sum())"
   ]
  },
  {
   "cell_type": "markdown",
   "id": "30f4c3c0",
   "metadata": {},
   "source": [
    "# 파일 읽기"
   ]
  },
  {
   "cell_type": "code",
   "execution_count": 26,
   "id": "a93453ce",
   "metadata": {},
   "outputs": [
    {
     "name": "stdout",
     "output_type": "stream",
     "text": [
      "  name  kor  eng  mat\n",
      "0  홍길동   90   90   90\n",
      "1  임꺽정   80   80   80\n",
      "2  장길산   70   70   70\n",
      "3  홍경래   90   80   70\n",
      "4  이징옥   60   50   50\n",
      "컬럼명 :  Index(['name', 'kor', 'eng', 'mat'], dtype='object')\n",
      "인덱스 :  RangeIndex(start=0, stop=5, step=1)\n",
      "  name  kor  eng  mat  total  avg\n",
      "0  홍길동   90   90   90    270   90\n",
      "1  임꺽정   80   80   80    240   80\n",
      "2  장길산   70   70   70    210   70\n",
      "3  홍경래   90   80   70    240   80\n",
      "4  이징옥   60   50   50    160   53\n"
     ]
    }
   ],
   "source": [
    "import pandas as pd \n",
    "df = pd.read_csv(\"./data/score.csv\") \n",
    "#데이터프레임으로 만들면 자동으로 행 인덱스가 부여된다.\n",
    "print(df.head()) \n",
    "print(\"컬럼명 : \", df.columns)\n",
    "print(\"인덱스 : \", df.index)\n",
    "\n",
    "df[\"total\"] = df.kor + df.eng + df.mat  #키값에 하이픈이 들어갈 경우 이렇게 쓸 수 없다\n",
    "df[\"avg\"] = df.total//3                 #키추가시에는 df[\"키\"] 형태로 써야 한다  \n",
    "print(df)"
   ]
  },
  {
   "cell_type": "code",
   "execution_count": 27,
   "id": "e713079e",
   "metadata": {},
   "outputs": [
    {
     "name": "stdout",
     "output_type": "stream",
     "text": [
      "  name  kor  eng  mat\n",
      "0  홍길동   90   90   90\n",
      "1  임꺽정   80   80   80\n",
      "2  장길산   70   70   70\n",
      "3  홍경래   90   80   70\n",
      "4  이징옥   60   50   50\n",
      "컬럼명 :  Index(['name', 'kor', 'eng', 'mat'], dtype='object')\n",
      "인덱스 :  RangeIndex(start=0, stop=5, step=1)\n",
      "  name  kor  eng  mat  total  avg\n",
      "0  홍길동   90   90   90    270   90\n",
      "1  임꺽정   80   80   80    240   80\n",
      "2  장길산   70   70   70    210   70\n",
      "3  홍경래   90   80   70    240   80\n",
      "4  이징옥   60   50   50    160   53\n",
      "  name  kor  eng  mat\n",
      "0  홍길동   90   90   90\n",
      "1  임꺽정   80   80   80\n",
      "2  장길산   70   70   70\n",
      "3  홍경래   90   80   70\n",
      "4  이징옥   60   50   50\n",
      "5  일지매   90   90    0\n"
     ]
    }
   ],
   "source": [
    "import pandas as pd \n",
    "df = pd.read_csv(\"./data/score_header.csv\", header=3) \n",
    "# 데이터프레임으로 만들면 자동으로 행 인덱스가 부여된다.\n",
    "print(df.head()) \n",
    "print(\"컬럼명 : \", df.columns)\n",
    "print(\"인덱스 : \", df.index)\n",
    "\n",
    "df[\"total\"] = df.kor + df.eng + df.mat  # 키 값에 하이픈이 들어갈 경우 이렇게 쓸 수 없다\n",
    "df[\"avg\"] = df.total // 3                 # 키 추가 시에는 df[\"키\"] 형태로 써야 한다  \n",
    "print(df )\n",
    "\n",
    "df.to_csv(\"./data/score_result1.csv\", mode=\"w\")\n",
    "df.to_csv(\"./data/score_result2.csv\", mode=\"w\", index=False, encoding='utf-8-sig')\n",
    "\n",
    "df = pd.read_excel(\"./data/score.xlsx\")\n",
    "print(df)"
   ]
  }
 ],
 "metadata": {
  "kernelspec": {
   "display_name": "sesac_ai",
   "language": "python",
   "name": "python3"
  },
  "language_info": {
   "codemirror_mode": {
    "name": "ipython",
    "version": 3
   },
   "file_extension": ".py",
   "mimetype": "text/x-python",
   "name": "python",
   "nbconvert_exporter": "python",
   "pygments_lexer": "ipython3",
   "version": "3.11.13"
  }
 },
 "nbformat": 4,
 "nbformat_minor": 5
}
