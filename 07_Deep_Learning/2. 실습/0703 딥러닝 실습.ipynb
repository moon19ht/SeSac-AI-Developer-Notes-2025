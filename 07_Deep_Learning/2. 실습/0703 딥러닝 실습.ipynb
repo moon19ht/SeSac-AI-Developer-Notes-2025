{
 "cells": [
  {
   "cell_type": "code",
   "execution_count": 1,
   "id": "6fb98e26",
   "metadata": {},
   "outputs": [],
   "source": [
    "import pandas as pd \n",
    "\n",
    "data = {\n",
    "    'passenger_code':['A101', 'A102', 'A103', 'A101', 'A104', 'A101', 'A103'],\n",
    "    'target':['광주', '서울', '부산', '광주', '대구', '광주', '부산'],\n",
    "    'price':[25000, 27000, 45000, 25000, 35000, 27000, 45000]\n",
    "}\n",
    "\n",
    "df = pd.DataFrame(data)"
   ]
  }
 ],
 "metadata": {
  "kernelspec": {
   "display_name": "sesac_ai",
   "language": "python",
   "name": "python3"
  },
  "language_info": {
   "codemirror_mode": {
    "name": "ipython",
    "version": 3
   },
   "file_extension": ".py",
   "mimetype": "text/x-python",
   "name": "python",
   "nbconvert_exporter": "python",
   "pygments_lexer": "ipython3",
   "version": "3.11.13"
  }
 },
 "nbformat": 4,
 "nbformat_minor": 5
}
