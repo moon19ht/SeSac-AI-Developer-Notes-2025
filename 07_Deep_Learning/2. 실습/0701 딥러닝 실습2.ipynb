{
 "cells": [
  {
   "cell_type": "code",
   "execution_count": 6,
   "metadata": {},
   "outputs": [
    {
     "name": "stdout",
     "output_type": "stream",
     "text": [
      "<class 'pandas.core.frame.DataFrame'>\n",
      "  name  age gender\n",
      "0  홍길동   20      남\n",
      "1  김길동   21      여\n",
      "2  이길동   22      남\n",
      "  name  age gender\n",
      "0  홍길동   20      남\n",
      "1  김길동   21      여\n",
      "2  이길동   22      남\n"
     ]
    }
   ],
   "source": [
    "import pandas as pd\n",
    "\n",
    "data = {\n",
    "    \"name\" : [\"홍길동\", \"김길동\", \"이길동\"],\n",
    "    \"age\" : [20, 21, 22],\n",
    "    \"gender\" : [\"남\", \"여\", \"남\"]\n",
    "}\n",
    "\n",
    "df = pd.DataFrame(data)\n",
    "\n",
    "print(type(df))\n",
    "print(df)\n",
    "print(df.head(3))\n"
   ]
  },
  {
   "cell_type": "code",
   "execution_count": 5,
   "metadata": {},
   "outputs": [
    {
     "name": "stdout",
     "output_type": "stream",
     "text": [
      "홍길동\n",
      "홍길동\n"
     ]
    }
   ],
   "source": [
    "print(df.iloc[0, 0])\n",
    "print(df.loc[0, \"name\"])"
   ]
  },
  {
   "cell_type": "code",
   "execution_count": 7,
   "metadata": {},
   "outputs": [
    {
     "name": "stdout",
     "output_type": "stream",
     "text": [
      "0    홍길동\n",
      "1    김길동\n",
      "2    이길동\n",
      "Name: name, dtype: object\n",
      "  name  age\n",
      "0  홍길동   20\n",
      "1  김길동   21\n",
      "2  이길동   22\n",
      "  name  age\n",
      "0  홍길동   20\n",
      "1  김길동   21\n",
      "2  이길동   22\n"
     ]
    }
   ],
   "source": [
    "# 한 칼럼을 통으로 가져오기\n",
    "print(df[\"name\"])\n",
    "\n",
    "# 여러 칼럼을 통으로 가져오기\n",
    "print(df[[\"name\", \"age\"]])\n",
    "\n",
    "# 여러 칼럼을 통으로 가져오기\n",
    "print(df[[\"name\", \"age\"]])"
   ]
  },
  {
   "cell_type": "code",
   "execution_count": 8,
   "metadata": {},
   "outputs": [
    {
     "name": "stdout",
     "output_type": "stream",
     "text": [
      "홍길동\n",
      "김길동\n",
      "이길동\n",
      "홍길동 20 남 \n",
      "김길동 21 여 \n",
      "이길동 22 남 \n"
     ]
    }
   ],
   "source": [
    "for i in range(0, len(df)):\n",
    "    print(df.iloc[i, 0])\n",
    "\n",
    "for i in range(0, df.shape[0]):\n",
    "    for j in range(0, df.shape[1]):\n",
    "        print(df.iloc[i, j], end=\" \")\n",
    "    print()"
   ]
  }
 ],
 "metadata": {
  "kernelspec": {
   "display_name": "sesac_ai",
   "language": "python",
   "name": "python3"
  },
  "language_info": {
   "codemirror_mode": {
    "name": "ipython",
    "version": 3
   },
   "file_extension": ".py",
   "mimetype": "text/x-python",
   "name": "python",
   "nbconvert_exporter": "python",
   "pygments_lexer": "ipython3",
   "version": "3.11.13"
  }
 },
 "nbformat": 4,
 "nbformat_minor": 2
}
