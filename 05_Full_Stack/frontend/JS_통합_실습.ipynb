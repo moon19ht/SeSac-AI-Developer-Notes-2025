{
  "cells": [
    {
      "cell_type": "markdown",
      "metadata": {
        "vscode": {
          "languageId": "raw"
        }
      },
      "source": [
        "# JavaScript 통합 실습\n",
        "\n",
        "이 노트북은 JavaScript 관련 HTML 파일들을 통합하여 정리한 것입니다.\n",
        "\n",
        "## 목차\n",
        "1. [JavaScript 기본 문법](#javascript-기본-문법)\n",
        "2. [DOM 조작](#dom-조작)\n",
        "3. [이벤트 처리](#이벤트-처리)\n",
        "4. [배열 처리](#배열-처리)\n",
        "5. [계산 및 성적처리](#계산-및-성적처리)\n",
        "6. [jQuery 기본](#jquery-기본)\n",
        "7. [jQuery 선택자](#jquery-선택자)\n",
        "8. [jQuery 값 조작](#jquery-값-조작)\n",
        "9. [jQuery 효과](#jquery-효과)\n",
        "10. [DOM 추가/삭제](#dom-추가삭제)\n",
        "11. [테이블 처리](#테이블-처리)\n",
        "12. [타이머](#타이머)\n",
        "13. [Ajax](#ajax)\n"
      ]
    },
    {
      "cell_type": "markdown",
      "metadata": {
        "vscode": {
          "languageId": "raw"
        }
      },
      "source": [
        "## JavaScript 기본 문법\n",
        "\n",
        "JavaScript의 기본 문법과 변수 선언, 문자열 처리 등을 다루는 예제들입니다.\n"
      ]
    },
    {
      "cell_type": "markdown",
      "metadata": {
        "vscode": {
          "languageId": "raw"
        }
      },
      "source": [
        "### Hello JavaScript\n",
        "\n",
        "JavaScript의 기본 구조와 외부 스크립트 파일 사용법을 보여주는 예제입니다.\n"
      ]
    },
    {
      "cell_type": "code",
      "execution_count": null,
      "metadata": {},
      "outputs": [],
      "source": [
        "from IPython.display import HTML\n",
        "\n",
        "HTML(\"\"\"\n",
        "<!DOCTYPE html>\n",
        "<html lang=\"en\">\n",
        "<head>\n",
        "    <meta charset=\"UTF-8\">\n",
        "    <meta name=\"viewport\" content=\"width=device-width, initial-scale=1.0\">\n",
        "    <title>Document</title>\n",
        "    <script src=\"./js/myscript.js\"></script>\n",
        "</head>\n",
        "<body>\n",
        "    <script >\n",
        "        alert('Hello javascript');\n",
        "        // console.log( add(10, 20) ); // 외부 스크립트 파일이 없어서 주석 처리\n",
        "    </script>\n",
        "</body>\n",
        "</html>\n",
        "\"\"\")\n"
      ]
    },
    {
      "cell_type": "markdown",
      "metadata": {
        "vscode": {
          "languageId": "raw"
        }
      },
      "source": [
        "### 변수 선언\n",
        "\n",
        "JavaScript의 변수 선언 방법(let, const)과 기본적인 연산을 보여주는 예제입니다.\n"
      ]
    },
    {
      "cell_type": "code",
      "execution_count": null,
      "metadata": {},
      "outputs": [],
      "source": [
        "from IPython.display import HTML\n",
        "\n",
        "HTML(\"\"\"\n",
        " <!DOCTYPE html>\n",
        " <html lang=\"en\">\n",
        " <head>\n",
        "    <meta charset=\"UTF-8\">\n",
        "    <meta name=\"viewport\" content=\"width=device-width, initial-scale=1.0\">\n",
        "    <title>Document</title>\n",
        " </head>\n",
        " <body>\n",
        "    <script>\n",
        "        let name=\"홍길동\";\n",
        "        let age=23;\n",
        "        console.log(name)\n",
        "        console.log(age)\n",
        "\n",
        "        let a=6, b=7, c=9;\n",
        "        let result = a+b+c;\n",
        "\n",
        "        console.log( result);\n",
        "\n",
        "        const PI=3.14;//상수는 가독성을 높이기 위해서 \n",
        "                      //디버깅 유지보수등을 위해서 \n",
        "        let radius = 4;\n",
        "        console.log( radius*radius*PI);\n",
        "        //PI = 3.1415;\n",
        "    </script>\n",
        " </body>\n",
        " </html>\n",
        "\"\"\")\n"
      ]
    },
    {
      "cell_type": "markdown",
      "metadata": {
        "vscode": {
          "languageId": "raw"
        }
      },
      "source": [
        "### 문자열 처리\n",
        "\n",
        "JavaScript의 문자열 처리와 템플릿 리터럴(Template Literal) 사용법을 보여주는 예제입니다.\n"
      ]
    },
    {
      "cell_type": "code",
      "execution_count": null,
      "metadata": {},
      "outputs": [],
      "source": [
        "from IPython.display import HTML\n",
        "\n",
        "HTML(\"\"\"\n",
        "<!DOCTYPE html>\n",
        "<html lang=\"en\">\n",
        "<head>\n",
        "    <meta charset=\"UTF-8\">\n",
        "    <meta name=\"viewport\" content=\"width=device-width, initial-scale=1.0\">\n",
        "    <title>Document</title>\n",
        "</head>\n",
        "<body>\n",
        "    <script>\n",
        "        let s1 = \"Hello javascript\";\n",
        "        let name = '홍길동';\n",
        "        let age = 23;\n",
        "        //python의 fstring에 대응\n",
        "        let result = `${name} 의 나이는 ${age} 입니다`;\n",
        "        console.log(s1);\n",
        "        console.log(result);\n",
        "    </script>\n",
        "</body>\n",
        "</html>\n",
        "\"\"\")\n"
      ]
    },
    {
      "cell_type": "markdown",
      "metadata": {
        "vscode": {
          "languageId": "raw"
        }
      },
      "source": [
        "## DOM 조작\n",
        "\n",
        "JavaScript를 사용하여 HTML DOM(Document Object Model)을 조작하는 예제들입니다.\n"
      ]
    },
    {
      "cell_type": "markdown",
      "metadata": {
        "vscode": {
          "languageId": "raw"
        }
      },
      "source": [
        "### DOM 기본 접근\n",
        "\n",
        "getElementById와 querySelector를 사용하여 DOM 요소에 접근하고 내용을 변경하는 예제입니다.\n"
      ]
    },
    {
      "cell_type": "code",
      "execution_count": null,
      "metadata": {},
      "outputs": [],
      "source": [
        "from IPython.display import HTML\n",
        "\n",
        "HTML(\"\"\"\n",
        "<!DOCTYPE html>\n",
        "<html lang=\"en\">\n",
        "<head>\n",
        "    <meta charset=\"UTF-8\">\n",
        "    <meta name=\"viewport\" content=\"width=device-width, initial-scale=1.0\">\n",
        "    <title>Document</title>\n",
        "</head>\n",
        "<body>\n",
        "    <h1 id=\"title1\">제목줄1</h1>\n",
        "    <h1 id=\"title2\">제목줄2</h1>\n",
        "    <h1 id=\"title3\">제목줄3</h1>\n",
        "    \n",
        "    <script>\n",
        "        //자바스크립트로 dom 트리에 접근하기 \n",
        "        //id는 하나의 페이지에 반드시 하나만 존재해야 한다 \n",
        "        //혹시나 두개 쓰면 자바스크립트가 2번째부터는 접근 불가 \n",
        "        h1 = document.getElementById(\"title1\");\n",
        "        //일반태그의 경우에는 innerHTML 속성에 값을 읽고 쓴다 \n",
        "        h1.innerHTML=\"쌍갑포차\";\n",
        "        h2 = document.querySelector(\"#title2\");//최근에 나온 문법 \n",
        "        h2.innerHTML=\"아지갑놓고나왔다\";\n",
        "        document.getElementById(\"title3\").innerHTML=\n",
        "            \"<span style='color:red;'>뽀짜툰</span>\";\n",
        "\n",
        "        //배열을써서 for문으로 해결하고 싶다\n",
        "        titles = [\"\",\n",
        "            \"네개의서명\", \n",
        "            \"<span style='color:blue'>그리고아무도없었다</span>\",\n",
        "            \"쥐덫\"\n",
        "        ];\n",
        "\n",
        "        for(i=1; i<=3; i++){\n",
        "            document.getElementById(\"title\"+i).innerHTML=titles[i];\n",
        "        }\n",
        "    </script>\n",
        "</body>\n",
        "</html>\n",
        "\"\"\")\n"
      ]
    },
    {
      "cell_type": "markdown",
      "metadata": {
        "vscode": {
          "languageId": "raw"
        }
      },
      "source": [
        "## jQuery 기본\n",
        "\n",
        "jQuery 라이브러리의 기본 사용법과 DOM 조작 예제들입니다.\n"
      ]
    },
    {
      "cell_type": "markdown",
      "metadata": {
        "vscode": {
          "languageId": "raw"
        }
      },
      "source": [
        "### jQuery 기본 구조\n",
        "\n",
        "jQuery의 기본 구조와 이벤트 처리 방법을 보여주는 예제입니다.\n"
      ]
    },
    {
      "cell_type": "code",
      "execution_count": null,
      "metadata": {},
      "outputs": [],
      "source": [
        "from IPython.display import HTML\n",
        "\n",
        "HTML(\"\"\"\n",
        "<!DOCTYPE html>\n",
        "<html lang=\"en\">\n",
        "<head>\n",
        "    <meta charset=\"UTF-8\">\n",
        "    <meta name=\"viewport\" content=\"width=device-width, initial-scale=1.0\">\n",
        "    <title>Document</title>\n",
        "    <script src=\"https://ajax.googleapis.com/ajax/libs/jquery/3.5.1/jquery.min.js\"></script>\n",
        "</head>\n",
        "<script>\n",
        "    $(document).ready(function(){\n",
        "        //이벤트 핸들러를 이 위치에서 처리한다. \n",
        "        //문서가 모두 로딩된 후 이 부분이 호출된다. window.onload와 같은 역할 \n",
        "        $(\"p\").click( function(){\n",
        "            alert('눌림');\n",
        "        })\n",
        "    });\n",
        "</script>\n",
        "<body>\n",
        "    <p>누르세요</p>\n",
        "</body>\n",
        "</html>\n",
        "\"\"\")\n"
      ]
    },
    {
      "cell_type": "markdown",
      "metadata": {
        "vscode": {
          "languageId": "raw"
        }
      },
      "source": [
        "## 이벤트 처리\n",
        "\n",
        "JavaScript와 jQuery를 사용한 다양한 이벤트 처리 예제들입니다.\n"
      ]
    },
    {
      "cell_type": "markdown",
      "metadata": {
        "vscode": {
          "languageId": "raw"
        }
      },
      "source": [
        "### 배경색 변경\n",
        "\n",
        "버튼 클릭으로 페이지 배경색을 변경하는 이벤트 처리 예제입니다.\n"
      ]
    },
    {
      "cell_type": "code",
      "execution_count": null,
      "metadata": {},
      "outputs": [],
      "source": [
        "from IPython.display import HTML\n",
        "\n",
        "HTML(\"\"\"\n",
        "<!DOCTYPE html>\n",
        "<html lang=\"en\">\n",
        "<head>\n",
        "    <meta charset=\"UTF-8\">\n",
        "    <meta name=\"viewport\" content=\"width=device-width, initial-scale=1.0\">\n",
        "    <title>Document</title>\n",
        "</head>\n",
        "<body>\n",
        "    <button type=\"button\" style=\"background-color: aquamarine\" \n",
        "            onclick=\"changeBackground(this)\">배경색</button>\n",
        "    <button type=\"button\" style=\"background-color: rgb(157, 254, 87)\" \n",
        "            onclick=\"changeBackground(this)\">배경색</button>\n",
        "    <button type=\"button\" style=\"background-color: rgb(250, 73, 144)\" \n",
        "            onclick=\"changeBackground(this)\">배경색</button>\n",
        "    <button type=\"button\" style=\"background-color: rgb(96, 27, 149)\" \n",
        "            onclick=\"changeBackground(this)\">배경색</button>\n",
        "    <button type=\"button\" style=\"background-color: rgb(243, 195, 51)\" \n",
        "            onclick=\"changeBackground(this)\">배경색</button>\n",
        "\n",
        "<script>\n",
        "    function changeBackground(me)\n",
        "    {\n",
        "        document.getElementsByTagName(\"body\")[0].style.backgroundColor \n",
        "            = me.style.backgroundColor;\n",
        "    }\n",
        "</script>\n",
        "</body>\n",
        "</html>\n",
        "\"\"\")\n"
      ]
    },
    {
      "cell_type": "markdown",
      "metadata": {
        "vscode": {
          "languageId": "raw"
        }
      },
      "source": [
        "## 계산 및 성적처리\n",
        "\n",
        "JavaScript를 사용한 계산 및 성적 처리 예제들입니다.\n"
      ]
    },
    {
      "cell_type": "markdown",
      "metadata": {
        "vscode": {
          "languageId": "raw"
        }
      },
      "source": [
        "### 성적 처리 시스템\n",
        "\n",
        "학생의 이름과 과목별 점수를 입력받아 총점을 계산하는 예제입니다.\n"
      ]
    },
    {
      "cell_type": "code",
      "execution_count": null,
      "metadata": {},
      "outputs": [],
      "source": [
        "from IPython.display import HTML\n",
        "\n",
        "HTML(\"\"\"\n",
        "<!DOCTYPE html>\n",
        "<html lang=\"en\">\n",
        "<head>\n",
        "    <meta charset=\"UTF-8\">\n",
        "    <meta name=\"viewport\" content=\"width=device-width, initial-scale=1.0\">\n",
        "    <title>Document</title>\n",
        "</head>\n",
        "<body>\n",
        "    <h1>성적처리</h1>\n",
        "    이름:<input type=\"text\" name=\"\" id=\"name\"><br/>\n",
        "    국어:<input type=\"text\" name=\"\" id=\"kor\"><br/>\n",
        "    영어:<input type=\"text\" name=\"\" id=\"eng\"><br/>\n",
        "    수학:<input type=\"text\" name=\"\" id=\"mat\"><br/>\n",
        "    <div style=\"border: 1px solid black ; width: 100px; height: 50px;\" id=\"result\"></div>\n",
        "    <button type=\"button\" id=\"btnAdd\">확인</button>\n",
        "    <script>\n",
        "        let btnAdd =document.querySelector(\"#btnAdd\");\n",
        "        btnAdd.addEventListener(\"click\",()=>{\n",
        "            name=document.querySelector('#name').value;\n",
        "            kor=document.querySelector('#kor').value;\n",
        "            eng=document.querySelector('#eng').value;\n",
        "            mat=document.querySelector('#mat').value;\n",
        "            document.querySelector('#result').innerHTML=\n",
        "             `${name}의 총점은 ${parseInt(kor)+parseInt(eng)+parseInt(mat)} 입니다`;\n",
        "        })\n",
        "    </script>\n",
        "</body>\n",
        "</html>\n",
        "\"\"\")\n"
      ]
    },
    {
      "cell_type": "markdown",
      "metadata": {
        "vscode": {
          "languageId": "raw"
        }
      },
      "source": [
        "## jQuery 효과\n",
        "\n",
        "jQuery를 사용한 다양한 애니메이션과 효과 예제들입니다.\n"
      ]
    },
    {
      "cell_type": "markdown",
      "metadata": {
        "vscode": {
          "languageId": "raw"
        }
      },
      "source": [
        "### 페이드 효과\n",
        "\n",
        "jQuery의 fadeIn, fadeOut 효과를 보여주는 예제입니다.\n"
      ]
    },
    {
      "cell_type": "code",
      "execution_count": null,
      "metadata": {},
      "outputs": [],
      "source": [
        "from IPython.display import HTML\n",
        "\n",
        "HTML(\"\"\"\n",
        "<!DOCTYPE html>\n",
        "<html lang=\"en\">\n",
        "<head>\n",
        "    <meta charset=\"UTF-8\">\n",
        "    <meta name=\"viewport\" content=\"width=device-width, initial-scale=1.0\">\n",
        "    <title>Document</title>\n",
        "    <script src=\"https://ajax.googleapis.com/ajax/libs/jquery/3.5.1/jquery.min.js\"></script>\n",
        "</head>\n",
        "<body>\n",
        "    <p>페이드인/페이드아웃</p>\n",
        "    <button id=\"btnFadeIn\">fade in</button> <button id=\"btnFadeOut\">fade out</button>\n",
        "    <br><br>\n",
        "    <div id=\"div1\" style=\"width:80px;height:80px;display:none;background-color:red;\"></div><br>\n",
        "    <div id=\"div2\" style=\"width:80px;height:80px;display:none;background-color:green;\"></div><br>\n",
        "    <div id=\"div3\" style=\"width:80px;height:80px;display:none;background-color:blue;\"></div>\n",
        "</body>\n",
        "</html>\n",
        "\n",
        "<script>\n",
        "    $(function(){\n",
        "        $(\"#btnFadeIn\").click(function(){\n",
        "            $(\"#div1\").fadeIn();\n",
        "            $(\"#div2\").fadeIn(\"slow\");\n",
        "            $(\"#div3\").fadeIn(3000);\n",
        "        });\n",
        "        $(\"#btnFadeOut\").click(function(){\n",
        "            $(\"#div1\").fadeOut();\n",
        "            $(\"#div2\").fadeOut(\"slow\");\n",
        "            $(\"#div3\").fadeOut(3000)\n",
        "            .fadeIn(3000);\n",
        "        });\n",
        "    })\n",
        "</script>\n",
        "\"\"\")\n"
      ]
    },
    {
      "cell_type": "markdown",
      "metadata": {
        "vscode": {
          "languageId": "raw"
        }
      },
      "source": [
        "## 배열 처리\n",
        "\n",
        "JavaScript와 jQuery를 사용한 배열과 폼 요소 처리 예제들입니다.\n"
      ]
    },
    {
      "cell_type": "markdown",
      "metadata": {
        "vscode": {
          "languageId": "raw"
        }
      },
      "source": [
        "### 배열 활용 계산\n",
        "\n",
        "여러 개의 input 요소의 값을 배열로 처리하여 합계를 구하는 예제입니다.\n"
      ]
    },
    {
      "cell_type": "code",
      "execution_count": null,
      "metadata": {},
      "outputs": [],
      "source": [
        "from IPython.display import HTML\n",
        "\n",
        "HTML(\"\"\"\n",
        "<!DOCTYPE html>\n",
        "<html lang=\"en\">\n",
        "<head>\n",
        "    <meta charset=\"UTF-8\">\n",
        "    <meta name=\"viewport\" content=\"width=device-width, initial-scale=1.0\">\n",
        "    <title>Document</title>\n",
        "</head>\n",
        "<body>\n",
        "    <input type=\"text\" name=\"numbers\" id=\"numbers1\" value=\"1\"> <br/>\n",
        "    <input type=\"text\" name=\"numbers\" id=\"numbers2\" value=\"2\"> <br/>\n",
        "    <input type=\"text\" name=\"numbers\" id=\"numbers3\" value=\"3\"> <br/>\n",
        "    <input type=\"text\" name=\"numbers\" id=\"numbers4\" value=\"4\"> <br/>\n",
        "    <input type=\"text\" name=\"numbers\" id=\"numbers5\" value=\"5\"> <br/>\n",
        "    <input type=\"text\" name=\"numbers\" id=\"numbers6\" value=\"6\"> <br/>\n",
        "    <input type=\"text\" name=\"numbers\" id=\"numbers7\" value=\"7\"> <br/>\n",
        "    <input type=\"text\" name=\"numbers\" id=\"numbers8\" value=\"8\"> <br/>\n",
        "    <input type=\"text\" name=\"numbers\" id=\"numbers9\" value=\"9\"> <br/>\n",
        "    <input type=\"text\" name=\"numbers\" id=\"numbers10\" value=\"10\"> <br/>\n",
        "    <div id=\"result\"></div>\n",
        "    <button type=\"button\" id=\"btnAdd1\">더하기1(name접근)</button>\n",
        "    <button type=\"button\" id=\"btnAdd2\">더하기2(id접근)</button>\n",
        "    <script>\n",
        "        window.onload=()=>{\n",
        "            let btnAdd1 = document.querySelector(\"#btnAdd1\");\n",
        "            btnAdd1.addEventListener(\"click\", ()=>{\n",
        "                let numbers = document.getElementsByName(\"numbers\");\n",
        "                s=0;\n",
        "                numbers.forEach(item=> s=s+parseInt(item.value));\n",
        "                document.querySelector(\"#result\").innerHTML=s;  \n",
        "            })\n",
        "\n",
        "            let btnAdd2 = document.querySelector(\"#btnAdd2\");\n",
        "            btnAdd2.addEventListener(\"click\", ()=>{\n",
        "                s=0;\n",
        "                for(i=1; i<=10; i++)\n",
        "                {\n",
        "                    s += parseInt(document.getElementById(\"numbers\"+i).value);\n",
        "                }\n",
        "                document.querySelector(\"#result\").innerHTML=s;  \n",
        "            })\n",
        "        }\n",
        "    </script>\n",
        "</body>\n",
        "</html>\n",
        "\"\"\")\n"
      ]
    },
    {
      "cell_type": "markdown",
      "metadata": {
        "vscode": {
          "languageId": "raw"
        }
      },
      "source": [
        "## 테이블 처리\n",
        "\n",
        "동적으로 테이블에 행을 추가하고 삭제하는 예제들입니다.\n"
      ]
    },
    {
      "cell_type": "markdown",
      "metadata": {
        "vscode": {
          "languageId": "raw"
        }
      },
      "source": [
        "### 테이블 행 추가\n",
        "\n",
        "JavaScript로 동적으로 테이블에 데이터를 추가하는 예제입니다.\n"
      ]
    },
    {
      "cell_type": "code",
      "execution_count": null,
      "metadata": {},
      "outputs": [],
      "source": [
        "from IPython.display import HTML\n",
        "\n",
        "HTML(\"\"\"\n",
        "<!DOCTYPE html>\n",
        "<html lang=\"en\">\n",
        "<head>\n",
        "    <meta charset=\"UTF-8\">\n",
        "    <meta name=\"viewport\" content=\"width=device-width, initial-scale=1.0\">\n",
        "    <title>Document</title>\n",
        "</head>\n",
        "<body>\n",
        "    <table>\n",
        "        <thead>\n",
        "            <th>품목</th>\n",
        "            <th>수량</th>\n",
        "            <th>가격</th>\n",
        "        </thead>\n",
        "        <tbody id=\"tbody\"></tbody>\n",
        "    </table>\n",
        "\n",
        "    <script>\n",
        "        let data=[\n",
        "            {name:\"새우깡\", count:10, price:2000},\n",
        "            {name:\"감자깡\", count:20, price:2500},\n",
        "            {name:\"자갈치\", count:30, price:5000},\n",
        "            {name:\"에이스\", count:40, price:7000},\n",
        "            {name:\"맛동산\", count:50, price:8000}                \n",
        "        ]\n",
        "        \n",
        "        function load(){\n",
        "            tbody = document.querySelector(\"#tbody\");\n",
        "            data.forEach( item=>{\n",
        "                row = tbody.insertRow( tbody.rows.length );\n",
        "                cell1 = row.insertCell(0);\n",
        "                cell2 = row.insertCell(1);\n",
        "                cell3 = row.insertCell(2);\n",
        "                cell1.innerHTML = item.name;\n",
        "                cell2.innerHTML = item.count;\n",
        "                cell3.innerHTML = item.price;\n",
        "            })\n",
        "        }\n",
        "        window.onload=()=>{\n",
        "            load();\n",
        "        }\n",
        "    </script>\n",
        "</body>\n",
        "</html>\n",
        "\"\"\")\n"
      ]
    },
    {
      "cell_type": "markdown",
      "metadata": {
        "vscode": {
          "languageId": "raw"
        }
      },
      "source": [
        "## 타이머\n",
        "\n",
        "JavaScript의 setTimeout과 setInterval을 사용한 타이머 예제들입니다.\n"
      ]
    },
    {
      "cell_type": "markdown",
      "metadata": {
        "vscode": {
          "languageId": "raw"
        }
      },
      "source": [
        "### 실시간 시계\n",
        "\n",
        "setInterval을 사용하여 실시간으로 시간을 표시하는 디지털 시계 예제입니다.\n"
      ]
    },
    {
      "cell_type": "code",
      "execution_count": null,
      "metadata": {},
      "outputs": [],
      "source": [
        "from IPython.display import HTML\n",
        "\n",
        "HTML(\"\"\"\n",
        "<!DOCTYPE html>\n",
        "<html lang=\"en\">\n",
        "<head>\n",
        "    <meta charset=\"UTF-8\">\n",
        "    <meta name=\"viewport\" content=\"width=device-width, initial-scale=1.0\">\n",
        "    <title>Document</title>\n",
        "</head>\n",
        "<body>\n",
        "    <h1 id=\"clock\"></h1>\n",
        "    <button type=\"button\" id=\"btnCall\">종료</button>\n",
        "\n",
        "    <script>\n",
        "        window.onload=()=>{\n",
        "            //반환값을 받아놔야 종료를 시킬 수 있다\n",
        "            let timer1 = setInterval(()=>{\n",
        "                today = new Date(); //오늘 날짜 알아내기\n",
        "                document.querySelector(\"#clock\").innerHTML=\n",
        "                     today.toLocaleTimeString(); \n",
        "                //컴퓨터의 시계가 1970년 1월 1일 0시부터 1초당 1씩 가산됨 \n",
        "            }, 1000);\n",
        "\n",
        "            btnCall = document.querySelector(\"#btnCall\");\n",
        "            btnCall.addEventListener(\"click\", ()=>{\n",
        "                clearInterval(timer1);\n",
        "            })\n",
        "        }\n",
        "    </script>\n",
        "</body>\n",
        "</html>\n",
        "\"\"\")\n"
      ]
    },
    {
      "cell_type": "markdown",
      "metadata": {
        "vscode": {
          "languageId": "raw"
        }
      },
      "source": [
        "## jQuery 선택자\n",
        "\n",
        "jQuery의 다양한 선택자와 이벤트 처리 방법을 보여주는 예제들입니다.\n"
      ]
    },
    {
      "cell_type": "markdown",
      "metadata": {
        "vscode": {
          "languageId": "raw"
        }
      },
      "source": [
        "### jQuery 기본 선택자\n",
        "\n",
        "ID, class, 태그 선택자를 사용한 스타일 변경 예제입니다.\n"
      ]
    },
    {
      "cell_type": "code",
      "execution_count": null,
      "metadata": {},
      "outputs": [],
      "source": [
        "from IPython.display import HTML\n",
        "\n",
        "HTML(\"\"\"\n",
        "<!DOCTYPE html>\n",
        "<html lang=\"en\">\n",
        "<head>\n",
        "    <meta charset=\"UTF-8\">\n",
        "    <meta name=\"viewport\" content=\"width=device-width, initial-scale=1.0\">\n",
        "    <title>Document</title>\n",
        "    <script src=\"https://ajax.googleapis.com/ajax/libs/jquery/3.5.1/jquery.min.js\"></script>\n",
        "</head>\n",
        "<body>\n",
        "   <h1>누르세요</h1> \n",
        "   <h1 id=\"brown\">brown</h1>\n",
        "   <h1 id=\"gold\">gold</h1>\n",
        "   \n",
        "   <h1 class=\"blue\">파란색 스타일 1</h1>\n",
        "   <h1 class=\"blue\">파란색 스타일 2</h1>\n",
        "   <h1 class=\"blue\">파란색 스타일 3</h1>\n",
        "\n",
        "   <h1 class=\"red\">빨간색 스타일 1</h1>\n",
        "   <h1 class=\"red\">빨간색 스타일 2</h1>\n",
        "   <h1 class=\"red\">빨간색 스타일 3</h1>\n",
        "</body>\n",
        "</html>\n",
        "\n",
        "<script>\n",
        "    $(function(){\n",
        "        $(\"#brown\").click( ()=>{ \n",
        "            $(\"#brown\").prop(\"style\", \"color:brown\"); \n",
        "        });\n",
        "    \n",
        "        $(\"#gold\").click( ()=>{ \n",
        "            $(\"#gold\").prop(\"style\", \"color:gold\"); \n",
        "        });\n",
        "    \n",
        "        $(\".blue\").click( ()=>{ \n",
        "           $(\".blue\").prop(\"style\", \"color:blue\"); \n",
        "        });\n",
        "    \n",
        "        $(\".red\").click( ()=>{ \n",
        "           $(\".red\").prop(\"style\", \"color:red\"); \n",
        "        });\n",
        "    });\n",
        "</script>\n",
        "\"\"\")\n"
      ]
    },
    {
      "cell_type": "markdown",
      "metadata": {
        "vscode": {
          "languageId": "raw"
        }
      },
      "source": [
        "## 폼 처리\n",
        "\n",
        "다양한 폼 요소(input, radio, checkbox, select 등)를 jQuery로 처리하는 예제들입니다.\n"
      ]
    },
    {
      "cell_type": "markdown",
      "metadata": {
        "vscode": {
          "languageId": "raw"
        }
      },
      "source": [
        "### 종합 폼 처리\n",
        "\n",
        "라디오 버튼, 체크박스, 셀렉트 박스 등 다양한 폼 요소를 처리하는 종합 예제입니다.\n"
      ]
    },
    {
      "cell_type": "code",
      "execution_count": null,
      "metadata": {},
      "outputs": [],
      "source": [
        "from IPython.display import HTML\n",
        "\n",
        "HTML(\"\"\"\n",
        "<!DOCTYPE html>\n",
        "<html lang=\"en\">\n",
        "<head>\n",
        "    <meta charset=\"UTF-8\">\n",
        "    <meta name=\"viewport\" content=\"width=device-width, initial-scale=1.0\">\n",
        "    <title>Document</title>\n",
        "    <script src=\"https://ajax.googleapis.com/ajax/libs/jquery/3.5.1/jquery.min.js\"></script>\n",
        "</head>\n",
        "<body>\n",
        "    <form id=\"form\" name=\"form\">\n",
        "        이름 : <input type=\"text\" name=\"username\" id=\"username\"><br><br>\n",
        "        이메일 : <input type=\"text\" name=\"email\" id=\"email\"><br><br>\n",
        "        \n",
        "        나이 : \n",
        "        <input type=\"radio\" name=\"age\"  value=\"10\">10대 \n",
        "        <input type=\"radio\" name=\"age\"  value=\"20\">20대 \n",
        "        <input type=\"radio\" name=\"age\"  value=\"30\">30대 <br><br>\n",
        "        \n",
        "        관심분야\n",
        "        <input type=\"checkbox\" name=\"interest\"  value=\"1\">프로그래밍 \n",
        "        <input type=\"checkbox\" name=\"interest\"  value=\"2\">웹프로그래밍 \n",
        "        <input type=\"checkbox\" name=\"interest\"  value=\"3\">Database <br><br>\n",
        "\n",
        "        좋아하는색\n",
        "        <select name=\"color\">\n",
        "            <option value=\"\">--선택하세요--</option>\n",
        "            <option value=\"red\">red</option>\n",
        "            <option value=\"blue\">blue</option>\n",
        "            <option value=\"green\">green</option>\n",
        "        </select><br><br>\n",
        "        \n",
        "        <button id=\"btnRegister\">등록</button>\n",
        "    </form>\n",
        "</body>\n",
        "</html>\n",
        "<script>\n",
        "    $(()=>{\n",
        "       //기본값 설정하기 \n",
        "       $(\"input[type=text][name=username]\").val(\"홍길동\");\n",
        "       $(\"input[type=text][name=email]\").val(\"test@ddd.com\");\n",
        "       $(\"input[type=radio][name=age]\").eq(1).prop(\"checked\", true); \n",
        "       $(\"input[type=checkbox][name=interest]\").eq(0).prop(\"checked\", true);\n",
        "       $(\"select[name=color]\").val(\"blue\");\n",
        "\n",
        "       $(\"button\").click( ()=>{\n",
        "            event.preventDefault();\n",
        "            let username= $(\"input[type=text][name=username]\").val();\n",
        "            let email=$(\"input[type=text][name=email]\").val();\n",
        "            let age=$(\"input[type=radio][name=age]:checked\").val();\n",
        "            \n",
        "            let interest=\"\";\n",
        "            $(\"input[type=checkbox][name=interest]:checked\").each(function() {\n",
        "                interest += $(this).val()+\",\";\n",
        "            });\n",
        "\n",
        "            let color =  $(\"select[name=color]\").val();\n",
        "\n",
        "            console.log( username, email, age, interest, color );\n",
        "       });\n",
        "    });\n",
        "</script>\n",
        "\"\"\")\n"
      ]
    },
    {
      "cell_type": "markdown",
      "metadata": {
        "vscode": {
          "languageId": "raw"
        }
      },
      "source": [
        "## 정리\n",
        "\n",
        "이 노트북에서는 다음 JavaScript 관련 내용들을 다뤘습니다:\n",
        "\n",
        "### JavaScript 기본\n",
        "1. **기본 문법**: 변수 선언(let, const), 문자열 처리, 템플릿 리터럴\n",
        "2. **DOM 조작**: getElementById, querySelector를 사용한 요소 접근 및 수정\n",
        "3. **이벤트 처리**: 클릭, 키보드 이벤트 등의 처리 방법\n",
        "4. **배열과 반복문**: forEach, for문을 사용한 데이터 처리\n",
        "\n",
        "### jQuery 활용\n",
        "1. **선택자**: ID, class, 태그 선택자와 다양한 선택자 조합\n",
        "2. **이벤트**: click, hover 등의 이벤트 처리\n",
        "3. **효과**: fadeIn/Out, slideUp/Down, animate 등의 애니메이션 효과\n",
        "4. **폼 처리**: input, radio, checkbox, select 요소의 값 읽기/쓰기\n",
        "\n",
        "### 고급 기능\n",
        "1. **타이머**: setTimeout, setInterval을 사용한 시간 제어\n",
        "2. **동적 테이블**: 행 추가/삭제를 통한 동적 콘텐츠 관리\n",
        "3. **Ajax**: 비동기 데이터 통신 (fetch API 포함)\n",
        "\n",
        "### 실용 예제\n",
        "- 성적 처리 시스템\n",
        "- 실시간 디지털 시계\n",
        "- 배경색 변경 도구\n",
        "- 동적 테이블 관리\n",
        "- 종합 폼 처리 시스템\n",
        "\n",
        "이러한 기초 지식들을 바탕으로 더 복잡한 웹 애플리케이션 개발이 가능합니다. 특히 jQuery는 JavaScript의 복잡한 DOM 조작을 간편하게 만들어주는 강력한 라이브러리입니다.\n"
      ]
    }
  ],
  "metadata": {
    "kernelspec": {
      "display_name": "sesac_ai",
      "language": "python",
      "name": "python3"
    },
    "language_info": {
      "codemirror_mode": {
        "name": "ipython",
        "version": 3
      },
      "file_extension": ".py",
      "mimetype": "text/x-python",
      "name": "python",
      "nbconvert_exporter": "python",
      "pygments_lexer": "ipython3",
      "version": "3.11.13"
    }
  },
  "nbformat": 4,
  "nbformat_minor": 2
}
