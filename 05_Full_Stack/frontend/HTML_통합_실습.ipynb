{
  "cells": [
    {
      "cell_type": "markdown",
      "metadata": {
        "vscode": {
          "languageId": "raw"
        }
      },
      "source": [
        "# HTML 실습 통합 노트북\n",
        "\n",
        "이 노트북은 HTML 학습을 위한 다양한 예제들을 IPython.display를 사용하여 렌더링합니다.\n"
      ]
    },
    {
      "cell_type": "code",
      "execution_count": null,
      "metadata": {},
      "outputs": [],
      "source": [
        "from IPython.display import display, HTML"
      ]
    },
    {
      "cell_type": "markdown",
      "metadata": {
        "vscode": {
          "languageId": "raw"
        }
      },
      "source": [
        "## 1. 기본 HTML 구조 - Hello World\n"
      ]
    },
    {
      "cell_type": "code",
      "execution_count": null,
      "metadata": {},
      "outputs": [],
      "source": [
        "display(HTML(\"\"\"\n",
        "<!DOCTYPE html>\n",
        "<html>\n",
        "    <head>\n",
        "        <title>Hello web</title>\n",
        "    </head>\n",
        "    <body>\n",
        "        이 부분이 화면에 보여질 부분이다 \n",
        "    </body>\n",
        "</html>\n",
        "\"\"\"))\n"
      ]
    },
    {
      "cell_type": "markdown",
      "metadata": {
        "vscode": {
          "languageId": "raw"
        }
      },
      "source": [
        "## 2. HTML 제목과 문단 - Sample1\n"
      ]
    },
    {
      "cell_type": "code",
      "execution_count": null,
      "metadata": {},
      "outputs": [],
      "source": [
        "display(HTML(\"\"\"\n",
        "<!DOCTYPE html>\n",
        "<html lang=\"ko\">\n",
        "<head>\n",
        "    <meta charset=\"UTF-8\">\n",
        "    <meta name=\"viewport\" content=\"width=device-width, initial-scale=1.0\">\n",
        "    <title>head태그</title>\n",
        "</head>\n",
        "<body>\n",
        "    <h1><span style=\"color:red;font-weight:bold;\">Learn</span> HTML</h1>  <!--  h1 ~ h6 까지만 있다-->\n",
        "    <!-- p태그는 문단을 나눈다 -->\n",
        "    <p> \n",
        "    HTML is the standard markup language for Web pages.<br/>\n",
        "    With HTML you can create your own Website.<br/>\n",
        "    HTML is easy to learn - You will enjoy it!<br/>\n",
        "    </p>\n",
        "\n",
        "    <h1 style=\"border:1px solid red\">제목1</h1>\n",
        "    <h2 style=\"border:1px solid red\">제목2</h2>\n",
        "    <h3 style=\"border:1px solid red\">제목3</h3>\n",
        "    <h4 style=\"border:1px solid red\">제목4</h4>\n",
        "    <h5 style=\"border:1px solid red\">제목5</h5>\n",
        "    <h6 style=\"border:1px solid red\">제목6</h6>\n",
        "</body>\n",
        "</html>\n",
        "\"\"\"))\n"
      ]
    },
    {
      "cell_type": "markdown",
      "metadata": {
        "vscode": {
          "languageId": "raw"
        }
      },
      "source": [
        "## 3. CSS 스타일링 - Sample2\n"
      ]
    },
    {
      "cell_type": "code",
      "execution_count": null,
      "metadata": {},
      "outputs": [],
      "source": [
        "display(HTML(\"\"\"\n",
        "<!DOCTYPE html>\n",
        "<html lang=\"en\">\n",
        "<head>\n",
        "    <meta charset=\"UTF-8\">\n",
        "    <meta name=\"viewport\" content=\"width=device-width, initial-scale=1.0\">\n",
        "    <title>Document</title>\n",
        "</head>\n",
        "<style>\n",
        "    h1 { \n",
        "        border:1px solid red;\n",
        "        background-color: darkkhaki;\n",
        "        font-family:Verdana, Geneva, Tahoma, sans-serif;\n",
        "        font-size:xx-large;\n",
        "    }\n",
        "    \n",
        "    p  { \n",
        "        border:1px solid red;\n",
        "        background-color: aquamarine;\n",
        "    }\n",
        "</style>\n",
        "<body>\n",
        "    <h1>This is heading 1</h1>\n",
        "    <p>This is some text.</p>\n",
        "    <hr>\n",
        "\n",
        "    <h2>This is heading 2</h2>\n",
        "    <p>This is some other text.</p>\n",
        "    <hr>\n",
        "\n",
        "    <h2>This is heading 2</h2>\n",
        "    <p>This is <strong>some</strong> <b>other</b> text.</p>\n",
        "</body>\n",
        "</html>\n",
        "\"\"\"))\n"
      ]
    },
    {
      "cell_type": "markdown",
      "metadata": {
        "vscode": {
          "languageId": "raw"
        }
      },
      "source": [
        "## 4. 리스트 요소들"
      ]
    },
    {
      "cell_type": "code",
      "execution_count": null,
      "metadata": {},
      "outputs": [],
      "source": [
        "display(HTML(\"\"\"\n",
        "<!DOCTYPE html>\n",
        "<html lang=\"en\">\n",
        "<head>\n",
        "    <meta charset=\"UTF-8\">\n",
        "    <meta name=\"viewport\" content=\"width=device-width, initial-scale=1.0\">\n",
        "    <title>Document</title>\n",
        "</head>\n",
        "<body>\n",
        "    <ul style=\"list-style-type:none;\">\n",
        "        <li>아이스아메리카노</li>\n",
        "        <li>카페라떼</li>\n",
        "        <li>카푸치노</li>\n",
        "        <li>민트초코</li>\n",
        "    </ul>\n",
        "\n",
        "    <ol>\n",
        "        <li>아이스아메리카노</li>\n",
        "        <li>카페라떼</li>\n",
        "        <li>카푸치노</li>\n",
        "        <li>민트초코</li>\n",
        "    </ol>\n",
        "    \n",
        "    <dl>\n",
        "        <dt>커피</dt>\n",
        "            <dd>아이스아메리카노</dd>\n",
        "            <dd>카페라떼</dd>\n",
        "            <dd>카푸치노</dd>\n",
        "            \n",
        "        <dt>음료</dt>\n",
        "            <dd>민트초코</dd>\n",
        "            <dd>수박주스</dd>\n",
        "            <dd>자몽주스</dd>\n",
        "    </dl>\n",
        "</body>\n",
        "</html>\n",
        "\"\"\"))\n"
      ]
    },
    {
      "cell_type": "markdown",
      "metadata": {
        "vscode": {
          "languageId": "raw"
        }
      },
      "source": [
        "## 5. 링크 요소들\n"
      ]
    },
    {
      "cell_type": "code",
      "execution_count": null,
      "metadata": {},
      "outputs": [],
      "source": [
        "display(HTML(\"\"\"\n",
        "<!DOCTYPE html>\n",
        "<html lang=\"en\">\n",
        "<head>\n",
        "    <meta charset=\"UTF-8\">\n",
        "    <meta name=\"viewport\" content=\"width=device-width, initial-scale=1.0\">\n",
        "    <title>Document</title>\n",
        "</head>\n",
        "<body>\n",
        "    <a href=\"https://www.daum.net\" target=\"_blank\">다음</a> <br/>   \n",
        "    <a href=\"https://www.naver.com\" target=\"_blank\" >네이버</a><br/>\n",
        "    <a href=\"https://www.google.co.kr\" target=\"_blank\">구글</a><br/>\n",
        "\n",
        "    <a href=\"./sample1.html\">샘플1</a>\n",
        "    <a href=\"./sample2.html\">샘플2</a>\n",
        "\n",
        "    <button onclick=\"document.location='./sample2.html'\">이동</button>\n",
        "</body>\n",
        "</html>\n",
        "\"\"\"))\n"
      ]
    },
    {
      "cell_type": "markdown",
      "metadata": {
        "vscode": {
          "languageId": "raw"
        }
      },
      "source": [
        "## 6. 내부 링크 (앵커)\n"
      ]
    },
    {
      "cell_type": "code",
      "execution_count": null,
      "metadata": {},
      "outputs": [],
      "source": [
        "display(HTML(\"\"\"\n",
        "<!DOCTYPE html>\n",
        "<html lang=\"en\">\n",
        "<head>\n",
        "    <meta charset=\"UTF-8\">\n",
        "    <meta name=\"viewport\" content=\"width=device-width, initial-scale=1.0\">\n",
        "    <title>Document</title>\n",
        "</head>\n",
        "<body>\n",
        "    <a href=\"#p1\">첫번째페이지</a>\n",
        "    <a href=\"#p2\">두번째페이지</a>\n",
        "    <a href=\"#p3\">세번째페이지</a><br/>\n",
        "    \n",
        "    <a id=\"p1\">1페이지</a>\n",
        "    <br/><br/><br/><br/><br/><br/><br/><br/><br/><br/><br/><br/><br/><br/><br/><br/><br/><br/>\n",
        "    <a id=\"p2\">2페이지</a>\n",
        "    <br/><br/><br/><br/><br/><br/><br/><br/><br/><br/><br/><br/><br/><br/><br/><br/><br/><br/>\n",
        "    <a id=\"p3\">3페이지</a>\n",
        "    <br/><br/><br/><br/><br/><br/><br/><br/><br/><br/><br/><br/><br/><br/><br/><br/><br/><br/>\n",
        "</body>\n",
        "</html>\n",
        "\"\"\"))\n"
      ]
    },
    {
      "cell_type": "markdown",
      "metadata": {
        "vscode": {
          "languageId": "raw"
        }
      },
      "source": [
        "## 7. 기본 테이블\n"
      ]
    },
    {
      "cell_type": "code",
      "execution_count": null,
      "metadata": {},
      "outputs": [],
      "source": [
        "display(HTML(\"\"\"\n",
        "<!DOCTYPE html>\n",
        "<html lang=\"en\">\n",
        "<head>\n",
        "    <meta charset=\"UTF-8\">\n",
        "    <meta name=\"viewport\" content=\"width=device-width, initial-scale=1.0\">\n",
        "    <title>Document</title>\n",
        "    <style>\n",
        "        table, th, tr, td {\n",
        "            border: 1px solid black;\n",
        "            border-collapse: collapse; \n",
        "        }\n",
        "        table{\n",
        "            width: 80%;\n",
        "            margin-left: auto;\n",
        "            margin-right: auto;\n",
        "        }\n",
        "        td{\n",
        "            padding: 10px 5px; \n",
        "            text-align: center;\n",
        "        }\n",
        "    </style>\n",
        "</head>\n",
        "<body>\n",
        "    <table >\n",
        "        <tr>\n",
        "            <td>1행 1열</td>\n",
        "            <td>1행 2열</td>\n",
        "            <td>1행 3열</td>\n",
        "        </tr>\n",
        "        <tr>\n",
        "            <td>2행 1열</td>\n",
        "            <td>2행 2열</td>\n",
        "            <td>2행 3열</td>\n",
        "        </tr>\n",
        "    </table>\n",
        "\n",
        "    <h1>테이블 행/열 병합하기</h1>\n",
        "    <table>\n",
        "         <tr>\n",
        "            <td rowspan=\"2\">1행 1열</td>\n",
        "            <td>1행 2열</td>\n",
        "            <td>1행 3열</td>\n",
        "        </tr>\n",
        "        <tr>\n",
        "            <td>2행 2열</td>\n",
        "            <td>2행 3열</td>\n",
        "        </tr>\n",
        "    </table>\n",
        "\n",
        "    <hr/>\n",
        "    <table >\n",
        "        <tr>\n",
        "            <td colspan=\"3\">1행 1열</td>\n",
        "        </tr>\n",
        "        <tr>\n",
        "            <td>2행 1열</td>\n",
        "            <td>2행 2열</td>\n",
        "            <td>2행 3열</td>\n",
        "        </tr>\n",
        "    </table>\n",
        "</body>\n",
        "</html>\n",
        "\"\"\"))\n"
      ]
    },
    {
      "cell_type": "markdown",
      "metadata": {
        "vscode": {
          "languageId": "raw"
        }
      },
      "source": [
        "## 8. 기본 Form (로그인)\n"
      ]
    },
    {
      "cell_type": "code",
      "execution_count": null,
      "metadata": {},
      "outputs": [],
      "source": [
        "display(HTML(\"\"\"\n",
        "<!DOCTYPE html>\n",
        "<html lang=\"en\">\n",
        "<head>\n",
        "    <meta charset=\"UTF-8\">\n",
        "    <meta name=\"viewport\" content=\"width=device-width, initial-scale=1.0\">\n",
        "    <title>Document</title>\n",
        "</head>\n",
        "<body>\n",
        "    <form action=\"\" method=\"post\">\n",
        "        <label for=\"userid\">아이디</label>\n",
        "        <input type=\"text\" name=\"userid\" > <br/>\n",
        "\n",
        "        <label for=\"password\">패스워드</label>\n",
        "        <input type=\"password\" name=\"password\" > <br/>\n",
        "\n",
        "        <label for=\"logincheck\">로그인정보저장</label>\n",
        "        <input type=\"checkbox\" name=\"logincheck\"> \n",
        "        \n",
        "        <input type=\"submit\" value=\"보내기\">\n",
        "    </form>\n",
        "</body>\n",
        "</html>\n",
        "\"\"\"))\n"
      ]
    },
    {
      "cell_type": "markdown",
      "metadata": {
        "vscode": {
          "languageId": "raw"
        }
      },
      "source": [
        "## 9. Canvas와 JavaScript\n"
      ]
    },
    {
      "cell_type": "code",
      "execution_count": null,
      "metadata": {},
      "outputs": [],
      "source": [
        "display(HTML(\"\"\"\n",
        "<!DOCTYPE html>\n",
        "<html lang=\"en\">\n",
        "<head>\n",
        "    <meta charset=\"UTF-8\">\n",
        "    <meta name=\"viewport\" content=\"width=device-width, initial-scale=1.0\">\n",
        "    <title>Document</title>\n",
        "</head>\n",
        "<body>\n",
        "    <!-- 스케치북 -->\n",
        "    <canvas id=\"myCanvas\" width=\"200\" height=\"200\" \n",
        "    style=\"border:1px solid #000000;\">\n",
        "    </canvas>\n",
        "\n",
        "<script>\n",
        "//1.그림전체에대한 객체를 가져온다\n",
        "// document : 파이썬의 self쯤? 현재 html문서를 자바스크립트에서 document라고 부른다\n",
        "// document.getElementById(\"태그의id값\")  \n",
        "var c = document.getElementById(\"myCanvas\"); \n",
        "//변수앞에 var 또는 let밖에 안붙임, 안붙여도 아무말도 안함 \n",
        "\n",
        "//2.객체안에서 스케치북 콕 찝어서 context \n",
        "var ctx = c.getContext(\"2d\");\n",
        "ctx.moveTo(0, 0);\n",
        "ctx.lineTo(200, 200);\n",
        "ctx.stroke();\n",
        "</script>\n",
        "\n",
        "</body>\n",
        "</html>\n",
        "\"\"\"))\n"
      ]
    }
  ],
  "metadata": {
    "kernelspec": {
      "display_name": "sesac_ai",
      "language": "python",
      "name": "python3"
    },
    "language_info": {
      "codemirror_mode": {
        "name": "ipython",
        "version": 3
      },
      "file_extension": ".py",
      "mimetype": "text/x-python",
      "name": "python",
      "nbconvert_exporter": "python",
      "pygments_lexer": "ipython3",
      "version": "3.11.13"
    }
  },
  "nbformat": 4,
  "nbformat_minor": 2
}
