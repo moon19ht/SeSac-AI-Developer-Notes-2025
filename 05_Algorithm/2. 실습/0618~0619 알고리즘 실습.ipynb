{
 "cells": [
  {
   "cell_type": "markdown",
   "id": "4fd7d5ce",
   "metadata": {},
   "source": [
    "# 에스토네스의 체\n",
    "2부터 N까지 모든 정수를 적는다. <br>\n",
    "아직 지우지 않은 수 중 가장 작은 수를 찾는다. 이것을 P라고 하고, 이 수는 소수이다. <br>\n",
    "P를 지우고, 아직 지우지 않은 P의 배수를 크기 순서대로 지운다. <br>\n",
    "아직 모든 수를 지우지 않았다면, 다시 2번 단계로 간다. <br>"
   ]
  },
  {
   "cell_type": "code",
   "execution_count": null,
   "id": "6d17ab6b",
   "metadata": {},
   "outputs": [
    {
     "name": "stdout",
     "output_type": "stream",
     "text": [
      "[0, 0, 0, 3, 4, 5, 6, 7, 8, 9, 10] 1\n",
      "[0, 0, 0, 3, 0, 5, 6, 7, 8, 9, 10] 2\n",
      "[0, 0, 0, 3, 0, 5, 0, 7, 8, 9, 10] 3\n",
      "[0, 0, 0, 3, 0, 5, 0, 7, 0, 9, 10] 4\n",
      "[0, 0, 0, 3, 0, 5, 0, 7, 0, 9, 0] 5\n",
      "[0, 0, 0, 0, 0, 5, 0, 7, 0, 9, 0] 6\n",
      "[0, 0, 0, 0, 0, 5, 0, 7, 0, 0, 0] 7\n",
      "9\n"
     ]
    }
   ],
   "source": [
    "# N: 지울 숫자의 범위, K: K번째로 지워지는 수를 찾기\n",
    "N = 10\n",
    "K = 7\n",
    "\n",
    "# 0~N까지의 숫자 리스트 생성 (prime[i]가 0이면 이미 지워진 것)\n",
    "prime = [x for x in range(0, N + 1)]\n",
    "prime[1] = 0  # 1은 소수가 아니므로 미리 지움\n",
    "\n",
    "# 모든 수가 지워졌는지 확인하는 함수\n",
    "def is_complete(prime):\n",
    "    for i in range(2, len(prime)):\n",
    "        if prime[i] != 0:\n",
    "            return False\n",
    "    return True\n",
    "\n",
    "p = 2  # 현재 확인할 소수\n",
    "cnt = 0  # 지운 횟수\n",
    "result = 0  # K번째로 지워진 수\n",
    "flag = False  # K번째 수를 찾았는지 여부\n",
    "\n",
    "while not is_complete(prime) and not flag:\n",
    "    # 아직 지워지지 않은 p의 배수를 모두 지움\n",
    "    for i in range(p, N + 1, p):\n",
    "        if prime[i] != 0:\n",
    "            prime[i] = 0\n",
    "            cnt += 1\n",
    "            print(prime, cnt)  # 디버깅용 출력\n",
    "            if cnt == K:\n",
    "                result = i\n",
    "                flag = True\n",
    "                break\n",
    "    # 다음 p(아직 지워지지 않은 가장 작은 수)로 이동\n",
    "    for next_p in range(p + 1, N + 1):\n",
    "        if prime[next_p] != 0:\n",
    "            p = next_p\n",
    "            break\n",
    "    else:\n",
    "        break  # 더 이상 지울 소수가 없음\n",
    "\n",
    "print(result)  # K번째로 지워진 수 출력\n"
   ]
  },
  {
   "cell_type": "markdown",
   "id": "c4dec4de",
   "metadata": {},
   "source": [
    "---"
   ]
  },
  {
   "cell_type": "markdown",
   "id": "c54e068f",
   "metadata": {},
   "source": [
    "개미 군단이 사냥을 나가려고 합니다. 개미군단은 사냥감의 체력에 딱 맞는 병력을 데리고 나가려고 합니다. <br> \n",
    "장군개미는 5의 공격력을, 병정개미는 3의 공격력을 일개미는 1의 공격력을 가지고 있습니다. <br>\n",
    "예를 들어 체력 23의 여치를 사냥하려고 할 때, 일개미 23마리를 데리고 가도 되지만, 장군개미 네 마리와 병정개미 한 마리를 데리고 간다면 더 적은 병력으로 사냥할 수 있습니다. <br> \n",
    "사냥감의 체력 hp가 매개변수로 주어질 때, 사냥감의 체력에 딱 맞게 최소한의 병력을 구성하려면 몇 마리의 개미가 필요한지를 return하도록 solution 함수를 완성해주세요."
   ]
  },
  {
   "cell_type": "markdown",
   "id": "df391cf3",
   "metadata": {},
   "source": [
    "## 제한사항\n",
    "> hp는 자연수입니다.(0 ≤ hp ≤ 1000)\n",
    "\n",
    "## 입출력 예\n",
    "```markdown\n",
    "hp \tresult\n",
    "23 \t5\n",
    "24 \t6\n",
    "999 \t201\n",
    "```\n",
    "## 입출력 예 설명\n",
    "\n",
    "### 입출력 예 #1\n",
    "\n",
    "> hp가 23이므로, 장군개미 네마리와 병정개미 한마리로 사냥할 수 있습니다. 따라서 5를 return합니다.\n",
    "\n",
    "### 입출력 예 #2\n",
    "\n",
    "> hp가 24이므로, 장군개미 네마리 병정개미 한마리 일개미 한마리로 사냥할 수 있습니다. 따라서 6을 return합니다.\n",
    "\n",
    "### 입출력 예 #3\n",
    "\n",
    "> hp가 999이므로, 장군개미 199 마리 병정개미 한마리 일개미 한마리로 사냥할 수 있습니다. 따라서 201을 return합니다."
   ]
  },
  {
   "cell_type": "code",
   "execution_count": 3,
   "id": "05397acd",
   "metadata": {},
   "outputs": [
    {
     "name": "stdout",
     "output_type": "stream",
     "text": [
      "201\n"
     ]
    }
   ],
   "source": [
    "def solution(hp):\n",
    "    # 각 개미의 공격력\n",
    "    ant = [5, 3, 1]\n",
    "    answer = 0\n",
    "\n",
    "    for power in ant:\n",
    "        # 해당 개미로 최대한 많이 사용\n",
    "        count = hp // power\n",
    "        answer += count\n",
    "        hp %= power  # 남은 체력\n",
    "\n",
    "    return answer\n",
    "\n",
    "# 예시 출력\n",
    "print(solution(999))"
   ]
  }
 ],
 "metadata": {
  "kernelspec": {
   "display_name": "base",
   "language": "python",
   "name": "python3"
  },
  "language_info": {
   "codemirror_mode": {
    "name": "ipython",
    "version": 3
   },
   "file_extension": ".py",
   "mimetype": "text/x-python",
   "name": "python",
   "nbconvert_exporter": "python",
   "pygments_lexer": "ipython3",
   "version": "3.12.7"
  }
 },
 "nbformat": 4,
 "nbformat_minor": 5
}
