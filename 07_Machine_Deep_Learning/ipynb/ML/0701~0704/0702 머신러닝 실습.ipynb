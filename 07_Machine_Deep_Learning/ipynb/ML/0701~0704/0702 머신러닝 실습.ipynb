{
 "cells": [
  {
   "cell_type": "code",
   "execution_count": 1,
   "metadata": {},
   "outputs": [
    {
     "name": "stdout",
     "output_type": "stream",
     "text": [
      "지정한 열만 출력\n",
      "\n",
      "0    김철수\n",
      "1    이영희\n",
      "2    박민수\n",
      "3    최지영\n",
      "4    정현우\n",
      "Name: name, dtype: object\n",
      "   kor\n",
      "0   85\n",
      "1   92\n",
      "2   78\n",
      "3   95\n",
      "4   88\n",
      "   eng\n",
      "0   88\n",
      "1   90\n",
      "2   85\n",
      "3   92\n",
      "4   87\n"
     ]
    }
   ],
   "source": [
    "import pandas as pd\n",
    "\n",
    "data = {\n",
    "    'name': ['김철수', '이영희', '박민수', '최지영', '정현우'],\n",
    "    'kor': [85, 92, 78, 95, 88],\n",
    "    'math': [90, 85, 92, 88, 95],\n",
    "    'eng': [88, 90, 85, 92, 87]\n",
    "}\n",
    "\n",
    "df = pd.DataFrame(data)\n",
    "\n",
    "print(\"지정한 열만 출력\\n\")\n",
    "print(df['name'])\n",
    "print(df[['kor']])\n",
    "print(df[['eng']])"
   ]
  },
  {
   "cell_type": "markdown",
   "metadata": {},
   "source": [
    "# Pandas Series 연산\n",
    "\n",
    "\n",
    "## 📊 Series 연산의 기본 개념\n",
    "\n",
    "Pandas Series는 1차원 배열 형태의 데이터 구조로, 인덱스와 값으로 구성됩니다. Series 간의 연산은 같은 인덱스를 가진 값들끼리 수행됩니다.\n",
    "\n",
    "## 🔢 주요 연산 방법\n",
    "\n",
    "### 1. 기본 산술 연산\n",
    "- `+` : 덧셈\n",
    "- `-` : 뺄셈  \n",
    "- `*` : 곱셈\n",
    "- `/` : 나눗셈\n",
    "\n",
    "### 2. 연산 시 주의사항\n",
    "\n",
    "#### NaN 처리\n",
    "- **키가 없는 경우**: NaN(Not a Number) 값이 생성됩니다\n",
    "- **NaN의 의미**: 누락된 데이터를 나타내는 표준 표기법\n",
    "\n",
    "#### fill_value 사용\n",
    "- `add()`, `sub()`, `mul()`, `div()` 메서드의 `fill_value` 매개변수 활용\n",
    "- 누락된 값을 특정 값으로 대체하여 연산 수행\n",
    "\n",
    "## 💡 실습 예제 설명\n",
    "\n",
    "아래 코드에서 확인할 수 있는 내용:\n",
    "\n",
    "1. **기본 Series 생성**: 각각 다른 키 순서로 데이터 생성\n",
    "2. **NaN 발생**: 키가 일치하지 않는 경우 NaN 출력\n",
    "3. **연산 결과**: \n",
    "   - 기본 연산: NaN이 포함된 결과\n",
    "   - fill_value 사용: 0으로 대체하여 완전한 연산 결과 도출\n",
    "\n",
    "## 🎯 활용 팁\n",
    "\n",
    "- 데이터 전처리 시 NaN 값 처리 방법 선택\n",
    "- fill_value 값을 상황에 맞게 조정 (0, 평균값, 중앙값 등)\n",
    "- Series 연산 전 데이터 구조 확인 필수\n"
   ]
  },
  {
   "cell_type": "code",
   "execution_count": 4,
   "metadata": {},
   "outputs": [
    {
     "name": "stdout",
     "output_type": "stream",
     "text": [
      "  name  kor  math  eng\n",
      "0  김철수   85    90   88\n",
      "1  이영희   92    85   90\n",
      "2  박민수   78    92   85\n",
      "3  최지영   95    88   92\n",
      "4  정현우   88    95   87\n",
      "  name  eng  math\n",
      "0  김철수   88    90\n",
      "1  이영희   90    85\n",
      "2  박민수   85    92\n",
      "3  최지영   92    88\n",
      "4  정현우   87    95\n",
      "  name  kor  math\n",
      "1  이영희   92    85\n",
      "3  최지영   95    88\n",
      "  name  kor\n",
      "1  이영희   92\n",
      "3  최지영   95\n",
      "  name  math\n",
      "1  이영희    85\n",
      "3  최지영    88\n"
     ]
    }
   ],
   "source": [
    "print(df.loc[:, 'name' : 'eng']) # 행 전체 name ~ eng까지\n",
    "print(df.loc[:, ['name', 'eng', 'math']]) # numpy\n",
    "print(df.iloc[[1, 3], [0, 1, 2]]) # 행 1, 3번째, 열 0, 1, 2(name, eng, math)\n",
    "print(df.loc[[1, 3], ['name', 'kor']]) # 양쪽 다 슬라이싱 가능\n",
    "print(df.iloc[[1, 3], [0, 2]]) # 행 1, 3번째, 열 0, 2(name, math)"
   ]
  },
  {
   "cell_type": "code",
   "execution_count": 5,
   "metadata": {},
   "outputs": [
    {
     "name": "stdout",
     "output_type": "stream",
     "text": [
      "s1:\n",
      " eng     88\n",
      "math    90\n",
      "kor     85\n",
      "dtype: int64\n",
      "s2:\n",
      " math    85\n",
      "kor     92\n",
      "eng     90\n",
      "dtype: int64\n",
      "s3:\n",
      " kor     78\n",
      "eng     85\n",
      "math    92\n",
      "dtype: int64\n",
      "s4:\n",
      " math    88\n",
      "kor     95\n",
      "eng     92\n",
      "dtype: int64\n"
     ]
    }
   ],
   "source": [
    "import pandas as pd\n",
    "\n",
    "data1 = {'eng': 88, 'math': 90, 'kor': 85}\n",
    "data2 = {'math': 85, 'kor': 92, 'eng': 90}\n",
    "data3 = {'kor': 78, 'eng': 85, 'math': 92}\n",
    "data4 = {'math': 88, 'kor': 95, 'eng': 92}\n",
    "\n",
    "# 키가 없으면 NaN 출력.  NaN은 누락된 값을 의미\n",
    "s1 = pd.Series(data1)\n",
    "s2 = pd.Series(data2)\n",
    "s3 = pd.Series(data3)\n",
    "s4 = pd.Series(data4)\n",
    "\n",
    "print(\"s1:\\n\", s1)\n",
    "print(\"s2:\\n\", s2)\n",
    "print(\"s3:\\n\", s3)\n",
    "print(\"s4:\\n\", s4)"
   ]
  },
  {
   "cell_type": "code",
   "execution_count": 6,
   "metadata": {},
   "outputs": [
    {
     "name": "stdout",
     "output_type": "stream",
     "text": [
      "result:\n",
      " eng     355\n",
      "kor     350\n",
      "math    355\n",
      "dtype: int64\n"
     ]
    }
   ],
   "source": [
    "result = s1+s2+s3+s4\n",
    "print(\"result:\\n\", result)"
   ]
  },
  {
   "cell_type": "code",
   "execution_count": 7,
   "metadata": {},
   "outputs": [
    {
     "name": "stdout",
     "output_type": "stream",
     "text": [
      "result2:\n",
      " eng     355\n",
      "kor     350\n",
      "math    355\n",
      "dtype: int64\n"
     ]
    }
   ],
   "source": [
    "result2 = s1.add(s2, fill_value=0).add(s3, fill_value=0).add(s4, fill_value=0)\n",
    "print(\"result2:\\n\", result2)"
   ]
  },
  {
   "cell_type": "code",
   "execution_count": null,
   "metadata": {},
   "outputs": [],
   "source": [
    "import pandas as pd\n",
    "\n",
    "data1 = {'eng': 88, 'math': 90, 'kor': 85}\n",
    "data2 = {'math': 85, 'kor': 92, 'eng': 90}\n",
    "data3 = {'kor': 78, 'eng': 85, 'math': 92}\n",
    "data4 = {'math': 88, 'kor': 95, 'eng': 92}\n",
    "\n",
    "df = pd.DataFrame(columns=[\"kor\", \"eng\", \"mat\"])\n",
    "# pandas 2.0 이상 버전에서는 _append 메서드 대신 concat 메서드 사용\n",
    "# df = df._append(data1, ignore_index = True)"
   ]
  },
  {
   "cell_type": "code",
   "execution_count": 8,
   "metadata": {},
   "outputs": [
    {
     "name": "stdout",
     "output_type": "stream",
     "text": [
      "  name  kor  math\n",
      "1  이영희   92    85\n",
      "3  최지영   95    88\n",
      "5  NaN   85    90\n"
     ]
    }
   ],
   "source": [
    "# 데이터프레임 생성\n",
    "import pandas as pd\n",
    "\n",
    "data = {\n",
    "    'name': ['김철수', '이영희', '박민수', '최지영', '정현우'],\n",
    "    'kor': [85, 92, 78, 95, 88],\n",
    "    'math': [90, 85, 92, 88, 95],\n",
    "    'eng': [88, 90, 85, 92, 87]\n",
    "}\n",
    "df = pd.DataFrame(data)\n",
    "\n",
    "# 행 추가\n",
    "df.loc[len(df)] = data1\n",
    "df.loc[len(df)] = data2\n",
    "df.loc[len(df)] = data3\n",
    "df.loc[len(df)] = data4\n",
    "\n",
    "# 인덱스 재설정(필요시)\n",
    "df = df.reset_index(drop=True)\n",
    "\n",
    "# 원하는 행, 열 출력\n",
    "print(df.iloc[[1, 3, 5], [0, 1, 2]])"
   ]
  },
  {
   "cell_type": "code",
   "execution_count": 9,
   "metadata": {},
   "outputs": [
    {
     "name": "stdout",
     "output_type": "stream",
     "text": [
      "\n",
      " concat 결과 : \n",
      "   eng  math  kor\n",
      "0   88    90   85\n",
      "1   90    85   92\n",
      "2   85    92   78\n",
      "3   92    88   95\n"
     ]
    }
   ],
   "source": [
    "df = pd.concat([\n",
    "    pd.DataFrame([data1]),\n",
    "    pd.DataFrame([data2]),\n",
    "    pd.DataFrame([data3]),\n",
    "    pd.DataFrame([data4]),\n",
    "    ], ignore_index = True)\n",
    "print(\"\\n concat 결과 : \")\n",
    "print(df)"
   ]
  },
  {
   "cell_type": "code",
   "execution_count": 12,
   "metadata": {},
   "outputs": [
    {
     "name": "stdout",
     "output_type": "stream",
     "text": [
      "   eng  math  kor  total   avg\n",
      "0   88    90   85    263  88.0\n",
      "1   90    85   92    267  89.0\n",
      "2   85    92   78    255  85.0\n",
      "3   92    88   95    275  92.0\n"
     ]
    }
   ],
   "source": [
    "df['total'] = df['kor'] + df['eng'] + df['math']\n",
    "df['avg'] = round(df['total'] / 3)\n",
    "\n",
    "print(df)"
   ]
  },
  {
   "cell_type": "code",
   "execution_count": 15,
   "metadata": {},
   "outputs": [
    {
     "name": "stdout",
     "output_type": "stream",
     "text": [
      "  fruits  price  count\n",
      "0     사과   3500     10\n"
     ]
    }
   ],
   "source": [
    "import pandas as pd\n",
    " \n",
    "new_data = {\n",
    "    'fruits':['망고', '딸기', '수박', '파인애플'],\n",
    "    'price':[2500, 5000,10000, 7000],\n",
    "    'count':[5, 2, 2, 4],\n",
    "}\n",
    "df = pd.DataFrame(columns=['fruits', 'price', 'count'])\n",
    "df.loc[len(df)] = {'fruits': '사과', 'price': 3500, 'count': 10}\n",
    "\n",
    "print(df)"
   ]
  },
  {
   "cell_type": "markdown",
   "metadata": {},
   "source": [
    "# 문제\n",
    "아래 표의 데이터를 데이터프레임(DataFrame)으로 만드세요.<br>\n",
    "X1  X2  X3  X4\n",
    "2.9\t9.2\t13.2\t2\n",
    "2.4\t8.7\t11.5\t3\n",
    "2\t7.2\t10.8\t4\n",
    "2.3\t8.5\t12.3\t2\n",
    "3.2\t9.6\t12.6\t3\n",
    "위 데이터프레임에 마지막 행으로 [10, 20, 30, 40]을 추가하세요.\n",
    "각 열의 합을 구해서, 새로운 열 total에 저장하세요."
   ]
  },
  {
   "cell_type": "code",
   "execution_count": 16,
   "metadata": {},
   "outputs": [
    {
     "name": "stdout",
     "output_type": "stream",
     "text": [
      "     X1    X2    X3  X4  total\n",
      "0   2.9   9.2  13.2   2   27.3\n",
      "1   2.4   8.7  11.5   3   25.6\n",
      "2   2.0   7.2  10.8   4   24.0\n",
      "3   2.3   8.5  12.3   2   25.1\n",
      "4   3.2   9.6  12.6   3   28.4\n",
      "5  10.0  20.0  30.0  40  100.0\n"
     ]
    }
   ],
   "source": [
    "import pandas as pd\n",
    "\n",
    "# 1. 데이터프레임 생성\n",
    "data = {\n",
    "    'X1': [2.9, 2.4, 2, 2.3, 3.2],\n",
    "    'X2': [9.2, 8.7, 7.2, 8.5, 9.6],\n",
    "    'X3': [13.2, 11.5, 10.8, 12.3, 12.6],\n",
    "    'X4': [2, 3, 4, 2, 3]\n",
    "}\n",
    "df = pd.DataFrame(data)\n",
    "\n",
    "# 2. 마지막 행 추가\n",
    "df.loc[len(df)] = [10, 20, 30, 40]\n",
    "\n",
    "# 3. 각 행의 합을 구해서 'total' 컬럼에 저장\n",
    "df['total'] = df.sum(axis=1)\n",
    "\n",
    "print(df)"
   ]
  }
 ],
 "metadata": {
  "kernelspec": {
   "display_name": "sesac_ai",
   "language": "python",
   "name": "python3"
  },
  "language_info": {
   "codemirror_mode": {
    "name": "ipython",
    "version": 3
   },
   "file_extension": ".py",
   "mimetype": "text/x-python",
   "name": "python",
   "nbconvert_exporter": "python",
   "pygments_lexer": "ipython3",
   "version": "3.11.13"
  }
 },
 "nbformat": 4,
 "nbformat_minor": 2
}
