{
  "cells": [
    {
      "cell_type": "markdown",
      "metadata": {
        "vscode": {
          "languageId": "raw"
        }
      },
      "source": [
        "# 손글씨 숫자 이미지 분류 모델 비교\n",
        "\n",
        "sklearn에서 load_digits() 데이터셋을 사용한 손글씨 숫자 분류 문제입니다.\n",
        "- 미국의 우편번호 나누기 때 수집된 데이터\n",
        "- 이미지 => 디지털화 하는 과정에 흑백은 2차원배열, 칼라는 3차원배열\n",
        "- 이미지가 10장이 있고 각 이미지 크기가 8x8 (64개 특성)\n",
        "- 이미지 => numpy 배열로 변환하여 처리\n"
      ]
    },
    {
      "cell_type": "code",
      "execution_count": 1,
      "metadata": {},
      "outputs": [],
      "source": [
        "# 필요한 라이브러리 import\n",
        "import matplotlib.pyplot as plt\n",
        "from sklearn.datasets import load_digits\n",
        "from sklearn.model_selection import train_test_split\n",
        "import numpy as np"
      ]
    },
    {
      "cell_type": "code",
      "execution_count": 2,
      "metadata": {},
      "outputs": [
        {
          "name": "stdout",
          "output_type": "stream",
          "text": [
            "(1797, 64)\n",
            "[[ 0.  0.  5. 13.  9.  1.  0.  0.  0.  0. 13. 15. 10. 15.  5.  0.  0.  3.\n",
            "  15.  2.  0. 11.  8.  0.  0.  4. 12.  0.  0.  8.  8.  0.  0.  5.  8.  0.\n",
            "   0.  9.  8.  0.  0.  4. 11.  0.  1. 12.  7.  0.  0.  2. 14.  5. 10. 12.\n",
            "   0.  0.  0.  0.  6. 13. 10.  0.  0.  0.]\n",
            " [ 0.  0.  0. 12. 13.  5.  0.  0.  0.  0.  0. 11. 16.  9.  0.  0.  0.  0.\n",
            "   3. 15. 16.  6.  0.  0.  0.  7. 15. 16. 16.  2.  0.  0.  0.  0.  1. 16.\n",
            "  16.  3.  0.  0.  0.  0.  1. 16. 16.  6.  0.  0.  0.  0.  1. 16. 16.  6.\n",
            "   0.  0.  0.  0.  0. 11. 16. 10.  0.  0.]\n",
            " [ 0.  0.  0.  4. 15. 12.  0.  0.  0.  0.  3. 16. 15. 14.  0.  0.  0.  0.\n",
            "   8. 13.  8. 16.  0.  0.  0.  0.  1.  6. 15. 11.  0.  0.  0.  1.  8. 13.\n",
            "  15.  1.  0.  0.  0.  9. 16. 16.  5.  0.  0.  0.  0.  3. 13. 16. 16. 11.\n",
            "   5.  0.  0.  0.  0.  3. 11. 16.  9.  0.]\n",
            " [ 0.  0.  7. 15. 13.  1.  0.  0.  0.  8. 13.  6. 15.  4.  0.  0.  0.  2.\n",
            "   1. 13. 13.  0.  0.  0.  0.  0.  2. 15. 11.  1.  0.  0.  0.  0.  0.  1.\n",
            "  12. 12.  1.  0.  0.  0.  0.  0.  1. 10.  8.  0.  0.  0.  8.  4.  5. 14.\n",
            "   9.  0.  0.  0.  7. 13. 13.  9.  0.  0.]\n",
            " [ 0.  0.  0.  1. 11.  0.  0.  0.  0.  0.  0.  7.  8.  0.  0.  0.  0.  0.\n",
            "   1. 13.  6.  2.  2.  0.  0.  0.  7. 15.  0.  9.  8.  0.  0.  5. 16. 10.\n",
            "   0. 16.  6.  0.  0.  4. 15. 16. 13. 16.  1.  0.  0.  0.  0.  3. 15. 10.\n",
            "   0.  0.  0.  0.  0.  2. 16.  4.  0.  0.]\n",
            " [ 0.  0. 12. 10.  0.  0.  0.  0.  0.  0. 14. 16. 16. 14.  0.  0.  0.  0.\n",
            "  13. 16. 15. 10.  1.  0.  0.  0. 11. 16. 16.  7.  0.  0.  0.  0.  0.  4.\n",
            "   7. 16.  7.  0.  0.  0.  0.  0.  4. 16.  9.  0.  0.  0.  5.  4. 12. 16.\n",
            "   4.  0.  0.  0.  9. 16. 16. 10.  0.  0.]\n",
            " [ 0.  0.  0. 12. 13.  0.  0.  0.  0.  0.  5. 16.  8.  0.  0.  0.  0.  0.\n",
            "  13. 16.  3.  0.  0.  0.  0.  0. 14. 13.  0.  0.  0.  0.  0.  0. 15. 12.\n",
            "   7.  2.  0.  0.  0.  0. 13. 16. 13. 16.  3.  0.  0.  0.  7. 16. 11. 15.\n",
            "   8.  0.  0.  0.  1.  9. 15. 11.  3.  0.]\n",
            " [ 0.  0.  7.  8. 13. 16. 15.  1.  0.  0.  7.  7.  4. 11. 12.  0.  0.  0.\n",
            "   0.  0.  8. 13.  1.  0.  0.  4.  8.  8. 15. 15.  6.  0.  0.  2. 11. 15.\n",
            "  15.  4.  0.  0.  0.  0.  0. 16.  5.  0.  0.  0.  0.  0.  9. 15.  1.  0.\n",
            "   0.  0.  0.  0. 13.  5.  0.  0.  0.  0.]\n",
            " [ 0.  0.  9. 14.  8.  1.  0.  0.  0.  0. 12. 14. 14. 12.  0.  0.  0.  0.\n",
            "   9. 10.  0. 15.  4.  0.  0.  0.  3. 16. 12. 14.  2.  0.  0.  0.  4. 16.\n",
            "  16.  2.  0.  0.  0.  3. 16.  8. 10. 13.  2.  0.  0.  1. 15.  1.  3. 16.\n",
            "   8.  0.  0.  0. 11. 16. 15. 11.  1.  0.]\n",
            " [ 0.  0. 11. 12.  0.  0.  0.  0.  0.  2. 16. 16. 16. 13.  0.  0.  0.  3.\n",
            "  16. 12. 10. 14.  0.  0.  0.  1. 16.  1. 12. 15.  0.  0.  0.  0. 13. 16.\n",
            "   9. 15.  2.  0.  0.  0.  0.  3.  0.  9. 11.  0.  0.  0.  0.  0.  9. 15.\n",
            "   4.  0.  0.  0.  9. 12. 13.  3.  0.  0.]]\n",
            "[[[ 0.  0.  5. 13.  9.  1.  0.  0.]\n",
            "  [ 0.  0. 13. 15. 10. 15.  5.  0.]\n",
            "  [ 0.  3. 15.  2.  0. 11.  8.  0.]\n",
            "  [ 0.  4. 12.  0.  0.  8.  8.  0.]\n",
            "  [ 0.  5.  8.  0.  0.  9.  8.  0.]\n",
            "  [ 0.  4. 11.  0.  1. 12.  7.  0.]\n",
            "  [ 0.  2. 14.  5. 10. 12.  0.  0.]\n",
            "  [ 0.  0.  6. 13. 10.  0.  0.  0.]]\n",
            "\n",
            " [[ 0.  0.  0. 12. 13.  5.  0.  0.]\n",
            "  [ 0.  0.  0. 11. 16.  9.  0.  0.]\n",
            "  [ 0.  0.  3. 15. 16.  6.  0.  0.]\n",
            "  [ 0.  7. 15. 16. 16.  2.  0.  0.]\n",
            "  [ 0.  0.  1. 16. 16.  3.  0.  0.]\n",
            "  [ 0.  0.  1. 16. 16.  6.  0.  0.]\n",
            "  [ 0.  0.  1. 16. 16.  6.  0.  0.]\n",
            "  [ 0.  0.  0. 11. 16. 10.  0.  0.]]\n",
            "\n",
            " [[ 0.  0.  0.  4. 15. 12.  0.  0.]\n",
            "  [ 0.  0.  3. 16. 15. 14.  0.  0.]\n",
            "  [ 0.  0.  8. 13.  8. 16.  0.  0.]\n",
            "  [ 0.  0.  1.  6. 15. 11.  0.  0.]\n",
            "  [ 0.  1.  8. 13. 15.  1.  0.  0.]\n",
            "  [ 0.  9. 16. 16.  5.  0.  0.  0.]\n",
            "  [ 0.  3. 13. 16. 16. 11.  5.  0.]\n",
            "  [ 0.  0.  0.  3. 11. 16.  9.  0.]]\n",
            "\n",
            " [[ 0.  0.  7. 15. 13.  1.  0.  0.]\n",
            "  [ 0.  8. 13.  6. 15.  4.  0.  0.]\n",
            "  [ 0.  2.  1. 13. 13.  0.  0.  0.]\n",
            "  [ 0.  0.  2. 15. 11.  1.  0.  0.]\n",
            "  [ 0.  0.  0.  1. 12. 12.  1.  0.]\n",
            "  [ 0.  0.  0.  0.  1. 10.  8.  0.]\n",
            "  [ 0.  0.  8.  4.  5. 14.  9.  0.]\n",
            "  [ 0.  0.  7. 13. 13.  9.  0.  0.]]\n",
            "\n",
            " [[ 0.  0.  0.  1. 11.  0.  0.  0.]\n",
            "  [ 0.  0.  0.  7.  8.  0.  0.  0.]\n",
            "  [ 0.  0.  1. 13.  6.  2.  2.  0.]\n",
            "  [ 0.  0.  7. 15.  0.  9.  8.  0.]\n",
            "  [ 0.  5. 16. 10.  0. 16.  6.  0.]\n",
            "  [ 0.  4. 15. 16. 13. 16.  1.  0.]\n",
            "  [ 0.  0.  0.  3. 15. 10.  0.  0.]\n",
            "  [ 0.  0.  0.  2. 16.  4.  0.  0.]]\n",
            "\n",
            " [[ 0.  0. 12. 10.  0.  0.  0.  0.]\n",
            "  [ 0.  0. 14. 16. 16. 14.  0.  0.]\n",
            "  [ 0.  0. 13. 16. 15. 10.  1.  0.]\n",
            "  [ 0.  0. 11. 16. 16.  7.  0.  0.]\n",
            "  [ 0.  0.  0.  4.  7. 16.  7.  0.]\n",
            "  [ 0.  0.  0.  0.  4. 16.  9.  0.]\n",
            "  [ 0.  0.  5.  4. 12. 16.  4.  0.]\n",
            "  [ 0.  0.  9. 16. 16. 10.  0.  0.]]\n",
            "\n",
            " [[ 0.  0.  0. 12. 13.  0.  0.  0.]\n",
            "  [ 0.  0.  5. 16.  8.  0.  0.  0.]\n",
            "  [ 0.  0. 13. 16.  3.  0.  0.  0.]\n",
            "  [ 0.  0. 14. 13.  0.  0.  0.  0.]\n",
            "  [ 0.  0. 15. 12.  7.  2.  0.  0.]\n",
            "  [ 0.  0. 13. 16. 13. 16.  3.  0.]\n",
            "  [ 0.  0.  7. 16. 11. 15.  8.  0.]\n",
            "  [ 0.  0.  1.  9. 15. 11.  3.  0.]]\n",
            "\n",
            " [[ 0.  0.  7.  8. 13. 16. 15.  1.]\n",
            "  [ 0.  0.  7.  7.  4. 11. 12.  0.]\n",
            "  [ 0.  0.  0.  0.  8. 13.  1.  0.]\n",
            "  [ 0.  4.  8.  8. 15. 15.  6.  0.]\n",
            "  [ 0.  2. 11. 15. 15.  4.  0.  0.]\n",
            "  [ 0.  0.  0. 16.  5.  0.  0.  0.]\n",
            "  [ 0.  0.  9. 15.  1.  0.  0.  0.]\n",
            "  [ 0.  0. 13.  5.  0.  0.  0.  0.]]\n",
            "\n",
            " [[ 0.  0.  9. 14.  8.  1.  0.  0.]\n",
            "  [ 0.  0. 12. 14. 14. 12.  0.  0.]\n",
            "  [ 0.  0.  9. 10.  0. 15.  4.  0.]\n",
            "  [ 0.  0.  3. 16. 12. 14.  2.  0.]\n",
            "  [ 0.  0.  4. 16. 16.  2.  0.  0.]\n",
            "  [ 0.  3. 16.  8. 10. 13.  2.  0.]\n",
            "  [ 0.  1. 15.  1.  3. 16.  8.  0.]\n",
            "  [ 0.  0. 11. 16. 15. 11.  1.  0.]]\n",
            "\n",
            " [[ 0.  0. 11. 12.  0.  0.  0.  0.]\n",
            "  [ 0.  2. 16. 16. 16. 13.  0.  0.]\n",
            "  [ 0.  3. 16. 12. 10. 14.  0.  0.]\n",
            "  [ 0.  1. 16.  1. 12. 15.  0.  0.]\n",
            "  [ 0.  0. 13. 16.  9. 15.  2.  0.]\n",
            "  [ 0.  0.  0.  3.  0.  9. 11.  0.]\n",
            "  [ 0.  0.  0.  0.  9. 15.  4.  0.]\n",
            "  [ 0.  0.  9. 12. 13.  3.  0.  0.]]]\n"
          ]
        }
      ],
      "source": [
        "# 데이터 로드 및 탐색\n",
        "data = load_digits()\n",
        "X = data.data\n",
        "y = data.target\n",
        "print(X.shape) \n",
        "print(X[:10])\n",
        "\n",
        "# 이미지 데이터 확인\n",
        "print(data.images[:10])  # numpy 2d -> 1d로 바꾸어서 data로 준거고, 원래데이터\n",
        "images = data.images"
      ]
    },
    {
      "cell_type": "code",
      "execution_count": 3,
      "metadata": {},
      "outputs": [
        {
          "data": {
            "image/png": "[encoded data removed]",
            "text/plain": [
              "<Figure size 1000x400 with 1 Axes>"
            ]
          },
          "metadata": {},
          "output_type": "display_data"
        }
      ],
      "source": [
        "# 단일 이미지 출력 예시\n",
        "plt.figure(figsize=(10, 4))  # 차트의 크기\n",
        "plt.imshow(images[0], cmap=\"gray_r\")  # 회색으로 이미지 출력\n",
        "plt.show()"
      ]
    },
    {
      "cell_type": "code",
      "execution_count": 4,
      "metadata": {},
      "outputs": [
        {
          "data": {
            "image/png": "[encoded data removed]",
            "text/plain": [
              "<Figure size 1000x400 with 10 Axes>"
            ]
          },
          "metadata": {},
          "output_type": "display_data"
        }
      ],
      "source": [
        "# 이미지 시각화 함수\n",
        "def drawNumbers():\n",
        "    \"\"\"이미지를 여러개 출력하려면 화면 분할을 해야 한다.\"\"\"\n",
        "    plt.figure(figsize=(10, 4))  # 화면 전체 크기를 지정하고나서 작게 나누려면 subplot 함수를 사용한다.\n",
        "    # 2 by 5 쪼개면 10개의 화면이 만들어지고 각분할위치에 번호가 붙는다 \n",
        "    # 1 2 3 4 5 \n",
        "    # 6 7 8 9 10 \n",
        "    for i in range(10):       \n",
        "        plt.subplot(2, 5, i+1)  # 내가 내보낼 위치 지정 \n",
        "        plt.imshow(images[i], cmap=\"gray_r\", interpolation='nearest')  # interpolation: 보간법 \n",
        "        plt.title(f\"Label:{y[i]}\")\n",
        "        plt.axis('off')  # 축 없애기 \n",
        "\n",
        "    plt.tight_layout()  # 이쁘게 다시 정리해라 \n",
        "    plt.suptitle(\"Digits Image\", y=1.05, fontsize=16) \n",
        "    # y는 제목이 출력될 위치를 말하는데 y=0 이면 아래쪽 y=1 이면 위쪽  1.05 는 영역 바깥쪽에 놓으라는 의미임 \n",
        "    plt.show()\n",
        "\n",
        "# 함수 실행\n",
        "drawNumbers()\n"
      ]
    },
    {
      "cell_type": "code",
      "execution_count": 5,
      "metadata": {},
      "outputs": [
        {
          "name": "stdout",
          "output_type": "stream",
          "text": [
            "훈련 데이터 크기: (1257, 64)\n",
            "테스트 데이터 크기: (540, 64)\n"
          ]
        }
      ],
      "source": [
        "# 데이터 분리 (훈련/테스트 세트)\n",
        "# 이미지 크기 자체는 8 by 8 -> 1차원으로 바꾸니까 64개의 특성이 되었다.\n",
        "X_train, X_test, y_train, y_test = train_test_split(X, y, random_state=1, test_size=0.3)\n",
        "\n",
        "print(f\"훈련 데이터 크기: {X_train.shape}\")\n",
        "print(f\"테스트 데이터 크기: {X_test.shape}\")\n"
      ]
    },
    {
      "cell_type": "markdown",
      "metadata": {
        "vscode": {
          "languageId": "raw"
        }
      },
      "source": [
        "## 1. 로지스틱 회귀 (Logistic Regression)\n",
        "\n",
        "분류 문제에 사용하는 선형 분류 모델입니다.\n"
      ]
    },
    {
      "cell_type": "code",
      "execution_count": 11,
      "metadata": {},
      "outputs": [
        {
          "name": "stdout",
          "output_type": "stream",
          "text": [
            "로지스틱회귀\n",
            "훈련셋 1.0\n",
            "테스트셋 0.9685185185185186\n"
          ]
        }
      ],
      "source": [
        "# 로지스틱 회귀\n",
        "from sklearn.linear_model import LogisticRegression\n",
        "\n",
        "# multi_class와 solver를 모두 기본값으로 두거나, solver만 변경\n",
        "model = LogisticRegression(\n",
        "    solver='lbfgs',      # 다중분류 지원\n",
        "    max_iter=5000,\n",
        "    random_state=0\n",
        ")\n",
        "model.fit(X_train, y_train)\n",
        "print(\"로지스틱회귀\")\n",
        "print(\"훈련셋\", model.score(X_train, y_train))\n",
        "print(\"테스트셋\", model.score(X_test, y_test))"
      ]
    },
    {
      "cell_type": "markdown",
      "metadata": {
        "vscode": {
          "languageId": "raw"
        }
      },
      "source": [
        "## 2. KNN (K-Nearest Neighbors)\n",
        "\n",
        "k개의 가장 가까운 이웃을 찾아서 다수결로 분류하는 모델입니다.\n"
      ]
    },
    {
      "cell_type": "code",
      "execution_count": 7,
      "metadata": {},
      "outputs": [
        {
          "name": "stdout",
          "output_type": "stream",
          "text": [
            "KNN 이웃\n",
            "훈련셋 0.9888623707239459\n",
            "테스트셋 0.9888888888888889\n"
          ]
        }
      ],
      "source": [
        "# KNN 이웃 \n",
        "from sklearn.neighbors import KNeighborsClassifier\n",
        "\n",
        "model = KNeighborsClassifier(n_neighbors=3)\n",
        "model.fit(X_train, y_train)\n",
        "print(\"KNN 이웃\")\n",
        "print(\"훈련셋\", model.score(X_train, y_train))\n",
        "print(\"테스트셋\", model.score(X_test, y_test))\n"
      ]
    },
    {
      "cell_type": "markdown",
      "metadata": {
        "vscode": {
          "languageId": "raw"
        }
      },
      "source": [
        "## 3. 의사결정트리 (Decision Tree)\n",
        "\n",
        "트리 구조로 의사결정 규칙을 만들어 분류하는 모델입니다.\n"
      ]
    },
    {
      "cell_type": "code",
      "execution_count": 8,
      "metadata": {},
      "outputs": [
        {
          "name": "stdout",
          "output_type": "stream",
          "text": [
            "DecisionTreeClassifier\n",
            "훈련셋 0.6865552903739062\n",
            "테스트셋 0.6796296296296296\n"
          ]
        }
      ],
      "source": [
        "# 의사결정트리 \n",
        "from sklearn.tree import DecisionTreeClassifier\n",
        "\n",
        "model = DecisionTreeClassifier(max_depth=5)\n",
        "model.fit(X_train, y_train)\n",
        "print(\"DecisionTreeClassifier\")\n",
        "print(\"훈련셋\", model.score(X_train, y_train))\n",
        "print(\"테스트셋\", model.score(X_test, y_test))\n"
      ]
    },
    {
      "cell_type": "markdown",
      "metadata": {
        "vscode": {
          "languageId": "raw"
        }
      },
      "source": [
        "## 4. 랜덤포레스트 (Random Forest)\n",
        "\n",
        "여러 개의 의사결정트리를 결합하여 예측하는 앙상블 모델입니다.\n"
      ]
    },
    {
      "cell_type": "code",
      "execution_count": 9,
      "metadata": {},
      "outputs": [
        {
          "name": "stdout",
          "output_type": "stream",
          "text": [
            "RandomForestClassifier\n",
            "훈련셋 0.9387430389817024\n",
            "테스트셋 0.937037037037037\n"
          ]
        }
      ],
      "source": [
        "# 랜덤포레스트\n",
        "from sklearn.ensemble import RandomForestClassifier\n",
        "\n",
        "model = RandomForestClassifier(max_depth=4, n_estimators=100, random_state=0)\n",
        "model.fit(X_train, y_train)\n",
        "print(\"RandomForestClassifier\")\n",
        "print(\"훈련셋\", model.score(X_train, y_train))\n",
        "print(\"테스트셋\", model.score(X_test, y_test))\n"
      ]
    },
    {
      "cell_type": "markdown",
      "metadata": {
        "vscode": {
          "languageId": "raw"
        }
      },
      "source": [
        "## 5. 그라디언트 부스팅 (Gradient Boosting)\n",
        "\n",
        "약한 학습기들을 순차적으로 학습하여 이전 모델의 오류를 보정하는 앙상블 모델입니다.\n"
      ]
    },
    {
      "cell_type": "code",
      "execution_count": 10,
      "metadata": {},
      "outputs": [
        {
          "name": "stdout",
          "output_type": "stream",
          "text": [
            "GradientBoostingClassifier\n",
            "훈련셋 1.0\n",
            "테스트셋 0.9574074074074074\n"
          ]
        }
      ],
      "source": [
        "# 그라디언트 부스팅  \n",
        "from sklearn.ensemble import GradientBoostingClassifier\n",
        "\n",
        "model = GradientBoostingClassifier(max_depth=4, n_estimators=100, random_state=0, \n",
        "                                  learning_rate=0.1)\n",
        "model.fit(X_train, y_train)\n",
        "print(\"GradientBoostingClassifier\")\n",
        "print(\"훈련셋\", model.score(X_train, y_train))\n",
        "print(\"테스트셋\", model.score(X_test, y_test))\n"
      ]
    },
    {
      "cell_type": "markdown",
      "metadata": {
        "vscode": {
          "languageId": "raw"
        }
      },
      "source": [
        "## 모델 성능 비교 요약\n",
        "\n",
        "위의 결과를 바탕으로 각 모델의 성능을 비교해보세요:\n",
        "\n",
        "1. **로지스틱 회귀**: 선형 분류 모델, 해석 가능성 높음\n",
        "2. **KNN**: 거리 기반 분류, 계산 비용 높음\n",
        "3. **의사결정트리**: 해석 가능하지만 과적합 위험\n",
        "4. **랜덤포레스트**: 의사결정트리의 앙상블, 과적합 방지\n",
        "5. **그라디언트 부스팅**: 순차적 학습으로 성능 향상\n",
        "\n",
        "각 모델의 훈련셋과 테스트셋 정확도를 비교하여 과적합 여부를 확인하고, 최적의 모델을 선택해보세요.\n"
      ]
    }
  ],
  "metadata": {
    "kernelspec": {
      "display_name": "sesac_ai",
      "language": "python",
      "name": "python3"
    },
    "language_info": {
      "codemirror_mode": {
        "name": "ipython",
        "version": 3
      },
      "file_extension": ".py",
      "mimetype": "text/x-python",
      "name": "python",
      "nbconvert_exporter": "python",
      "pygments_lexer": "ipython3",
      "version": "3.11.13"
    }
  },
  "nbformat": 4,
  "nbformat_minor": 2
}
