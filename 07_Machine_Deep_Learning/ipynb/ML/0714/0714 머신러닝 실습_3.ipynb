{
  "cells": [
    {
      "cell_type": "markdown",
      "metadata": {
        "vscode": {
          "languageId": "raw"
        }
      },
      "source": [
        "# 타이타닉 데이터 전처리 및 분석\n",
        "\n",
        "타이타닉 데이터셋을 활용한 머신러닝 분석을 위한 데이터 전처리 과정입니다.\n"
      ]
    },
    {
      "cell_type": "markdown",
      "metadata": {
        "vscode": {
          "languageId": "raw"
        }
      },
      "source": [
        "## 1. 라이브러리 Import\n"
      ]
    },
    {
      "cell_type": "code",
      "execution_count": 18,
      "metadata": {},
      "outputs": [],
      "source": [
        "import matplotlib.pyplot as plt \n",
        "import numpy as np \n",
        "import pandas as pd \n",
        "\n",
        "from sklearn.model_selection import train_test_split \n",
        "from sklearn.tree import DecisionTreeClassifier # 중요도 파악 \n",
        "from sklearn.preprocessing import StandardScaler \n",
        "\n",
        "import os # 파일이나 폴더경로를 정확하기 지정하려고\n"
      ]
    },
    {
      "cell_type": "markdown",
      "metadata": {
        "vscode": {
          "languageId": "raw"
        }
      },
      "source": [
        "## 2. 데이터 로드 및 기본 탐색\n"
      ]
    },
    {
      "cell_type": "code",
      "execution_count": 19,
      "metadata": {},
      "outputs": [
        {
          "name": "stdout",
          "output_type": "stream",
          "text": [
            "현재 작업 디렉토리: c:\\Users\\ryan9\\문서\\GitHub\\SeSac-AI-Developer-Notes-2025\\07_Machine_Deep_Learning\\ipynb\\ML\\0714\n",
            "프로젝트 루트: c:\\Users\\ryan9\\문서\\GitHub\\SeSac-AI-Developer-Notes-2025\n",
            "Train 파일 경로: c:\\Users\\ryan9\\문서\\GitHub\\SeSac-AI-Developer-Notes-2025\\07_Machine_Deep_Learning\\data\\csv\\train.csv\n",
            "Test 파일 경로: c:\\Users\\ryan9\\문서\\GitHub\\SeSac-AI-Developer-Notes-2025\\07_Machine_Deep_Learning\\data\\csv\\test.csv\n",
            "Train 파일 존재 여부: True\n",
            "Test 파일 존재 여부: True\n",
            "\n",
            "✅ 데이터 로드 성공!\n",
            "Train dataset shape: (891, 12)\n",
            "Test dataset shape: (418, 11)\n",
            "\n",
            "Train dataset head:\n",
            "   PassengerId  Survived  Pclass  \\\n",
            "0            1         0       3   \n",
            "1            2         1       1   \n",
            "2            3         1       3   \n",
            "3            4         1       1   \n",
            "4            5         0       3   \n",
            "\n",
            "                                                Name     Sex   Age  SibSp  \\\n",
            "0                            Braund, Mr. Owen Harris    male  22.0      1   \n",
            "1  Cumings, Mrs. John Bradley (Florence Briggs Th...  female  38.0      1   \n",
            "2                             Heikkinen, Miss. Laina  female  26.0      0   \n",
            "3       Futrelle, Mrs. Jacques Heath (Lily May Peel)  female  35.0      1   \n",
            "4                           Allen, Mr. William Henry    male  35.0      0   \n",
            "\n",
            "   Parch            Ticket     Fare Cabin Embarked  \n",
            "0      0         A/5 21171   7.2500   NaN        S  \n",
            "1      0          PC 17599  71.2833   C85        C  \n",
            "2      0  STON/O2. 3101282   7.9250   NaN        S  \n",
            "3      0            113803  53.1000  C123        S  \n",
            "4      0            373450   8.0500   NaN        S  \n"
          ]
        }
      ],
      "source": [
        "# 현재 작업 디렉토리 확인\n",
        "print(\"현재 작업 디렉토리:\", os.getcwd())\n",
        "\n",
        "# 프로젝트 루트로 경로 설정\n",
        "import sys\n",
        "project_root = os.path.dirname(os.path.dirname(os.path.dirname(os.path.dirname(os.getcwd()))))\n",
        "print(\"프로젝트 루트:\", project_root)\n",
        "\n",
        "# 절대 경로로 데이터 파일 경로 설정\n",
        "train_path = os.path.join(project_root, \"07_Machine_Deep_Learning\", \"data\", \"csv\", \"train.csv\")\n",
        "test_path = os.path.join(project_root, \"07_Machine_Deep_Learning\", \"data\", \"csv\", \"test.csv\")\n",
        "\n",
        "print(\"Train 파일 경로:\", train_path)\n",
        "print(\"Test 파일 경로:\", test_path)\n",
        "print(\"Train 파일 존재 여부:\", os.path.exists(train_path))\n",
        "print(\"Test 파일 존재 여부:\", os.path.exists(test_path))\n",
        "\n",
        "# 파일이 존재하면 데이터 로드\n",
        "if os.path.exists(train_path) and os.path.exists(test_path):\n",
        "    train = pd.read_csv(train_path)\n",
        "    test = pd.read_csv(test_path)\n",
        "    print(\"\\n✅ 데이터 로드 성공!\")\n",
        "    print(\"Train dataset shape:\", train.shape)\n",
        "    print(\"Test dataset shape:\", test.shape)\n",
        "    print(\"\\nTrain dataset head:\")\n",
        "    print(train.head())\n",
        "else:\n",
        "    print(\"❌ 파일을 찾을 수 없습니다. 경로를 확인해주세요.\")\n"
      ]
    },
    {
      "cell_type": "markdown",
      "metadata": {
        "vscode": {
          "languageId": "raw"
        }
      },
      "source": [
        "## 3. 불필요한 열 삭제\n"
      ]
    },
    {
      "cell_type": "code",
      "execution_count": 20,
      "metadata": {},
      "outputs": [
        {
          "name": "stdout",
          "output_type": "stream",
          "text": [
            "   Survived  Pclass     Sex   Age            Ticket     Fare Embarked\n",
            "0         0       3    male  22.0         A/5 21171   7.2500        S\n",
            "1         1       1  female  38.0          PC 17599  71.2833        C\n",
            "2         1       3  female  26.0  STON/O2. 3101282   7.9250        S\n",
            "3         1       1  female  35.0            113803  53.1000        S\n",
            "4         0       3    male  35.0            373450   8.0500        S\n",
            "(891, 7)\n"
          ]
        }
      ],
      "source": [
        "# Cabin은 결측치가 너무 많아서 제거\n",
        "train = train.drop(columns=['PassengerId', 'Name','SibSp','Parch', 'Cabin'])\n",
        "test  = test.drop(columns=['PassengerId', 'Name','SibSp','Parch', 'Cabin'])\n",
        "print(train.head())\n",
        "print(train.shape)  # 특성 4개 삭제됨\n"
      ]
    },
    {
      "cell_type": "markdown",
      "metadata": {
        "vscode": {
          "languageId": "raw"
        }
      },
      "source": [
        "## 4. 결측치 처리\n"
      ]
    },
    {
      "cell_type": "code",
      "execution_count": 21,
      "metadata": {},
      "outputs": [
        {
          "name": "stdout",
          "output_type": "stream",
          "text": [
            "Survived      0\n",
            "Pclass        0\n",
            "Sex           0\n",
            "Age         177\n",
            "Ticket        0\n",
            "Fare          0\n",
            "Embarked      2\n",
            "dtype: int64\n",
            "<class 'pandas.core.frame.DataFrame'>\n",
            "RangeIndex: 891 entries, 0 to 890\n",
            "Data columns (total 7 columns):\n",
            " #   Column    Non-Null Count  Dtype  \n",
            "---  ------    --------------  -----  \n",
            " 0   Survived  891 non-null    int64  \n",
            " 1   Pclass    891 non-null    int64  \n",
            " 2   Sex       891 non-null    object \n",
            " 3   Age       714 non-null    float64\n",
            " 4   Ticket    891 non-null    object \n",
            " 5   Fare      891 non-null    float64\n",
            " 6   Embarked  889 non-null    object \n",
            "dtypes: float64(2), int64(2), object(3)\n",
            "memory usage: 48.9+ KB\n",
            "None\n",
            "         Survived      Pclass         Age        Fare\n",
            "count  891.000000  891.000000  714.000000  891.000000\n",
            "mean     0.383838    2.308642   29.699118   32.204208\n",
            "std      0.486592    0.836071   14.526497   49.693429\n",
            "min      0.000000    1.000000    0.420000    0.000000\n",
            "25%      0.000000    2.000000   20.125000    7.910400\n",
            "50%      0.000000    3.000000   28.000000   14.454200\n",
            "75%      1.000000    3.000000   38.000000   31.000000\n",
            "max      1.000000    3.000000   80.000000  512.329200\n"
          ]
        }
      ],
      "source": [
        "# 결측치 확인하기\n",
        "print(train.isna().sum())  # 각 특성별로 NaN개수가 출력된다.\n",
        "print(train.info())\n",
        "print(train.describe())  # 평균값이 나을지 중간값이 나을지를 지정하기 위해서\n"
      ]
    },
    {
      "cell_type": "code",
      "execution_count": 22,
      "metadata": {},
      "outputs": [
        {
          "name": "stdout",
          "output_type": "stream",
          "text": [
            "Age 평균값: 29.70\n",
            "Age 결측치 처리 후 - Train: 0개\n",
            "Age 결측치 처리 후 - Test: 0개\n",
            "\n",
            "=== Train dataset 결측치 현황 ===\n",
            "Survived    0\n",
            "Pclass      0\n",
            "Sex         0\n",
            "Age         0\n",
            "Ticket      0\n",
            "Fare        0\n",
            "Embarked    2\n",
            "dtype: int64\n",
            "\n",
            "=== Test dataset 결측치 현황 ===\n",
            "Pclass      0\n",
            "Sex         0\n",
            "Age         0\n",
            "Ticket      0\n",
            "Fare        1\n",
            "Embarked    0\n",
            "dtype: int64\n"
          ]
        }
      ],
      "source": [
        "# Age 결측치를 평균값으로 대체 (FutureWarning 해결)\n",
        "age_mean = train[\"Age\"].mean() \n",
        "print(f\"Age 평균값: {age_mean:.2f}\")\n",
        "\n",
        "# pandas 3.0 호환성을 위해 수정된 방법 사용\n",
        "train['Age'] = train['Age'].fillna(age_mean)\n",
        "test['Age'] = test['Age'].fillna(age_mean)\n",
        "\n",
        "print(f\"Age 결측치 처리 후 - Train: {train['Age'].isna().sum()}개\")\n",
        "print(f\"Age 결측치 처리 후 - Test: {test['Age'].isna().sum()}개\")\n",
        "print(\"\\n=== Train dataset 결측치 현황 ===\")\n",
        "print(train.isna().sum()) \n",
        "print(\"\\n=== Test dataset 결측치 현황 ===\")\n",
        "print(test.isna().sum())\n"
      ]
    },
    {
      "cell_type": "code",
      "execution_count": 23,
      "metadata": {},
      "outputs": [
        {
          "name": "stdout",
          "output_type": "stream",
          "text": [
            "Test 데이터 Fare 결측치: 1개\n",
            "Fare 평균값으로 대체: 32.20\n",
            "Fare 결측치 처리 후: 0개\n"
          ]
        }
      ],
      "source": [
        "# Test 데이터의 Fare 결측치 처리 (Train 데이터의 평균값으로 대체)\n",
        "if test['Fare'].isna().sum() > 0:\n",
        "    fare_mean = train['Fare'].mean()\n",
        "    print(f\"Test 데이터 Fare 결측치: {test['Fare'].isna().sum()}개\")\n",
        "    print(f\"Fare 평균값으로 대체: {fare_mean:.2f}\")\n",
        "    test['Fare'] = test['Fare'].fillna(fare_mean)\n",
        "    print(f\"Fare 결측치 처리 후: {test['Fare'].isna().sum()}개\")\n",
        "else:\n",
        "    print(\"Test 데이터에 Fare 결측치가 없습니다.\")\n"
      ]
    },
    {
      "cell_type": "code",
      "execution_count": 24,
      "metadata": {},
      "outputs": [],
      "source": [
        "# Embarked는 행을 삭제시키자\n",
        "train = train.dropna(axis=0, how='any') \n",
        "# 행중에 한 컬럼이라도 NaN값이 있으면 전체행을 삭제시켜라 \n",
        "test = test.dropna(axis=0, how='any')\n"
      ]
    },
    {
      "cell_type": "markdown",
      "metadata": {
        "vscode": {
          "languageId": "raw"
        }
      },
      "source": [
        "## 5. 이상치 제거\n"
      ]
    },
    {
      "cell_type": "code",
      "execution_count": 25,
      "metadata": {},
      "outputs": [
        {
          "data": {
            "image/png": "[encoded data removed]",
            "text/plain": [
              "<Figure size 640x480 with 1 Axes>"
            ]
          },
          "metadata": {},
          "output_type": "display_data"
        }
      ],
      "source": [
        "# boxplot을 그려보자 - 이상치 확인용\n",
        "train.boxplot()  # 데이터프레임이 내부적으로 몇개의 차트는 가지고 있다\n",
        "plt.show()  # 이상치를 확인하기 위해 boxplot를 그려보자\n"
      ]
    },
    {
      "cell_type": "code",
      "execution_count": 26,
      "metadata": {},
      "outputs": [],
      "source": [
        "# 이상치 처리를 위한 IQR 함수 정의\n",
        "def outfliers_iqr(data):\n",
        "    q1, q3 = np.percentile(data, [25, 75])  # percentile은 값 2개를 넘겨받을 수 있다\n",
        "    iqr = q3 - q1\n",
        "    lower_bound = q1 - (iqr * 1.5)\n",
        "    upper_bound = q3 + (iqr * 1.5)\n",
        "    \n",
        "    return lower_bound, upper_bound  # tuple형태로 두 값을 반환\n"
      ]
    },
    {
      "cell_type": "code",
      "execution_count": 27,
      "metadata": {},
      "outputs": [
        {
          "name": "stdout",
          "output_type": "stream",
          "text": [
            "Fare - Lower bound: -26.76, Upper bound: 65.66\n",
            "Fare 이상치 처리 완료\n",
            "\n",
            "Age - Lower bound: 2.50, Upper bound: 54.50\n",
            "Age 이상치 처리 완료\n",
            "\n"
          ]
        }
      ],
      "source": [
        "# Fare, Age 필드에서 이상치 처리 (pandas 3.0 호환성 개선)\n",
        "for column in ['Fare', 'Age']:\n",
        "    # Train 데이터 이상치 처리\n",
        "    lower, upper = outfliers_iqr(train[column])\n",
        "    print(f\"{column} - Lower bound: {lower:.2f}, Upper bound: {upper:.2f}\")\n",
        "    \n",
        "    # 이상치를 경계값으로 대체 (FutureWarning 방지)\n",
        "    train[column] = train[column].clip(lower=lower, upper=upper)\n",
        "    \n",
        "    # Test 데이터 이상치 처리 (동일한 경계값 사용)\n",
        "    test[column] = test[column].clip(lower=lower, upper=upper)\n",
        "    \n",
        "    print(f\"{column} 이상치 처리 완료\\n\")\n"
      ]
    },
    {
      "cell_type": "code",
      "execution_count": 28,
      "metadata": {},
      "outputs": [
        {
          "data": {
            "image/png": "[encoded data removed]",
            "text/plain": [
              "<Figure size 640x480 with 1 Axes>"
            ]
          },
          "metadata": {},
          "output_type": "display_data"
        }
      ],
      "source": [
        "# 이상치 처리 후 다시 boxplot 확인\n",
        "train.boxplot()  \n",
        "plt.show()\n"
      ]
    },
    {
      "cell_type": "markdown",
      "metadata": {
        "vscode": {
          "languageId": "raw"
        }
      },
      "source": [
        "## 6. 전처리 결과 확인\n"
      ]
    },
    {
      "cell_type": "code",
      "execution_count": 29,
      "metadata": {},
      "outputs": [
        {
          "name": "stdout",
          "output_type": "stream",
          "text": [
            "🎯 데이터 전처리 완료!\n",
            "\n",
            "📊 데이터셋 크기:\n",
            "  • Train dataset: (889, 7)\n",
            "  • Test dataset: (418, 6)\n",
            "\n",
            "🔍 결측치 확인:\n",
            "  [Train dataset]\n",
            "    ✅ Survived: 0개\n",
            "    ✅ Pclass: 0개\n",
            "    ✅ Sex: 0개\n",
            "    ✅ Age: 0개\n",
            "    ✅ Ticket: 0개\n",
            "    ✅ Fare: 0개\n",
            "    ✅ Embarked: 0개\n",
            "\n",
            "  [Test dataset]\n",
            "    ✅ Pclass: 0개\n",
            "    ✅ Sex: 0개\n",
            "    ✅ Age: 0개\n",
            "    ✅ Ticket: 0개\n",
            "    ✅ Fare: 0개\n",
            "    ✅ Embarked: 0개\n",
            "\n",
            "📈 데이터 타입 및 메모리 사용량:\n",
            "<class 'pandas.core.frame.DataFrame'>\n",
            "Index: 889 entries, 0 to 890\n",
            "Data columns (total 7 columns):\n",
            " #   Column    Non-Null Count  Dtype  \n",
            "---  ------    --------------  -----  \n",
            " 0   Survived  889 non-null    int64  \n",
            " 1   Pclass    889 non-null    int64  \n",
            " 2   Sex       889 non-null    object \n",
            " 3   Age       889 non-null    float64\n",
            " 4   Ticket    889 non-null    object \n",
            " 5   Fare      889 non-null    float64\n",
            " 6   Embarked  889 non-null    object \n",
            "dtypes: float64(2), int64(2), object(3)\n",
            "memory usage: 55.6+ KB\n",
            "None\n",
            "\n",
            "📉 수치형 데이터 요약 통계:\n",
            "         Survived      Pclass         Age        Fare\n",
            "count  889.000000  889.000000  889.000000  889.000000\n",
            "mean     0.382452    2.311586   29.338857   23.956061\n",
            "std      0.486260    0.834700   12.042608   20.414997\n",
            "min      0.000000    1.000000    2.500000    0.000000\n",
            "25%      0.000000    2.000000   22.000000    7.895800\n",
            "50%      0.000000    3.000000   29.699118   14.454200\n",
            "75%      1.000000    3.000000   35.000000   31.000000\n",
            "max      1.000000    3.000000   54.500000   65.656300\n"
          ]
        }
      ],
      "source": [
        "# ===== 최종 전처리 결과 확인 =====\n",
        "print(\"🎯 데이터 전처리 완료!\\n\")\n",
        "\n",
        "print(\"📊 데이터셋 크기:\")\n",
        "print(f\"  • Train dataset: {train.shape}\")\n",
        "print(f\"  • Test dataset: {test.shape}\")\n",
        "\n",
        "print(\"\\n🔍 결측치 확인:\")\n",
        "train_missing = train.isna().sum()\n",
        "test_missing = test.isna().sum()\n",
        "\n",
        "print(\"  [Train dataset]\")\n",
        "for col in train_missing.index:\n",
        "    missing_count = train_missing[col]\n",
        "    if missing_count > 0:\n",
        "        print(f\"    ❌ {col}: {missing_count}개\")\n",
        "    else:\n",
        "        print(f\"    ✅ {col}: {missing_count}개\")\n",
        "\n",
        "print(\"\\n  [Test dataset]\")\n",
        "for col in test_missing.index:\n",
        "    missing_count = test_missing[col]\n",
        "    if missing_count > 0:\n",
        "        print(f\"    ❌ {col}: {missing_count}개\")\n",
        "    else:\n",
        "        print(f\"    ✅ {col}: {missing_count}개\")\n",
        "\n",
        "print(\"\\n📈 데이터 타입 및 메모리 사용량:\")\n",
        "print(train.info())\n",
        "\n",
        "print(\"\\n📉 수치형 데이터 요약 통계:\")\n",
        "print(train.describe())\n"
      ]
    }
  ],
  "metadata": {
    "kernelspec": {
      "display_name": "sesac_ai",
      "language": "python",
      "name": "python3"
    },
    "language_info": {
      "codemirror_mode": {
        "name": "ipython",
        "version": 3
      },
      "file_extension": ".py",
      "mimetype": "text/x-python",
      "name": "python",
      "nbconvert_exporter": "python",
      "pygments_lexer": "ipython3",
      "version": "3.11.13"
    }
  },
  "nbformat": 4,
  "nbformat_minor": 2
}
