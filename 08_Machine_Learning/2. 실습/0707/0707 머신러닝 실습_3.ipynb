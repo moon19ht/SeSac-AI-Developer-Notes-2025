{
  "cells": [
    {
      "cell_type": "markdown",
      "metadata": {
        "vscode": {
          "languageId": "raw"
        }
      },
      "source": [
        "# Iris 분류 머신러닝 실습\n",
        "\n",
        "## 환경 설정\n",
        "```bash\n",
        "conda activate 가상환경명\n",
        "conda install numpy scipy scikit-learn matplotlib ipython pandas imageio pillow graphviz python-graphviz\n",
        "```\n",
        "\n",
        "## 머신러닝 프로세스\n",
        "\n",
        "### 1. 데이터준비 (전처리는 나중에는 본인이 직접 해야 한다.) - 80%\n",
        "- 데이터수집, 결측치처리, 이상치처리, 중복성배제, 정규화, 주성분분석이나 차원축소등..... (중요특성선택하기)\n",
        "- 카테고리화(문자열형태) 원핫인코딩등\n",
        "\n",
        "### 2. 데이터셋을 두개로 나눈다. 훈련셋과 테스트셋으로 나눈다.\n",
        "- 전부 다 학습을 하면 과대적합인지 과소적합인지 미래 예측력이 있는지 알 수 가 없어서\n",
        "- 5:5 6:4 7:3 8:2 정도로 나누어서 테스트가 가능하도록, 훈련셋에만 맞춰지면 안된다.\n",
        "- 일반화를 위해서 쪼개야 한다\n",
        "\n",
        "### 3. 알고리즘 선택\n",
        "- 분류알고리즘 (로지스틱회귀분석(데이터가 많아지면 하이퍼파라미터 추가됨), 서포트벡터머신, 의사결정트리, 랜덤포레스트, 그라디언트부스팅...)\n",
        "- 각 알고리즘마다 성능(학습을 좀더 잘하게)을 올릴수 있는 하이퍼파라미터가 있는데 이걸 찾아내는 과정이 필요하다.\n",
        "\n",
        "### 4. 예측을 한다.\n",
        "\n",
        "### 5. 성능평가를 한다.\n",
        "- model에 있는 score 함수가 일반적으로 많이 쓰이는데 정밀하게 파악하는 수단도 있다\n"
      ]
    },
    {
      "cell_type": "code",
      "execution_count": 2,
      "metadata": {},
      "outputs": [
        {
          "name": "stdout",
          "output_type": "stream",
          "text": [
            "데이터 키: ['data', 'target', 'frame', 'target_names', 'DESCR', 'feature_names', 'filename', 'data_module']\n",
            "타겟이름: ['setosa' 'versicolor' 'virginica']\n",
            "파일명: iris.csv\n"
          ]
        }
      ],
      "source": [
        "# 1. 데이터 로드 및 탐색\n",
        "from sklearn.datasets import load_iris\n",
        "\n",
        "data = load_iris()  # Bunch 라는 클래스 타입 \n",
        "print(\"데이터 키:\", list(data.keys()))\n",
        "print(\"타겟이름:\", data.target_names)\n",
        "print(\"파일명:\", data.filename)\n"
      ]
    },
    {
      "cell_type": "code",
      "execution_count": 3,
      "metadata": {},
      "outputs": [
        {
          "name": "stdout",
          "output_type": "stream",
          "text": [
            "\n",
            "데이터설명:\n",
            ".. _iris_dataset:\n",
            "\n",
            "Iris plants dataset\n",
            "--------------------\n",
            "\n",
            "**Data Set Characteristics:**\n",
            "\n",
            ":Number of Instances: 150 (50 in each of three classes)\n",
            ":Number of Attributes: 4 numeric, predictive attributes and the class\n",
            ":Attribute Information:\n",
            "    - sepal length in cm\n",
            "    - sepal width in cm\n",
            "    - petal length in cm\n",
            "    - petal width in cm\n",
            "    - class:\n",
            "            - Iris-Setosa\n",
            "            - Iris-Versicolour\n",
            "            - Iris-Virginica\n",
            "\n",
            ":Summary Statistics:\n",
            "\n",
            "============== ==== ==== ======= ===== ====================\n",
            "                Min  Max   Mean    SD   Class Correlation\n",
            "============== ==== ==== ======= ===== ====================\n",
            "sepal length:   4.3  7.9   5.84   0.83    0.7826\n",
            "sepal width:    2.0  4.4   3.05   0.43   -0.4194\n",
            "petal length:   1.0  6.9   3.76   1.76    0.9490  (high!)\n",
            "petal width:    0.1  2.5   1.20   0.76    0.9565  (high!)\n",
            "============== ==== ==== ======= ===== ====================\n",
            "\n",
            ":Missing Attribute Values: None\n",
            ":Class Distribution: 33.3% for each of 3 classes.\n",
            ":Creator: R.A. Fisher\n",
            ":Donor: Michael Marshall (MARSHALL%PLU@io.arc.nasa.gov)\n",
            ":Date: July, 1988\n",
            "\n",
            "The famous Iris database, first used by Sir R.A. Fisher. The dataset is taken\n",
            "from Fisher's paper. Note that it's the same as in R, but not as in the UCI\n",
            "Machine Learning Repository, which has two wrong data points.\n",
            "\n",
            "This is perhaps the best known database to be found in the\n",
            "pattern recognition literature.  Fisher's paper is a classic in the field and\n",
            "is referenced frequently to this day.  (See Duda & Hart, for example.)  The\n",
            "data set contains 3 classes of 50 instances each, where each class refers to a\n",
            "type of iris plant.  One class is linearly separable from the other 2; the\n",
            "latter are NOT linearly separable from each other.\n",
            "\n",
            ".. dropdown:: References\n",
            "\n",
            "  - Fisher, R.A. \"The use of multiple measurements in taxonomic problems\"\n",
            "    Annual Eugenics, 7, Part II, 179-188 (1936); also in \"Contributions to\n",
            "    Mathematical Statistics\" (John Wiley, NY, 1950).\n",
            "  - Duda, R.O., & Hart, P.E. (1973) Pattern Classification and Scene Analysis.\n",
            "    (Q327.D83) John Wiley & Sons.  ISBN 0-471-22361-1.  See page 218.\n",
            "  - Dasarathy, B.V. (1980) \"Nosing Around the Neighborhood: A New System\n",
            "    Structure and Classification Rule for Recognition in Partially Exposed\n",
            "    Environments\".  IEEE Transactions on Pattern Analysis and Machine\n",
            "    Intelligence, Vol. PAMI-2, No. 1, 67-71.\n",
            "  - Gates, G.W. (1972) \"The Reduced Nearest Neighbor Rule\".  IEEE Transactions\n",
            "    on Information Theory, May 1972, 431-433.\n",
            "  - See also: 1988 MLC Proceedings, 54-64.  Cheeseman et al\"s AUTOCLASS II\n",
            "    conceptual clustering system finds 3 classes in the data.\n",
            "  - Many, many more ...\n",
            "\n"
          ]
        }
      ],
      "source": [
        "print(\"\\n데이터설명:\")\n",
        "print(data.DESCR)"
      ]
    },
    {
      "cell_type": "code",
      "execution_count": 4,
      "metadata": {},
      "outputs": [
        {
          "name": "stdout",
          "output_type": "stream",
          "text": [
            "X 데이터 처음 10개:\n",
            "[[5.1 3.5 1.4 0.2]\n",
            " [4.9 3.  1.4 0.2]\n",
            " [4.7 3.2 1.3 0.2]\n",
            " [4.6 3.1 1.5 0.2]\n",
            " [5.  3.6 1.4 0.2]\n",
            " [5.4 3.9 1.7 0.4]\n",
            " [4.6 3.4 1.4 0.3]\n",
            " [5.  3.4 1.5 0.2]\n",
            " [4.4 2.9 1.4 0.2]\n",
            " [4.9 3.1 1.5 0.1]]\n",
            "\n",
            "y 데이터:\n",
            "[0 0 0 0 0 0 0 0 0 0 0 0 0 0 0 0 0 0 0 0 0 0 0 0 0 0 0 0 0 0 0 0 0 0 0 0 0\n",
            " 0 0 0 0 0 0 0 0 0 0 0 0 0 1 1 1 1 1 1 1 1 1 1 1 1 1 1 1 1 1 1 1 1 1 1 1 1\n",
            " 1 1 1 1 1 1 1 1 1 1 1 1 1 1 1 1 1 1 1 1 1 1 1 1 1 1 2 2 2 2 2 2 2 2 2 2 2\n",
            " 2 2 2 2 2 2 2 2 2 2 2 2 2 2 2 2 2 2 2 2 2 2 2 2 2 2 2 2 2 2 2 2 2 2 2 2 2\n",
            " 2 2]\n"
          ]
        }
      ],
      "source": [
        "# 2. 데이터를 나누기 \n",
        "X = data.data   # ndarray 2차원배열\n",
        "y = data.target # ndarray 1차원배열 \n",
        "\n",
        "print(\"X 데이터 처음 10개:\")\n",
        "print(X[:10])\n",
        "print(\"\\ny 데이터:\")\n",
        "print(y)"
      ]
    },
    {
      "cell_type": "code",
      "execution_count": 5,
      "metadata": {},
      "outputs": [
        {
          "name": "stdout",
          "output_type": "stream",
          "text": [
            "훈련셋 크기: (105, 4)\n",
            "테스트셋 크기: (45, 4)\n"
          ]
        }
      ],
      "source": [
        "# 3. 훈련 및 테스트 세트 분리\n",
        "from sklearn.model_selection import train_test_split \n",
        "\n",
        "# 데이터를 랜덤하게 섞어서 70%추출, train_test_split: 데이터를 랜덤하게 섞어서 나눠준다\n",
        "# tuple로 반환, random_state인자가 시드역할, 계속 같은 데이터 내보내고 싶으면 이 값을 고정해야 한다\n",
        "# test_size=0.3 그 비율대로 나뉜다 \n",
        "X_train, X_test, y_train, y_test = train_test_split(X, y, random_state=1234, test_size=0.3)\n",
        "print(\"훈련셋 크기:\", X_train.shape)\n",
        "print(\"테스트셋 크기:\", X_test.shape)\n"
      ]
    },
    {
      "cell_type": "markdown",
      "metadata": {
        "vscode": {
          "languageId": "raw"
        }
      },
      "source": [
        "## 데이터 시각화\n",
        "\n",
        "산점행렬(scatter matrix)를 통해 데이터 전체를 확인할 수 있습니다.\n",
        "- 특성이 4개면 각 특성대 특성으로만 그릴 수 있어서 차트 4X4=16개\n",
        "- 특성이 10개가 되면 10 X 10 = 100개 차트가 만들어집니다\n",
        "- scatter_matrix 차트는 직접 노가다로 그릴수도 있고 DataFrame이 제공해줍니다\n",
        "- 아니면 Seaborn 차트를 사용할 수도 있습니다\n",
        "- numpy 배열을 DataFrame으로 바꿔서 사용합니다\n"
      ]
    },
    {
      "cell_type": "code",
      "execution_count": 6,
      "metadata": {},
      "outputs": [],
      "source": [
        "# 시각화 코드 (주석 처리됨)\n",
        "import pandas as pd \n",
        "# iris_df = pd.DataFrame(X, columns=data.feature_names) #numpy배열과 컬러명으로 \n",
        "# import matplotlib.pyplot as plt #모든 차트는 matplotlib.pyplot가 필요하다 \n",
        "\n",
        "# pd.plotting.scatter_matrix( iris_df, \n",
        "#                     c=y, #각 점의 색상을 지정한다. 0,1,2 각자 다른색 지정\n",
        "#                     figsize=(15,15),  #차트크기 단위는 inch임 \n",
        "#                     marker='o', \n",
        "#                     hist_kwds={'bins':20}, #대각선의 히스토그램의 구간 개수 \n",
        "#                     s=60, #점의 크기 \n",
        "#                     alpha=0.8  #투명도 1이 불투명, 0으로 갈수록 투명하다 \n",
        "# )\n",
        "# plt.show()\n"
      ]
    },
    {
      "cell_type": "markdown",
      "metadata": {
        "vscode": {
          "languageId": "raw"
        }
      },
      "source": [
        "## KNN 이웃 알고리즘\n",
        "\n",
        "**KNN 이웃알고리즘**은 내 옆집에 누가 사느냐를 확인하는 것과 같습니다.\n",
        "- 거리로 가장 가까운 거리에 누가 있느냐를 확인\n",
        "- 거리를 재는 방식이 유클리드 기하학을 사용\n",
        "- 이웃을 몇개까지 볼거냐를 선택할 수 있음\n",
        "- 이웃의 개수를 지정할 수 있음 (대부분의 홀수개를 지정하는 경우가 많음)\n",
        "- 회귀 분류 둘다 가능\n"
      ]
    },
    {
      "cell_type": "code",
      "execution_count": 7,
      "metadata": {},
      "outputs": [
        {
          "name": "stdout",
          "output_type": "stream",
          "text": [
            "예측 결과: [1 1 2 0 1 0 0 0 1 2 1 0 2 1 0 1 2 0 2 1 1 1 1 1 2 0 2 1 2 0 1 2 0 1 1 0 0\n",
            " 0 0 1 0 1 0 2 2]\n",
            "실제 결과: [1 1 2 0 1 0 0 0 1 2 1 0 2 1 0 1 2 0 2 1 1 1 1 1 2 0 2 1 2 0 1 2 0 2 1 0 0\n",
            " 0 0 1 0 1 0 2 2]\n",
            "\n",
            "KNN 성능 평가:\n",
            "훈련셋 평가: 0.9714285714285714\n",
            "테스트셋 평가: 0.9777777777777777\n"
          ]
        }
      ],
      "source": [
        "# 4. KNN 알고리즘\n",
        "from sklearn.neighbors import KNeighborsClassifier\n",
        "\n",
        "model = KNeighborsClassifier(n_neighbors=2)  # 이웃의 개수 2개 \n",
        "\n",
        "# 학습을 시작한다. 학습한 내용은 모델 자체가 갖고 있고 충분히 모델의 하이퍼파라미터가 지정되어서 \n",
        "# 최대한의 학습효과를 얻었다고 생각하면 모델을 저장해놓고 나중에 불러와서 다시 쓸 수 있다.\n",
        "model.fit(X_train, y_train) \n",
        "\n",
        "# 예측하기 \n",
        "y_pred = model.predict(X_test)  # 테스트셋으로 예측한 데이터를 반환한다. \n",
        "# 본래의 테스트셋인 y_test와 비교해본다 \n",
        "print(\"예측 결과:\", y_pred)\n",
        "print(\"실제 결과:\", y_test)\n",
        "\n",
        "# 평가하기 \n",
        "print(\"\\nKNN 성능 평가:\")\n",
        "print(\"훈련셋 평가:\", model.score(X_train, y_train))\n",
        "print(\"테스트셋 평가:\", model.score(X_test, y_test))\n"
      ]
    },
    {
      "cell_type": "code",
      "execution_count": 8,
      "metadata": {},
      "outputs": [],
      "source": [
        "# 클래스 이름으로 출력\n",
        "# class_names = list(data.target_names)\n",
        "# for i, j in zip(y_pred, y_test):\n",
        "#     print(\"예측 :{:20s} 실제:{:20s}\".format(class_names[i], class_names[j]))\n"
      ]
    },
    {
      "cell_type": "code",
      "execution_count": 9,
      "metadata": {},
      "outputs": [
        {
          "name": "stdout",
          "output_type": "stream",
          "text": [
            "로지스틱 회귀 결과:\n",
            "훈련셋 평가: 0.9714285714285714\n",
            "테스트셋 평가: 0.9777777777777777\n",
            "계수(coefficients): [[-0.40787668  0.79760635 -2.29819827 -0.90058518]\n",
            " [ 0.48587928 -0.24402868 -0.1380638  -0.92582683]\n",
            " [-0.07800259 -0.55357767  2.43626207  1.82641201]]\n",
            "절편(intercept): [  9.34844704   1.68961439 -11.03806143]\n"
          ]
        }
      ],
      "source": [
        "# 5. 로지스틱 회귀 분류\n",
        "# 로지스틱 분류: 2진, 다중분류, R은 2진분류만 \n",
        "from sklearn.linear_model import LogisticRegression\n",
        "\n",
        "model = LogisticRegression(max_iter=1000) \n",
        "model.fit(X_train, y_train) \n",
        "\n",
        "print(\"로지스틱 회귀 결과:\")\n",
        "print(\"훈련셋 평가:\", model.score(X_train, y_train))\n",
        "print(\"테스트셋 평가:\", model.score(X_test, y_test))\n",
        "print(\"계수(coefficients):\", model.coef_)\n",
        "print(\"절편(intercept):\", model.intercept_)\n"
      ]
    },
    {
      "cell_type": "markdown",
      "metadata": {
        "vscode": {
          "languageId": "raw"
        }
      },
      "source": [
        "## 의사결정트리 (Decision Tree)\n",
        "\n",
        "**의사결정트리**는 회귀와 분류 모두 가능합니다.\n",
        "- 필연적으로 과대적합이 됩니다. 알고리즘 자체가 과대적합으로 갑니다\n",
        "- 의사결정트리 알고리즘은 **특성의 중요도 파악용**으로 주로 사용됩니다\n",
        "- 트리 시작이 랜덤이라서, 시드를 잡아주지 않으면 만들어질때마다 다르게 나옵니다\n"
      ]
    },
    {
      "cell_type": "code",
      "execution_count": 10,
      "metadata": {},
      "outputs": [
        {
          "name": "stdout",
          "output_type": "stream",
          "text": [
            "의사결정트리 결과:\n",
            "훈련셋 평가: 1.0\n",
            "테스트셋 평가: 0.9777777777777777\n",
            "특성의 중요도: [0.00715649 0.01908397 0.06579426 0.90796529]\n"
          ]
        }
      ],
      "source": [
        "# 6. 의사결정트리 (회귀와 분류 모두 가능하다)\n",
        "from sklearn.tree import DecisionTreeClassifier\n",
        "\n",
        "# 트리시작이 랜덤이라서, 시드를 잡아주지 않으면 만들어질때마다 다르게 나온다 \n",
        "model = DecisionTreeClassifier(random_state=1)\n",
        "model.fit(X_train, y_train)\n",
        "\n",
        "print(\"의사결정트리 결과:\")\n",
        "print(\"훈련셋 평가:\", model.score(X_train, y_train))\n",
        "print(\"테스트셋 평가:\", model.score(X_test, y_test))\n",
        "print(\"특성의 중요도:\", model.feature_importances_)  # 특성의 중요도\n"
      ]
    },
    {
      "cell_type": "code",
      "execution_count": 11,
      "metadata": {},
      "outputs": [
        {
          "data": {
            "image/png": "[encoded data removed]",
            "text/plain": [
              "<Figure size 1000x600 with 1 Axes>"
            ]
          },
          "metadata": {},
          "output_type": "display_data"
        }
      ],
      "source": [
        "# 7. 특성 중요도 시각화\n",
        "import matplotlib.pyplot as plt\n",
        "import numpy as np  \n",
        "\n",
        "# 한글 폰트 설정 (한글 깨짐 방지)\n",
        "plt.rcParams['font.family'] = 'Malgun Gothic'\n",
        "plt.rcParams['axes.unicode_minus'] = False\n",
        "\n",
        "def treeChart(model, feature_name):\n",
        "    \"\"\"수평막대 차트를 그려보자: 중요도를 그려보자\"\"\"\n",
        "    # 수평막대개수 구하기: 특성의 개수만큼 구하면 된다. \n",
        "    n_features = len(model.feature_importances_)\n",
        "    # barh - 수평막대그래프 \n",
        "    plt.figure(figsize=(10, 6))\n",
        "    plt.barh(np.arange(n_features), model.feature_importances_, align=\"center\")\n",
        "    plt.yticks(np.arange(n_features), feature_name)  # y축 단위 \n",
        "    plt.ylim(-1, n_features)  # 눈금 범위 \n",
        "    plt.xlabel('특성 중요도')\n",
        "    plt.title('의사결정트리 특성 중요도')\n",
        "    plt.grid(True, alpha=0.3)\n",
        "    plt.show() \n",
        "\n",
        "treeChart(model, data.feature_names)\n"
      ]
    },
    {
      "cell_type": "markdown",
      "metadata": {
        "vscode": {
          "languageId": "raw"
        }
      },
      "source": [
        "## 랜덤포레스트 (Random Forest)\n",
        "\n",
        "**랜덤포레스트**는 의사결정트리를 랜덤하게 많이 만들어서 평균값 따져서 예측하는 앙상블의 일종입니다.\n",
        "- 과대적합의 위험을 갖고 있습니다\n",
        "- **하이퍼파라미터**:\n",
        "  - `random_state`: 꼭 지정해줘야 합니다\n",
        "  - `max_depth`: 트리의 깊이를 제한합니다\n",
        "  - `n_estimators`: 결정트리를 몇개까지 만들까 (너무 크면 시간이 많이 걸리고, 너무 작으면 과대적합문제가 발생)\n",
        "- 모델을 생성할때 전달되는 파라미터를 하이퍼파라미터라고 하고 이 값들을 적절히 활용해서 과대적합도 과소적합도 막아서 일반화를 해야 합니다.\n"
      ]
    },
    {
      "cell_type": "code",
      "execution_count": 12,
      "metadata": {},
      "outputs": [
        {
          "name": "stdout",
          "output_type": "stream",
          "text": [
            "랜덤포레스트 결과:\n",
            "훈련셋 평가: 0.9809523809523809\n",
            "테스트셋 평가: 0.9777777777777777\n",
            "특성의 중요도: [0.0965599  0.01497849 0.45500445 0.43345716]\n"
          ]
        }
      ],
      "source": [
        "# 8. 랜덤포레스트\n",
        "from sklearn.ensemble import RandomForestClassifier\n",
        "\n",
        "# random_state 꼭 지정해줘야 한다  \n",
        "# max_depth: 트리의 깊이를 막자 \n",
        "# n_estimators: 결정트리를 몇개까지 만들까 너무 크면 시간이 많이 걸린다. \n",
        "# 너무 작으면 과대적합문제가 발생한다. 일반화 \n",
        "model = RandomForestClassifier(\n",
        "    random_state=0, \n",
        "    max_depth=3, \n",
        "    n_estimators=1000\n",
        ")\n",
        "model.fit(X_train, y_train)\n",
        "\n",
        "print(\"랜덤포레스트 결과:\")\n",
        "print(\"훈련셋 평가:\", model.score(X_train, y_train))\n",
        "print(\"테스트셋 평가:\", model.score(X_test, y_test))\n",
        "print(\"특성의 중요도:\", model.feature_importances_)\n"
      ]
    },
    {
      "cell_type": "code",
      "execution_count": 13,
      "metadata": {},
      "outputs": [
        {
          "name": "stdout",
          "output_type": "stream",
          "text": [
            "==================================================\n",
            "모든 알고리즘 성능 비교 요약\n",
            "==================================================\n",
            "KNN            : 0.9778\n",
            "로지스틱 회귀        : 0.9778\n",
            "의사결정트리         : 0.9778\n",
            "랜덤포레스트         : 0.9778\n",
            "==================================================\n"
          ]
        }
      ],
      "source": [
        "# 9. 모든 알고리즘 성능 비교\n",
        "print(\"=\" * 50)\n",
        "print(\"모든 알고리즘 성능 비교 요약\")\n",
        "print(\"=\" * 50)\n",
        "\n",
        "algorithms = [\"KNN\", \"로지스틱 회귀\", \"의사결정트리\", \"랜덤포레스트\"]\n",
        "# 각 알고리즘별로 다시 학습하여 점수 비교\n",
        "\n",
        "# KNN\n",
        "knn_model = KNeighborsClassifier(n_neighbors=2)\n",
        "knn_model.fit(X_train, y_train)\n",
        "knn_score = knn_model.score(X_test, y_test)\n",
        "\n",
        "# 로지스틱 회귀\n",
        "lr_model = LogisticRegression(max_iter=1000)\n",
        "lr_model.fit(X_train, y_train)\n",
        "lr_score = lr_model.score(X_test, y_test)\n",
        "\n",
        "# 의사결정트리\n",
        "dt_model = DecisionTreeClassifier(random_state=1)\n",
        "dt_model.fit(X_train, y_train)\n",
        "dt_score = dt_model.score(X_test, y_test)\n",
        "\n",
        "# 랜덤포레스트\n",
        "rf_model = RandomForestClassifier(random_state=0, max_depth=3, n_estimators=1000)\n",
        "rf_model.fit(X_train, y_train)\n",
        "rf_score = rf_model.score(X_test, y_test)\n",
        "\n",
        "scores = [knn_score, lr_score, dt_score, rf_score]\n",
        "\n",
        "for alg, score in zip(algorithms, scores):\n",
        "    print(f\"{alg:15s}: {score:.4f}\")\n",
        "    \n",
        "print(\"=\" * 50)\n"
      ]
    }
  ],
  "metadata": {
    "kernelspec": {
      "display_name": "sesac_ai",
      "language": "python",
      "name": "python3"
    },
    "language_info": {
      "codemirror_mode": {
        "name": "ipython",
        "version": 3
      },
      "file_extension": ".py",
      "mimetype": "text/x-python",
      "name": "python",
      "nbconvert_exporter": "python",
      "pygments_lexer": "ipython3",
      "version": "3.11.13"
    }
  },
  "nbformat": 4,
  "nbformat_minor": 2
}
